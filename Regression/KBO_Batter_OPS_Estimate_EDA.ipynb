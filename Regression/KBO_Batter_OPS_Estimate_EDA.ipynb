{
  "nbformat": 4,
  "nbformat_minor": 0,
  "metadata": {
    "colab": {
      "name": "KBO_Batter_OPS_Estimate_EDA.ipynb",
      "provenance": [],
      "authorship_tag": "ABX9TyOwMmCF+V6Eosa5HAwFc5JW",
      "include_colab_link": true
    },
    "kernelspec": {
      "name": "python3",
      "display_name": "Python 3"
    }
  },
  "cells": [
    {
      "cell_type": "markdown",
      "metadata": {
        "id": "view-in-github",
        "colab_type": "text"
      },
      "source": [
        "<a href=\"https://colab.research.google.com/github/comojin1994/Machine_Learning/blob/master/Regression/KBO_Batter_OPS_Estimate_EDA.ipynb\" target=\"_parent\"><img src=\"https://colab.research.google.com/assets/colab-badge.svg\" alt=\"Open In Colab\"/></a>"
      ]
    },
    {
      "cell_type": "code",
      "metadata": {
        "id": "Z1QebqScoq4s",
        "colab_type": "code",
        "colab": {
          "base_uri": "https://localhost:8080/",
          "height": 122
        },
        "outputId": "cbdda378-ebe2-405f-b74f-9d59824ba866"
      },
      "source": [
        "from google.colab import drive\n",
        "drive.mount('/content/drive')"
      ],
      "execution_count": 1,
      "outputs": [
        {
          "output_type": "stream",
          "text": [
            "Go to this URL in a browser: https://accounts.google.com/o/oauth2/auth?client_id=947318989803-6bn6qk8qdgf4n4g3pfee6491hc0brc4i.apps.googleusercontent.com&redirect_uri=urn%3aietf%3awg%3aoauth%3a2.0%3aoob&response_type=code&scope=email%20https%3a%2f%2fwww.googleapis.com%2fauth%2fdocs.test%20https%3a%2f%2fwww.googleapis.com%2fauth%2fdrive%20https%3a%2f%2fwww.googleapis.com%2fauth%2fdrive.photos.readonly%20https%3a%2f%2fwww.googleapis.com%2fauth%2fpeopleapi.readonly\n",
            "\n",
            "Enter your authorization code:\n",
            "··········\n",
            "Mounted at /content/drive\n"
          ],
          "name": "stdout"
        }
      ]
    },
    {
      "cell_type": "code",
      "metadata": {
        "id": "P0RSyeFmnc6p",
        "colab_type": "code",
        "colab": {
          "base_uri": "https://localhost:8080/",
          "height": 34
        },
        "outputId": "d92a69df-1019-4997-b230-8bdf5955a41d"
      },
      "source": [
        "!ls"
      ],
      "execution_count": 2,
      "outputs": [
        {
          "output_type": "stream",
          "text": [
            "drive  sample_data\n"
          ],
          "name": "stdout"
        }
      ]
    },
    {
      "cell_type": "code",
      "metadata": {
        "id": "_7oifkDeo9mt",
        "colab_type": "code",
        "colab": {
          "base_uri": "https://localhost:8080/",
          "height": 34
        },
        "outputId": "13756dfe-6e27-45fa-8447-fb59cc9b422e"
      },
      "source": [
        "%cd ./drive/My\\ Drive/Deep_learning/Dacon"
      ],
      "execution_count": 3,
      "outputs": [
        {
          "output_type": "stream",
          "text": [
            "/content/drive/My Drive/Deep_learning/Dacon\n"
          ],
          "name": "stdout"
        }
      ]
    },
    {
      "cell_type": "code",
      "metadata": {
        "id": "2g62ArcLpXro",
        "colab_type": "code",
        "colab": {
          "base_uri": "https://localhost:8080/",
          "height": 34
        },
        "outputId": "19025189-f479-4015-d748-3b5d674d176f"
      },
      "source": [
        "!ls"
      ],
      "execution_count": 4,
      "outputs": [
        {
          "output_type": "stream",
          "text": [
            "6th_data.zip  KBO_Batter_OPS_Estimate.ipynb\n"
          ],
          "name": "stdout"
        }
      ]
    },
    {
      "cell_type": "code",
      "metadata": {
        "id": "cmHeSiuEpY23",
        "colab_type": "code",
        "colab": {
          "base_uri": "https://localhost:8080/",
          "height": 102
        },
        "outputId": "36f026cd-8acb-4eb2-affe-93e6fcb16d27"
      },
      "source": [
        "!unzip 6th_data.zip"
      ],
      "execution_count": 5,
      "outputs": [
        {
          "output_type": "stream",
          "text": [
            "Archive:  6th_data.zip\n",
            "  inflating: Pre_Season_Batter.csv   \n",
            "  inflating: Regular_Season_Batter.csv  \n",
            "  inflating: Regular_Season_Batter_Day_by_Day_b4.csv  \n",
            "  inflating: submission.csv          \n"
          ],
          "name": "stdout"
        }
      ]
    },
    {
      "cell_type": "code",
      "metadata": {
        "id": "Ju6fSmqppiaQ",
        "colab_type": "code",
        "colab": {
          "base_uri": "https://localhost:8080/",
          "height": 68
        },
        "outputId": "3164f436-d427-4a38-945b-600ca32cad27"
      },
      "source": [
        "!ls"
      ],
      "execution_count": 6,
      "outputs": [
        {
          "output_type": "stream",
          "text": [
            "6th_data.zip\t\t       Regular_Season_Batter.csv\n",
            "KBO_Batter_OPS_Estimate.ipynb  Regular_Season_Batter_Day_by_Day_b4.csv\n",
            "Pre_Season_Batter.csv\t       submission.csv\n"
          ],
          "name": "stdout"
        }
      ]
    },
    {
      "cell_type": "code",
      "metadata": {
        "id": "nBqJCnEFpj8Y",
        "colab_type": "code",
        "colab": {}
      },
      "source": [
        "import pandas as pd\n",
        "import numpy as np"
      ],
      "execution_count": 0,
      "outputs": []
    },
    {
      "cell_type": "code",
      "metadata": {
        "id": "cErDHXdDpoly",
        "colab_type": "code",
        "colab": {}
      },
      "source": [
        "regular_seanson_df = pd.read_csv('./Regular_Season_Batter.csv')"
      ],
      "execution_count": 0,
      "outputs": []
    },
    {
      "cell_type": "code",
      "metadata": {
        "id": "cY67z8QGp3QS",
        "colab_type": "code",
        "colab": {
          "base_uri": "https://localhost:8080/",
          "height": 100
        },
        "outputId": "7ed6b953-9029-4581-b133-1579c40a20d7"
      },
      "source": [
        "pd.DataFrame(regular_seanson_df.isna().sum()).transpose()"
      ],
      "execution_count": 9,
      "outputs": [
        {
          "output_type": "execute_result",
          "data": {
            "text/html": [
              "<div>\n",
              "<style scoped>\n",
              "    .dataframe tbody tr th:only-of-type {\n",
              "        vertical-align: middle;\n",
              "    }\n",
              "\n",
              "    .dataframe tbody tr th {\n",
              "        vertical-align: top;\n",
              "    }\n",
              "\n",
              "    .dataframe thead th {\n",
              "        text-align: right;\n",
              "    }\n",
              "</style>\n",
              "<table border=\"1\" class=\"dataframe\">\n",
              "  <thead>\n",
              "    <tr style=\"text-align: right;\">\n",
              "      <th></th>\n",
              "      <th>batter_id</th>\n",
              "      <th>batter_name</th>\n",
              "      <th>year</th>\n",
              "      <th>team</th>\n",
              "      <th>avg</th>\n",
              "      <th>G</th>\n",
              "      <th>AB</th>\n",
              "      <th>R</th>\n",
              "      <th>H</th>\n",
              "      <th>2B</th>\n",
              "      <th>3B</th>\n",
              "      <th>HR</th>\n",
              "      <th>TB</th>\n",
              "      <th>RBI</th>\n",
              "      <th>SB</th>\n",
              "      <th>CS</th>\n",
              "      <th>BB</th>\n",
              "      <th>HBP</th>\n",
              "      <th>SO</th>\n",
              "      <th>GDP</th>\n",
              "      <th>SLG</th>\n",
              "      <th>OBP</th>\n",
              "      <th>E</th>\n",
              "      <th>height/weight</th>\n",
              "      <th>year_born</th>\n",
              "      <th>position</th>\n",
              "      <th>career</th>\n",
              "      <th>starting_salary</th>\n",
              "      <th>OPS</th>\n",
              "    </tr>\n",
              "  </thead>\n",
              "  <tbody>\n",
              "    <tr>\n",
              "      <th>0</th>\n",
              "      <td>0</td>\n",
              "      <td>0</td>\n",
              "      <td>0</td>\n",
              "      <td>0</td>\n",
              "      <td>26</td>\n",
              "      <td>0</td>\n",
              "      <td>0</td>\n",
              "      <td>0</td>\n",
              "      <td>0</td>\n",
              "      <td>0</td>\n",
              "      <td>0</td>\n",
              "      <td>0</td>\n",
              "      <td>0</td>\n",
              "      <td>0</td>\n",
              "      <td>0</td>\n",
              "      <td>0</td>\n",
              "      <td>0</td>\n",
              "      <td>0</td>\n",
              "      <td>0</td>\n",
              "      <td>0</td>\n",
              "      <td>26</td>\n",
              "      <td>24</td>\n",
              "      <td>0</td>\n",
              "      <td>802</td>\n",
              "      <td>0</td>\n",
              "      <td>802</td>\n",
              "      <td>0</td>\n",
              "      <td>1067</td>\n",
              "      <td>26</td>\n",
              "    </tr>\n",
              "  </tbody>\n",
              "</table>\n",
              "</div>"
            ],
            "text/plain": [
              "   batter_id  batter_name  year  team  ...  position  career  starting_salary  OPS\n",
              "0          0            0     0     0  ...       802       0             1067   26\n",
              "\n",
              "[1 rows x 29 columns]"
            ]
          },
          "metadata": {
            "tags": []
          },
          "execution_count": 9
        }
      ]
    },
    {
      "cell_type": "code",
      "metadata": {
        "id": "f2q0V1vZqCuu",
        "colab_type": "code",
        "colab": {
          "base_uri": "https://localhost:8080/",
          "height": 224
        },
        "outputId": "b303eedd-006c-4325-9e4a-048de5d06cec"
      },
      "source": [
        "numerics = ['int16', 'int32', 'int64', 'float16', 'float32', 'float64']\n",
        "num_cols = regular_seanson_df.select_dtypes(include=numerics).columns\n",
        "\n",
        "regular_seanson_df.loc[regular_seanson_df[num_cols].isna().sum(axis=1) > 0, num_cols].head()"
      ],
      "execution_count": 12,
      "outputs": [
        {
          "output_type": "execute_result",
          "data": {
            "text/html": [
              "<div>\n",
              "<style scoped>\n",
              "    .dataframe tbody tr th:only-of-type {\n",
              "        vertical-align: middle;\n",
              "    }\n",
              "\n",
              "    .dataframe tbody tr th {\n",
              "        vertical-align: top;\n",
              "    }\n",
              "\n",
              "    .dataframe thead th {\n",
              "        text-align: right;\n",
              "    }\n",
              "</style>\n",
              "<table border=\"1\" class=\"dataframe\">\n",
              "  <thead>\n",
              "    <tr style=\"text-align: right;\">\n",
              "      <th></th>\n",
              "      <th>batter_id</th>\n",
              "      <th>year</th>\n",
              "      <th>avg</th>\n",
              "      <th>G</th>\n",
              "      <th>AB</th>\n",
              "      <th>R</th>\n",
              "      <th>H</th>\n",
              "      <th>2B</th>\n",
              "      <th>3B</th>\n",
              "      <th>HR</th>\n",
              "      <th>TB</th>\n",
              "      <th>RBI</th>\n",
              "      <th>SB</th>\n",
              "      <th>CS</th>\n",
              "      <th>BB</th>\n",
              "      <th>HBP</th>\n",
              "      <th>SO</th>\n",
              "      <th>GDP</th>\n",
              "      <th>SLG</th>\n",
              "      <th>OBP</th>\n",
              "      <th>E</th>\n",
              "      <th>OPS</th>\n",
              "    </tr>\n",
              "  </thead>\n",
              "  <tbody>\n",
              "    <tr>\n",
              "      <th>18</th>\n",
              "      <td>138</td>\n",
              "      <td>2013</td>\n",
              "      <td>NaN</td>\n",
              "      <td>2</td>\n",
              "      <td>0</td>\n",
              "      <td>0</td>\n",
              "      <td>0</td>\n",
              "      <td>0</td>\n",
              "      <td>0</td>\n",
              "      <td>0</td>\n",
              "      <td>0</td>\n",
              "      <td>0</td>\n",
              "      <td>0</td>\n",
              "      <td>0</td>\n",
              "      <td>0</td>\n",
              "      <td>0</td>\n",
              "      <td>0</td>\n",
              "      <td>0</td>\n",
              "      <td>NaN</td>\n",
              "      <td>NaN</td>\n",
              "      <td>0</td>\n",
              "      <td>NaN</td>\n",
              "    </tr>\n",
              "    <tr>\n",
              "      <th>175</th>\n",
              "      <td>21</td>\n",
              "      <td>2000</td>\n",
              "      <td>NaN</td>\n",
              "      <td>3</td>\n",
              "      <td>0</td>\n",
              "      <td>0</td>\n",
              "      <td>0</td>\n",
              "      <td>0</td>\n",
              "      <td>0</td>\n",
              "      <td>0</td>\n",
              "      <td>0</td>\n",
              "      <td>0</td>\n",
              "      <td>0</td>\n",
              "      <td>0</td>\n",
              "      <td>0</td>\n",
              "      <td>0</td>\n",
              "      <td>0</td>\n",
              "      <td>0</td>\n",
              "      <td>NaN</td>\n",
              "      <td>NaN</td>\n",
              "      <td>0</td>\n",
              "      <td>NaN</td>\n",
              "    </tr>\n",
              "    <tr>\n",
              "      <th>200</th>\n",
              "      <td>24</td>\n",
              "      <td>2002</td>\n",
              "      <td>NaN</td>\n",
              "      <td>1</td>\n",
              "      <td>0</td>\n",
              "      <td>0</td>\n",
              "      <td>0</td>\n",
              "      <td>0</td>\n",
              "      <td>0</td>\n",
              "      <td>0</td>\n",
              "      <td>0</td>\n",
              "      <td>0</td>\n",
              "      <td>0</td>\n",
              "      <td>1</td>\n",
              "      <td>0</td>\n",
              "      <td>0</td>\n",
              "      <td>0</td>\n",
              "      <td>0</td>\n",
              "      <td>NaN</td>\n",
              "      <td>NaN</td>\n",
              "      <td>0</td>\n",
              "      <td>NaN</td>\n",
              "    </tr>\n",
              "    <tr>\n",
              "      <th>265</th>\n",
              "      <td>31</td>\n",
              "      <td>2007</td>\n",
              "      <td>NaN</td>\n",
              "      <td>1</td>\n",
              "      <td>0</td>\n",
              "      <td>1</td>\n",
              "      <td>0</td>\n",
              "      <td>0</td>\n",
              "      <td>0</td>\n",
              "      <td>0</td>\n",
              "      <td>0</td>\n",
              "      <td>0</td>\n",
              "      <td>0</td>\n",
              "      <td>0</td>\n",
              "      <td>0</td>\n",
              "      <td>0</td>\n",
              "      <td>0</td>\n",
              "      <td>0</td>\n",
              "      <td>NaN</td>\n",
              "      <td>NaN</td>\n",
              "      <td>0</td>\n",
              "      <td>NaN</td>\n",
              "    </tr>\n",
              "    <tr>\n",
              "      <th>385</th>\n",
              "      <td>45</td>\n",
              "      <td>2007</td>\n",
              "      <td>NaN</td>\n",
              "      <td>3</td>\n",
              "      <td>0</td>\n",
              "      <td>0</td>\n",
              "      <td>0</td>\n",
              "      <td>0</td>\n",
              "      <td>0</td>\n",
              "      <td>0</td>\n",
              "      <td>0</td>\n",
              "      <td>0</td>\n",
              "      <td>0</td>\n",
              "      <td>1</td>\n",
              "      <td>0</td>\n",
              "      <td>0</td>\n",
              "      <td>0</td>\n",
              "      <td>0</td>\n",
              "      <td>NaN</td>\n",
              "      <td>NaN</td>\n",
              "      <td>0</td>\n",
              "      <td>NaN</td>\n",
              "    </tr>\n",
              "  </tbody>\n",
              "</table>\n",
              "</div>"
            ],
            "text/plain": [
              "     batter_id  year  avg  G  AB  R  H  2B  ...  BB  HBP  SO  GDP  SLG  OBP  E  OPS\n",
              "18         138  2013  NaN  2   0  0  0   0  ...   0    0   0    0  NaN  NaN  0  NaN\n",
              "175         21  2000  NaN  3   0  0  0   0  ...   0    0   0    0  NaN  NaN  0  NaN\n",
              "200         24  2002  NaN  1   0  0  0   0  ...   0    0   0    0  NaN  NaN  0  NaN\n",
              "265         31  2007  NaN  1   0  1  0   0  ...   0    0   0    0  NaN  NaN  0  NaN\n",
              "385         45  2007  NaN  3   0  0  0   0  ...   0    0   0    0  NaN  NaN  0  NaN\n",
              "\n",
              "[5 rows x 22 columns]"
            ]
          },
          "metadata": {
            "tags": []
          },
          "execution_count": 12
        }
      ]
    },
    {
      "cell_type": "code",
      "metadata": {
        "id": "XOMPsnDysCLJ",
        "colab_type": "code",
        "colab": {
          "base_uri": "https://localhost:8080/",
          "height": 581
        },
        "outputId": "29baf8c8-ccb1-4e58-ef60-434074e4acd2"
      },
      "source": [
        "regular_seanson_df[regular_seanson_df.select_dtypes(include=numerics).columns].fillna(0)\n",
        "regular_seanson_df.head()"
      ],
      "execution_count": 32,
      "outputs": [
        {
          "output_type": "execute_result",
          "data": {
            "text/html": [
              "<div>\n",
              "<style scoped>\n",
              "    .dataframe tbody tr th:only-of-type {\n",
              "        vertical-align: middle;\n",
              "    }\n",
              "\n",
              "    .dataframe tbody tr th {\n",
              "        vertical-align: top;\n",
              "    }\n",
              "\n",
              "    .dataframe thead th {\n",
              "        text-align: right;\n",
              "    }\n",
              "</style>\n",
              "<table border=\"1\" class=\"dataframe\">\n",
              "  <thead>\n",
              "    <tr style=\"text-align: right;\">\n",
              "      <th></th>\n",
              "      <th>batter_id</th>\n",
              "      <th>batter_name</th>\n",
              "      <th>year</th>\n",
              "      <th>team</th>\n",
              "      <th>avg</th>\n",
              "      <th>G</th>\n",
              "      <th>AB</th>\n",
              "      <th>R</th>\n",
              "      <th>H</th>\n",
              "      <th>2B</th>\n",
              "      <th>3B</th>\n",
              "      <th>HR</th>\n",
              "      <th>TB</th>\n",
              "      <th>RBI</th>\n",
              "      <th>SB</th>\n",
              "      <th>CS</th>\n",
              "      <th>BB</th>\n",
              "      <th>HBP</th>\n",
              "      <th>SO</th>\n",
              "      <th>GDP</th>\n",
              "      <th>SLG</th>\n",
              "      <th>OBP</th>\n",
              "      <th>E</th>\n",
              "      <th>height/weight</th>\n",
              "      <th>year_born</th>\n",
              "      <th>position</th>\n",
              "      <th>career</th>\n",
              "      <th>starting_salary</th>\n",
              "      <th>OPS</th>\n",
              "    </tr>\n",
              "  </thead>\n",
              "  <tbody>\n",
              "    <tr>\n",
              "      <th>0</th>\n",
              "      <td>0</td>\n",
              "      <td>가르시아</td>\n",
              "      <td>2018</td>\n",
              "      <td>LG</td>\n",
              "      <td>0.339</td>\n",
              "      <td>50</td>\n",
              "      <td>183</td>\n",
              "      <td>27</td>\n",
              "      <td>62</td>\n",
              "      <td>9</td>\n",
              "      <td>0</td>\n",
              "      <td>8</td>\n",
              "      <td>95</td>\n",
              "      <td>34</td>\n",
              "      <td>5</td>\n",
              "      <td>0</td>\n",
              "      <td>9</td>\n",
              "      <td>8</td>\n",
              "      <td>25</td>\n",
              "      <td>3</td>\n",
              "      <td>0.519</td>\n",
              "      <td>0.383</td>\n",
              "      <td>9</td>\n",
              "      <td>177cm/93kg</td>\n",
              "      <td>1985년 04월 12일</td>\n",
              "      <td>내야수(우투우타)</td>\n",
              "      <td>쿠바 Ciego de Avila Maximo Gomez Baez(대)</td>\n",
              "      <td>NaN</td>\n",
              "      <td>0.902</td>\n",
              "    </tr>\n",
              "    <tr>\n",
              "      <th>1</th>\n",
              "      <td>1</td>\n",
              "      <td>강경학</td>\n",
              "      <td>2011</td>\n",
              "      <td>한화</td>\n",
              "      <td>0.000</td>\n",
              "      <td>2</td>\n",
              "      <td>1</td>\n",
              "      <td>0</td>\n",
              "      <td>0</td>\n",
              "      <td>0</td>\n",
              "      <td>0</td>\n",
              "      <td>0</td>\n",
              "      <td>0</td>\n",
              "      <td>0</td>\n",
              "      <td>0</td>\n",
              "      <td>0</td>\n",
              "      <td>0</td>\n",
              "      <td>0</td>\n",
              "      <td>1</td>\n",
              "      <td>0</td>\n",
              "      <td>0.000</td>\n",
              "      <td>0.000</td>\n",
              "      <td>1</td>\n",
              "      <td>180cm/72kg</td>\n",
              "      <td>1992년 08월 11일</td>\n",
              "      <td>내야수(우투좌타)</td>\n",
              "      <td>광주대성초-광주동성중-광주동성고</td>\n",
              "      <td>10000만원</td>\n",
              "      <td>0.000</td>\n",
              "    </tr>\n",
              "    <tr>\n",
              "      <th>2</th>\n",
              "      <td>1</td>\n",
              "      <td>강경학</td>\n",
              "      <td>2014</td>\n",
              "      <td>한화</td>\n",
              "      <td>0.221</td>\n",
              "      <td>41</td>\n",
              "      <td>86</td>\n",
              "      <td>11</td>\n",
              "      <td>19</td>\n",
              "      <td>2</td>\n",
              "      <td>3</td>\n",
              "      <td>1</td>\n",
              "      <td>30</td>\n",
              "      <td>7</td>\n",
              "      <td>0</td>\n",
              "      <td>0</td>\n",
              "      <td>13</td>\n",
              "      <td>2</td>\n",
              "      <td>28</td>\n",
              "      <td>1</td>\n",
              "      <td>0.349</td>\n",
              "      <td>0.337</td>\n",
              "      <td>6</td>\n",
              "      <td>180cm/72kg</td>\n",
              "      <td>1992년 08월 11일</td>\n",
              "      <td>내야수(우투좌타)</td>\n",
              "      <td>광주대성초-광주동성중-광주동성고</td>\n",
              "      <td>10000만원</td>\n",
              "      <td>0.686</td>\n",
              "    </tr>\n",
              "    <tr>\n",
              "      <th>3</th>\n",
              "      <td>1</td>\n",
              "      <td>강경학</td>\n",
              "      <td>2015</td>\n",
              "      <td>한화</td>\n",
              "      <td>0.257</td>\n",
              "      <td>120</td>\n",
              "      <td>311</td>\n",
              "      <td>50</td>\n",
              "      <td>80</td>\n",
              "      <td>7</td>\n",
              "      <td>4</td>\n",
              "      <td>2</td>\n",
              "      <td>101</td>\n",
              "      <td>27</td>\n",
              "      <td>4</td>\n",
              "      <td>3</td>\n",
              "      <td>40</td>\n",
              "      <td>5</td>\n",
              "      <td>58</td>\n",
              "      <td>3</td>\n",
              "      <td>0.325</td>\n",
              "      <td>0.348</td>\n",
              "      <td>15</td>\n",
              "      <td>180cm/72kg</td>\n",
              "      <td>1992년 08월 11일</td>\n",
              "      <td>내야수(우투좌타)</td>\n",
              "      <td>광주대성초-광주동성중-광주동성고</td>\n",
              "      <td>10000만원</td>\n",
              "      <td>0.673</td>\n",
              "    </tr>\n",
              "    <tr>\n",
              "      <th>4</th>\n",
              "      <td>1</td>\n",
              "      <td>강경학</td>\n",
              "      <td>2016</td>\n",
              "      <td>한화</td>\n",
              "      <td>0.158</td>\n",
              "      <td>46</td>\n",
              "      <td>101</td>\n",
              "      <td>16</td>\n",
              "      <td>16</td>\n",
              "      <td>3</td>\n",
              "      <td>2</td>\n",
              "      <td>1</td>\n",
              "      <td>26</td>\n",
              "      <td>7</td>\n",
              "      <td>0</td>\n",
              "      <td>0</td>\n",
              "      <td>8</td>\n",
              "      <td>2</td>\n",
              "      <td>30</td>\n",
              "      <td>5</td>\n",
              "      <td>0.257</td>\n",
              "      <td>0.232</td>\n",
              "      <td>7</td>\n",
              "      <td>180cm/72kg</td>\n",
              "      <td>1992년 08월 11일</td>\n",
              "      <td>내야수(우투좌타)</td>\n",
              "      <td>광주대성초-광주동성중-광주동성고</td>\n",
              "      <td>10000만원</td>\n",
              "      <td>0.489</td>\n",
              "    </tr>\n",
              "  </tbody>\n",
              "</table>\n",
              "</div>"
            ],
            "text/plain": [
              "   batter_id batter_name  ...  starting_salary    OPS\n",
              "0          0        가르시아  ...              NaN  0.902\n",
              "1          1         강경학  ...          10000만원  0.000\n",
              "2          1         강경학  ...          10000만원  0.686\n",
              "3          1         강경학  ...          10000만원  0.673\n",
              "4          1         강경학  ...          10000만원  0.489\n",
              "\n",
              "[5 rows x 29 columns]"
            ]
          },
          "metadata": {
            "tags": []
          },
          "execution_count": 32
        }
      ]
    },
    {
      "cell_type": "code",
      "metadata": {
        "id": "IOHbPNAutBw6",
        "colab_type": "code",
        "colab": {
          "base_uri": "https://localhost:8080/",
          "height": 224
        },
        "outputId": "e3bdc53c-ff40-4714-d19e-0c2b1cb8dfa7"
      },
      "source": [
        "day_by_day_df = pd.read_csv('./Regular_Season_Batter_Day_by_Day_b4.csv')\n",
        "day_by_day_df[day_by_day_df.select_dtypes(include=numerics).columns].fillna(0)\n",
        "day_by_day_df.head()"
      ],
      "execution_count": 35,
      "outputs": [
        {
          "output_type": "execute_result",
          "data": {
            "text/html": [
              "<div>\n",
              "<style scoped>\n",
              "    .dataframe tbody tr th:only-of-type {\n",
              "        vertical-align: middle;\n",
              "    }\n",
              "\n",
              "    .dataframe tbody tr th {\n",
              "        vertical-align: top;\n",
              "    }\n",
              "\n",
              "    .dataframe thead th {\n",
              "        text-align: right;\n",
              "    }\n",
              "</style>\n",
              "<table border=\"1\" class=\"dataframe\">\n",
              "  <thead>\n",
              "    <tr style=\"text-align: right;\">\n",
              "      <th></th>\n",
              "      <th>batter_id</th>\n",
              "      <th>batter_name</th>\n",
              "      <th>date</th>\n",
              "      <th>opposing_team</th>\n",
              "      <th>avg1</th>\n",
              "      <th>AB</th>\n",
              "      <th>R</th>\n",
              "      <th>H</th>\n",
              "      <th>2B</th>\n",
              "      <th>3B</th>\n",
              "      <th>HR</th>\n",
              "      <th>RBI</th>\n",
              "      <th>SB</th>\n",
              "      <th>CS</th>\n",
              "      <th>BB</th>\n",
              "      <th>HBP</th>\n",
              "      <th>SO</th>\n",
              "      <th>GDP</th>\n",
              "      <th>avg2</th>\n",
              "      <th>year</th>\n",
              "    </tr>\n",
              "  </thead>\n",
              "  <tbody>\n",
              "    <tr>\n",
              "      <th>0</th>\n",
              "      <td>0</td>\n",
              "      <td>가르시아</td>\n",
              "      <td>3.24</td>\n",
              "      <td>NC</td>\n",
              "      <td>0.333</td>\n",
              "      <td>3</td>\n",
              "      <td>1</td>\n",
              "      <td>1</td>\n",
              "      <td>0</td>\n",
              "      <td>0</td>\n",
              "      <td>0</td>\n",
              "      <td>0</td>\n",
              "      <td>0</td>\n",
              "      <td>0</td>\n",
              "      <td>1</td>\n",
              "      <td>0</td>\n",
              "      <td>1</td>\n",
              "      <td>0</td>\n",
              "      <td>0.333</td>\n",
              "      <td>2018</td>\n",
              "    </tr>\n",
              "    <tr>\n",
              "      <th>1</th>\n",
              "      <td>0</td>\n",
              "      <td>가르시아</td>\n",
              "      <td>3.25</td>\n",
              "      <td>NC</td>\n",
              "      <td>0.000</td>\n",
              "      <td>4</td>\n",
              "      <td>0</td>\n",
              "      <td>0</td>\n",
              "      <td>0</td>\n",
              "      <td>0</td>\n",
              "      <td>0</td>\n",
              "      <td>0</td>\n",
              "      <td>0</td>\n",
              "      <td>0</td>\n",
              "      <td>0</td>\n",
              "      <td>0</td>\n",
              "      <td>1</td>\n",
              "      <td>0</td>\n",
              "      <td>0.143</td>\n",
              "      <td>2018</td>\n",
              "    </tr>\n",
              "    <tr>\n",
              "      <th>2</th>\n",
              "      <td>0</td>\n",
              "      <td>가르시아</td>\n",
              "      <td>3.27</td>\n",
              "      <td>넥센</td>\n",
              "      <td>0.200</td>\n",
              "      <td>5</td>\n",
              "      <td>0</td>\n",
              "      <td>1</td>\n",
              "      <td>0</td>\n",
              "      <td>0</td>\n",
              "      <td>0</td>\n",
              "      <td>0</td>\n",
              "      <td>0</td>\n",
              "      <td>0</td>\n",
              "      <td>0</td>\n",
              "      <td>0</td>\n",
              "      <td>0</td>\n",
              "      <td>0</td>\n",
              "      <td>0.167</td>\n",
              "      <td>2018</td>\n",
              "    </tr>\n",
              "    <tr>\n",
              "      <th>3</th>\n",
              "      <td>0</td>\n",
              "      <td>가르시아</td>\n",
              "      <td>3.28</td>\n",
              "      <td>넥센</td>\n",
              "      <td>0.200</td>\n",
              "      <td>5</td>\n",
              "      <td>1</td>\n",
              "      <td>1</td>\n",
              "      <td>0</td>\n",
              "      <td>0</td>\n",
              "      <td>0</td>\n",
              "      <td>1</td>\n",
              "      <td>0</td>\n",
              "      <td>0</td>\n",
              "      <td>0</td>\n",
              "      <td>0</td>\n",
              "      <td>0</td>\n",
              "      <td>0</td>\n",
              "      <td>0.176</td>\n",
              "      <td>2018</td>\n",
              "    </tr>\n",
              "    <tr>\n",
              "      <th>4</th>\n",
              "      <td>0</td>\n",
              "      <td>가르시아</td>\n",
              "      <td>3.29</td>\n",
              "      <td>넥센</td>\n",
              "      <td>0.250</td>\n",
              "      <td>4</td>\n",
              "      <td>0</td>\n",
              "      <td>1</td>\n",
              "      <td>0</td>\n",
              "      <td>0</td>\n",
              "      <td>0</td>\n",
              "      <td>3</td>\n",
              "      <td>0</td>\n",
              "      <td>0</td>\n",
              "      <td>0</td>\n",
              "      <td>0</td>\n",
              "      <td>0</td>\n",
              "      <td>1</td>\n",
              "      <td>0.190</td>\n",
              "      <td>2018</td>\n",
              "    </tr>\n",
              "  </tbody>\n",
              "</table>\n",
              "</div>"
            ],
            "text/plain": [
              "   batter_id batter_name  date opposing_team   avg1  ...  HBP  SO  GDP   avg2  year\n",
              "0          0        가르시아  3.24            NC  0.333  ...    0   1    0  0.333  2018\n",
              "1          0        가르시아  3.25            NC  0.000  ...    0   1    0  0.143  2018\n",
              "2          0        가르시아  3.27            넥센  0.200  ...    0   0    0  0.167  2018\n",
              "3          0        가르시아  3.28            넥센  0.200  ...    0   0    0  0.176  2018\n",
              "4          0        가르시아  3.29            넥센  0.250  ...    0   0    1  0.190  2018\n",
              "\n",
              "[5 rows x 20 columns]"
            ]
          },
          "metadata": {
            "tags": []
          },
          "execution_count": 35
        }
      ]
    },
    {
      "cell_type": "code",
      "metadata": {
        "id": "sNeigN-FvHZg",
        "colab_type": "code",
        "colab": {
          "base_uri": "https://localhost:8080/",
          "height": 581
        },
        "outputId": "6f83c747-1867-43ce-facf-9c738fddd85b"
      },
      "source": [
        "preseason_df = pd.read_csv('./Pre_Season_Batter.csv')\n",
        "preseason_df[preseason_df.select_dtypes(include=numerics).columns].fillna(0)\n",
        "preseason_df.head()"
      ],
      "execution_count": 39,
      "outputs": [
        {
          "output_type": "execute_result",
          "data": {
            "text/html": [
              "<div>\n",
              "<style scoped>\n",
              "    .dataframe tbody tr th:only-of-type {\n",
              "        vertical-align: middle;\n",
              "    }\n",
              "\n",
              "    .dataframe tbody tr th {\n",
              "        vertical-align: top;\n",
              "    }\n",
              "\n",
              "    .dataframe thead th {\n",
              "        text-align: right;\n",
              "    }\n",
              "</style>\n",
              "<table border=\"1\" class=\"dataframe\">\n",
              "  <thead>\n",
              "    <tr style=\"text-align: right;\">\n",
              "      <th></th>\n",
              "      <th>batter_id</th>\n",
              "      <th>batter_name</th>\n",
              "      <th>year</th>\n",
              "      <th>team</th>\n",
              "      <th>avg</th>\n",
              "      <th>G</th>\n",
              "      <th>AB</th>\n",
              "      <th>R</th>\n",
              "      <th>H</th>\n",
              "      <th>2B</th>\n",
              "      <th>3B</th>\n",
              "      <th>HR</th>\n",
              "      <th>TB</th>\n",
              "      <th>RBI</th>\n",
              "      <th>SB</th>\n",
              "      <th>CS</th>\n",
              "      <th>BB</th>\n",
              "      <th>HBP</th>\n",
              "      <th>SO</th>\n",
              "      <th>GDP</th>\n",
              "      <th>SLG</th>\n",
              "      <th>OBP</th>\n",
              "      <th>E</th>\n",
              "      <th>height/weight</th>\n",
              "      <th>year_born</th>\n",
              "      <th>position</th>\n",
              "      <th>career</th>\n",
              "      <th>starting_salary</th>\n",
              "      <th>OPS</th>\n",
              "    </tr>\n",
              "  </thead>\n",
              "  <tbody>\n",
              "    <tr>\n",
              "      <th>0</th>\n",
              "      <td>0</td>\n",
              "      <td>가르시아</td>\n",
              "      <td>2018</td>\n",
              "      <td>LG</td>\n",
              "      <td>0.350</td>\n",
              "      <td>7</td>\n",
              "      <td>20</td>\n",
              "      <td>1</td>\n",
              "      <td>7</td>\n",
              "      <td>1</td>\n",
              "      <td>0</td>\n",
              "      <td>1</td>\n",
              "      <td>11</td>\n",
              "      <td>5</td>\n",
              "      <td>0</td>\n",
              "      <td>0</td>\n",
              "      <td>2</td>\n",
              "      <td>0</td>\n",
              "      <td>3</td>\n",
              "      <td>1</td>\n",
              "      <td>0.550</td>\n",
              "      <td>0.409</td>\n",
              "      <td>1</td>\n",
              "      <td>177cm/93kg</td>\n",
              "      <td>1985년 04월 12일</td>\n",
              "      <td>내야수(우투우타)</td>\n",
              "      <td>쿠바 Ciego de Avila Maximo Gomez Baez(대)</td>\n",
              "      <td>NaN</td>\n",
              "      <td>0.959</td>\n",
              "    </tr>\n",
              "    <tr>\n",
              "      <th>1</th>\n",
              "      <td>1</td>\n",
              "      <td>강경학</td>\n",
              "      <td>2011</td>\n",
              "      <td>한화</td>\n",
              "      <td>0.000</td>\n",
              "      <td>4</td>\n",
              "      <td>2</td>\n",
              "      <td>2</td>\n",
              "      <td>0</td>\n",
              "      <td>0</td>\n",
              "      <td>0</td>\n",
              "      <td>0</td>\n",
              "      <td>0</td>\n",
              "      <td>1</td>\n",
              "      <td>0</td>\n",
              "      <td>1</td>\n",
              "      <td>0</td>\n",
              "      <td>2</td>\n",
              "      <td>1</td>\n",
              "      <td>0</td>\n",
              "      <td>0.000</td>\n",
              "      <td>0.500</td>\n",
              "      <td>0</td>\n",
              "      <td>180cm/72kg</td>\n",
              "      <td>1992년 08월 11일</td>\n",
              "      <td>내야수(우투좌타)</td>\n",
              "      <td>광주대성초-광주동성중-광주동성고</td>\n",
              "      <td>10000만원</td>\n",
              "      <td>0.500</td>\n",
              "    </tr>\n",
              "    <tr>\n",
              "      <th>2</th>\n",
              "      <td>1</td>\n",
              "      <td>강경학</td>\n",
              "      <td>2014</td>\n",
              "      <td>한화</td>\n",
              "      <td>-</td>\n",
              "      <td>4</td>\n",
              "      <td>0</td>\n",
              "      <td>2</td>\n",
              "      <td>0</td>\n",
              "      <td>0</td>\n",
              "      <td>0</td>\n",
              "      <td>0</td>\n",
              "      <td>0</td>\n",
              "      <td>0</td>\n",
              "      <td>0</td>\n",
              "      <td>0</td>\n",
              "      <td>0</td>\n",
              "      <td>0</td>\n",
              "      <td>0</td>\n",
              "      <td>0</td>\n",
              "      <td>NaN</td>\n",
              "      <td>NaN</td>\n",
              "      <td>0</td>\n",
              "      <td>180cm/72kg</td>\n",
              "      <td>1992년 08월 11일</td>\n",
              "      <td>내야수(우투좌타)</td>\n",
              "      <td>광주대성초-광주동성중-광주동성고</td>\n",
              "      <td>10000만원</td>\n",
              "      <td>NaN</td>\n",
              "    </tr>\n",
              "    <tr>\n",
              "      <th>3</th>\n",
              "      <td>1</td>\n",
              "      <td>강경학</td>\n",
              "      <td>2015</td>\n",
              "      <td>한화</td>\n",
              "      <td>0.130</td>\n",
              "      <td>10</td>\n",
              "      <td>23</td>\n",
              "      <td>3</td>\n",
              "      <td>3</td>\n",
              "      <td>0</td>\n",
              "      <td>0</td>\n",
              "      <td>0</td>\n",
              "      <td>3</td>\n",
              "      <td>1</td>\n",
              "      <td>3</td>\n",
              "      <td>0</td>\n",
              "      <td>4</td>\n",
              "      <td>1</td>\n",
              "      <td>9</td>\n",
              "      <td>0</td>\n",
              "      <td>0.130</td>\n",
              "      <td>0.286</td>\n",
              "      <td>2</td>\n",
              "      <td>180cm/72kg</td>\n",
              "      <td>1992년 08월 11일</td>\n",
              "      <td>내야수(우투좌타)</td>\n",
              "      <td>광주대성초-광주동성중-광주동성고</td>\n",
              "      <td>10000만원</td>\n",
              "      <td>0.416</td>\n",
              "    </tr>\n",
              "    <tr>\n",
              "      <th>4</th>\n",
              "      <td>1</td>\n",
              "      <td>강경학</td>\n",
              "      <td>2016</td>\n",
              "      <td>한화</td>\n",
              "      <td>0.188</td>\n",
              "      <td>14</td>\n",
              "      <td>32</td>\n",
              "      <td>4</td>\n",
              "      <td>6</td>\n",
              "      <td>1</td>\n",
              "      <td>1</td>\n",
              "      <td>0</td>\n",
              "      <td>9</td>\n",
              "      <td>2</td>\n",
              "      <td>1</td>\n",
              "      <td>2</td>\n",
              "      <td>0</td>\n",
              "      <td>1</td>\n",
              "      <td>10</td>\n",
              "      <td>0</td>\n",
              "      <td>0.281</td>\n",
              "      <td>0.212</td>\n",
              "      <td>0</td>\n",
              "      <td>180cm/72kg</td>\n",
              "      <td>1992년 08월 11일</td>\n",
              "      <td>내야수(우투좌타)</td>\n",
              "      <td>광주대성초-광주동성중-광주동성고</td>\n",
              "      <td>10000만원</td>\n",
              "      <td>0.493</td>\n",
              "    </tr>\n",
              "  </tbody>\n",
              "</table>\n",
              "</div>"
            ],
            "text/plain": [
              "   batter_id batter_name  ...  starting_salary    OPS\n",
              "0          0        가르시아  ...              NaN  0.959\n",
              "1          1         강경학  ...          10000만원  0.500\n",
              "2          1         강경학  ...          10000만원    NaN\n",
              "3          1         강경학  ...          10000만원  0.416\n",
              "4          1         강경학  ...          10000만원  0.493\n",
              "\n",
              "[5 rows x 29 columns]"
            ]
          },
          "metadata": {
            "tags": []
          },
          "execution_count": 39
        }
      ]
    },
    {
      "cell_type": "code",
      "metadata": {
        "id": "jB_dszj2vOZZ",
        "colab_type": "code",
        "colab": {
          "base_uri": "https://localhost:8080/",
          "height": 785
        },
        "outputId": "fcd72b53-b04e-4b17-acfd-ed5043c16573"
      },
      "source": [
        "not_num_cols = [x for x in regular_seanson_df.columns if x not in num_cols]\n",
        "\n",
        "regular_seanson_df.loc[regular_seanson_df[not_num_cols].isna().sum(axis=1) > 0, not_num_cols].head()"
      ],
      "execution_count": 41,
      "outputs": [
        {
          "output_type": "execute_result",
          "data": {
            "text/html": [
              "<div>\n",
              "<style scoped>\n",
              "    .dataframe tbody tr th:only-of-type {\n",
              "        vertical-align: middle;\n",
              "    }\n",
              "\n",
              "    .dataframe tbody tr th {\n",
              "        vertical-align: top;\n",
              "    }\n",
              "\n",
              "    .dataframe thead th {\n",
              "        text-align: right;\n",
              "    }\n",
              "</style>\n",
              "<table border=\"1\" class=\"dataframe\">\n",
              "  <thead>\n",
              "    <tr style=\"text-align: right;\">\n",
              "      <th></th>\n",
              "      <th>batter_name</th>\n",
              "      <th>team</th>\n",
              "      <th>height/weight</th>\n",
              "      <th>year_born</th>\n",
              "      <th>position</th>\n",
              "      <th>career</th>\n",
              "      <th>starting_salary</th>\n",
              "    </tr>\n",
              "  </thead>\n",
              "  <tbody>\n",
              "    <tr>\n",
              "      <th>0</th>\n",
              "      <td>가르시아</td>\n",
              "      <td>LG</td>\n",
              "      <td>177cm/93kg</td>\n",
              "      <td>1985년 04월 12일</td>\n",
              "      <td>내야수(우투우타)</td>\n",
              "      <td>쿠바 Ciego de Avila Maximo Gomez Baez(대)</td>\n",
              "      <td>NaN</td>\n",
              "    </tr>\n",
              "    <tr>\n",
              "      <th>12</th>\n",
              "      <td>백승룡</td>\n",
              "      <td>한화</td>\n",
              "      <td>NaN</td>\n",
              "      <td>1982년 08월 16일</td>\n",
              "      <td>NaN</td>\n",
              "      <td>사직초(부산극동리틀)-사직중-경남상고-경성대-한화-넥센</td>\n",
              "      <td>NaN</td>\n",
              "    </tr>\n",
              "    <tr>\n",
              "      <th>13</th>\n",
              "      <td>백승룡</td>\n",
              "      <td>한화</td>\n",
              "      <td>NaN</td>\n",
              "      <td>1982년 08월 16일</td>\n",
              "      <td>NaN</td>\n",
              "      <td>사직초(부산극동리틀)-사직중-경남상고-경성대-한화-넥센</td>\n",
              "      <td>NaN</td>\n",
              "    </tr>\n",
              "    <tr>\n",
              "      <th>14</th>\n",
              "      <td>백승룡</td>\n",
              "      <td>한화</td>\n",
              "      <td>NaN</td>\n",
              "      <td>1982년 08월 16일</td>\n",
              "      <td>NaN</td>\n",
              "      <td>사직초(부산극동리틀)-사직중-경남상고-경성대-한화-넥센</td>\n",
              "      <td>NaN</td>\n",
              "    </tr>\n",
              "    <tr>\n",
              "      <th>15</th>\n",
              "      <td>백승룡</td>\n",
              "      <td>한화</td>\n",
              "      <td>NaN</td>\n",
              "      <td>1982년 08월 16일</td>\n",
              "      <td>NaN</td>\n",
              "      <td>사직초(부산극동리틀)-사직중-경남상고-경성대-한화-넥센</td>\n",
              "      <td>NaN</td>\n",
              "    </tr>\n",
              "  </tbody>\n",
              "</table>\n",
              "</div>"
            ],
            "text/plain": [
              "   batter_name team  ...                                  career starting_salary\n",
              "0         가르시아   LG  ...  쿠바 Ciego de Avila Maximo Gomez Baez(대)             NaN\n",
              "12         백승룡   한화  ...          사직초(부산극동리틀)-사직중-경남상고-경성대-한화-넥센             NaN\n",
              "13         백승룡   한화  ...          사직초(부산극동리틀)-사직중-경남상고-경성대-한화-넥센             NaN\n",
              "14         백승룡   한화  ...          사직초(부산극동리틀)-사직중-경남상고-경성대-한화-넥센             NaN\n",
              "15         백승룡   한화  ...          사직초(부산극동리틀)-사직중-경남상고-경성대-한화-넥센             NaN\n",
              "\n",
              "[5 rows x 7 columns]"
            ]
          },
          "metadata": {
            "tags": []
          },
          "execution_count": 41
        }
      ]
    },
    {
      "cell_type": "code",
      "metadata": {
        "id": "rAkUyZPzx7ru",
        "colab_type": "code",
        "colab": {
          "base_uri": "https://localhost:8080/",
          "height": 34
        },
        "outputId": "56f8a6b4-c361-4463-a6a8-f45188f40ae8"
      },
      "source": [
        "drop_idx = regular_seanson_df.loc[((regular_seanson_df['H']>0)&(regular_seanson_df['SLG']==0))|\n",
        "                                  (((regular_seanson_df['H']>0)|(regular_seanson_df['BB']>0)|(regular_seanson_df['HBP']>0))&\n",
        "                                  (regular_seanson_df['OBP']==0))].index\n",
        "drop_idx                                "
      ],
      "execution_count": 42,
      "outputs": [
        {
          "output_type": "execute_result",
          "data": {
            "text/plain": [
              "Int64Index([478, 746, 1457, 1674, 1675, 1934, 1935], dtype='int64')"
            ]
          },
          "metadata": {
            "tags": []
          },
          "execution_count": 42
        }
      ]
    },
    {
      "cell_type": "code",
      "metadata": {
        "id": "F3J6_HjxywHq",
        "colab_type": "code",
        "colab": {}
      },
      "source": [
        "regular_seanson_df = regular_seanson_df.drop(drop_idx).reset_index(drop=True)"
      ],
      "execution_count": 0,
      "outputs": []
    },
    {
      "cell_type": "code",
      "metadata": {
        "id": "xlc83T8By3NN",
        "colab_type": "code",
        "colab": {
          "base_uri": "https://localhost:8080/",
          "height": 34
        },
        "outputId": "f7b83375-8992-4405-bee5-cc0017de4d8e"
      },
      "source": [
        "regular_seanson_df.shape"
      ],
      "execution_count": 44,
      "outputs": [
        {
          "output_type": "execute_result",
          "data": {
            "text/plain": [
              "(2447, 29)"
            ]
          },
          "metadata": {
            "tags": []
          },
          "execution_count": 44
        }
      ]
    },
    {
      "cell_type": "code",
      "metadata": {
        "id": "bS8b9TFAy6TC",
        "colab_type": "code",
        "colab": {}
      },
      "source": [
        "import matplotlib.pyplot as plt\n",
        "%matplotlib inline"
      ],
      "execution_count": 0,
      "outputs": []
    },
    {
      "cell_type": "code",
      "metadata": {
        "id": "aw3rNFcZzPTK",
        "colab_type": "code",
        "colab": {
          "base_uri": "https://localhost:8080/",
          "height": 219
        },
        "outputId": "69545169-8296-4685-8283-894c5a519ea4"
      },
      "source": [
        "plt.figure(figsize=(12, 3))\n",
        "plt.plot('AB', 'OPS', data=regular_seanson_df, linestyle='none', marker='o', markersize=2, color='blue', alpha=0.4)\n",
        "plt.xlabel('AB', fontsize=14)\n",
        "plt.ylabel('OPS', fontsize=14)\n",
        "plt.xticks(list(range(min(regular_seanson_df['AB']), max(regular_seanson_df['AB']), 30)), rotation=90)\n",
        "plt.vlines(30, ymin=min(regular_seanson_df['OPS']), ymax=max(regular_seanson_df['OPS']),\n",
        "           linestyles='dashed', colors='r')\n",
        "plt.show()"
      ],
      "execution_count": 47,
      "outputs": [
        {
          "output_type": "display_data",
          "data": {
            "image/png": "[encoded data removed]",
            "text/plain": [
              "<Figure size 864x216 with 1 Axes>"
            ]
          },
          "metadata": {
            "tags": [],
            "needs_background": "light"
          }
        }
      ]
    },
    {
      "cell_type": "code",
      "metadata": {
        "id": "68-5F1hC3255",
        "colab_type": "code",
        "colab": {}
      },
      "source": [
        "Q1 = regular_seanson_df['OPS'].quantile(0.25)\n",
        "Q3 = regular_seanson_df['OPS'].quantile(0.75)\n",
        "IQR = Q3 - Q1"
      ],
      "execution_count": 0,
      "outputs": []
    },
    {
      "cell_type": "code",
      "metadata": {
        "id": "RD-4WSnd37yW",
        "colab_type": "code",
        "colab": {
          "base_uri": "https://localhost:8080/",
          "height": 359
        },
        "outputId": "afefd355-81fb-47b5-ca90-011cad387844"
      },
      "source": [
        "regular_seanson_df.loc[(regular_seanson_df['OPS'] < (Q1 - 1.5 * IQR))|\n",
        "                       (regular_seanson_df['OPS'] > (Q3 + 1.5 * IQR))].sort_values(\n",
        "                      by=['AB'], axis=0, ascending=False)[['batter_name', 'AB', 'year', 'OPS']].head(10)"
      ],
      "execution_count": 60,
      "outputs": [
        {
          "output_type": "execute_result",
          "data": {
            "text/html": [
              "<div>\n",
              "<style scoped>\n",
              "    .dataframe tbody tr th:only-of-type {\n",
              "        vertical-align: middle;\n",
              "    }\n",
              "\n",
              "    .dataframe tbody tr th {\n",
              "        vertical-align: top;\n",
              "    }\n",
              "\n",
              "    .dataframe thead th {\n",
              "        text-align: right;\n",
              "    }\n",
              "</style>\n",
              "<table border=\"1\" class=\"dataframe\">\n",
              "  <thead>\n",
              "    <tr style=\"text-align: right;\">\n",
              "      <th></th>\n",
              "      <th>batter_name</th>\n",
              "      <th>AB</th>\n",
              "      <th>year</th>\n",
              "      <th>OPS</th>\n",
              "    </tr>\n",
              "  </thead>\n",
              "  <tbody>\n",
              "    <tr>\n",
              "      <th>2329</th>\n",
              "      <td>테임즈</td>\n",
              "      <td>472</td>\n",
              "      <td>2015</td>\n",
              "      <td>1.293656</td>\n",
              "    </tr>\n",
              "    <tr>\n",
              "      <th>97</th>\n",
              "      <td>강정호</td>\n",
              "      <td>418</td>\n",
              "      <td>2014</td>\n",
              "      <td>1.200156</td>\n",
              "    </tr>\n",
              "    <tr>\n",
              "      <th>793</th>\n",
              "      <td>박병호</td>\n",
              "      <td>400</td>\n",
              "      <td>2018</td>\n",
              "      <td>1.175000</td>\n",
              "    </tr>\n",
              "    <tr>\n",
              "      <th>1318</th>\n",
              "      <td>유재신</td>\n",
              "      <td>33</td>\n",
              "      <td>2018</td>\n",
              "      <td>1.192000</td>\n",
              "    </tr>\n",
              "    <tr>\n",
              "      <th>2351</th>\n",
              "      <td>한승택</td>\n",
              "      <td>33</td>\n",
              "      <td>2013</td>\n",
              "      <td>0.165000</td>\n",
              "    </tr>\n",
              "    <tr>\n",
              "      <th>416</th>\n",
              "      <td>김원섭</td>\n",
              "      <td>25</td>\n",
              "      <td>2005</td>\n",
              "      <td>0.116923</td>\n",
              "    </tr>\n",
              "    <tr>\n",
              "      <th>610</th>\n",
              "      <td>나주환</td>\n",
              "      <td>23</td>\n",
              "      <td>2013</td>\n",
              "      <td>0.174000</td>\n",
              "    </tr>\n",
              "    <tr>\n",
              "      <th>1543</th>\n",
              "      <td>이여상</td>\n",
              "      <td>22</td>\n",
              "      <td>2013</td>\n",
              "      <td>0.090909</td>\n",
              "    </tr>\n",
              "    <tr>\n",
              "      <th>681</th>\n",
              "      <td>문규현</td>\n",
              "      <td>18</td>\n",
              "      <td>2007</td>\n",
              "      <td>0.109000</td>\n",
              "    </tr>\n",
              "    <tr>\n",
              "      <th>578</th>\n",
              "      <td>김회성</td>\n",
              "      <td>17</td>\n",
              "      <td>2010</td>\n",
              "      <td>0.105000</td>\n",
              "    </tr>\n",
              "  </tbody>\n",
              "</table>\n",
              "</div>"
            ],
            "text/plain": [
              "     batter_name   AB  year       OPS\n",
              "2329         테임즈  472  2015  1.293656\n",
              "97           강정호  418  2014  1.200156\n",
              "793          박병호  400  2018  1.175000\n",
              "1318         유재신   33  2018  1.192000\n",
              "2351         한승택   33  2013  0.165000\n",
              "416          김원섭   25  2005  0.116923\n",
              "610          나주환   23  2013  0.174000\n",
              "1543         이여상   22  2013  0.090909\n",
              "681          문규현   18  2007  0.109000\n",
              "578          김회성   17  2010  0.105000"
            ]
          },
          "metadata": {
            "tags": []
          },
          "execution_count": 60
        }
      ]
    },
    {
      "cell_type": "code",
      "metadata": {
        "id": "XuCO0_ne5QgP",
        "colab_type": "code",
        "colab": {}
      },
      "source": [
        "def lag_function(df, var_name, past):\n",
        "  df.reset_index(drop=True, inplace=True)\n",
        "\n",
        "  df['lag'+str(past)+'_'+var_name] = np.nan\n",
        "  df['lag'+str(past)+'_'+'AB'] = np.nan\n",
        "\n",
        "  for col in ['AB', var_name]:\n",
        "    for i in range(0, max(df.index) + 1):\n",
        "      val = df.loc[(df['batter_name'] == df['batter_name'][i]) &\n",
        "                   (df['year'] == df['year'][i] - past), col]\n",
        "      if(len(val) != 0): df.loc[i, 'lag'+str(past)+'_'+col] = val.iloc[0]\n",
        "\n",
        "  df.loc[df['lag'+str(past)+'_'+'AB']<30, 'lag'+str(past)+'_'+var_name] = np.nan\n",
        "  df.drop('lag'+str(past)+'_'+'AB', axis=1,inplace=True)\n",
        "\n",
        "  return df                  "
      ],
      "execution_count": 0,
      "outputs": []
    },
    {
      "cell_type": "code",
      "metadata": {
        "id": "GdSamONu_Mdy",
        "colab_type": "code",
        "colab": {}
      },
      "source": [
        "numeric_cols = list(regular_seanson_df.select_dtypes(include=numerics).drop(\n",
        "    ['batter_id', 'year', 'OPS', 'SLG'], axis=1).columns)\n",
        "regular_season_temp = regular_seanson_df[numeric_cols + ['year', 'batter_name']].copy()\n",
        "regular_season_temp = regular_season_temp.loc[regular_season_temp['AB'] >= 30]"
      ],
      "execution_count": 0,
      "outputs": []
    },
    {
      "cell_type": "code",
      "metadata": {
        "id": "-AssXTKbEx2V",
        "colab_type": "code",
        "colab": {}
      },
      "source": [
        "for col in numeric_cols:\n",
        "  regular_season_temp = lag_function(regular_season_temp, col, 1)"
      ],
      "execution_count": 0,
      "outputs": []
    },
    {
      "cell_type": "code",
      "metadata": {
        "id": "zhpOlDCYE9a1",
        "colab_type": "code",
        "colab": {
          "base_uri": "https://localhost:8080/",
          "height": 181
        },
        "outputId": "29837139-2dfe-441d-cbd2-74789e2be932"
      },
      "source": [
        "numeric_cols.remove('OBP')"
      ],
      "execution_count": 70,
      "outputs": [
        {
          "output_type": "error",
          "ename": "ValueError",
          "evalue": "ignored",
          "traceback": [
            "\u001b[0;31m---------------------------------------------------------------------------\u001b[0m",
            "\u001b[0;31mValueError\u001b[0m                                Traceback (most recent call last)",
            "\u001b[0;32m<ipython-input-70-0c58b08aace2>\u001b[0m in \u001b[0;36m<module>\u001b[0;34m()\u001b[0m\n\u001b[0;32m----> 1\u001b[0;31m \u001b[0mnumeric_cols\u001b[0m\u001b[0;34m.\u001b[0m\u001b[0mremove\u001b[0m\u001b[0;34m(\u001b[0m\u001b[0;34m'OBP'\u001b[0m\u001b[0;34m)\u001b[0m\u001b[0;34m\u001b[0m\u001b[0;34m\u001b[0m\u001b[0m\n\u001b[0m\u001b[1;32m      2\u001b[0m \u001b[0mregular_season_temp\u001b[0m\u001b[0;34m.\u001b[0m\u001b[0mdrop\u001b[0m\u001b[0;34m(\u001b[0m\u001b[0mnumeric_cols\u001b[0m\u001b[0;34m,\u001b[0m \u001b[0maxis\u001b[0m\u001b[0;34m=\u001b[0m\u001b[0;36m1\u001b[0m\u001b[0;34m,\u001b[0m \u001b[0minplace\u001b[0m\u001b[0;34m=\u001b[0m\u001b[0;32mTrue\u001b[0m\u001b[0;34m)\u001b[0m\u001b[0;34m\u001b[0m\u001b[0;34m\u001b[0m\u001b[0m\n",
            "\u001b[0;31mValueError\u001b[0m: list.remove(x): x not in list"
          ]
        }
      ]
    },
    {
      "cell_type": "code",
      "metadata": {
        "id": "z-vMK79VFXS3",
        "colab_type": "code",
        "colab": {}
      },
      "source": [
        "regular_season_temp.drop(numeric_cols, axis=1, inplace=True)"
      ],
      "execution_count": 0,
      "outputs": []
    },
    {
      "cell_type": "code",
      "metadata": {
        "id": "l3vZew1vF_IO",
        "colab_type": "code",
        "colab": {}
      },
      "source": [
        "corr_matrix = regular_season_temp.corr()\n",
        "corr_matrix = corr_matrix.sort_values(by='OBP', axis=0, ascending=False)"
      ],
      "execution_count": 0,
      "outputs": []
    },
    {
      "cell_type": "code",
      "metadata": {
        "id": "uduWtdOfGG4w",
        "colab_type": "code",
        "colab": {
          "base_uri": "https://localhost:8080/",
          "height": 634
        },
        "outputId": "36e267a7-4e7d-4b08-9be5-7a6d56611763"
      },
      "source": [
        "import seaborn as sns\n",
        "\n",
        "f, ax = plt.subplots(figsize=(12, 12))\n",
        "corr = regular_season_temp.select_dtypes(exclude=['object', 'bool']).corr()\n",
        "mask = np.zeros_like(corr_matrix, dtype=np.bool)\n",
        "mask[np.triu_indices_from(mask)] = True\n",
        "cmap = sns.diverging_palette(220, 10, as_cmap=True)\n",
        "g = sns.heatmap(corr_matrix, mask=mask, cmap='RdYlGn_r', vmax=1,\n",
        "                center=0, annot=True, fmt='.2f', square=True, linewidths=.5,\n",
        "                cbar_kws={'shrink':.5})\n",
        "plt.title('Diagonal Correlation HeatMap')"
      ],
      "execution_count": 87,
      "outputs": [
        {
          "output_type": "execute_result",
          "data": {
            "text/plain": [
              "Text(0.5, 1.0, 'Diagonal Correlation HeatMap')"
            ]
          },
          "metadata": {
            "tags": []
          },
          "execution_count": 87
        },
        {
          "output_type": "display_data",
          "data": {
            "image/png": "[encoded data removed]",
            "text/plain": [
              "<Figure size 864x864 with 2 Axes>"
            ]
          },
          "metadata": {
            "tags": [],
            "needs_background": "light"
          }
        }
      ]
    },
    {
      "cell_type": "code",
      "metadata": {
        "id": "ySHT64sHGZaZ",
        "colab_type": "code",
        "colab": {
          "base_uri": "https://localhost:8080/",
          "height": 634
        },
        "outputId": "c08ac711-f95f-4b45-bef5-9e5cab2cf568"
      },
      "source": [
        "f, ax = plt.subplots(figsize=(12, 12))\n",
        "corr = regular_season_temp.select_dtypes(exclude=['object', 'bool']).corr()\n",
        "cmap = sns.diverging_palette(220, 10, as_cmap=True)\n",
        "g = sns.heatmap(corr_matrix, cmap='RdYlGn_r', vmax=1,\n",
        "                center=0, annot=True, fmt='.2f', square=True, linewidths=.5,\n",
        "                cbar_kws={'shrink':.5})\n",
        "plt.title('Diagonal Correlation HeatMap')"
      ],
      "execution_count": 88,
      "outputs": [
        {
          "output_type": "execute_result",
          "data": {
            "text/plain": [
              "Text(0.5, 1.0, 'Diagonal Correlation HeatMap')"
            ]
          },
          "metadata": {
            "tags": []
          },
          "execution_count": 88
        },
        {
          "output_type": "display_data",
          "data": {
            "image/png": "[encoded data removed]",
            "text/plain": [
              "<Figure size 864x864 with 2 Axes>"
            ]
          },
          "metadata": {
            "tags": [],
            "needs_background": "light"
          }
        }
      ]
    },
    {
      "cell_type": "code",
      "metadata": {
        "id": "MmTGyclTGesQ",
        "colab_type": "code",
        "colab": {}
      },
      "source": [
        "regular_seanson_df['SF'] = regular_seanson_df[['H', 'BB', 'HBP']].sum(axis=1) / regular_seanson_df['OBP'] - regular_seanson_df[['AB', 'BB', 'HBP']].sum(axis=1)\n",
        "regular_seanson_df['SF'].fillna(0, inplace=True)\n",
        "regular_seanson_df['SF'] = regular_seanson_df['SF'].apply(lambda x: round(x, 0))"
      ],
      "execution_count": 0,
      "outputs": []
    },
    {
      "cell_type": "code",
      "metadata": {
        "id": "s1NBxANPOMuk",
        "colab_type": "code",
        "colab": {
          "base_uri": "https://localhost:8080/",
          "height": 419
        },
        "outputId": "6c229b42-a835-4389-b9e6-32f6a119e289"
      },
      "source": [
        "regular_seanson_df['SF_1'] = regular_seanson_df['SF'] / regular_seanson_df['AB']\n",
        "regular_seanson_df_SF = regular_seanson_df[['batter_name', 'year', 'SF_1']]\n",
        "regular_seanson_df_SF"
      ],
      "execution_count": 96,
      "outputs": [
        {
          "output_type": "execute_result",
          "data": {
            "text/html": [
              "<div>\n",
              "<style scoped>\n",
              "    .dataframe tbody tr th:only-of-type {\n",
              "        vertical-align: middle;\n",
              "    }\n",
              "\n",
              "    .dataframe tbody tr th {\n",
              "        vertical-align: top;\n",
              "    }\n",
              "\n",
              "    .dataframe thead th {\n",
              "        text-align: right;\n",
              "    }\n",
              "</style>\n",
              "<table border=\"1\" class=\"dataframe\">\n",
              "  <thead>\n",
              "    <tr style=\"text-align: right;\">\n",
              "      <th></th>\n",
              "      <th>batter_name</th>\n",
              "      <th>year</th>\n",
              "      <th>SF_1</th>\n",
              "    </tr>\n",
              "  </thead>\n",
              "  <tbody>\n",
              "    <tr>\n",
              "      <th>0</th>\n",
              "      <td>가르시아</td>\n",
              "      <td>2018</td>\n",
              "      <td>0.032787</td>\n",
              "    </tr>\n",
              "    <tr>\n",
              "      <th>1</th>\n",
              "      <td>강경학</td>\n",
              "      <td>2011</td>\n",
              "      <td>0.000000</td>\n",
              "    </tr>\n",
              "    <tr>\n",
              "      <th>2</th>\n",
              "      <td>강경학</td>\n",
              "      <td>2014</td>\n",
              "      <td>-0.000000</td>\n",
              "    </tr>\n",
              "    <tr>\n",
              "      <th>3</th>\n",
              "      <td>강경학</td>\n",
              "      <td>2015</td>\n",
              "      <td>0.009646</td>\n",
              "    </tr>\n",
              "    <tr>\n",
              "      <th>4</th>\n",
              "      <td>강경학</td>\n",
              "      <td>2016</td>\n",
              "      <td>0.009901</td>\n",
              "    </tr>\n",
              "    <tr>\n",
              "      <th>...</th>\n",
              "      <td>...</td>\n",
              "      <td>...</td>\n",
              "      <td>...</td>\n",
              "    </tr>\n",
              "    <tr>\n",
              "      <th>2442</th>\n",
              "      <td>황진수</td>\n",
              "      <td>2014</td>\n",
              "      <td>0.000000</td>\n",
              "    </tr>\n",
              "    <tr>\n",
              "      <th>2443</th>\n",
              "      <td>황진수</td>\n",
              "      <td>2015</td>\n",
              "      <td>0.000000</td>\n",
              "    </tr>\n",
              "    <tr>\n",
              "      <th>2444</th>\n",
              "      <td>황진수</td>\n",
              "      <td>2016</td>\n",
              "      <td>0.000000</td>\n",
              "    </tr>\n",
              "    <tr>\n",
              "      <th>2445</th>\n",
              "      <td>황진수</td>\n",
              "      <td>2017</td>\n",
              "      <td>0.008547</td>\n",
              "    </tr>\n",
              "    <tr>\n",
              "      <th>2446</th>\n",
              "      <td>황진수</td>\n",
              "      <td>2018</td>\n",
              "      <td>-0.000000</td>\n",
              "    </tr>\n",
              "  </tbody>\n",
              "</table>\n",
              "<p>2447 rows × 3 columns</p>\n",
              "</div>"
            ],
            "text/plain": [
              "     batter_name  year      SF_1\n",
              "0           가르시아  2018  0.032787\n",
              "1            강경학  2011  0.000000\n",
              "2            강경학  2014 -0.000000\n",
              "3            강경학  2015  0.009646\n",
              "4            강경학  2016  0.009901\n",
              "...          ...   ...       ...\n",
              "2442         황진수  2014  0.000000\n",
              "2443         황진수  2015  0.000000\n",
              "2444         황진수  2016  0.000000\n",
              "2445         황진수  2017  0.008547\n",
              "2446         황진수  2018 -0.000000\n",
              "\n",
              "[2447 rows x 3 columns]"
            ]
          },
          "metadata": {
            "tags": []
          },
          "execution_count": 96
        }
      ]
    },
    {
      "cell_type": "code",
      "metadata": {
        "id": "C1KKBfpFOhLi",
        "colab_type": "code",
        "colab": {
          "base_uri": "https://localhost:8080/",
          "height": 71
        },
        "outputId": "2c74dc28-d4ab-45e9-b1c8-6ef920618df3"
      },
      "source": [
        "sum_hf_yr_OBP = day_by_day_df.loc[day_by_day_df['date']\n",
        "                                  <= 7.18].groupby(['batter_name', 'year'])['AB','H','BB','HBP'].sum().reset_index()"
      ],
      "execution_count": 97,
      "outputs": [
        {
          "output_type": "stream",
          "text": [
            "/usr/local/lib/python3.6/dist-packages/ipykernel_launcher.py:2: FutureWarning: Indexing with multiple keys (implicitly converted to a tuple of keys) will be deprecated, use a list instead.\n",
            "  \n"
          ],
          "name": "stderr"
        }
      ]
    },
    {
      "cell_type": "code",
      "metadata": {
        "id": "Ee61lKajQTqJ",
        "colab_type": "code",
        "colab": {}
      },
      "source": [
        "sum_hf_yr_OBP = sum_hf_yr_OBP.merge(regular_seanson_df_SF, how='left',\n",
        "                                    on=['batter_name', 'year'])"
      ],
      "execution_count": 0,
      "outputs": []
    },
    {
      "cell_type": "code",
      "metadata": {
        "id": "IEsreniOQiBZ",
        "colab_type": "code",
        "colab": {
          "base_uri": "https://localhost:8080/",
          "height": 204
        },
        "outputId": "b11242e3-35d0-4383-a678-dbeedc5a4550"
      },
      "source": [
        "sum_hf_yr_OBP.head()"
      ],
      "execution_count": 100,
      "outputs": [
        {
          "output_type": "execute_result",
          "data": {
            "text/html": [
              "<div>\n",
              "<style scoped>\n",
              "    .dataframe tbody tr th:only-of-type {\n",
              "        vertical-align: middle;\n",
              "    }\n",
              "\n",
              "    .dataframe tbody tr th {\n",
              "        vertical-align: top;\n",
              "    }\n",
              "\n",
              "    .dataframe thead th {\n",
              "        text-align: right;\n",
              "    }\n",
              "</style>\n",
              "<table border=\"1\" class=\"dataframe\">\n",
              "  <thead>\n",
              "    <tr style=\"text-align: right;\">\n",
              "      <th></th>\n",
              "      <th>batter_name</th>\n",
              "      <th>year</th>\n",
              "      <th>AB</th>\n",
              "      <th>H</th>\n",
              "      <th>BB</th>\n",
              "      <th>HBP</th>\n",
              "      <th>SF_1</th>\n",
              "    </tr>\n",
              "  </thead>\n",
              "  <tbody>\n",
              "    <tr>\n",
              "      <th>0</th>\n",
              "      <td>가르시아</td>\n",
              "      <td>2018</td>\n",
              "      <td>85</td>\n",
              "      <td>31</td>\n",
              "      <td>6</td>\n",
              "      <td>4</td>\n",
              "      <td>0.032787</td>\n",
              "    </tr>\n",
              "    <tr>\n",
              "      <th>1</th>\n",
              "      <td>강경학</td>\n",
              "      <td>2011</td>\n",
              "      <td>1</td>\n",
              "      <td>0</td>\n",
              "      <td>0</td>\n",
              "      <td>0</td>\n",
              "      <td>0.000000</td>\n",
              "    </tr>\n",
              "    <tr>\n",
              "      <th>2</th>\n",
              "      <td>강경학</td>\n",
              "      <td>2014</td>\n",
              "      <td>0</td>\n",
              "      <td>0</td>\n",
              "      <td>2</td>\n",
              "      <td>0</td>\n",
              "      <td>-0.000000</td>\n",
              "    </tr>\n",
              "    <tr>\n",
              "      <th>3</th>\n",
              "      <td>강경학</td>\n",
              "      <td>2015</td>\n",
              "      <td>156</td>\n",
              "      <td>39</td>\n",
              "      <td>21</td>\n",
              "      <td>2</td>\n",
              "      <td>0.009646</td>\n",
              "    </tr>\n",
              "    <tr>\n",
              "      <th>4</th>\n",
              "      <td>강경학</td>\n",
              "      <td>2016</td>\n",
              "      <td>81</td>\n",
              "      <td>12</td>\n",
              "      <td>6</td>\n",
              "      <td>2</td>\n",
              "      <td>0.009901</td>\n",
              "    </tr>\n",
              "  </tbody>\n",
              "</table>\n",
              "</div>"
            ],
            "text/plain": [
              "  batter_name  year   AB   H  BB  HBP      SF_1\n",
              "0        가르시아  2018   85  31   6    4  0.032787\n",
              "1         강경학  2011    1   0   0    0  0.000000\n",
              "2         강경학  2014    0   0   2    0 -0.000000\n",
              "3         강경학  2015  156  39  21    2  0.009646\n",
              "4         강경학  2016   81  12   6    2  0.009901"
            ]
          },
          "metadata": {
            "tags": []
          },
          "execution_count": 100
        }
      ]
    },
    {
      "cell_type": "code",
      "metadata": {
        "id": "LR33AG7FQjAo",
        "colab_type": "code",
        "colab": {}
      },
      "source": [
        "sum_hf_yr_OBP['SF'] = (sum_hf_yr_OBP['SF_1'] * sum_hf_yr_OBP['AB']).apply(lambda x: round(x, 0))\n",
        "sum_hf_yr_OBP.drop('SF_1', axis=1, inplace=True)"
      ],
      "execution_count": 0,
      "outputs": []
    },
    {
      "cell_type": "code",
      "metadata": {
        "id": "Y2hjv2_HQxWx",
        "colab_type": "code",
        "colab": {
          "base_uri": "https://localhost:8080/",
          "height": 204
        },
        "outputId": "2535c356-f143-4f15-cad0-1c1d040fd141"
      },
      "source": [
        "sum_hf_yr_OBP.head()"
      ],
      "execution_count": 104,
      "outputs": [
        {
          "output_type": "execute_result",
          "data": {
            "text/html": [
              "<div>\n",
              "<style scoped>\n",
              "    .dataframe tbody tr th:only-of-type {\n",
              "        vertical-align: middle;\n",
              "    }\n",
              "\n",
              "    .dataframe tbody tr th {\n",
              "        vertical-align: top;\n",
              "    }\n",
              "\n",
              "    .dataframe thead th {\n",
              "        text-align: right;\n",
              "    }\n",
              "</style>\n",
              "<table border=\"1\" class=\"dataframe\">\n",
              "  <thead>\n",
              "    <tr style=\"text-align: right;\">\n",
              "      <th></th>\n",
              "      <th>batter_name</th>\n",
              "      <th>year</th>\n",
              "      <th>AB</th>\n",
              "      <th>H</th>\n",
              "      <th>BB</th>\n",
              "      <th>HBP</th>\n",
              "      <th>SF</th>\n",
              "    </tr>\n",
              "  </thead>\n",
              "  <tbody>\n",
              "    <tr>\n",
              "      <th>0</th>\n",
              "      <td>가르시아</td>\n",
              "      <td>2018</td>\n",
              "      <td>85</td>\n",
              "      <td>31</td>\n",
              "      <td>6</td>\n",
              "      <td>4</td>\n",
              "      <td>3.0</td>\n",
              "    </tr>\n",
              "    <tr>\n",
              "      <th>1</th>\n",
              "      <td>강경학</td>\n",
              "      <td>2011</td>\n",
              "      <td>1</td>\n",
              "      <td>0</td>\n",
              "      <td>0</td>\n",
              "      <td>0</td>\n",
              "      <td>0.0</td>\n",
              "    </tr>\n",
              "    <tr>\n",
              "      <th>2</th>\n",
              "      <td>강경학</td>\n",
              "      <td>2014</td>\n",
              "      <td>0</td>\n",
              "      <td>0</td>\n",
              "      <td>2</td>\n",
              "      <td>0</td>\n",
              "      <td>-0.0</td>\n",
              "    </tr>\n",
              "    <tr>\n",
              "      <th>3</th>\n",
              "      <td>강경학</td>\n",
              "      <td>2015</td>\n",
              "      <td>156</td>\n",
              "      <td>39</td>\n",
              "      <td>21</td>\n",
              "      <td>2</td>\n",
              "      <td>2.0</td>\n",
              "    </tr>\n",
              "    <tr>\n",
              "      <th>4</th>\n",
              "      <td>강경학</td>\n",
              "      <td>2016</td>\n",
              "      <td>81</td>\n",
              "      <td>12</td>\n",
              "      <td>6</td>\n",
              "      <td>2</td>\n",
              "      <td>1.0</td>\n",
              "    </tr>\n",
              "  </tbody>\n",
              "</table>\n",
              "</div>"
            ],
            "text/plain": [
              "  batter_name  year   AB   H  BB  HBP   SF\n",
              "0        가르시아  2018   85  31   6    4  3.0\n",
              "1         강경학  2011    1   0   0    0  0.0\n",
              "2         강경학  2014    0   0   2    0 -0.0\n",
              "3         강경학  2015  156  39  21    2  2.0\n",
              "4         강경학  2016   81  12   6    2  1.0"
            ]
          },
          "metadata": {
            "tags": []
          },
          "execution_count": 104
        }
      ]
    },
    {
      "cell_type": "code",
      "metadata": {
        "id": "ilcgoLXyREFw",
        "colab_type": "code",
        "colab": {}
      },
      "source": [
        "sum_hf_yr_OBP['OBP'] = sum_hf_yr_OBP[['H', 'BB', 'HBP']].sum(axis=1)/sum_hf_yr_OBP[['AB', 'BB', 'HBP', 'SF']].sum(axis=1)\n",
        "sum_hf_yr_OBP['OBP'].fillna(0, inplace=True)"
      ],
      "execution_count": 0,
      "outputs": []
    },
    {
      "cell_type": "code",
      "metadata": {
        "id": "DRnurRNuRWu0",
        "colab_type": "code",
        "colab": {
          "base_uri": "https://localhost:8080/",
          "height": 204
        },
        "outputId": "8d3074c5-ee82-41e6-fbf2-125529385fe2"
      },
      "source": [
        "sum_hf_yr_OBP.head()"
      ],
      "execution_count": 106,
      "outputs": [
        {
          "output_type": "execute_result",
          "data": {
            "text/html": [
              "<div>\n",
              "<style scoped>\n",
              "    .dataframe tbody tr th:only-of-type {\n",
              "        vertical-align: middle;\n",
              "    }\n",
              "\n",
              "    .dataframe tbody tr th {\n",
              "        vertical-align: top;\n",
              "    }\n",
              "\n",
              "    .dataframe thead th {\n",
              "        text-align: right;\n",
              "    }\n",
              "</style>\n",
              "<table border=\"1\" class=\"dataframe\">\n",
              "  <thead>\n",
              "    <tr style=\"text-align: right;\">\n",
              "      <th></th>\n",
              "      <th>batter_name</th>\n",
              "      <th>year</th>\n",
              "      <th>AB</th>\n",
              "      <th>H</th>\n",
              "      <th>BB</th>\n",
              "      <th>HBP</th>\n",
              "      <th>SF</th>\n",
              "      <th>OBP</th>\n",
              "    </tr>\n",
              "  </thead>\n",
              "  <tbody>\n",
              "    <tr>\n",
              "      <th>0</th>\n",
              "      <td>가르시아</td>\n",
              "      <td>2018</td>\n",
              "      <td>85</td>\n",
              "      <td>31</td>\n",
              "      <td>6</td>\n",
              "      <td>4</td>\n",
              "      <td>3.0</td>\n",
              "      <td>0.418367</td>\n",
              "    </tr>\n",
              "    <tr>\n",
              "      <th>1</th>\n",
              "      <td>강경학</td>\n",
              "      <td>2011</td>\n",
              "      <td>1</td>\n",
              "      <td>0</td>\n",
              "      <td>0</td>\n",
              "      <td>0</td>\n",
              "      <td>0.0</td>\n",
              "      <td>0.000000</td>\n",
              "    </tr>\n",
              "    <tr>\n",
              "      <th>2</th>\n",
              "      <td>강경학</td>\n",
              "      <td>2014</td>\n",
              "      <td>0</td>\n",
              "      <td>0</td>\n",
              "      <td>2</td>\n",
              "      <td>0</td>\n",
              "      <td>-0.0</td>\n",
              "      <td>1.000000</td>\n",
              "    </tr>\n",
              "    <tr>\n",
              "      <th>3</th>\n",
              "      <td>강경학</td>\n",
              "      <td>2015</td>\n",
              "      <td>156</td>\n",
              "      <td>39</td>\n",
              "      <td>21</td>\n",
              "      <td>2</td>\n",
              "      <td>2.0</td>\n",
              "      <td>0.342541</td>\n",
              "    </tr>\n",
              "    <tr>\n",
              "      <th>4</th>\n",
              "      <td>강경학</td>\n",
              "      <td>2016</td>\n",
              "      <td>81</td>\n",
              "      <td>12</td>\n",
              "      <td>6</td>\n",
              "      <td>2</td>\n",
              "      <td>1.0</td>\n",
              "      <td>0.222222</td>\n",
              "    </tr>\n",
              "  </tbody>\n",
              "</table>\n",
              "</div>"
            ],
            "text/plain": [
              "  batter_name  year   AB   H  BB  HBP   SF       OBP\n",
              "0        가르시아  2018   85  31   6    4  3.0  0.418367\n",
              "1         강경학  2011    1   0   0    0  0.0  0.000000\n",
              "2         강경학  2014    0   0   2    0 -0.0  1.000000\n",
              "3         강경학  2015  156  39  21    2  2.0  0.342541\n",
              "4         강경학  2016   81  12   6    2  1.0  0.222222"
            ]
          },
          "metadata": {
            "tags": []
          },
          "execution_count": 106
        }
      ]
    },
    {
      "cell_type": "code",
      "metadata": {
        "id": "yBcA_odVRdal",
        "colab_type": "code",
        "colab": {
          "base_uri": "https://localhost:8080/",
          "height": 419
        },
        "outputId": "79768e43-3c6a-44a9-8f06-970cdcd3a94d"
      },
      "source": [
        "sum_hf_yr_OBP = sum_hf_yr_OBP[['batter_name', 'year', 'AB', 'OBP']]\n",
        "sum_hf_yr_OBP"
      ],
      "execution_count": 107,
      "outputs": [
        {
          "output_type": "execute_result",
          "data": {
            "text/html": [
              "<div>\n",
              "<style scoped>\n",
              "    .dataframe tbody tr th:only-of-type {\n",
              "        vertical-align: middle;\n",
              "    }\n",
              "\n",
              "    .dataframe tbody tr th {\n",
              "        vertical-align: top;\n",
              "    }\n",
              "\n",
              "    .dataframe thead th {\n",
              "        text-align: right;\n",
              "    }\n",
              "</style>\n",
              "<table border=\"1\" class=\"dataframe\">\n",
              "  <thead>\n",
              "    <tr style=\"text-align: right;\">\n",
              "      <th></th>\n",
              "      <th>batter_name</th>\n",
              "      <th>year</th>\n",
              "      <th>AB</th>\n",
              "      <th>OBP</th>\n",
              "    </tr>\n",
              "  </thead>\n",
              "  <tbody>\n",
              "    <tr>\n",
              "      <th>0</th>\n",
              "      <td>가르시아</td>\n",
              "      <td>2018</td>\n",
              "      <td>85</td>\n",
              "      <td>0.418367</td>\n",
              "    </tr>\n",
              "    <tr>\n",
              "      <th>1</th>\n",
              "      <td>강경학</td>\n",
              "      <td>2011</td>\n",
              "      <td>1</td>\n",
              "      <td>0.000000</td>\n",
              "    </tr>\n",
              "    <tr>\n",
              "      <th>2</th>\n",
              "      <td>강경학</td>\n",
              "      <td>2014</td>\n",
              "      <td>0</td>\n",
              "      <td>1.000000</td>\n",
              "    </tr>\n",
              "    <tr>\n",
              "      <th>3</th>\n",
              "      <td>강경학</td>\n",
              "      <td>2015</td>\n",
              "      <td>156</td>\n",
              "      <td>0.342541</td>\n",
              "    </tr>\n",
              "    <tr>\n",
              "      <th>4</th>\n",
              "      <td>강경학</td>\n",
              "      <td>2016</td>\n",
              "      <td>81</td>\n",
              "      <td>0.222222</td>\n",
              "    </tr>\n",
              "    <tr>\n",
              "      <th>...</th>\n",
              "      <td>...</td>\n",
              "      <td>...</td>\n",
              "      <td>...</td>\n",
              "      <td>...</td>\n",
              "    </tr>\n",
              "    <tr>\n",
              "      <th>1381</th>\n",
              "      <td>황진수</td>\n",
              "      <td>2012</td>\n",
              "      <td>4</td>\n",
              "      <td>0.400000</td>\n",
              "    </tr>\n",
              "    <tr>\n",
              "      <th>1382</th>\n",
              "      <td>황진수</td>\n",
              "      <td>2013</td>\n",
              "      <td>0</td>\n",
              "      <td>0.000000</td>\n",
              "    </tr>\n",
              "    <tr>\n",
              "      <th>1383</th>\n",
              "      <td>황진수</td>\n",
              "      <td>2016</td>\n",
              "      <td>9</td>\n",
              "      <td>0.000000</td>\n",
              "    </tr>\n",
              "    <tr>\n",
              "      <th>1384</th>\n",
              "      <td>황진수</td>\n",
              "      <td>2017</td>\n",
              "      <td>71</td>\n",
              "      <td>0.316456</td>\n",
              "    </tr>\n",
              "    <tr>\n",
              "      <th>1385</th>\n",
              "      <td>황진수</td>\n",
              "      <td>2018</td>\n",
              "      <td>24</td>\n",
              "      <td>0.230769</td>\n",
              "    </tr>\n",
              "  </tbody>\n",
              "</table>\n",
              "<p>1386 rows × 4 columns</p>\n",
              "</div>"
            ],
            "text/plain": [
              "     batter_name  year   AB       OBP\n",
              "0           가르시아  2018   85  0.418367\n",
              "1            강경학  2011    1  0.000000\n",
              "2            강경학  2014    0  1.000000\n",
              "3            강경학  2015  156  0.342541\n",
              "4            강경학  2016   81  0.222222\n",
              "...          ...   ...  ...       ...\n",
              "1381         황진수  2012    4  0.400000\n",
              "1382         황진수  2013    0  0.000000\n",
              "1383         황진수  2016    9  0.000000\n",
              "1384         황진수  2017   71  0.316456\n",
              "1385         황진수  2018   24  0.230769\n",
              "\n",
              "[1386 rows x 4 columns]"
            ]
          },
          "metadata": {
            "tags": []
          },
          "execution_count": 107
        }
      ]
    },
    {
      "cell_type": "code",
      "metadata": {
        "id": "jlI6Jcy2TmqL",
        "colab_type": "code",
        "colab": {}
      },
      "source": [
        "regular_seanson_df['age'] = regular_seanson_df['year'] - regular_seanson_df['year_born'].apply(lambda x: int(x[:4]))\n",
        "\n",
        "temp_df = regular_seanson_df.loc[regular_seanson_df['AB']>=30].groupby('age').agg({'OBP':['mean', 'median']}).reset_index()"
      ],
      "execution_count": 0,
      "outputs": []
    },
    {
      "cell_type": "code",
      "metadata": {
        "id": "_8iFevWaXLjJ",
        "colab_type": "code",
        "colab": {}
      },
      "source": [
        "temp_df.columns = temp_df.columns.droplevel()"
      ],
      "execution_count": 0,
      "outputs": []
    },
    {
      "cell_type": "code",
      "metadata": {
        "id": "35RkTk57XPYK",
        "colab_type": "code",
        "colab": {}
      },
      "source": [
        "temp_df.columns = ['age', 'mean_OBP', 'median_OBP']"
      ],
      "execution_count": 0,
      "outputs": []
    },
    {
      "cell_type": "code",
      "metadata": {
        "id": "_K4jA3oUXeyX",
        "colab_type": "code",
        "colab": {
          "base_uri": "https://localhost:8080/",
          "height": 204
        },
        "outputId": "15baa88f-4dd9-471f-99c9-4b87dbecfd43"
      },
      "source": [
        "temp_df.head()"
      ],
      "execution_count": 124,
      "outputs": [
        {
          "output_type": "execute_result",
          "data": {
            "text/html": [
              "<div>\n",
              "<style scoped>\n",
              "    .dataframe tbody tr th:only-of-type {\n",
              "        vertical-align: middle;\n",
              "    }\n",
              "\n",
              "    .dataframe tbody tr th {\n",
              "        vertical-align: top;\n",
              "    }\n",
              "\n",
              "    .dataframe thead th {\n",
              "        text-align: right;\n",
              "    }\n",
              "</style>\n",
              "<table border=\"1\" class=\"dataframe\">\n",
              "  <thead>\n",
              "    <tr style=\"text-align: right;\">\n",
              "      <th></th>\n",
              "      <th>age</th>\n",
              "      <th>mean_OBP</th>\n",
              "      <th>median_OBP</th>\n",
              "    </tr>\n",
              "  </thead>\n",
              "  <tbody>\n",
              "    <tr>\n",
              "      <th>0</th>\n",
              "      <td>18</td>\n",
              "      <td>0.295750</td>\n",
              "      <td>0.3140</td>\n",
              "    </tr>\n",
              "    <tr>\n",
              "      <th>1</th>\n",
              "      <td>19</td>\n",
              "      <td>0.296261</td>\n",
              "      <td>0.2955</td>\n",
              "    </tr>\n",
              "    <tr>\n",
              "      <th>2</th>\n",
              "      <td>20</td>\n",
              "      <td>0.309184</td>\n",
              "      <td>0.3270</td>\n",
              "    </tr>\n",
              "    <tr>\n",
              "      <th>3</th>\n",
              "      <td>21</td>\n",
              "      <td>0.320382</td>\n",
              "      <td>0.3205</td>\n",
              "    </tr>\n",
              "    <tr>\n",
              "      <th>4</th>\n",
              "      <td>22</td>\n",
              "      <td>0.327844</td>\n",
              "      <td>0.3230</td>\n",
              "    </tr>\n",
              "  </tbody>\n",
              "</table>\n",
              "</div>"
            ],
            "text/plain": [
              "   age  mean_OBP  median_OBP\n",
              "0   18  0.295750      0.3140\n",
              "1   19  0.296261      0.2955\n",
              "2   20  0.309184      0.3270\n",
              "3   21  0.320382      0.3205\n",
              "4   22  0.327844      0.3230"
            ]
          },
          "metadata": {
            "tags": []
          },
          "execution_count": 124
        }
      ]
    },
    {
      "cell_type": "code",
      "metadata": {
        "id": "xYk0T0IGXqWG",
        "colab_type": "code",
        "colab": {
          "base_uri": "https://localhost:8080/",
          "height": 450
        },
        "outputId": "ba557543-c799-4513-bf58-f78a9425649a"
      },
      "source": [
        "plt.figure(figsize=(12, 8))\n",
        "plt.plot('age', 'mean_OBP', data=temp_df, marker='o', markerfacecolor='blue', markersize=12,\n",
        "         color='skyblue', linewidth=4)\n",
        "plt.ylabel('mean_OBP', fontsize=14)\n",
        "plt.xlabel('age', fontsize=14)\n",
        "plt.show()"
      ],
      "execution_count": 129,
      "outputs": [
        {
          "output_type": "display_data",
          "data": {
            "image/png": "[encoded data removed]",
            "text/plain": [
              "<Figure size 864x576 with 1 Axes>"
            ]
          },
          "metadata": {
            "tags": [],
            "needs_background": "light"
          }
        }
      ]
    },
    {
      "cell_type": "code",
      "metadata": {
        "id": "7dqukv6IX-7m",
        "colab_type": "code",
        "colab": {}
      },
      "source": [
        "sum_hf_yr_OBP = sum_hf_yr_OBP.merge(regular_seanson_df[['batter_name', 'year', 'age']],\n",
        "                                    how='left', on=['batter_name', 'year'])"
      ],
      "execution_count": 0,
      "outputs": []
    },
    {
      "cell_type": "code",
      "metadata": {
        "id": "akVXUP2_ZfUG",
        "colab_type": "code",
        "colab": {}
      },
      "source": [
        "sum_hf_yr_OBP = lag_function(sum_hf_yr_OBP, 'OBP', 1)\n",
        "sum_hf_yr_OBP = lag_function(sum_hf_yr_OBP, 'OBP', 2)\n",
        "sum_hf_yr_OBP = lag_function(sum_hf_yr_OBP, 'OBP', 3)"
      ],
      "execution_count": 0,
      "outputs": []
    },
    {
      "cell_type": "code",
      "metadata": {
        "id": "7Sxj-FnEZoj3",
        "colab_type": "code",
        "colab": {
          "base_uri": "https://localhost:8080/",
          "height": 204
        },
        "outputId": "a327815c-884f-4cac-d96c-a8e715472dfb"
      },
      "source": [
        "sum_hf_yr_OBP.head()"
      ],
      "execution_count": 133,
      "outputs": [
        {
          "output_type": "execute_result",
          "data": {
            "text/html": [
              "<div>\n",
              "<style scoped>\n",
              "    .dataframe tbody tr th:only-of-type {\n",
              "        vertical-align: middle;\n",
              "    }\n",
              "\n",
              "    .dataframe tbody tr th {\n",
              "        vertical-align: top;\n",
              "    }\n",
              "\n",
              "    .dataframe thead th {\n",
              "        text-align: right;\n",
              "    }\n",
              "</style>\n",
              "<table border=\"1\" class=\"dataframe\">\n",
              "  <thead>\n",
              "    <tr style=\"text-align: right;\">\n",
              "      <th></th>\n",
              "      <th>batter_name</th>\n",
              "      <th>year</th>\n",
              "      <th>AB</th>\n",
              "      <th>OBP</th>\n",
              "      <th>age</th>\n",
              "      <th>lag1_OBP</th>\n",
              "      <th>lag2_OBP</th>\n",
              "      <th>lag3_OBP</th>\n",
              "    </tr>\n",
              "  </thead>\n",
              "  <tbody>\n",
              "    <tr>\n",
              "      <th>0</th>\n",
              "      <td>가르시아</td>\n",
              "      <td>2018</td>\n",
              "      <td>85</td>\n",
              "      <td>0.418367</td>\n",
              "      <td>33</td>\n",
              "      <td>NaN</td>\n",
              "      <td>NaN</td>\n",
              "      <td>NaN</td>\n",
              "    </tr>\n",
              "    <tr>\n",
              "      <th>1</th>\n",
              "      <td>강경학</td>\n",
              "      <td>2011</td>\n",
              "      <td>1</td>\n",
              "      <td>0.000000</td>\n",
              "      <td>19</td>\n",
              "      <td>NaN</td>\n",
              "      <td>NaN</td>\n",
              "      <td>NaN</td>\n",
              "    </tr>\n",
              "    <tr>\n",
              "      <th>2</th>\n",
              "      <td>강경학</td>\n",
              "      <td>2014</td>\n",
              "      <td>0</td>\n",
              "      <td>1.000000</td>\n",
              "      <td>22</td>\n",
              "      <td>NaN</td>\n",
              "      <td>NaN</td>\n",
              "      <td>NaN</td>\n",
              "    </tr>\n",
              "    <tr>\n",
              "      <th>3</th>\n",
              "      <td>강경학</td>\n",
              "      <td>2015</td>\n",
              "      <td>156</td>\n",
              "      <td>0.342541</td>\n",
              "      <td>23</td>\n",
              "      <td>NaN</td>\n",
              "      <td>NaN</td>\n",
              "      <td>NaN</td>\n",
              "    </tr>\n",
              "    <tr>\n",
              "      <th>4</th>\n",
              "      <td>강경학</td>\n",
              "      <td>2016</td>\n",
              "      <td>81</td>\n",
              "      <td>0.222222</td>\n",
              "      <td>24</td>\n",
              "      <td>0.342541</td>\n",
              "      <td>NaN</td>\n",
              "      <td>NaN</td>\n",
              "    </tr>\n",
              "  </tbody>\n",
              "</table>\n",
              "</div>"
            ],
            "text/plain": [
              "  batter_name  year   AB       OBP  age  lag1_OBP  lag2_OBP  lag3_OBP\n",
              "0        가르시아  2018   85  0.418367   33       NaN       NaN       NaN\n",
              "1         강경학  2011    1  0.000000   19       NaN       NaN       NaN\n",
              "2         강경학  2014    0  1.000000   22       NaN       NaN       NaN\n",
              "3         강경학  2015  156  0.342541   23       NaN       NaN       NaN\n",
              "4         강경학  2016   81  0.222222   24  0.342541       NaN       NaN"
            ]
          },
          "metadata": {
            "tags": []
          },
          "execution_count": 133
        }
      ]
    },
    {
      "cell_type": "code",
      "metadata": {
        "id": "KjoWXd__Zsl6",
        "colab_type": "code",
        "colab": {
          "base_uri": "https://localhost:8080/",
          "height": 85
        },
        "outputId": "c174a8dd-29ce-4ca8-be80-f6da9d37c1e9"
      },
      "source": [
        "round(sum_hf_yr_OBP[['lag1_OBP', 'lag2_OBP', 'lag3_OBP']].isna().sum()/sum_hf_yr_OBP.shape[0], 2)"
      ],
      "execution_count": 134,
      "outputs": [
        {
          "output_type": "execute_result",
          "data": {
            "text/plain": [
              "lag1_OBP    0.41\n",
              "lag2_OBP    0.54\n",
              "lag3_OBP    0.61\n",
              "dtype: float64"
            ]
          },
          "metadata": {
            "tags": []
          },
          "execution_count": 134
        }
      ]
    },
    {
      "cell_type": "code",
      "metadata": {
        "id": "ni6GRtzNaQE-",
        "colab_type": "code",
        "colab": {
          "base_uri": "https://localhost:8080/",
          "height": 71
        },
        "outputId": "4764e4c9-9bdb-49d6-c2db-b896bd84b60d"
      },
      "source": [
        "player_OBP_mean = regular_seanson_df.loc[regular_seanson_df['AB']>=30].groupby('batter_name')['AB', 'H', 'BB', 'HBP', 'SF'].sum().reset_index()\n",
        "player_OBP_mean['mean_OBP'] = player_OBP_mean[['H', 'BB', 'HBP']].sum(axis=1)/player_OBP_mean[['AB', 'BB', 'HBP', 'SF']].sum(axis=1)"
      ],
      "execution_count": 135,
      "outputs": [
        {
          "output_type": "stream",
          "text": [
            "/usr/local/lib/python3.6/dist-packages/ipykernel_launcher.py:1: FutureWarning: Indexing with multiple keys (implicitly converted to a tuple of keys) will be deprecated, use a list instead.\n",
            "  \"\"\"Entry point for launching an IPython kernel.\n"
          ],
          "name": "stderr"
        }
      ]
    },
    {
      "cell_type": "code",
      "metadata": {
        "id": "qEklVw1DZ77m",
        "colab_type": "code",
        "colab": {
          "base_uri": "https://localhost:8080/",
          "height": 71
        },
        "outputId": "8fe06ea4-57c6-4367-e591-db3f026ca03b"
      },
      "source": [
        "season_OBP_mean = regular_seanson_df.loc[regular_seanson_df['AB']>=30].groupby('year')['AB', 'H', 'BB', 'HBP', 'SF'].sum().reset_index()\n",
        "season_OBP_mean['mean_OBP'] = season_OBP_mean[['H', 'BB', 'HBP']].sum(axis=1)/season_OBP_mean[['AB', 'BB', 'HBP', 'SF']].sum(axis=1)\n",
        "season_OBP_mean = season_OBP_mean[['year', 'mean_OBP']]"
      ],
      "execution_count": 136,
      "outputs": [
        {
          "output_type": "stream",
          "text": [
            "/usr/local/lib/python3.6/dist-packages/ipykernel_launcher.py:1: FutureWarning: Indexing with multiple keys (implicitly converted to a tuple of keys) will be deprecated, use a list instead.\n",
            "  \"\"\"Entry point for launching an IPython kernel.\n"
          ],
          "name": "stderr"
        }
      ]
    },
    {
      "cell_type": "code",
      "metadata": {
        "id": "KSvpehgmbXZV",
        "colab_type": "code",
        "colab": {
          "base_uri": "https://localhost:8080/",
          "height": 224
        },
        "outputId": "3250fcc2-d144-45b2-f107-35b4279b18d1"
      },
      "source": [
        "sum_hf_yr_OBP = sum_hf_yr_OBP.merge(player_OBP_mean[['batter_name', 'mean_OBP']],\n",
        "                                    how='left', on='batter_name')\n",
        "sum_hf_yr_OBP = sum_hf_yr_OBP.loc[~sum_hf_yr_OBP['mean_OBP'].isna()].reset_index(drop=True)\n",
        "sum_hf_yr_OBP.head()"
      ],
      "execution_count": 137,
      "outputs": [
        {
          "output_type": "execute_result",
          "data": {
            "text/html": [
              "<div>\n",
              "<style scoped>\n",
              "    .dataframe tbody tr th:only-of-type {\n",
              "        vertical-align: middle;\n",
              "    }\n",
              "\n",
              "    .dataframe tbody tr th {\n",
              "        vertical-align: top;\n",
              "    }\n",
              "\n",
              "    .dataframe thead th {\n",
              "        text-align: right;\n",
              "    }\n",
              "</style>\n",
              "<table border=\"1\" class=\"dataframe\">\n",
              "  <thead>\n",
              "    <tr style=\"text-align: right;\">\n",
              "      <th></th>\n",
              "      <th>batter_name</th>\n",
              "      <th>year</th>\n",
              "      <th>AB</th>\n",
              "      <th>OBP</th>\n",
              "      <th>age</th>\n",
              "      <th>lag1_OBP</th>\n",
              "      <th>lag2_OBP</th>\n",
              "      <th>lag3_OBP</th>\n",
              "      <th>mean_OBP</th>\n",
              "    </tr>\n",
              "  </thead>\n",
              "  <tbody>\n",
              "    <tr>\n",
              "      <th>0</th>\n",
              "      <td>가르시아</td>\n",
              "      <td>2018</td>\n",
              "      <td>85</td>\n",
              "      <td>0.418367</td>\n",
              "      <td>33</td>\n",
              "      <td>NaN</td>\n",
              "      <td>NaN</td>\n",
              "      <td>NaN</td>\n",
              "      <td>0.383495</td>\n",
              "    </tr>\n",
              "    <tr>\n",
              "      <th>1</th>\n",
              "      <td>강경학</td>\n",
              "      <td>2011</td>\n",
              "      <td>1</td>\n",
              "      <td>0.000000</td>\n",
              "      <td>19</td>\n",
              "      <td>NaN</td>\n",
              "      <td>NaN</td>\n",
              "      <td>NaN</td>\n",
              "      <td>0.337880</td>\n",
              "    </tr>\n",
              "    <tr>\n",
              "      <th>2</th>\n",
              "      <td>강경학</td>\n",
              "      <td>2014</td>\n",
              "      <td>0</td>\n",
              "      <td>1.000000</td>\n",
              "      <td>22</td>\n",
              "      <td>NaN</td>\n",
              "      <td>NaN</td>\n",
              "      <td>NaN</td>\n",
              "      <td>0.337880</td>\n",
              "    </tr>\n",
              "    <tr>\n",
              "      <th>3</th>\n",
              "      <td>강경학</td>\n",
              "      <td>2015</td>\n",
              "      <td>156</td>\n",
              "      <td>0.342541</td>\n",
              "      <td>23</td>\n",
              "      <td>NaN</td>\n",
              "      <td>NaN</td>\n",
              "      <td>NaN</td>\n",
              "      <td>0.337880</td>\n",
              "    </tr>\n",
              "    <tr>\n",
              "      <th>4</th>\n",
              "      <td>강경학</td>\n",
              "      <td>2016</td>\n",
              "      <td>81</td>\n",
              "      <td>0.222222</td>\n",
              "      <td>24</td>\n",
              "      <td>0.342541</td>\n",
              "      <td>NaN</td>\n",
              "      <td>NaN</td>\n",
              "      <td>0.337880</td>\n",
              "    </tr>\n",
              "  </tbody>\n",
              "</table>\n",
              "</div>"
            ],
            "text/plain": [
              "  batter_name  year   AB       OBP  age  lag1_OBP  lag2_OBP  lag3_OBP  mean_OBP\n",
              "0        가르시아  2018   85  0.418367   33       NaN       NaN       NaN  0.383495\n",
              "1         강경학  2011    1  0.000000   19       NaN       NaN       NaN  0.337880\n",
              "2         강경학  2014    0  1.000000   22       NaN       NaN       NaN  0.337880\n",
              "3         강경학  2015  156  0.342541   23       NaN       NaN       NaN  0.337880\n",
              "4         강경학  2016   81  0.222222   24  0.342541       NaN       NaN  0.337880"
            ]
          },
          "metadata": {
            "tags": []
          },
          "execution_count": 137
        }
      ]
    },
    {
      "cell_type": "code",
      "metadata": {
        "id": "i6Td-NP1cBDa",
        "colab_type": "code",
        "colab": {}
      },
      "source": [
        "def lag_na_fill(data_set, var_name, past, season_var_mean_data):\n",
        "  for i in range(len(data_set)):\n",
        "    if (np.isnan(data_set['lag'+str(past)+'_'+var_name][i])):\n",
        "      data_set.loc[i, ['lag'+str(past)+'_'+var_name]] = (data_set['mean'+'_'+var_name][i] +\n",
        "       season_var_mean_data.loc[season_var_mean_data['year'] == (data_set['year'][i] - past),\n",
        "       'mean_' + var_name].iloc[0]) / 2\n",
        "  return (data_set)"
      ],
      "execution_count": 0,
      "outputs": []
    },
    {
      "cell_type": "code",
      "metadata": {
        "id": "AcXaDZWGc0gt",
        "colab_type": "code",
        "colab": {}
      },
      "source": [
        "sum_hf_yr_OBP = lag_na_fill(sum_hf_yr_OBP, 'OBP', 1, season_OBP_mean)\n",
        "sum_hf_yr_OBP = lag_na_fill(sum_hf_yr_OBP, 'OBP', 2, season_OBP_mean)\n",
        "sum_hf_yr_OBP = lag_na_fill(sum_hf_yr_OBP, 'OBP', 3, season_OBP_mean)"
      ],
      "execution_count": 0,
      "outputs": []
    },
    {
      "cell_type": "code",
      "metadata": {
        "id": "0Yy93NPKd2yB",
        "colab_type": "code",
        "colab": {
          "base_uri": "https://localhost:8080/",
          "height": 224
        },
        "outputId": "67841266-2d14-434c-ed96-8355e2d52f9c"
      },
      "source": [
        "sum_hf_yr_OBP.head()"
      ],
      "execution_count": 146,
      "outputs": [
        {
          "output_type": "execute_result",
          "data": {
            "text/html": [
              "<div>\n",
              "<style scoped>\n",
              "    .dataframe tbody tr th:only-of-type {\n",
              "        vertical-align: middle;\n",
              "    }\n",
              "\n",
              "    .dataframe tbody tr th {\n",
              "        vertical-align: top;\n",
              "    }\n",
              "\n",
              "    .dataframe thead th {\n",
              "        text-align: right;\n",
              "    }\n",
              "</style>\n",
              "<table border=\"1\" class=\"dataframe\">\n",
              "  <thead>\n",
              "    <tr style=\"text-align: right;\">\n",
              "      <th></th>\n",
              "      <th>batter_name</th>\n",
              "      <th>year</th>\n",
              "      <th>AB</th>\n",
              "      <th>OBP</th>\n",
              "      <th>age</th>\n",
              "      <th>lag1_OBP</th>\n",
              "      <th>lag2_OBP</th>\n",
              "      <th>lag3_OBP</th>\n",
              "      <th>mean_OBP</th>\n",
              "    </tr>\n",
              "  </thead>\n",
              "  <tbody>\n",
              "    <tr>\n",
              "      <th>0</th>\n",
              "      <td>가르시아</td>\n",
              "      <td>2018</td>\n",
              "      <td>85</td>\n",
              "      <td>0.418367</td>\n",
              "      <td>33</td>\n",
              "      <td>0.369982</td>\n",
              "      <td>0.375910</td>\n",
              "      <td>0.373119</td>\n",
              "      <td>0.383495</td>\n",
              "    </tr>\n",
              "    <tr>\n",
              "      <th>1</th>\n",
              "      <td>강경학</td>\n",
              "      <td>2011</td>\n",
              "      <td>1</td>\n",
              "      <td>0.000000</td>\n",
              "      <td>19</td>\n",
              "      <td>0.347434</td>\n",
              "      <td>0.348603</td>\n",
              "      <td>0.344259</td>\n",
              "      <td>0.337880</td>\n",
              "    </tr>\n",
              "    <tr>\n",
              "      <th>2</th>\n",
              "      <td>강경학</td>\n",
              "      <td>2014</td>\n",
              "      <td>0</td>\n",
              "      <td>1.000000</td>\n",
              "      <td>22</td>\n",
              "      <td>0.346682</td>\n",
              "      <td>0.337511</td>\n",
              "      <td>0.343131</td>\n",
              "      <td>0.337880</td>\n",
              "    </tr>\n",
              "    <tr>\n",
              "      <th>3</th>\n",
              "      <td>강경학</td>\n",
              "      <td>2015</td>\n",
              "      <td>156</td>\n",
              "      <td>0.342541</td>\n",
              "      <td>23</td>\n",
              "      <td>0.353425</td>\n",
              "      <td>0.346682</td>\n",
              "      <td>0.337511</td>\n",
              "      <td>0.337880</td>\n",
              "    </tr>\n",
              "    <tr>\n",
              "      <th>4</th>\n",
              "      <td>강경학</td>\n",
              "      <td>2016</td>\n",
              "      <td>81</td>\n",
              "      <td>0.222222</td>\n",
              "      <td>24</td>\n",
              "      <td>0.342541</td>\n",
              "      <td>0.353425</td>\n",
              "      <td>0.346682</td>\n",
              "      <td>0.337880</td>\n",
              "    </tr>\n",
              "  </tbody>\n",
              "</table>\n",
              "</div>"
            ],
            "text/plain": [
              "  batter_name  year   AB       OBP  age  lag1_OBP  lag2_OBP  lag3_OBP  mean_OBP\n",
              "0        가르시아  2018   85  0.418367   33  0.369982  0.375910  0.373119  0.383495\n",
              "1         강경학  2011    1  0.000000   19  0.347434  0.348603  0.344259  0.337880\n",
              "2         강경학  2014    0  1.000000   22  0.346682  0.337511  0.343131  0.337880\n",
              "3         강경학  2015  156  0.342541   23  0.353425  0.346682  0.337511  0.337880\n",
              "4         강경학  2016   81  0.222222   24  0.342541  0.353425  0.346682  0.337880"
            ]
          },
          "metadata": {
            "tags": []
          },
          "execution_count": 146
        }
      ]
    }
  ]
}