{
  "nbformat": 4,
  "nbformat_minor": 0,
  "metadata": {
    "kernelspec": {
      "name": "python3",
      "display_name": "Python 3"
    },
    "colab": {
      "name": "KBO_Batter_OPS_Estimate_MLP.ipynb",
      "provenance": [],
      "include_colab_link": true
    },
    "accelerator": "GPU"
  },
  "cells": [
    {
      "cell_type": "markdown",
      "metadata": {
        "id": "view-in-github",
        "colab_type": "text"
      },
      "source": [
        "<a href=\"https://colab.research.google.com/github/comojin1994/Machine_Learning/blob/master/Regression/KBO_Batter_OPS_Estimate_MLP.ipynb\" target=\"_parent\"><img src=\"https://colab.research.google.com/assets/colab-badge.svg\" alt=\"Open In Colab\"/></a>"
      ]
    },
    {
      "cell_type": "code",
      "metadata": {
        "id": "ZlVgseGYoB98",
        "colab_type": "code",
        "colab": {
          "base_uri": "https://localhost:8080/",
          "height": 122
        },
        "outputId": "a9d8534b-06ac-4ef1-8e58-f02daf1834d2"
      },
      "source": [
        "from google.colab import drive\n",
        "drive.mount('/content/drive')"
      ],
      "execution_count": 1,
      "outputs": [
        {
          "output_type": "stream",
          "text": [
            "Go to this URL in a browser: https://accounts.google.com/o/oauth2/auth?client_id=947318989803-6bn6qk8qdgf4n4g3pfee6491hc0brc4i.apps.googleusercontent.com&redirect_uri=urn%3aietf%3awg%3aoauth%3a2.0%3aoob&response_type=code&scope=email%20https%3a%2f%2fwww.googleapis.com%2fauth%2fdocs.test%20https%3a%2f%2fwww.googleapis.com%2fauth%2fdrive%20https%3a%2f%2fwww.googleapis.com%2fauth%2fdrive.photos.readonly%20https%3a%2f%2fwww.googleapis.com%2fauth%2fpeopleapi.readonly\n",
            "\n",
            "Enter your authorization code:\n",
            "··········\n",
            "Mounted at /content/drive\n"
          ],
          "name": "stdout"
        }
      ]
    },
    {
      "cell_type": "code",
      "metadata": {
        "id": "YcWb5HMMoE8U",
        "colab_type": "code",
        "colab": {
          "base_uri": "https://localhost:8080/",
          "height": 34
        },
        "outputId": "bb804057-474a-40da-f3e9-73f78026bee6"
      },
      "source": [
        "%cd ./drive/My\\ Drive/Colab Notebooks"
      ],
      "execution_count": 2,
      "outputs": [
        {
          "output_type": "stream",
          "text": [
            "/content/drive/My Drive/Colab Notebooks\n"
          ],
          "name": "stdout"
        }
      ]
    },
    {
      "cell_type": "code",
      "metadata": {
        "id": "kAALqQ-9oPOn",
        "colab_type": "code",
        "colab": {
          "base_uri": "https://localhost:8080/",
          "height": 272
        },
        "outputId": "32f1cf1c-0817-4b43-c660-1910f01cdc4a"
      },
      "source": [
        "!ls"
      ],
      "execution_count": 3,
      "outputs": [
        {
          "output_type": "stream",
          "text": [
            " 회귀해석_교수님과제2.ipynb\t\t    pre_models\n",
            " 회귀해석_6주차_A.ipynb\t\t\t    review_data\n",
            "'Chapter 05 - 실전 웹 크롤링_After.ipynb'   sentiment\n",
            " Colab_MeCab_tutorial.ipynb\t\t    Sentiment_BOW.ipynb\n",
            "'Colab Notebooks.zip'\t\t\t    Sentiment_CNN.ipynb\n",
            " crop.data.csv\t\t\t\t    Sentiment_CNN_PretrainTest.ipynb\n",
            " Data\t\t\t\t\t    Sentiment_RNN.ipynb\n",
            " EDA.ipynb\t\t\t\t    Sentiment_RNN_PretrainTest.ipynb\n",
            "'Job proficiency data.csv'\t\t    sentiment_vader.ipynb\n",
            " KBO_Batter_OPS_Estimate_MLP.ipynb\t    sonny_cnn\n",
            " mathematical_statistics2_project.ipynb     wiki\n",
            " model\t\t\t\t\t    Word2Vec_Wiki.ipynb\n",
            " nng.csv\t\t\t\t    Word2Vec_Wiki_Pretrain.ipynb\n",
            " nsm\t\t\t\t\t    word_count_sample_en.ipynb\n",
            " pizza_bot\t\t\t\t    word_count_sample_ko.ipynb\n"
          ],
          "name": "stdout"
        }
      ]
    },
    {
      "cell_type": "code",
      "metadata": {
        "id": "Y28bkU8MoAPj",
        "colab_type": "code",
        "colab": {
          "base_uri": "https://localhost:8080/",
          "height": 71
        },
        "outputId": "137bc65d-67d7-4999-db2d-829bbad8677e"
      },
      "source": [
        "from statsmodels.stats.outliers_influence import variance_inflation_factor\n",
        "from sklearn.model_selection import train_test_split\n",
        "from sklearn.metrics import mean_squared_error\n",
        "from sklearn import metrics\n",
        "\n",
        "import os, time, itertools\n",
        "import pandas as pd\n",
        "import numpy as np\n",
        "import statsmodels.api as sm\n",
        "import matplotlib.pyplot as plt\n",
        "import seaborn as sns\n",
        "import tensorflow as tf\n",
        "%matplotlib inline"
      ],
      "execution_count": 4,
      "outputs": [
        {
          "output_type": "stream",
          "text": [
            "/usr/local/lib/python3.6/dist-packages/statsmodels/tools/_testing.py:19: FutureWarning: pandas.util.testing is deprecated. Use the functions in the public API at pandas.testing instead.\n",
            "  import pandas.util.testing as tm\n"
          ],
          "name": "stderr"
        }
      ]
    },
    {
      "cell_type": "markdown",
      "metadata": {
        "id": "m-GhutDuoAPn",
        "colab_type": "text"
      },
      "source": [
        "#### 경로확인 "
      ]
    },
    {
      "cell_type": "code",
      "metadata": {
        "id": "J6wZHRJroAPn",
        "colab_type": "code",
        "colab": {
          "base_uri": "https://localhost:8080/",
          "height": 34
        },
        "outputId": "6ceb465b-b24a-4911-9a9c-5fa2e7b73032"
      },
      "source": [
        "os.getcwd()"
      ],
      "execution_count": 5,
      "outputs": [
        {
          "output_type": "execute_result",
          "data": {
            "text/plain": [
              "'/content/drive/My Drive/Colab Notebooks'"
            ]
          },
          "metadata": {
            "tags": []
          },
          "execution_count": 5
        }
      ]
    },
    {
      "cell_type": "markdown",
      "metadata": {
        "id": "NYswAnaroAPr",
        "colab_type": "text"
      },
      "source": [
        "#### 데이터 준비 "
      ]
    },
    {
      "cell_type": "code",
      "metadata": {
        "id": "kJ-KaX8goAPr",
        "colab_type": "code",
        "colab": {}
      },
      "source": [
        "batter = pd.read_csv('./Data/Regular_Season_Batter.csv')\n",
        "\n",
        "batter['Age'] = batter['year'] - batter['year_born'].apply(lambda x: int(x[:4]))\n",
        "\n",
        "batter['height/weight'] = batter['height/weight'].fillna('0cm/0kg')\n",
        "\n",
        "batter['height'] = batter['height/weight'].apply(lambda x: int(x.split('/')[0][:-2]))\n",
        "batter['weight'] = batter['height/weight'].apply(lambda x: int(x.split('/')[1][:-2]))\n",
        "\n",
        "mean_h = np.mean(batter['height'][batter['height'] != 0])\n",
        "mean_w = np.mean(batter['weight'][batter['weight'] != 0])\n",
        "\n",
        "batter['height'] = batter['height'].apply(lambda x: mean_h if x == 0 else x)\n",
        "batter['weight'] = batter['weight'].apply(lambda x: mean_w if x == 0 else x)\n",
        "\n",
        "batter = batter[batter['AB'] >= 396]\n",
        "\n",
        "batter = batter.drop(1935, axis = 0)\n",
        "\n",
        "batter_conti = batter.drop(['batter_id', 'year', 'year_born', 'batter_name',\n",
        "                            'team', 'position', 'career', 'starting_salary', 'height/weight'], axis=1)"
      ],
      "execution_count": 6,
      "outputs": []
    },
    {
      "cell_type": "markdown",
      "metadata": {
        "id": "GaBH3vDGoAPt",
        "colab_type": "text"
      },
      "source": [
        "#### Target 분리 "
      ]
    },
    {
      "cell_type": "code",
      "metadata": {
        "id": "b8zYY9eZoAPu",
        "colab_type": "code",
        "colab": {}
      },
      "source": [
        "target_OPS = batter_conti['OPS']\n",
        "\n",
        "batter_conti_ = batter_conti.drop(['avg', 'OPS', 'SLG', 'OBP'], axis=1)\n",
        "batter_conti_1 = sm.add_constant(batter_conti_, has_constant='add')"
      ],
      "execution_count": 7,
      "outputs": []
    },
    {
      "cell_type": "markdown",
      "metadata": {
        "id": "EpM_Nw7NoAPw",
        "colab_type": "text"
      },
      "source": [
        "#### 학습데이터 / 평가데이터 분할"
      ]
    },
    {
      "cell_type": "code",
      "metadata": {
        "id": "6G673fq5oAPw",
        "colab_type": "code",
        "colab": {
          "base_uri": "https://localhost:8080/",
          "height": 34
        },
        "outputId": "7ca23a3b-3790-43c4-de4a-e94e9f83862b"
      },
      "source": [
        "feature_columns = list(batter_conti_1.columns)\n",
        "\n",
        "X = batter_conti_1[feature_columns]\n",
        "y = target_OPS\n",
        "train_x, test_x, train_y, test_y = train_test_split(X, y, train_size=0.7, test_size=0.3)\n",
        "train_x.shape, test_x.shape, train_y.shape, test_y.shape"
      ],
      "execution_count": 8,
      "outputs": [
        {
          "output_type": "execute_result",
          "data": {
            "text/plain": [
              "((332, 20), (143, 20), (332,), (143,))"
            ]
          },
          "metadata": {
            "tags": []
          },
          "execution_count": 8
        }
      ]
    },
    {
      "cell_type": "markdown",
      "metadata": {
        "id": "dwQn2MiMoAPy",
        "colab_type": "text"
      },
      "source": [
        "### Baseline (Full) 모델 적합 "
      ]
    },
    {
      "cell_type": "code",
      "metadata": {
        "id": "aMAs41LyoAPz",
        "colab_type": "code",
        "colab": {
          "base_uri": "https://localhost:8080/",
          "height": 782
        },
        "outputId": "ea9a58ce-6b63-47e9-d0ca-edf06de53200"
      },
      "source": [
        "full_model = sm.OLS(train_y, train_x)\n",
        "fitted_full_model = full_model.fit()\n",
        "print(fitted_full_model.summary())"
      ],
      "execution_count": 9,
      "outputs": [
        {
          "output_type": "stream",
          "text": [
            "                            OLS Regression Results                            \n",
            "==============================================================================\n",
            "Dep. Variable:                    OPS   R-squared:                       0.992\n",
            "Model:                            OLS   Adj. R-squared:                  0.991\n",
            "Method:                 Least Squares   F-statistic:                     2132.\n",
            "Date:                Sun, 21 Jun 2020   Prob (F-statistic):          4.28e-315\n",
            "Time:                        08:18:32   Log-Likelihood:                 1066.3\n",
            "No. Observations:                 332   AIC:                            -2095.\n",
            "Df Residuals:                     313   BIC:                            -2022.\n",
            "Df Model:                          18                                         \n",
            "Covariance Type:            nonrobust                                         \n",
            "==============================================================================\n",
            "                 coef    std err          t      P>|t|      [0.025      0.975]\n",
            "------------------------------------------------------------------------------\n",
            "const          0.8011      0.031     25.508      0.000       0.739       0.863\n",
            "G             -0.0003      0.000     -3.283      0.001      -0.001      -0.000\n",
            "AB            -0.0017   3.26e-05    -53.094      0.000      -0.002      -0.002\n",
            "R           5.165e-05   6.73e-05      0.767      0.444   -8.09e-05       0.000\n",
            "H              0.0021   8.21e-05     24.975      0.000       0.002       0.002\n",
            "2B         -1.714e-05      0.000     -0.160      0.873      -0.000       0.000\n",
            "3B            -0.0004      0.000     -1.895      0.059      -0.001    1.58e-05\n",
            "HR             0.0003      0.000      2.640      0.009    7.38e-05       0.001\n",
            "TB             0.0021   5.34e-05     38.929      0.000       0.002       0.002\n",
            "RBI        -8.712e-05   5.67e-05     -1.536      0.125      -0.000    2.45e-05\n",
            "SB         -6.557e-06   6.96e-05     -0.094      0.925      -0.000       0.000\n",
            "CS             0.0004      0.000      1.810      0.071   -3.46e-05       0.001\n",
            "BB             0.0013   4.19e-05     30.051      0.000       0.001       0.001\n",
            "HBP            0.0014      0.000     11.002      0.000       0.001       0.002\n",
            "SO          9.556e-06   3.17e-05      0.301      0.763   -5.29e-05     7.2e-05\n",
            "GDP            0.0006      0.000      3.579      0.000       0.000       0.001\n",
            "E             -0.0001      0.000     -1.145      0.253      -0.000     9.4e-05\n",
            "Age           -0.0002      0.000     -1.298      0.195      -0.001       0.000\n",
            "height         0.0005      0.000      2.886      0.004       0.000       0.001\n",
            "weight        -0.0002   7.98e-05     -2.844      0.005      -0.000      -7e-05\n",
            "==============================================================================\n",
            "Omnibus:                       20.039   Durbin-Watson:                   1.866\n",
            "Prob(Omnibus):                  0.000   Jarque-Bera (JB):               50.388\n",
            "Skew:                           0.217   Prob(JB):                     1.14e-11\n",
            "Kurtosis:                       4.858   Cond. No.                     4.61e+16\n",
            "==============================================================================\n",
            "\n",
            "Warnings:\n",
            "[1] Standard Errors assume that the covariance matrix of the errors is correctly specified.\n",
            "[2] The smallest eigenvalue is 5.61e-26. This might indicate that there are\n",
            "strong multicollinearity problems or that the design matrix is singular.\n"
          ],
          "name": "stdout"
        }
      ]
    },
    {
      "cell_type": "markdown",
      "metadata": {
        "id": "UmNDSy_FoAP1",
        "colab_type": "text"
      },
      "source": [
        "### 단계적 선택법을 통한 모델 적합"
      ]
    },
    {
      "cell_type": "code",
      "metadata": {
        "id": "GnoivQh7oAP2",
        "colab_type": "code",
        "colab": {}
      },
      "source": [
        "def processSubset(X, y, feature_set):\n",
        "    model = sm.OLS(y, X[list(feature_set)])\n",
        "    regr = model.fit()\n",
        "    AIC = regr.aic\n",
        "    return {'model': regr, 'AIC': AIC}\n",
        "\n",
        "def getBest(X, y, k):\n",
        "    tic = time.time() # 시작시간\n",
        "    results = [] # 결과 저장공간\n",
        "    for combo in itertools.combinations(X.columns.difference(['const']), k): # 각 변수조합을 고려한 경우의 수\n",
        "        combo = (list(combo) + ['const'])\n",
        "        \n",
        "        results.append(processSubset(X, y, feature_set=combo)) # 모델링된 것들을 저장\n",
        "    models = pd.DataFrame(results)\n",
        "    # 가장 낮은 AIC를 가지는 모델 선택 및 저장\n",
        "    best_model = models.loc[models['AIC'].argmin()]\n",
        "    toc = time.time()\n",
        "    print('Processed', models.shape[0], 'models on', k, 'predictors in', (toc - tic), 'seconds')\n",
        "    return best_model\n",
        "\n",
        "def forward(X, y, predictors):\n",
        "    # 데이터 변수들이 미리정의된 predictors에 있는지 없는지 확인 및 분류\n",
        "    remaining_predictors = [p for p in X.columns.difference(['const']) if p not in predictors]\n",
        "    tic = time.time()\n",
        "    results = []\n",
        "    for p in remaining_predictors:\n",
        "        results.append(processSubset(X=X, y= y, feature_set=predictors+[p]+['const']))\n",
        "    # 데이터프레임으로 변환\n",
        "    models = pd.DataFrame(results)\n",
        "\n",
        "    # AIC가 가장 낮은 것을 선택\n",
        "    best_model = models.loc[models['AIC'].argmin()] # index\n",
        "    toc = time.time()\n",
        "    print(\"Processed \", models.shape[0], \"models on\", len(predictors)+1, \"predictors in\", (toc-tic))\n",
        "    print('Selected predictors:',best_model['model'].model.exog_names,' AIC:',best_model[0] )\n",
        "    return best_model\n",
        "\n",
        "def backward(X,y,predictors):\n",
        "    tic = time.time()\n",
        "    results = []\n",
        "    # 데이터 변수들이 미리정의된 predictors 조합 확인\n",
        "    for combo in itertools.combinations(predictors, len(predictors) - 1):\n",
        "        results.append(processSubset(X=X, y= y,feature_set=list(combo)+['const']))\n",
        "    models = pd.DataFrame(results)\n",
        "    # 가장 낮은 AIC를 가진 모델을 선택\n",
        "    best_model = models.loc[models['AIC'].argmin()]\n",
        "    toc = time.time()\n",
        "    print(\"Processed \", models.shape[0], \"models on\", len(predictors) - 1, \"predictors in\",\n",
        "          (toc - tic))\n",
        "    print('Selected predictors:',best_model['model'].model.exog_names,' AIC:',best_model[0] )\n",
        "    return best_model\n",
        "\n",
        "def Stepwise_model(X, y):\n",
        "    Stepmodels = pd.DataFrame(columns=['AIC', 'model'])\n",
        "    tic = time.time()\n",
        "    predictors = []\n",
        "    Smodel_before = processSubset(X, y, predictors+['const'])['AIC']\n",
        "    # 변수 1~10개 : 0~9 -> 1~10\n",
        "    for i in range(1, len(X.columns.difference(['const']))+1):\n",
        "        Forward_result = forward(X=X, y=y, predictors=predictors)\n",
        "        print('forward')\n",
        "        Stepmodels.loc[i] = Forward_result\n",
        "        predictors = Stepmodels.loc[i]['model'].model.exog_names\n",
        "        predictors = [k for k in predictors if k != 'const']\n",
        "        Backward_result = backward(X=X, y=y, predictors=predictors)\n",
        "        if Backward_result['AIC'] < Forward_result['AIC']:\n",
        "            Stepmodels.loc[i] = Backward_result\n",
        "            predictors = Stepmodels.loc[i]['model'].model.exog_names\n",
        "            Smodel_before = Stepmodels.loc[i]['AIC']\n",
        "            predictors = [k for k in predictors if k != 'const']\n",
        "            print('backward')\n",
        "        if Stepmodels.loc[i]['AIC'] > Smodel_before: break\n",
        "        else: Smodel_before = Stepmodels.loc[i]['AIC']\n",
        "        \n",
        "    toc = time.time()\n",
        "    print('Total elapsed time:', (toc - tic), 'seconds')\n",
        "    \n",
        "    return (Stepmodels['model'][len(Stepmodels['model'])])"
      ],
      "execution_count": 10,
      "outputs": []
    },
    {
      "cell_type": "code",
      "metadata": {
        "scrolled": true,
        "id": "UfFXTxjzoAP4",
        "colab_type": "code",
        "colab": {
          "base_uri": "https://localhost:8080/",
          "height": 1000
        },
        "outputId": "27b2f630-93b9-4ffe-cc95-2cf6ab73c827"
      },
      "source": [
        "Stepwise_best_model = Stepwise_model(X=X, y=y)"
      ],
      "execution_count": 11,
      "outputs": [
        {
          "output_type": "stream",
          "text": [
            "Processed  19 models on 1 predictors in 0.04106020927429199\n",
            "Selected predictors: ['TB', 'const']  AIC: <statsmodels.regression.linear_model.RegressionResultsWrapper object at 0x7f079bf75518>\n",
            "forward\n",
            "Processed  1 models on 0 predictors in 0.0038576126098632812\n",
            "Selected predictors: ['const']  AIC: <statsmodels.regression.linear_model.RegressionResultsWrapper object at 0x7f079bfd6908>\n",
            "Processed  18 models on 2 predictors in 0.03600621223449707\n",
            "Selected predictors: ['TB', 'AB', 'const']  AIC: <statsmodels.regression.linear_model.RegressionResultsWrapper object at 0x7f079bfd6b00>\n",
            "forward\n",
            "Processed  2 models on 1 predictors in 0.00787043571472168\n",
            "Selected predictors: ['TB', 'const']  AIC: <statsmodels.regression.linear_model.RegressionResultsWrapper object at 0x7f079d3372b0>\n",
            "Processed  17 models on 3 predictors in 0.037278175354003906\n",
            "Selected predictors: ['TB', 'AB', 'H', 'const']  AIC: <statsmodels.regression.linear_model.RegressionResultsWrapper object at 0x7f079bfd6ef0>\n",
            "forward\n",
            "Processed  3 models on 2 predictors in 0.008221864700317383\n",
            "Selected predictors: ['TB', 'AB', 'const']  AIC: <statsmodels.regression.linear_model.RegressionResultsWrapper object at 0x7f079bfd6d30>\n",
            "Processed  16 models on 4 predictors in 0.033161163330078125\n",
            "Selected predictors: ['TB', 'AB', 'H', 'BB', 'const']  AIC: <statsmodels.regression.linear_model.RegressionResultsWrapper object at 0x7f079bfd6470>\n",
            "forward\n",
            "Processed  4 models on 3 predictors in 0.010261297225952148\n",
            "Selected predictors: ['TB', 'AB', 'H', 'const']  AIC: <statsmodels.regression.linear_model.RegressionResultsWrapper object at 0x7f079d337f98>\n",
            "Processed  15 models on 5 predictors in 0.034131765365600586\n",
            "Selected predictors: ['TB', 'AB', 'H', 'BB', 'HBP', 'const']  AIC: <statsmodels.regression.linear_model.RegressionResultsWrapper object at 0x7f079bf75748>\n",
            "forward\n",
            "Processed  5 models on 4 predictors in 0.013340950012207031\n",
            "Selected predictors: ['TB', 'AB', 'H', 'BB', 'const']  AIC: <statsmodels.regression.linear_model.RegressionResultsWrapper object at 0x7f079bfd6da0>\n",
            "Processed  14 models on 6 predictors in 0.028641462326049805\n",
            "Selected predictors: ['TB', 'AB', 'H', 'BB', 'HBP', 'G', 'const']  AIC: <statsmodels.regression.linear_model.RegressionResultsWrapper object at 0x7f079d337f98>\n",
            "forward\n",
            "Processed  6 models on 5 predictors in 0.01286625862121582\n",
            "Selected predictors: ['TB', 'AB', 'H', 'BB', 'HBP', 'const']  AIC: <statsmodels.regression.linear_model.RegressionResultsWrapper object at 0x7f079cff9da0>\n",
            "Processed  13 models on 7 predictors in 0.02696084976196289\n",
            "Selected predictors: ['TB', 'AB', 'H', 'BB', 'HBP', 'G', 'RBI', 'const']  AIC: <statsmodels.regression.linear_model.RegressionResultsWrapper object at 0x7f079d337240>\n",
            "forward\n",
            "Processed  7 models on 6 predictors in 0.01618790626525879\n",
            "Selected predictors: ['TB', 'AB', 'H', 'BB', 'HBP', 'G', 'const']  AIC: <statsmodels.regression.linear_model.RegressionResultsWrapper object at 0x7f079d337710>\n",
            "Processed  12 models on 8 predictors in 0.026595115661621094\n",
            "Selected predictors: ['TB', 'AB', 'H', 'BB', 'HBP', 'G', 'RBI', 'GDP', 'const']  AIC: <statsmodels.regression.linear_model.RegressionResultsWrapper object at 0x7f079cff9668>\n",
            "forward\n",
            "Processed  8 models on 7 predictors in 0.01671433448791504\n",
            "Selected predictors: ['TB', 'AB', 'H', 'BB', 'HBP', 'G', 'RBI', 'const']  AIC: <statsmodels.regression.linear_model.RegressionResultsWrapper object at 0x7f079cff9550>\n",
            "Processed  11 models on 9 predictors in 0.023721694946289062\n",
            "Selected predictors: ['TB', 'AB', 'H', 'BB', 'HBP', 'G', 'RBI', 'GDP', 'CS', 'const']  AIC: <statsmodels.regression.linear_model.RegressionResultsWrapper object at 0x7f079cff9da0>\n",
            "forward\n",
            "Processed  9 models on 8 predictors in 0.02509593963623047\n",
            "Selected predictors: ['TB', 'AB', 'H', 'BB', 'HBP', 'G', 'RBI', 'GDP', 'const']  AIC: <statsmodels.regression.linear_model.RegressionResultsWrapper object at 0x7f079d3372b0>\n",
            "Processed  10 models on 10 predictors in 0.022150039672851562\n",
            "Selected predictors: ['TB', 'AB', 'H', 'BB', 'HBP', 'G', 'RBI', 'GDP', 'CS', 'height', 'const']  AIC: <statsmodels.regression.linear_model.RegressionResultsWrapper object at 0x7f079bfd62e8>\n",
            "forward\n",
            "Processed  10 models on 9 predictors in 0.02301168441772461\n",
            "Selected predictors: ['TB', 'AB', 'H', 'BB', 'HBP', 'G', 'RBI', 'GDP', 'CS', 'const']  AIC: <statsmodels.regression.linear_model.RegressionResultsWrapper object at 0x7f079d295588>\n",
            "Processed  9 models on 11 predictors in 0.02120232582092285\n",
            "Selected predictors: ['TB', 'AB', 'H', 'BB', 'HBP', 'G', 'RBI', 'GDP', 'CS', 'height', 'weight', 'const']  AIC: <statsmodels.regression.linear_model.RegressionResultsWrapper object at 0x7f079bfd6748>\n",
            "forward\n",
            "Processed  11 models on 10 predictors in 0.023140907287597656\n",
            "Selected predictors: ['TB', 'AB', 'H', 'BB', 'HBP', 'G', 'RBI', 'GDP', 'height', 'weight', 'const']  AIC: <statsmodels.regression.linear_model.RegressionResultsWrapper object at 0x7f079cff9c88>\n",
            "backward\n",
            "Processed  9 models on 11 predictors in 0.01959514617919922\n",
            "Selected predictors: ['TB', 'AB', 'H', 'BB', 'HBP', 'G', 'RBI', 'GDP', 'height', 'weight', 'CS', 'const']  AIC: <statsmodels.regression.linear_model.RegressionResultsWrapper object at 0x7f079d337908>\n",
            "forward\n",
            "Processed  11 models on 10 predictors in 0.02541828155517578\n",
            "Selected predictors: ['TB', 'AB', 'H', 'BB', 'HBP', 'G', 'RBI', 'GDP', 'height', 'weight', 'const']  AIC: <statsmodels.regression.linear_model.RegressionResultsWrapper object at 0x7f079cff9cf8>\n",
            "backward\n",
            "Processed  9 models on 11 predictors in 0.022890806198120117\n",
            "Selected predictors: ['TB', 'AB', 'H', 'BB', 'HBP', 'G', 'RBI', 'GDP', 'height', 'weight', 'CS', 'const']  AIC: <statsmodels.regression.linear_model.RegressionResultsWrapper object at 0x7f079bfd6be0>\n",
            "forward\n",
            "Processed  11 models on 10 predictors in 0.030855178833007812\n",
            "Selected predictors: ['TB', 'AB', 'H', 'BB', 'HBP', 'G', 'RBI', 'GDP', 'height', 'weight', 'const']  AIC: <statsmodels.regression.linear_model.RegressionResultsWrapper object at 0x7f079d3379b0>\n",
            "backward\n",
            "Processed  9 models on 11 predictors in 0.0230100154876709\n",
            "Selected predictors: ['TB', 'AB', 'H', 'BB', 'HBP', 'G', 'RBI', 'GDP', 'height', 'weight', 'CS', 'const']  AIC: <statsmodels.regression.linear_model.RegressionResultsWrapper object at 0x7f07db56a3c8>\n",
            "forward\n",
            "Processed  11 models on 10 predictors in 0.024225711822509766\n",
            "Selected predictors: ['TB', 'AB', 'H', 'BB', 'HBP', 'G', 'RBI', 'GDP', 'height', 'weight', 'const']  AIC: <statsmodels.regression.linear_model.RegressionResultsWrapper object at 0x7f079bfd6fd0>\n",
            "backward\n",
            "Processed  9 models on 11 predictors in 0.020533323287963867\n",
            "Selected predictors: ['TB', 'AB', 'H', 'BB', 'HBP', 'G', 'RBI', 'GDP', 'height', 'weight', 'CS', 'const']  AIC: <statsmodels.regression.linear_model.RegressionResultsWrapper object at 0x7f079bfd6588>\n",
            "forward\n",
            "Processed  11 models on 10 predictors in 0.029138565063476562\n",
            "Selected predictors: ['TB', 'AB', 'H', 'BB', 'HBP', 'G', 'RBI', 'GDP', 'height', 'weight', 'const']  AIC: <statsmodels.regression.linear_model.RegressionResultsWrapper object at 0x7f079bfd67b8>\n",
            "backward\n",
            "Processed  9 models on 11 predictors in 0.020412921905517578\n",
            "Selected predictors: ['TB', 'AB', 'H', 'BB', 'HBP', 'G', 'RBI', 'GDP', 'height', 'weight', 'CS', 'const']  AIC: <statsmodels.regression.linear_model.RegressionResultsWrapper object at 0x7f079bfd66d8>\n",
            "forward\n",
            "Processed  11 models on 10 predictors in 0.0319218635559082\n",
            "Selected predictors: ['TB', 'AB', 'H', 'BB', 'HBP', 'G', 'RBI', 'GDP', 'height', 'weight', 'const']  AIC: <statsmodels.regression.linear_model.RegressionResultsWrapper object at 0x7f079bfd6780>\n",
            "backward\n",
            "Processed  9 models on 11 predictors in 0.02727222442626953\n",
            "Selected predictors: ['TB', 'AB', 'H', 'BB', 'HBP', 'G', 'RBI', 'GDP', 'height', 'weight', 'CS', 'const']  AIC: <statsmodels.regression.linear_model.RegressionResultsWrapper object at 0x7f079bfd60f0>\n",
            "forward\n",
            "Processed  11 models on 10 predictors in 0.025626420974731445\n",
            "Selected predictors: ['TB', 'AB', 'H', 'BB', 'HBP', 'G', 'RBI', 'GDP', 'height', 'weight', 'const']  AIC: <statsmodels.regression.linear_model.RegressionResultsWrapper object at 0x7f079bfd6d68>\n",
            "backward\n",
            "Processed  9 models on 11 predictors in 0.020488262176513672\n",
            "Selected predictors: ['TB', 'AB', 'H', 'BB', 'HBP', 'G', 'RBI', 'GDP', 'height', 'weight', 'CS', 'const']  AIC: <statsmodels.regression.linear_model.RegressionResultsWrapper object at 0x7f079bfd6c88>\n",
            "forward\n",
            "Processed  11 models on 10 predictors in 0.023931503295898438\n",
            "Selected predictors: ['TB', 'AB', 'H', 'BB', 'HBP', 'G', 'RBI', 'GDP', 'height', 'weight', 'const']  AIC: <statsmodels.regression.linear_model.RegressionResultsWrapper object at 0x7f079bfd6e10>\n",
            "backward\n",
            "Processed  9 models on 11 predictors in 0.020354509353637695\n",
            "Selected predictors: ['TB', 'AB', 'H', 'BB', 'HBP', 'G', 'RBI', 'GDP', 'height', 'weight', 'CS', 'const']  AIC: <statsmodels.regression.linear_model.RegressionResultsWrapper object at 0x7f079bfca7b8>\n",
            "forward\n",
            "Processed  11 models on 10 predictors in 0.023910999298095703\n",
            "Selected predictors: ['TB', 'AB', 'H', 'BB', 'HBP', 'G', 'RBI', 'GDP', 'height', 'weight', 'const']  AIC: <statsmodels.regression.linear_model.RegressionResultsWrapper object at 0x7f079cff9e48>\n",
            "backward\n",
            "Total elapsed time: 1.075927734375 seconds\n"
          ],
          "name": "stdout"
        }
      ]
    },
    {
      "cell_type": "code",
      "metadata": {
        "id": "XSZbT1VmoAP6",
        "colab_type": "code",
        "colab": {
          "base_uri": "https://localhost:8080/",
          "height": 629
        },
        "outputId": "fa17361c-fe67-4c59-af93-9bce0f8a5261"
      },
      "source": [
        "print(Stepwise_best_model.summary())"
      ],
      "execution_count": 12,
      "outputs": [
        {
          "output_type": "stream",
          "text": [
            "                            OLS Regression Results                            \n",
            "==============================================================================\n",
            "Dep. Variable:                    OPS   R-squared:                       0.992\n",
            "Model:                            OLS   Adj. R-squared:                  0.992\n",
            "Method:                 Least Squares   F-statistic:                     5893.\n",
            "Date:                Sun, 21 Jun 2020   Prob (F-statistic):               0.00\n",
            "Time:                        08:18:33   Log-Likelihood:                 1545.2\n",
            "No. Observations:                 475   AIC:                            -3068.\n",
            "Df Residuals:                     464   BIC:                            -3023.\n",
            "Df Model:                          10                                         \n",
            "Covariance Type:            nonrobust                                         \n",
            "==============================================================================\n",
            "                 coef    std err          t      P>|t|      [0.025      0.975]\n",
            "------------------------------------------------------------------------------\n",
            "TB             0.0022   2.83e-05     77.551      0.000       0.002       0.002\n",
            "AB            -0.0017   2.22e-05    -76.370      0.000      -0.002      -0.002\n",
            "H              0.0019   4.66e-05     40.777      0.000       0.002       0.002\n",
            "BB             0.0013   3.02e-05     42.164      0.000       0.001       0.001\n",
            "HBP            0.0015   9.82e-05     14.961      0.000       0.001       0.002\n",
            "G             -0.0004   7.79e-05     -5.238      0.000      -0.001      -0.000\n",
            "RBI           -0.0001    4.2e-05     -2.949      0.003      -0.000   -4.13e-05\n",
            "GDP            0.0004      0.000      3.841      0.000       0.000       0.001\n",
            "height         0.0004      0.000      3.154      0.002       0.000       0.001\n",
            "weight        -0.0002   5.82e-05     -3.215      0.001      -0.000   -7.27e-05\n",
            "const          0.8098      0.023     35.783      0.000       0.765       0.854\n",
            "==============================================================================\n",
            "Omnibus:                       32.888   Durbin-Watson:                   1.749\n",
            "Prob(Omnibus):                  0.000   Jarque-Bera (JB):              121.942\n",
            "Skew:                           0.110   Prob(JB):                     3.32e-27\n",
            "Kurtosis:                       5.472   Cond. No.                     3.05e+04\n",
            "==============================================================================\n",
            "\n",
            "Warnings:\n",
            "[1] Standard Errors assume that the covariance matrix of the errors is correctly specified.\n",
            "[2] The condition number is large, 3.05e+04. This might indicate that there are\n",
            "strong multicollinearity or other numerical problems.\n"
          ],
          "name": "stdout"
        }
      ]
    },
    {
      "cell_type": "code",
      "metadata": {
        "id": "H9b5ae5_oAP7",
        "colab_type": "code",
        "colab": {
          "base_uri": "https://localhost:8080/",
          "height": 51
        },
        "outputId": "8de4c6d6-3a00-418c-9861-33675c222ed3"
      },
      "source": [
        "mse_full = metrics.mean_squared_error(test_y, fitted_full_model.predict(test_x))\n",
        "mse_step = metrics.mean_squared_error(test_y, Stepwise_best_model.predict(test_x[Stepwise_best_model.model.exog_names]))\n",
        "print(f'mse_full: {mse_full}')\n",
        "print(f'mse_Stepwise: {mse_step}')"
      ],
      "execution_count": 13,
      "outputs": [
        {
          "output_type": "stream",
          "text": [
            "mse_full: 7.013323411716015e-05\n",
            "mse_Stepwise: 6.12070102894782e-05\n"
          ],
          "name": "stdout"
        }
      ]
    },
    {
      "cell_type": "markdown",
      "metadata": {
        "id": "Fa0zoKONoAP9",
        "colab_type": "text"
      },
      "source": [
        "# MLP 모델 적합"
      ]
    },
    {
      "cell_type": "code",
      "metadata": {
        "id": "g4ZJr4HNoAP-",
        "colab_type": "code",
        "colab": {}
      },
      "source": [
        "import tensorflow as tf\n",
        "from tensorflow.keras.layers import *"
      ],
      "execution_count": 62,
      "outputs": []
    },
    {
      "cell_type": "markdown",
      "metadata": {
        "id": "8zkNd4JwoAQA",
        "colab_type": "text"
      },
      "source": [
        "## Hyperparameter "
      ]
    },
    {
      "cell_type": "code",
      "metadata": {
        "id": "1lLt03Z9AEeJ",
        "colab_type": "code",
        "colab": {}
      },
      "source": [
        "num_epochs = 1000\n",
        "batch_size = 2"
      ],
      "execution_count": 63,
      "outputs": []
    },
    {
      "cell_type": "markdown",
      "metadata": {
        "id": "8YuV81lcoAQC",
        "colab_type": "text"
      },
      "source": [
        "## Model "
      ]
    },
    {
      "cell_type": "code",
      "metadata": {
        "id": "5XCuq0NSoAQC",
        "colab_type": "code",
        "colab": {}
      },
      "source": [
        "class MLP(tf.keras.Model):\n",
        "    def __init__(self):\n",
        "        super(MLP, self).__init__()\n",
        "        self.dense1 = Dense(1024, activation='relu')\n",
        "        self.bn1 = BatchNormalization()\n",
        "        self.dense2 = Dense(1024, activation='relu')\n",
        "        self.bn2 = BatchNormalization()\n",
        "        self.dense3 = Dense(19, activation='relu')\n",
        "        self.dense4 = Dense(1)\n",
        "        \n",
        "    def call(self, x, training=False):\n",
        "        x = self.dense1(x)\n",
        "        x = self.bn1(x, training=training)\n",
        "        x = tf.keras.layers.Dropout(.5)(x, training=training)\n",
        "        x = self.dense2(x)\n",
        "        x = self.bn2(x, training=training)\n",
        "        x = tf.keras.layers.Dropout(.5)(x, training=training)\n",
        "        x = self.dense3(x)\n",
        "        x = self.dense4(x)\n",
        "        return x"
      ],
      "execution_count": 64,
      "outputs": []
    },
    {
      "cell_type": "code",
      "metadata": {
        "id": "xKCq_RQjoAQE",
        "colab_type": "code",
        "colab": {
          "base_uri": "https://localhost:8080/",
          "height": 34
        },
        "outputId": "95dc8d97-8f69-48f4-be52-ff21ed946fda"
      },
      "source": [
        "train_x.shape, train_y.shape"
      ],
      "execution_count": 65,
      "outputs": [
        {
          "output_type": "execute_result",
          "data": {
            "text/plain": [
              "((332, 20), (332,))"
            ]
          },
          "metadata": {
            "tags": []
          },
          "execution_count": 65
        }
      ]
    },
    {
      "cell_type": "code",
      "metadata": {
        "id": "xmchonM_oAQG",
        "colab_type": "code",
        "colab": {}
      },
      "source": [
        "train_ds = tf.data.Dataset.from_tensor_slices((np.array(train_x), np.array(train_y))).batch(batch_size)\n",
        "test_ds = tf.data.Dataset.from_tensor_slices((np.array(test_x), np.array(test_y))).batch(batch_size)"
      ],
      "execution_count": 66,
      "outputs": []
    },
    {
      "cell_type": "code",
      "metadata": {
        "id": "WmDfLyM0oAQI",
        "colab_type": "code",
        "colab": {}
      },
      "source": [
        "@tf.function\n",
        "def train_step(model, datas, labels, loss_object, optimizer, train_loss, train_accuracy):\n",
        "    with tf.GradientTape() as tape:\n",
        "        predictions = model(datas, training=True)\n",
        "        loss = loss_object(labels, predictions)\n",
        "    gradients = tape.gradient(loss, model.trainable_variables)\n",
        "    \n",
        "    optimizer.apply_gradients(zip(gradients, model.trainable_variables))\n",
        "    train_loss(loss)\n",
        "    train_accuracy(labels, predictions)\n",
        "    \n",
        "@tf.function\n",
        "def test_step(model, datas, labels, loss_object, test_loss, test_accuracy):\n",
        "    predictions = model(datas, training=False)\n",
        "    t_loss = loss_object(labels, predictions)\n",
        "    \n",
        "    test_loss(t_loss)\n",
        "    test_accuracy(labels, predictions)"
      ],
      "execution_count": 75,
      "outputs": []
    },
    {
      "cell_type": "markdown",
      "metadata": {
        "id": "RdikX7aToAQK",
        "colab_type": "text"
      },
      "source": [
        "## Define model, loss ftn, optimizer, metric "
      ]
    },
    {
      "cell_type": "code",
      "metadata": {
        "id": "TngKV454oAQL",
        "colab_type": "code",
        "colab": {}
      },
      "source": [
        "model = MLP()\n",
        "\n",
        "loss_object = tf.keras.losses.MeanSquaredError()\n",
        "optimizer = tf.keras.optimizers.Adam()\n",
        "\n",
        "train_loss = tf.keras.metrics.Mean(name='train_loss')\n",
        "train_accuracy = tf.keras.metrics.MeanSquaredError(name='train_accuracy')\n",
        "test_loss = tf.keras.metrics.Mean(name='test_loss')\n",
        "test_accuracy = tf.keras.metrics.MeanSquaredError(name='test_accuracy')"
      ],
      "execution_count": 76,
      "outputs": []
    },
    {
      "cell_type": "markdown",
      "metadata": {
        "id": "8nEXxy16oAQM",
        "colab_type": "text"
      },
      "source": [
        "## Training "
      ]
    },
    {
      "cell_type": "code",
      "metadata": {
        "id": "pJ0uVCpboAQN",
        "colab_type": "code",
        "colab": {
          "base_uri": "https://localhost:8080/",
          "height": 1000
        },
        "outputId": "4fa36618-94ba-4eb1-f540-c83e00ae597f"
      },
      "source": [
        "best_loss = 10**6\n",
        "early_stop = 0\n",
        "loss_train = []\n",
        "loss_test = []\n",
        "\n",
        "for epoch in range(num_epochs):\n",
        "    for datas, labels in train_ds:\n",
        "        train_step(model, datas, labels, loss_object, optimizer, train_loss, train_accuracy)\n",
        "        \n",
        "    for datas, labels in test_ds:\n",
        "        test_step(model, datas, labels, loss_object, test_loss, test_accuracy)\n",
        "    \n",
        "    if best_loss > test_loss.result():\n",
        "      best_loss = test_loss.result()\n",
        "    else:\n",
        "      early_stop += 1\n",
        "      if early_stop == 10:\n",
        "        template = 'Epoch {}, Loss: {}, Accuracy {}, Test Loss: {}, Test Accuracy: {}'\n",
        "        print(template.format(\n",
        "            epoch + 1,\n",
        "            train_loss.result(),\n",
        "            train_accuracy.result(),\n",
        "            test_loss.result(),\n",
        "            test_accuracy.result()\n",
        "        ))\n",
        "        break\n",
        "\n",
        "    loss_train.append(train_loss.result())\n",
        "    loss_test.append(test_loss.result())\n",
        "    template = 'Epoch {}, Loss: {}, Accuracy {}, Test Loss: {}, Test Accuracy: {}'\n",
        "    print(template.format(\n",
        "          epoch + 1,\n",
        "          train_loss.result(),\n",
        "          train_accuracy.result(),\n",
        "          test_loss.result(),\n",
        "          test_accuracy.result()\n",
        "    ))\n"
      ],
      "execution_count": 77,
      "outputs": [
        {
          "output_type": "stream",
          "text": [
            "WARNING:tensorflow:Layer mlp_3 is casting an input tensor from dtype float64 to the layer's dtype of float32, which is new behavior in TensorFlow 2.  The layer has dtype float32 because it's dtype defaults to floatx.\n",
            "\n",
            "If you intended to run this layer in float32, you can safely ignore this warning. If in doubt, this warning is likely only an issue if you are porting a TensorFlow 1.X model to TensorFlow 2.\n",
            "\n",
            "To change all layers to have dtype float64 by default, call `tf.keras.backend.set_floatx('float64')`. To change just this layer, pass dtype='float64' to the layer constructor. If you are the author of this layer, you can disable autocasting by passing autocast=False to the base Layer constructor.\n",
            "\n",
            "Epoch 1, Loss: 2.266559362411499, Accuracy 2.266559362411499, Test Loss: 46.76018142700195, Test Accuracy: 46.76018142700195\n",
            "Epoch 2, Loss: 1.8107330799102783, Accuracy 1.8107330799102783, Test Loss: 24.471229553222656, Test Accuracy: 24.471229553222656\n",
            "Epoch 3, Loss: 1.4323099851608276, Accuracy 1.4323099851608276, Test Loss: 16.57476234436035, Test Accuracy: 16.57476234436035\n",
            "Epoch 4, Loss: 1.2020374536514282, Accuracy 1.2020374536514282, Test Loss: 12.51065731048584, Test Accuracy: 12.51065731048584\n",
            "Epoch 5, Loss: 1.0140129327774048, Accuracy 1.0140129327774048, Test Loss: 10.225077629089355, Test Accuracy: 10.225077629089355\n",
            "Epoch 6, Loss: 0.8840928673744202, Accuracy 0.8840928673744202, Test Loss: 8.589554786682129, Test Accuracy: 8.589554786682129\n",
            "Epoch 7, Loss: 0.7812622785568237, Accuracy 0.7812622785568237, Test Loss: 7.446210861206055, Test Accuracy: 7.446210861206055\n",
            "Epoch 8, Loss: 0.701051652431488, Accuracy 0.701051652431488, Test Loss: 6.579128742218018, Test Accuracy: 6.579128742218018\n",
            "Epoch 9, Loss: 0.6337436437606812, Accuracy 0.6337436437606812, Test Loss: 5.905099391937256, Test Accuracy: 5.905099391937256\n",
            "Epoch 10, Loss: 0.5796149373054504, Accuracy 0.5796149373054504, Test Loss: 5.344792366027832, Test Accuracy: 5.344792366027832\n",
            "Epoch 11, Loss: 0.5324289798736572, Accuracy 0.5324289798736572, Test Loss: 4.9073076248168945, Test Accuracy: 4.9073076248168945\n",
            "Epoch 12, Loss: 0.4921560287475586, Accuracy 0.4921560287475586, Test Loss: 4.526665687561035, Test Accuracy: 4.526665687561035\n",
            "Epoch 13, Loss: 0.4587441384792328, Accuracy 0.4587441384792328, Test Loss: 4.207986831665039, Test Accuracy: 4.207986831665039\n",
            "Epoch 14, Loss: 0.4284065365791321, Accuracy 0.4284065365791321, Test Loss: 3.932326316833496, Test Accuracy: 3.932326316833496\n",
            "Epoch 15, Loss: 0.40201684832572937, Accuracy 0.40201684832572937, Test Loss: 3.6988494396209717, Test Accuracy: 3.6988494396209717\n",
            "Epoch 16, Loss: 0.37881702184677124, Accuracy 0.37881702184677124, Test Loss: 3.496267557144165, Test Accuracy: 3.496267557144165\n",
            "Epoch 17, Loss: 0.3581339120864868, Accuracy 0.3581339120864868, Test Loss: 3.308269500732422, Test Accuracy: 3.308269500732422\n",
            "Epoch 18, Loss: 0.33978742361068726, Accuracy 0.33978742361068726, Test Loss: 3.1357805728912354, Test Accuracy: 3.1357805728912354\n",
            "Epoch 19, Loss: 0.32307863235473633, Accuracy 0.32307863235473633, Test Loss: 2.9875619411468506, Test Accuracy: 2.9875619411468506\n",
            "Epoch 20, Loss: 0.3081135153770447, Accuracy 0.3081135153770447, Test Loss: 2.850844621658325, Test Accuracy: 2.850844621658325\n",
            "Epoch 21, Loss: 0.2943858504295349, Accuracy 0.2943858504295349, Test Loss: 2.728961229324341, Test Accuracy: 2.728961229324341\n",
            "Epoch 22, Loss: 0.28183725476264954, Accuracy 0.28183725476264954, Test Loss: 2.61958646774292, Test Accuracy: 2.61958646774292\n",
            "Epoch 23, Loss: 0.27024248242378235, Accuracy 0.27024248242378235, Test Loss: 2.5184402465820312, Test Accuracy: 2.5184402465820312\n",
            "Epoch 24, Loss: 0.2597217261791229, Accuracy 0.2597217261791229, Test Loss: 2.4268798828125, Test Accuracy: 2.4268798828125\n",
            "Epoch 25, Loss: 0.24996317923069, Accuracy 0.24996317923069, Test Loss: 2.341522455215454, Test Accuracy: 2.341522455215454\n",
            "Epoch 26, Loss: 0.2409055083990097, Accuracy 0.2409055083990097, Test Loss: 2.2603886127471924, Test Accuracy: 2.2603886127471924\n",
            "Epoch 27, Loss: 0.2324284166097641, Accuracy 0.2324284166097641, Test Loss: 2.187946319580078, Test Accuracy: 2.187946319580078\n",
            "Epoch 28, Loss: 0.22460640966892242, Accuracy 0.22460640966892242, Test Loss: 2.1245968341827393, Test Accuracy: 2.1245968341827393\n",
            "Epoch 29, Loss: 0.2172354757785797, Accuracy 0.2172354757785797, Test Loss: 2.06048583984375, Test Accuracy: 2.06048583984375\n",
            "Epoch 30, Loss: 0.21040353178977966, Accuracy 0.21040353178977966, Test Loss: 2.0024425983428955, Test Accuracy: 2.0024425983428955\n",
            "Epoch 31, Loss: 0.20399591326713562, Accuracy 0.20399591326713562, Test Loss: 1.9446148872375488, Test Accuracy: 1.9446148872375488\n",
            "Epoch 32, Loss: 0.19797980785369873, Accuracy 0.19797980785369873, Test Loss: 1.8917202949523926, Test Accuracy: 1.8917202949523926\n",
            "Epoch 33, Loss: 0.19231857359409332, Accuracy 0.19231857359409332, Test Loss: 1.8427050113677979, Test Accuracy: 1.8427050113677979\n",
            "Epoch 34, Loss: 0.1870003640651703, Accuracy 0.1870003640651703, Test Loss: 1.793642282485962, Test Accuracy: 1.793642282485962\n",
            "Epoch 35, Loss: 0.18193010985851288, Accuracy 0.18193010985851288, Test Loss: 1.7498223781585693, Test Accuracy: 1.7498223781585693\n",
            "Epoch 36, Loss: 0.17717529833316803, Accuracy 0.17717529833316803, Test Loss: 1.7071559429168701, Test Accuracy: 1.7071559429168701\n",
            "Epoch 37, Loss: 0.17266814410686493, Accuracy 0.17266814410686493, Test Loss: 1.6658931970596313, Test Accuracy: 1.6658931970596313\n",
            "Epoch 38, Loss: 0.16836631298065186, Accuracy 0.16836631298065186, Test Loss: 1.6264487504959106, Test Accuracy: 1.6264487504959106\n",
            "Epoch 39, Loss: 0.16428051888942719, Accuracy 0.16428051888942719, Test Loss: 1.58999764919281, Test Accuracy: 1.58999764919281\n",
            "Epoch 40, Loss: 0.1604410856962204, Accuracy 0.1604410856962204, Test Loss: 1.555980920791626, Test Accuracy: 1.555980920791626\n",
            "Epoch 41, Loss: 0.15674790740013123, Accuracy 0.15674790740013123, Test Loss: 1.5239181518554688, Test Accuracy: 1.5239181518554688\n",
            "Epoch 42, Loss: 0.1532532423734665, Accuracy 0.1532532423734665, Test Loss: 1.4932769536972046, Test Accuracy: 1.4932769536972046\n",
            "Epoch 43, Loss: 0.14992986619472504, Accuracy 0.14992986619472504, Test Loss: 1.4627230167388916, Test Accuracy: 1.4627230167388916\n",
            "Epoch 44, Loss: 0.14675143361091614, Accuracy 0.14675143361091614, Test Loss: 1.4336801767349243, Test Accuracy: 1.4336801767349243\n",
            "Epoch 45, Loss: 0.14369119703769684, Accuracy 0.14369119703769684, Test Loss: 1.406358242034912, Test Accuracy: 1.406358242034912\n",
            "Epoch 46, Loss: 0.1407812237739563, Accuracy 0.1407812237739563, Test Loss: 1.3796080350875854, Test Accuracy: 1.3796080350875854\n",
            "Epoch 47, Loss: 0.13796913623809814, Accuracy 0.13796913623809814, Test Loss: 1.3573700189590454, Test Accuracy: 1.3573700189590454\n",
            "Epoch 48, Loss: 0.1352764517068863, Accuracy 0.1352764517068863, Test Loss: 1.3351519107818604, Test Accuracy: 1.3351519107818604\n",
            "Epoch 49, Loss: 0.13270197808742523, Accuracy 0.13270197808742523, Test Loss: 1.3121734857559204, Test Accuracy: 1.3121734857559204\n",
            "Epoch 50, Loss: 0.13023722171783447, Accuracy 0.13023722171783447, Test Loss: 1.2897464036941528, Test Accuracy: 1.2897464036941528\n",
            "Epoch 51, Loss: 0.12785905599594116, Accuracy 0.12785905599594116, Test Loss: 1.2669237852096558, Test Accuracy: 1.2669237852096558\n",
            "Epoch 52, Loss: 0.12555596232414246, Accuracy 0.12555596232414246, Test Loss: 1.2453784942626953, Test Accuracy: 1.2453784942626953\n",
            "Epoch 53, Loss: 0.12334810942411423, Accuracy 0.12334810942411423, Test Loss: 1.224658727645874, Test Accuracy: 1.224658727645874\n",
            "Epoch 54, Loss: 0.12122543156147003, Accuracy 0.12122543156147003, Test Loss: 1.203932762145996, Test Accuracy: 1.203932762145996\n",
            "Epoch 55, Loss: 0.11919169872999191, Accuracy 0.11919169872999191, Test Loss: 1.1844234466552734, Test Accuracy: 1.1844234466552734\n",
            "Epoch 56, Loss: 0.11722414940595627, Accuracy 0.11722414940595627, Test Loss: 1.1654707193374634, Test Accuracy: 1.1654707193374634\n",
            "Epoch 57, Loss: 0.11532013863325119, Accuracy 0.11532013863325119, Test Loss: 1.1473044157028198, Test Accuracy: 1.1473044157028198\n",
            "Epoch 58, Loss: 0.11347515881061554, Accuracy 0.11347515881061554, Test Loss: 1.1303460597991943, Test Accuracy: 1.1303460597991943\n",
            "Epoch 59, Loss: 0.11169020086526871, Accuracy 0.11169020086526871, Test Loss: 1.1133538484573364, Test Accuracy: 1.1133538484573364\n",
            "Epoch 60, Loss: 0.10997117310762405, Accuracy 0.10997117310762405, Test Loss: 1.0963362455368042, Test Accuracy: 1.0963362455368042\n",
            "Epoch 61, Loss: 0.10830933600664139, Accuracy 0.10830933600664139, Test Loss: 1.0796869993209839, Test Accuracy: 1.0796869993209839\n",
            "Epoch 62, Loss: 0.10669863224029541, Accuracy 0.10669863224029541, Test Loss: 1.0635061264038086, Test Accuracy: 1.0635061264038086\n",
            "Epoch 63, Loss: 0.10514143109321594, Accuracy 0.10514143109321594, Test Loss: 1.0477765798568726, Test Accuracy: 1.0477765798568726\n",
            "Epoch 64, Loss: 0.10363301634788513, Accuracy 0.10363301634788513, Test Loss: 1.0324634313583374, Test Accuracy: 1.0324634313583374\n",
            "Epoch 65, Loss: 0.10216887295246124, Accuracy 0.10216887295246124, Test Loss: 1.0174614191055298, Test Accuracy: 1.0174614191055298\n",
            "Epoch 66, Loss: 0.10075792670249939, Accuracy 0.10075792670249939, Test Loss: 1.0032089948654175, Test Accuracy: 1.0032089948654175\n",
            "Epoch 67, Loss: 0.09938384592533112, Accuracy 0.09938384592533112, Test Loss: 0.9891021251678467, Test Accuracy: 0.9891021251678467\n",
            "Epoch 68, Loss: 0.09804551303386688, Accuracy 0.09804551303386688, Test Loss: 0.9755287766456604, Test Accuracy: 0.9755287766456604\n",
            "Epoch 69, Loss: 0.09674882143735886, Accuracy 0.09674882143735886, Test Loss: 0.9618679881095886, Test Accuracy: 0.9618679881095886\n",
            "Epoch 70, Loss: 0.09548331797122955, Accuracy 0.09548331797122955, Test Loss: 0.9484997987747192, Test Accuracy: 0.9484997987747192\n",
            "Epoch 71, Loss: 0.09426198154687881, Accuracy 0.09426198154687881, Test Loss: 0.9356874823570251, Test Accuracy: 0.9356874823570251\n",
            "Epoch 72, Loss: 0.09306331723928452, Accuracy 0.09306331723928452, Test Loss: 0.9233176112174988, Test Accuracy: 0.9233176112174988\n",
            "Epoch 73, Loss: 0.09191036969423294, Accuracy 0.09191036969423294, Test Loss: 0.9111760258674622, Test Accuracy: 0.9111760258674622\n",
            "Epoch 74, Loss: 0.09078176319599152, Accuracy 0.09078176319599152, Test Loss: 0.9000276327133179, Test Accuracy: 0.9000276327133179\n",
            "Epoch 75, Loss: 0.0897073745727539, Accuracy 0.0897073745727539, Test Loss: 0.8891596794128418, Test Accuracy: 0.8891596794128418\n",
            "Epoch 76, Loss: 0.08864057809114456, Accuracy 0.08864057809114456, Test Loss: 0.8786749839782715, Test Accuracy: 0.8786749839782715\n",
            "Epoch 77, Loss: 0.08760365098714828, Accuracy 0.08760365098714828, Test Loss: 0.8681246638298035, Test Accuracy: 0.8681246638298035\n",
            "Epoch 78, Loss: 0.08659482002258301, Accuracy 0.08659482002258301, Test Loss: 0.8577089905738831, Test Accuracy: 0.8577089905738831\n",
            "Epoch 79, Loss: 0.0856054425239563, Accuracy 0.0856054425239563, Test Loss: 0.8475676774978638, Test Accuracy: 0.8475676774978638\n",
            "Epoch 80, Loss: 0.08464023470878601, Accuracy 0.08464023470878601, Test Loss: 0.8373244404792786, Test Accuracy: 0.8373244404792786\n",
            "Epoch 81, Loss: 0.08369435369968414, Accuracy 0.08369435369968414, Test Loss: 0.8273190855979919, Test Accuracy: 0.8273190855979919\n",
            "Epoch 82, Loss: 0.08277576416730881, Accuracy 0.08277576416730881, Test Loss: 0.8174363374710083, Test Accuracy: 0.8174363374710083\n",
            "Epoch 83, Loss: 0.08188176900148392, Accuracy 0.08188176900148392, Test Loss: 0.8077265024185181, Test Accuracy: 0.8077265024185181\n",
            "Epoch 84, Loss: 0.08100126683712006, Accuracy 0.08100126683712006, Test Loss: 0.7982907295227051, Test Accuracy: 0.7982907295227051\n",
            "Epoch 85, Loss: 0.08014649152755737, Accuracy 0.08014649152755737, Test Loss: 0.7890201210975647, Test Accuracy: 0.7890201210975647\n",
            "Epoch 86, Loss: 0.0793110579252243, Accuracy 0.0793110579252243, Test Loss: 0.7799160480499268, Test Accuracy: 0.7799160480499268\n",
            "Epoch 87, Loss: 0.07849179208278656, Accuracy 0.07849179208278656, Test Loss: 0.7711802124977112, Test Accuracy: 0.7711802124977112\n",
            "Epoch 88, Loss: 0.07769251614809036, Accuracy 0.07769251614809036, Test Loss: 0.7625947594642639, Test Accuracy: 0.7625947594642639\n",
            "Epoch 89, Loss: 0.07690800726413727, Accuracy 0.07690800726413727, Test Loss: 0.7541484832763672, Test Accuracy: 0.7541484832763672\n",
            "Epoch 90, Loss: 0.07614288479089737, Accuracy 0.07614288479089737, Test Loss: 0.7459077835083008, Test Accuracy: 0.7459077835083008\n",
            "Epoch 91, Loss: 0.07539284229278564, Accuracy 0.07539284229278564, Test Loss: 0.7377846240997314, Test Accuracy: 0.7377846240997314\n",
            "Epoch 92, Loss: 0.0746634304523468, Accuracy 0.0746634304523468, Test Loss: 0.7299892902374268, Test Accuracy: 0.7299892902374268\n",
            "Epoch 93, Loss: 0.0739491730928421, Accuracy 0.0739491730928421, Test Loss: 0.7223275303840637, Test Accuracy: 0.7223275303840637\n",
            "Epoch 94, Loss: 0.07324730604887009, Accuracy 0.07324730604887009, Test Loss: 0.7150086760520935, Test Accuracy: 0.7150086760520935\n",
            "Epoch 95, Loss: 0.07255954295396805, Accuracy 0.07255954295396805, Test Loss: 0.7079262137413025, Test Accuracy: 0.7079262137413025\n",
            "Epoch 96, Loss: 0.07188750058412552, Accuracy 0.07188750058412552, Test Loss: 0.7009086608886719, Test Accuracy: 0.7009086608886719\n",
            "Epoch 97, Loss: 0.07122202962636948, Accuracy 0.07122202962636948, Test Loss: 0.6938481330871582, Test Accuracy: 0.6938481330871582\n",
            "Epoch 98, Loss: 0.07057470828294754, Accuracy 0.07057470828294754, Test Loss: 0.6870107650756836, Test Accuracy: 0.6870107650756836\n",
            "Epoch 99, Loss: 0.06994370371103287, Accuracy 0.06994370371103287, Test Loss: 0.6802171468734741, Test Accuracy: 0.6802171468734741\n",
            "Epoch 100, Loss: 0.06932397186756134, Accuracy 0.06932397186756134, Test Loss: 0.6739810705184937, Test Accuracy: 0.6739810705184937\n",
            "Epoch 101, Loss: 0.068716861307621, Accuracy 0.068716861307621, Test Loss: 0.6682742238044739, Test Accuracy: 0.6682742238044739\n",
            "Epoch 102, Loss: 0.06812403351068497, Accuracy 0.06812403351068497, Test Loss: 0.6617726683616638, Test Accuracy: 0.6617726683616638\n",
            "Epoch 103, Loss: 0.06753844022750854, Accuracy 0.06753844022750854, Test Loss: 0.6555494070053101, Test Accuracy: 0.6555494070053101\n",
            "Epoch 104, Loss: 0.06696813553571701, Accuracy 0.06696813553571701, Test Loss: 0.6493175029754639, Test Accuracy: 0.6493175029754639\n",
            "Epoch 105, Loss: 0.06640827655792236, Accuracy 0.06640827655792236, Test Loss: 0.6431751847267151, Test Accuracy: 0.6431751847267151\n",
            "Epoch 106, Loss: 0.06586204469203949, Accuracy 0.06586204469203949, Test Loss: 0.6372171640396118, Test Accuracy: 0.6372171640396118\n",
            "Epoch 107, Loss: 0.06532339751720428, Accuracy 0.06532339751720428, Test Loss: 0.6314323544502258, Test Accuracy: 0.6314323544502258\n",
            "Epoch 108, Loss: 0.0647946447134018, Accuracy 0.0647946447134018, Test Loss: 0.6257973909378052, Test Accuracy: 0.6257973909378052\n",
            "Epoch 109, Loss: 0.06427805870771408, Accuracy 0.06427805870771408, Test Loss: 0.6207752823829651, Test Accuracy: 0.6207752823829651\n",
            "Epoch 110, Loss: 0.06376625597476959, Accuracy 0.06376625597476959, Test Loss: 0.6157738566398621, Test Accuracy: 0.6157738566398621\n",
            "Epoch 111, Loss: 0.06326620280742645, Accuracy 0.06326620280742645, Test Loss: 0.6112120151519775, Test Accuracy: 0.6112120151519775\n",
            "Epoch 112, Loss: 0.06277993321418762, Accuracy 0.06277993321418762, Test Loss: 0.6065294742584229, Test Accuracy: 0.6065294742584229\n",
            "Epoch 113, Loss: 0.06229750066995621, Accuracy 0.06229750066995621, Test Loss: 0.60231614112854, Test Accuracy: 0.60231614112854\n",
            "Epoch 114, Loss: 0.0618206225335598, Accuracy 0.0618206225335598, Test Loss: 0.5981484055519104, Test Accuracy: 0.5981484055519104\n",
            "Epoch 115, Loss: 0.06135484203696251, Accuracy 0.06135484203696251, Test Loss: 0.5939887762069702, Test Accuracy: 0.5939887762069702\n",
            "Epoch 116, Loss: 0.060889117419719696, Accuracy 0.060889117419719696, Test Loss: 0.589270293712616, Test Accuracy: 0.589270293712616\n",
            "Epoch 117, Loss: 0.060434941202402115, Accuracy 0.060434941202402115, Test Loss: 0.5843350887298584, Test Accuracy: 0.5843350887298584\n",
            "Epoch 118, Loss: 0.059989359229803085, Accuracy 0.059989359229803085, Test Loss: 0.5794637799263, Test Accuracy: 0.5794637799263\n",
            "Epoch 119, Loss: 0.05955641344189644, Accuracy 0.05955641344189644, Test Loss: 0.5748788714408875, Test Accuracy: 0.5748788714408875\n",
            "Epoch 120, Loss: 0.059128016233444214, Accuracy 0.059128016233444214, Test Loss: 0.5702168941497803, Test Accuracy: 0.5702168941497803\n",
            "Epoch 121, Loss: 0.058708928525447845, Accuracy 0.058708928525447845, Test Loss: 0.5658882260322571, Test Accuracy: 0.5658882260322571\n",
            "Epoch 122, Loss: 0.05829761549830437, Accuracy 0.05829761549830437, Test Loss: 0.5615443587303162, Test Accuracy: 0.5615443587303162\n",
            "Epoch 123, Loss: 0.05789078399538994, Accuracy 0.05789078399538994, Test Loss: 0.5570866465568542, Test Accuracy: 0.5570866465568542\n",
            "Epoch 124, Loss: 0.05749138817191124, Accuracy 0.05749138817191124, Test Loss: 0.5527055263519287, Test Accuracy: 0.5527055263519287\n",
            "Epoch 125, Loss: 0.05709456652402878, Accuracy 0.05709456652402878, Test Loss: 0.5484718680381775, Test Accuracy: 0.5484718680381775\n",
            "Epoch 126, Loss: 0.056703321635723114, Accuracy 0.056703321635723114, Test Loss: 0.5443223714828491, Test Accuracy: 0.5443223714828491\n",
            "Epoch 127, Loss: 0.05632166936993599, Accuracy 0.05632166936993599, Test Loss: 0.5402137041091919, Test Accuracy: 0.5402137041091919\n",
            "Epoch 128, Loss: 0.055946677923202515, Accuracy 0.055946677923202515, Test Loss: 0.5362518429756165, Test Accuracy: 0.5362518429756165\n",
            "Epoch 129, Loss: 0.055577170103788376, Accuracy 0.055577170103788376, Test Loss: 0.5323220491409302, Test Accuracy: 0.5323220491409302\n",
            "Epoch 130, Loss: 0.05521058663725853, Accuracy 0.05521058663725853, Test Loss: 0.5283339619636536, Test Accuracy: 0.5283339619636536\n",
            "Epoch 131, Loss: 0.05485301464796066, Accuracy 0.05485301464796066, Test Loss: 0.5243603587150574, Test Accuracy: 0.5243603587150574\n",
            "Epoch 132, Loss: 0.054495204240083694, Accuracy 0.054495204240083694, Test Loss: 0.5211321711540222, Test Accuracy: 0.5211321711540222\n",
            "Epoch 133, Loss: 0.054146572947502136, Accuracy 0.054146572947502136, Test Loss: 0.517466127872467, Test Accuracy: 0.517466127872467\n",
            "Epoch 134, Loss: 0.053803931921720505, Accuracy 0.053803931921720505, Test Loss: 0.5142525434494019, Test Accuracy: 0.5142525434494019\n",
            "Epoch 135, Loss: 0.05346400663256645, Accuracy 0.05346400663256645, Test Loss: 0.5107178092002869, Test Accuracy: 0.5107178092002869\n",
            "Epoch 136, Loss: 0.05312734469771385, Accuracy 0.05312734469771385, Test Loss: 0.5072664022445679, Test Accuracy: 0.5072664022445679\n",
            "Epoch 137, Loss: 0.05280045047402382, Accuracy 0.05280045047402382, Test Loss: 0.5040318965911865, Test Accuracy: 0.5040318965911865\n",
            "Epoch 138, Loss: 0.05247604474425316, Accuracy 0.05247604474425316, Test Loss: 0.5006898045539856, Test Accuracy: 0.5006898045539856\n",
            "Epoch 139, Loss: 0.052152734249830246, Accuracy 0.052152734249830246, Test Loss: 0.4973914921283722, Test Accuracy: 0.4973914921283722\n",
            "Epoch 140, Loss: 0.051837582141160965, Accuracy 0.051837582141160965, Test Loss: 0.49422720074653625, Test Accuracy: 0.49422720074653625\n",
            "Epoch 141, Loss: 0.05152464658021927, Accuracy 0.05152464658021927, Test Loss: 0.49149009585380554, Test Accuracy: 0.49149009585380554\n",
            "Epoch 142, Loss: 0.05121561512351036, Accuracy 0.05121561512351036, Test Loss: 0.48870939016342163, Test Accuracy: 0.48870939016342163\n",
            "Epoch 143, Loss: 0.05091031268239021, Accuracy 0.05091031268239021, Test Loss: 0.48573869466781616, Test Accuracy: 0.48573869466781616\n",
            "Epoch 144, Loss: 0.050612613558769226, Accuracy 0.050612613558769226, Test Loss: 0.4825578033924103, Test Accuracy: 0.4825578033924103\n",
            "Epoch 145, Loss: 0.050319574773311615, Accuracy 0.050319574773311615, Test Loss: 0.47939130663871765, Test Accuracy: 0.47939130663871765\n",
            "Epoch 146, Loss: 0.050031017512083054, Accuracy 0.050031017512083054, Test Loss: 0.4764302670955658, Test Accuracy: 0.4764302670955658\n",
            "Epoch 147, Loss: 0.049744103103876114, Accuracy 0.049744103103876114, Test Loss: 0.4733709692955017, Test Accuracy: 0.4733709692955017\n",
            "Epoch 148, Loss: 0.04946087673306465, Accuracy 0.04946087673306465, Test Loss: 0.4705614745616913, Test Accuracy: 0.4705614745616913\n",
            "Epoch 149, Loss: 0.049182210117578506, Accuracy 0.049182210117578506, Test Loss: 0.4679315984249115, Test Accuracy: 0.4679315984249115\n",
            "Epoch 150, Loss: 0.04890288785099983, Accuracy 0.04890288785099983, Test Loss: 0.46507519483566284, Test Accuracy: 0.46507519483566284\n",
            "Epoch 151, Loss: 0.04863139986991882, Accuracy 0.04863139986991882, Test Loss: 0.4621182382106781, Test Accuracy: 0.4621182382106781\n",
            "Epoch 152, Loss: 0.048366665840148926, Accuracy 0.048366665840148926, Test Loss: 0.4591517746448517, Test Accuracy: 0.4591517746448517\n",
            "Epoch 153, Loss: 0.04810822010040283, Accuracy 0.04810822010040283, Test Loss: 0.4562041461467743, Test Accuracy: 0.4562041461467743\n",
            "Epoch 154, Loss: 0.047848764806985855, Accuracy 0.047848764806985855, Test Loss: 0.45331189036369324, Test Accuracy: 0.45331189036369324\n",
            "Epoch 155, Loss: 0.04759031906723976, Accuracy 0.04759031906723976, Test Loss: 0.450715571641922, Test Accuracy: 0.450715571641922\n",
            "Epoch 156, Loss: 0.047338008880615234, Accuracy 0.047338008880615234, Test Loss: 0.44805726408958435, Test Accuracy: 0.44805726408958435\n",
            "Epoch 157, Loss: 0.04708942025899887, Accuracy 0.04708942025899887, Test Loss: 0.44525912404060364, Test Accuracy: 0.44525912404060364\n",
            "Epoch 158, Loss: 0.04684388265013695, Accuracy 0.04684388265013695, Test Loss: 0.4425196051597595, Test Accuracy: 0.4425196051597595\n",
            "Epoch 159, Loss: 0.046601466834545135, Accuracy 0.046601466834545135, Test Loss: 0.43980351090431213, Test Accuracy: 0.43980351090431213\n",
            "Epoch 160, Loss: 0.04636206850409508, Accuracy 0.04636206850409508, Test Loss: 0.43710947036743164, Test Accuracy: 0.43710947036743164\n",
            "Epoch 161, Loss: 0.046123672276735306, Accuracy 0.046123672276735306, Test Loss: 0.4344935119152069, Test Accuracy: 0.4344935119152069\n",
            "Epoch 162, Loss: 0.04589233547449112, Accuracy 0.04589233547449112, Test Loss: 0.43201813101768494, Test Accuracy: 0.43201813101768494\n",
            "Epoch 163, Loss: 0.045659519731998444, Accuracy 0.045659519731998444, Test Loss: 0.43002501130104065, Test Accuracy: 0.43002501130104065\n",
            "Epoch 164, Loss: 0.0454285591840744, Accuracy 0.0454285591840744, Test Loss: 0.44065746665000916, Test Accuracy: 0.44065746665000916\n",
            "Epoch 165, Loss: 0.04520026966929436, Accuracy 0.04520026966929436, Test Loss: 0.4439995586872101, Test Accuracy: 0.4439995586872101\n",
            "Epoch 166, Loss: 0.04497765749692917, Accuracy 0.04497765749692917, Test Loss: 0.45679596066474915, Test Accuracy: 0.45679596066474915\n",
            "Epoch 167, Loss: 0.04475550726056099, Accuracy 0.04475550726056099, Test Loss: 0.4714139401912689, Test Accuracy: 0.4714139401912689\n",
            "Epoch 168, Loss: 0.044537488371133804, Accuracy 0.044537488371133804, Test Loss: 0.4849981367588043, Test Accuracy: 0.4849981367588043\n",
            "Epoch 169, Loss: 0.04432050138711929, Accuracy 0.04432050138711929, Test Loss: 0.5097167491912842, Test Accuracy: 0.5097167491912842\n",
            "Epoch 170, Loss: 0.04410441592335701, Accuracy 0.04410441592335701, Test Loss: 0.5172094702720642, Test Accuracy: 0.5172094702720642\n",
            "Epoch 171, Loss: 0.04389272630214691, Accuracy 0.04389272630214691, Test Loss: 0.5229010581970215, Test Accuracy: 0.5229010581970215\n",
            "Epoch 172, Loss: 0.043683793395757675, Accuracy 0.043683793395757675, Test Loss: 0.5228291153907776, Test Accuracy: 0.5228291153907776\n",
            "Epoch 173, Loss: 0.043474387377500534, Accuracy 0.043474387377500534, Test Loss: 0.527872622013092, Test Accuracy: 0.527872622013092\n",
            "Epoch 174, Loss: 0.04327310249209404, Accuracy 0.04327310249209404, Test Loss: 0.5332805514335632, Test Accuracy: 0.5332805514335632\n",
            "Epoch 175, Loss: 0.043069012463092804, Accuracy 0.043069012463092804, Test Loss: 0.5375507473945618, Test Accuracy: 0.5375507473945618\n",
            "Epoch 176, Loss: 0.04286746308207512, Accuracy 0.04286746308207512, Test Loss: 0.541820228099823, Test Accuracy: 0.541820228099823\n",
            "Epoch 177, Loss: 0.04267141968011856, Accuracy 0.04267141968011856, Test Loss: 0.5414013266563416, Test Accuracy: 0.5414013266563416\n",
            "Epoch 178, Loss: 0.042476195842027664, Accuracy 0.042476195842027664, Test Loss: 0.5469914674758911, Test Accuracy: 0.5469914674758911\n",
            "Epoch 179, Loss: 0.04228244721889496, Accuracy 0.04228244721889496, Test Loss: 0.546762228012085, Test Accuracy: 0.546762228012085\n",
            "Epoch 180, Loss: 0.04209292680025101, Accuracy 0.04209292680025101, Test Loss: 0.5488017201423645, Test Accuracy: 0.5488017201423645\n",
            "Epoch 181, Loss: 0.04190469905734062, Accuracy 0.04190469905734062, Test Loss: 0.5509158968925476, Test Accuracy: 0.5509158968925476\n",
            "Epoch 182, Loss: 0.04171713441610336, Accuracy 0.04171713441610336, Test Loss: 0.5533003807067871, Test Accuracy: 0.5533003807067871\n",
            "Epoch 183, Loss: 0.04153186455368996, Accuracy 0.04153186455368996, Test Loss: 0.5567438006401062, Test Accuracy: 0.5567438006401062\n"
          ],
          "name": "stdout"
        }
      ]
    },
    {
      "cell_type": "code",
      "metadata": {
        "id": "gL-W1rPboAQP",
        "colab_type": "code",
        "colab": {
          "base_uri": "https://localhost:8080/",
          "height": 34
        },
        "outputId": "935fa8f6-fcea-4da6-d11b-fa507ce3ecc5"
      },
      "source": [
        "np.mean(test_y)"
      ],
      "execution_count": 78,
      "outputs": [
        {
          "output_type": "execute_result",
          "data": {
            "text/plain": [
              "0.835689263766052"
            ]
          },
          "metadata": {
            "tags": []
          },
          "execution_count": 78
        }
      ]
    },
    {
      "cell_type": "code",
      "metadata": {
        "id": "dXZfViJdoAQQ",
        "colab_type": "code",
        "colab": {
          "base_uri": "https://localhost:8080/",
          "height": 34
        },
        "outputId": "1d51c699-be95-4362-da27-877942d86334"
      },
      "source": [
        "np.mean(model(np.array(test_x)[:]))"
      ],
      "execution_count": 79,
      "outputs": [
        {
          "output_type": "execute_result",
          "data": {
            "text/plain": [
              "0.8009712"
            ]
          },
          "metadata": {
            "tags": []
          },
          "execution_count": 79
        }
      ]
    },
    {
      "cell_type": "code",
      "metadata": {
        "id": "sCSb0Rz3oAQS",
        "colab_type": "code",
        "colab": {
          "base_uri": "https://localhost:8080/",
          "height": 34
        },
        "outputId": "aa75a6f8-c144-4da9-c9b0-f1aebede7284"
      },
      "source": [
        "np.mean(fitted_full_model.predict(test_x))"
      ],
      "execution_count": 80,
      "outputs": [
        {
          "output_type": "execute_result",
          "data": {
            "text/plain": [
              "0.8363176457563551"
            ]
          },
          "metadata": {
            "tags": []
          },
          "execution_count": 80
        }
      ]
    },
    {
      "cell_type": "code",
      "metadata": {
        "id": "YFnMP_aZoAQU",
        "colab_type": "code",
        "colab": {
          "base_uri": "https://localhost:8080/",
          "height": 34
        },
        "outputId": "aff53a48-0e6f-4197-920a-cedc4097971e"
      },
      "source": [
        "np.mean(Stepwise_best_model.predict(test_x[Stepwise_best_model.model.exog_names]))"
      ],
      "execution_count": 81,
      "outputs": [
        {
          "output_type": "execute_result",
          "data": {
            "text/plain": [
              "0.8361606906344462"
            ]
          },
          "metadata": {
            "tags": []
          },
          "execution_count": 81
        }
      ]
    },
    {
      "cell_type": "code",
      "metadata": {
        "id": "M6JfhOfKoAQW",
        "colab_type": "code",
        "colab": {
          "base_uri": "https://localhost:8080/",
          "height": 714
        },
        "outputId": "8a376812-e18f-4146-ef34-4b7f28637a36"
      },
      "source": [
        "print(test_y[:10], model(np.array(test_x)[:10]),\n",
        "     fitted_full_model.predict(test_x)[:10],\n",
        "     Stepwise_best_model.predict(test_x[Stepwise_best_model.model.exog_names])[:10])"
      ],
      "execution_count": 82,
      "outputs": [
        {
          "output_type": "stream",
          "text": [
            "807     0.982000\n",
            "782     0.803000\n",
            "2403    0.974531\n",
            "272     0.792486\n",
            "1832    0.874259\n",
            "2324    0.965000\n",
            "1490    0.847000\n",
            "1330    0.814373\n",
            "2033    0.784000\n",
            "963     0.725000\n",
            "Name: OPS, dtype: float64 tf.Tensor(\n",
            "[[1.0587729 ]\n",
            " [0.79245645]\n",
            " [0.84691614]\n",
            " [0.8010066 ]\n",
            " [0.83818173]\n",
            " [1.4452472 ]\n",
            " [0.95722365]\n",
            " [0.812336  ]\n",
            " [0.8010066 ]\n",
            " [0.8010066 ]], shape=(10, 1), dtype=float32) 807     0.971735\n",
            "782     0.804083\n",
            "2403    0.965041\n",
            "272     0.791369\n",
            "1832    0.866226\n",
            "2324    0.980148\n",
            "1490    0.838757\n",
            "1330    0.815070\n",
            "2033    0.779278\n",
            "963     0.729388\n",
            "dtype: float64 807     0.971340\n",
            "782     0.801655\n",
            "2403    0.963630\n",
            "272     0.789471\n",
            "1832    0.868319\n",
            "2324    0.979888\n",
            "1490    0.837428\n",
            "1330    0.817528\n",
            "2033    0.783378\n",
            "963     0.729723\n",
            "dtype: float64\n"
          ],
          "name": "stdout"
        }
      ]
    },
    {
      "cell_type": "code",
      "metadata": {
        "id": "fU6IKa3UoAQZ",
        "colab_type": "code",
        "colab": {
          "base_uri": "https://localhost:8080/",
          "height": 295
        },
        "outputId": "c9f0e322-7963-43f0-950f-477105062e57"
      },
      "source": [
        "plt.plot(loss_train, label='train')\n",
        "plt.plot(loss_test, label='test')\n",
        "plt.title('History')\n",
        "plt.xlabel('Epoch')\n",
        "plt.ylabel('Loss')\n",
        "plt.legend()\n",
        "plt.show()"
      ],
      "execution_count": 83,
      "outputs": [
        {
          "output_type": "display_data",
          "data": {
            "image/png": "[encoded data removed]",
            "text/plain": [
              "<Figure size 432x288 with 1 Axes>"
            ]
          },
          "metadata": {
            "tags": [],
            "needs_background": "light"
          }
        }
      ]
    },
    {
      "cell_type": "code",
      "metadata": {
        "id": "V5qn1-u-vep-",
        "colab_type": "code",
        "colab": {}
      },
      "source": [
        "temp = test_y - model(np.array(test_x))"
      ],
      "execution_count": 84,
      "outputs": []
    },
    {
      "cell_type": "code",
      "metadata": {
        "id": "jLb4TyEOx85E",
        "colab_type": "code",
        "colab": {}
      },
      "source": [
        "resid = []\n",
        "for t in temp.values[0]:\n",
        "  resid.append(t.numpy())"
      ],
      "execution_count": 85,
      "outputs": []
    },
    {
      "cell_type": "code",
      "metadata": {
        "id": "Zx1Fot90yInz",
        "colab_type": "code",
        "colab": {
          "base_uri": "https://localhost:8080/",
          "height": 281
        },
        "outputId": "077f4b54-c249-45f2-a20f-89ff4419a600"
      },
      "source": [
        "plt.scatter(np.arange(0, 143), resid, label='resid')\n",
        "plt.axhline(0, color='red')\n",
        "plt.title('Reidual_Test')\n",
        "plt.ylabel('resid')\n",
        "plt.show()"
      ],
      "execution_count": 86,
      "outputs": [
        {
          "output_type": "display_data",
          "data": {
            "image/png": "[encoded data removed]",
            "text/plain": [
              "<Figure size 432x288 with 1 Axes>"
            ]
          },
          "metadata": {
            "tags": [],
            "needs_background": "light"
          }
        }
      ]
    },
    {
      "cell_type": "code",
      "metadata": {
        "id": "KvPSwYG-yNQe",
        "colab_type": "code",
        "colab": {}
      },
      "source": [
        "temp_t = train_y - model(np.array(train_x))"
      ],
      "execution_count": 87,
      "outputs": []
    },
    {
      "cell_type": "code",
      "metadata": {
        "id": "zLTUALdA0CU2",
        "colab_type": "code",
        "colab": {}
      },
      "source": [
        "resid_t = []\n",
        "for t in temp_t.values[0]:\n",
        "  resid_t.append(t.numpy())"
      ],
      "execution_count": 88,
      "outputs": []
    },
    {
      "cell_type": "code",
      "metadata": {
        "id": "032-3tqP0IX1",
        "colab_type": "code",
        "colab": {
          "base_uri": "https://localhost:8080/",
          "height": 281
        },
        "outputId": "57b2511b-9c2e-4d80-e46b-3baeff77bfcb"
      },
      "source": [
        "plt.scatter(np.arange(0, len(resid_t)), resid_t, label='resid')\n",
        "plt.axhline(0, color='red')\n",
        "plt.title('Reidual_Train')\n",
        "plt.ylabel('resid')\n",
        "plt.show()"
      ],
      "execution_count": 89,
      "outputs": [
        {
          "output_type": "display_data",
          "data": {
            "image/png": "[encoded data removed]",
            "text/plain": [
              "<Figure size 432x288 with 1 Axes>"
            ]
          },
          "metadata": {
            "tags": [],
            "needs_background": "light"
          }
        }
      ]
    },
    {
      "cell_type": "code",
      "metadata": {
        "id": "cpWcgLZz9xYk",
        "colab_type": "code",
        "colab": {
          "base_uri": "https://localhost:8080/",
          "height": 340
        },
        "outputId": "addf15b0-1ec4-4bfc-bf1c-e9a421511776"
      },
      "source": [
        "model.get_weights()[-2]"
      ],
      "execution_count": 93,
      "outputs": [
        {
          "output_type": "execute_result",
          "data": {
            "text/plain": [
              "array([[ 0.00596053],\n",
              "       [ 0.00984266],\n",
              "       [-0.0078534 ],\n",
              "       [-0.00970781],\n",
              "       [-0.12734756],\n",
              "       [-0.00437417],\n",
              "       [-0.25384393],\n",
              "       [ 0.16178411],\n",
              "       [ 0.0123756 ],\n",
              "       [-0.0025482 ],\n",
              "       [ 0.2792135 ],\n",
              "       [-0.00208473],\n",
              "       [ 0.00720521],\n",
              "       [-0.08458365],\n",
              "       [ 0.22532806],\n",
              "       [-0.05251437],\n",
              "       [ 0.00057672],\n",
              "       [ 0.01814896],\n",
              "       [ 0.0081973 ]], dtype=float32)"
            ]
          },
          "metadata": {
            "tags": []
          },
          "execution_count": 93
        }
      ]
    }
  ]
}