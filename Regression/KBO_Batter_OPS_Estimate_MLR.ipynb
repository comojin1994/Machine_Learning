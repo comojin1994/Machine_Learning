{
 "cells": [
  {
   "cell_type": "code",
   "execution_count": 1,
   "metadata": {},
   "outputs": [],
   "source": [
    "from statsmodels.stats.outliers_influence import variance_inflation_factor\n",
    "from sklearn.model_selection import train_test_split\n",
    "from sklearn.metrics import mean_squared_error\n",
    "from sklearn import metrics\n",
    "\n",
    "import os, time, itertools\n",
    "import pandas as pd\n",
    "import numpy as np\n",
    "import statsmodels.api as sm\n",
    "import matplotlib.pyplot as plt\n",
    "import seaborn as sns\n",
    "%matplotlib inline"
   ]
  },
  {
   "cell_type": "markdown",
   "metadata": {},
   "source": [
    "#### 경로확인 "
   ]
  },
  {
   "cell_type": "code",
   "execution_count": 2,
   "metadata": {},
   "outputs": [
    {
     "data": {
      "text/plain": [
       "'/Users/sungjinkim/Documents/Study/Regression_Project'"
      ]
     },
     "execution_count": 2,
     "metadata": {},
     "output_type": "execute_result"
    }
   ],
   "source": [
    "os.getcwd()"
   ]
  },
  {
   "cell_type": "markdown",
   "metadata": {},
   "source": [
    "### 데이터 불러오기 "
   ]
  },
  {
   "cell_type": "code",
   "execution_count": 3,
   "metadata": {},
   "outputs": [],
   "source": [
    "batter = pd.read_csv('./Data/Regular_Season_Batter.csv')"
   ]
  },
  {
   "cell_type": "markdown",
   "metadata": {},
   "source": [
    "#### 나이변수 추가 "
   ]
  },
  {
   "cell_type": "code",
   "execution_count": 4,
   "metadata": {},
   "outputs": [],
   "source": [
    "batter['Age'] = batter['year'] - batter['year_born'].apply(lambda x: int(x[:4]))"
   ]
  },
  {
   "cell_type": "markdown",
   "metadata": {},
   "source": [
    "#### height/weight 각자 다른 column으로 분류후 결측치 평균으로 채우기 "
   ]
  },
  {
   "cell_type": "code",
   "execution_count": 5,
   "metadata": {},
   "outputs": [],
   "source": [
    "batter['height/weight'] = batter['height/weight'].fillna('0cm/0kg')\n",
    "\n",
    "batter['height'] = batter['height/weight'].apply(lambda x: int(x.split('/')[0][:-2]))\n",
    "batter['weight'] = batter['height/weight'].apply(lambda x: int(x.split('/')[1][:-2]))\n",
    "\n",
    "mean_h = np.mean(batter['height'][batter['height'] != 0])\n",
    "mean_w = np.mean(batter['weight'][batter['weight'] != 0])\n",
    "\n",
    "batter['height'] = batter['height'].apply(lambda x: mean_h if x == 0 else x)\n",
    "batter['weight'] = batter['weight'].apply(lambda x: mean_w if x == 0 else x)"
   ]
  },
  {
   "cell_type": "markdown",
   "metadata": {},
   "source": [
    "#### 규정타석을 채운 타자 데이터 추출 후 이상치 제거 "
   ]
  },
  {
   "cell_type": "code",
   "execution_count": 6,
   "metadata": {},
   "outputs": [],
   "source": [
    "batter = batter[batter['AB'] >= 396]\n",
    "\n",
    "batter = batter.drop(1935, axis = 0)"
   ]
  },
  {
   "cell_type": "markdown",
   "metadata": {},
   "source": [
    "#### 연속형 변수만 채택 "
   ]
  },
  {
   "cell_type": "code",
   "execution_count": 7,
   "metadata": {},
   "outputs": [],
   "source": [
    "batter_conti = batter.drop(['batter_id', 'year', 'year_born', 'batter_name',\n",
    "                            'team', 'position', 'career', 'starting_salary', 'height/weight'], axis=1)"
   ]
  },
  {
   "cell_type": "markdown",
   "metadata": {},
   "source": [
    "#### Target 분리 "
   ]
  },
  {
   "cell_type": "code",
   "execution_count": 8,
   "metadata": {},
   "outputs": [],
   "source": [
    "target_OPS = batter_conti['OPS']"
   ]
  },
  {
   "cell_type": "code",
   "execution_count": 9,
   "metadata": {},
   "outputs": [],
   "source": [
    "batter_conti_ = batter_conti.drop(['avg', 'OPS', 'SLG', 'OBP'], axis=1)\n",
    "batter_conti_1 = sm.add_constant(batter_conti_, has_constant='add')"
   ]
  },
  {
   "cell_type": "markdown",
   "metadata": {},
   "source": [
    "### 학습데이터 / 평가데이터 분할 "
   ]
  },
  {
   "cell_type": "code",
   "execution_count": 10,
   "metadata": {},
   "outputs": [
    {
     "data": {
      "text/plain": [
       "((332, 20), (143, 20), (332,), (143,))"
      ]
     },
     "execution_count": 10,
     "metadata": {},
     "output_type": "execute_result"
    }
   ],
   "source": [
    "feature_columns = list(batter_conti_1.columns)\n",
    "\n",
    "X = batter_conti_1[feature_columns]\n",
    "y = target_OPS\n",
    "train_x, test_x, train_y, test_y = train_test_split(X, y, train_size=0.7, test_size=0.3)\n",
    "train_x.shape, test_x.shape, train_y.shape, test_y.shape"
   ]
  },
  {
   "cell_type": "markdown",
   "metadata": {},
   "source": [
    "### Baseline(Full) 모델 적합 "
   ]
  },
  {
   "cell_type": "code",
   "execution_count": 11,
   "metadata": {},
   "outputs": [],
   "source": [
    "full_model = sm.OLS(train_y, train_x)\n",
    "fitted_full_model = full_model.fit()"
   ]
  },
  {
   "cell_type": "markdown",
   "metadata": {},
   "source": [
    "#### 적합 결과 확인 "
   ]
  },
  {
   "cell_type": "code",
   "execution_count": 12,
   "metadata": {},
   "outputs": [
    {
     "name": "stdout",
     "output_type": "stream",
     "text": [
      "                            OLS Regression Results                            \n",
      "==============================================================================\n",
      "Dep. Variable:                    OPS   R-squared:                       0.993\n",
      "Model:                            OLS   Adj. R-squared:                  0.993\n",
      "Method:                 Least Squares   F-statistic:                     2436.\n",
      "Date:                Sun, 21 Jun 2020   Prob (F-statistic):          4.94e-324\n",
      "Time:                        21:43:25   Log-Likelihood:                 1096.7\n",
      "No. Observations:                 332   AIC:                            -2155.\n",
      "Df Residuals:                     313   BIC:                            -2083.\n",
      "Df Model:                          18                                         \n",
      "Covariance Type:            nonrobust                                         \n",
      "==============================================================================\n",
      "                 coef    std err          t      P>|t|      [0.025      0.975]\n",
      "------------------------------------------------------------------------------\n",
      "const          0.8293      0.027     30.578      0.000       0.776       0.883\n",
      "G             -0.0004   9.85e-05     -3.871      0.000      -0.001      -0.000\n",
      "AB            -0.0017   3.01e-05    -57.084      0.000      -0.002      -0.002\n",
      "R           4.589e-05   6.12e-05      0.749      0.454   -7.46e-05       0.000\n",
      "H              0.0020   7.24e-05     28.207      0.000       0.002       0.002\n",
      "2B         -1.131e-05      0.000     -0.112      0.911      -0.000       0.000\n",
      "3B            -0.0003      0.000     -1.546      0.123      -0.001    8.57e-05\n",
      "HR             0.0002      0.000      2.246      0.025    2.88e-05       0.000\n",
      "TB             0.0021   4.76e-05     44.175      0.000       0.002       0.002\n",
      "RBI        -8.915e-05   5.31e-05     -1.678      0.094      -0.000    1.54e-05\n",
      "SB         -1.228e-07   6.34e-05     -0.002      0.998      -0.000       0.000\n",
      "CS             0.0002      0.000      0.972      0.332      -0.000       0.001\n",
      "BB             0.0012   4.15e-05     29.428      0.000       0.001       0.001\n",
      "HBP            0.0015      0.000     12.123      0.000       0.001       0.002\n",
      "SO          4.366e-05   2.87e-05      1.521      0.129   -1.28e-05       0.000\n",
      "GDP            0.0005      0.000      3.449      0.001       0.000       0.001\n",
      "E          -2.501e-05      0.000     -0.248      0.804      -0.000       0.000\n",
      "Age           -0.0002      0.000     -1.244      0.215      -0.000       0.000\n",
      "height         0.0003      0.000      1.985      0.048    2.78e-06       0.001\n",
      "weight        -0.0002   7.35e-05     -2.647      0.009      -0.000   -4.99e-05\n",
      "==============================================================================\n",
      "Omnibus:                       23.275   Durbin-Watson:                   2.056\n",
      "Prob(Omnibus):                  0.000   Jarque-Bera (JB):               76.012\n",
      "Skew:                          -0.139   Prob(JB):                     3.12e-17\n",
      "Kurtosis:                       5.327   Cond. No.                     6.09e+16\n",
      "==============================================================================\n",
      "\n",
      "Warnings:\n",
      "[1] Standard Errors assume that the covariance matrix of the errors is correctly specified.\n",
      "[2] The smallest eigenvalue is 3.17e-26. This might indicate that there are\n",
      "strong multicollinearity problems or that the design matrix is singular.\n"
     ]
    }
   ],
   "source": [
    "print(fitted_full_model.summary())"
   ]
  },
  {
   "cell_type": "markdown",
   "metadata": {},
   "source": [
    "#### VIF를 통한 다중공선성 확인 "
   ]
  },
  {
   "cell_type": "code",
   "execution_count": 13,
   "metadata": {},
   "outputs": [
    {
     "name": "stderr",
     "output_type": "stream",
     "text": [
      "/opt/anaconda3/lib/python3.7/site-packages/statsmodels/stats/outliers_influence.py:193: RuntimeWarning: divide by zero encountered in double_scalars\n",
      "  vif = 1. / (1. - r_squared_i)\n"
     ]
    },
    {
     "data": {
      "text/html": [
       "<div>\n",
       "<style scoped>\n",
       "    .dataframe tbody tr th:only-of-type {\n",
       "        vertical-align: middle;\n",
       "    }\n",
       "\n",
       "    .dataframe tbody tr th {\n",
       "        vertical-align: top;\n",
       "    }\n",
       "\n",
       "    .dataframe thead th {\n",
       "        text-align: right;\n",
       "    }\n",
       "</style>\n",
       "<table border=\"1\" class=\"dataframe\">\n",
       "  <thead>\n",
       "    <tr style=\"text-align: right;\">\n",
       "      <th></th>\n",
       "      <th>VIF_Factor</th>\n",
       "      <th>features</th>\n",
       "    </tr>\n",
       "  </thead>\n",
       "  <tbody>\n",
       "    <tr>\n",
       "      <th>0</th>\n",
       "      <td>573.828417</td>\n",
       "      <td>G</td>\n",
       "    </tr>\n",
       "    <tr>\n",
       "      <th>1</th>\n",
       "      <td>716.843679</td>\n",
       "      <td>AB</td>\n",
       "    </tr>\n",
       "    <tr>\n",
       "      <th>2</th>\n",
       "      <td>87.500905</td>\n",
       "      <td>R</td>\n",
       "    </tr>\n",
       "    <tr>\n",
       "      <th>3</th>\n",
       "      <td>inf</td>\n",
       "      <td>H</td>\n",
       "    </tr>\n",
       "    <tr>\n",
       "      <th>4</th>\n",
       "      <td>inf</td>\n",
       "      <td>2B</td>\n",
       "    </tr>\n",
       "    <tr>\n",
       "      <th>5</th>\n",
       "      <td>inf</td>\n",
       "      <td>3B</td>\n",
       "    </tr>\n",
       "    <tr>\n",
       "      <th>6</th>\n",
       "      <td>inf</td>\n",
       "      <td>HR</td>\n",
       "    </tr>\n",
       "    <tr>\n",
       "      <th>7</th>\n",
       "      <td>inf</td>\n",
       "      <td>TB</td>\n",
       "    </tr>\n",
       "    <tr>\n",
       "      <th>8</th>\n",
       "      <td>61.559165</td>\n",
       "      <td>RBI</td>\n",
       "    </tr>\n",
       "    <tr>\n",
       "      <th>9</th>\n",
       "      <td>6.011886</td>\n",
       "      <td>SB</td>\n",
       "    </tr>\n",
       "    <tr>\n",
       "      <th>10</th>\n",
       "      <td>6.672042</td>\n",
       "      <td>CS</td>\n",
       "    </tr>\n",
       "    <tr>\n",
       "      <th>11</th>\n",
       "      <td>17.049327</td>\n",
       "      <td>BB</td>\n",
       "    </tr>\n",
       "    <tr>\n",
       "      <th>12</th>\n",
       "      <td>4.235075</td>\n",
       "      <td>HBP</td>\n",
       "    </tr>\n",
       "    <tr>\n",
       "      <th>13</th>\n",
       "      <td>20.215146</td>\n",
       "      <td>SO</td>\n",
       "    </tr>\n",
       "    <tr>\n",
       "      <th>14</th>\n",
       "      <td>9.981807</td>\n",
       "      <td>GDP</td>\n",
       "    </tr>\n",
       "    <tr>\n",
       "      <th>15</th>\n",
       "      <td>3.298697</td>\n",
       "      <td>E</td>\n",
       "    </tr>\n",
       "    <tr>\n",
       "      <th>16</th>\n",
       "      <td>64.488735</td>\n",
       "      <td>Age</td>\n",
       "    </tr>\n",
       "    <tr>\n",
       "      <th>17</th>\n",
       "      <td>454.163987</td>\n",
       "      <td>height</td>\n",
       "    </tr>\n",
       "    <tr>\n",
       "      <th>18</th>\n",
       "      <td>143.533195</td>\n",
       "      <td>weight</td>\n",
       "    </tr>\n",
       "  </tbody>\n",
       "</table>\n",
       "</div>"
      ],
      "text/plain": [
       "    VIF_Factor features\n",
       "0   573.828417        G\n",
       "1   716.843679       AB\n",
       "2    87.500905        R\n",
       "3          inf        H\n",
       "4          inf       2B\n",
       "5          inf       3B\n",
       "6          inf       HR\n",
       "7          inf       TB\n",
       "8    61.559165      RBI\n",
       "9     6.011886       SB\n",
       "10    6.672042       CS\n",
       "11   17.049327       BB\n",
       "12    4.235075      HBP\n",
       "13   20.215146       SO\n",
       "14    9.981807      GDP\n",
       "15    3.298697        E\n",
       "16   64.488735      Age\n",
       "17  454.163987   height\n",
       "18  143.533195   weight"
      ]
     },
     "execution_count": 13,
     "metadata": {},
     "output_type": "execute_result"
    }
   ],
   "source": [
    "vif = pd.DataFrame()\n",
    "vif['VIF_Factor'] = [variance_inflation_factor(batter_conti_.values, i) for i in range(batter_conti_.shape[1])]\n",
    "vif['features'] = batter_conti_.columns\n",
    "vif"
   ]
  },
  {
   "cell_type": "markdown",
   "metadata": {},
   "source": [
    "#### 잔차비교, QQ plot, Residual Plot 확인 "
   ]
  },
  {
   "cell_type": "code",
   "execution_count": 14,
   "metadata": {},
   "outputs": [
    {
     "data": {
      "image/png": "[encoded data removed]",
      "text/plain": [
       "<Figure size 432x288 with 1 Axes>"
      ]
     },
     "metadata": {
      "needs_background": "light"
     },
     "output_type": "display_data"
    },
    {
     "data": {
      "image/png": "[encoded data removed]",
      "text/plain": [
       "<Figure size 432x288 with 1 Axes>"
      ]
     },
     "metadata": {
      "needs_background": "light"
     },
     "output_type": "display_data"
    }
   ],
   "source": [
    "plt.scatter(fitted_full_model.predict(train_x), fitted_full_model.resid, s=4)\n",
    "plt.axhline(y=0, color='r', linewidth=1)\n",
    "plt.xlabel('Fitted values')\n",
    "plt.ylabel('Residual')\n",
    "plt.show()\n",
    "\n",
    "fig = sm.qqplot(fitted_full_model.resid, fit=True, line='45')"
   ]
  },
  {
   "cell_type": "markdown",
   "metadata": {},
   "source": [
    "### SLR (타점, RBI) 모델 적합 "
   ]
  },
  {
   "cell_type": "code",
   "execution_count": 15,
   "metadata": {},
   "outputs": [],
   "source": [
    "RBI = train_x['RBI']\n",
    "RBI1 = sm.add_constant(RBI, has_constant='add')\n",
    "\n",
    "model_RBI = sm.OLS(train_y, RBI1)\n",
    "fitted_model_RBI = model_RBI.fit()\n",
    "\n",
    "pred_RBI = fitted_model_RBI.predict(RBI1)"
   ]
  },
  {
   "cell_type": "markdown",
   "metadata": {},
   "source": [
    "#### 결과 확인 "
   ]
  },
  {
   "cell_type": "code",
   "execution_count": 16,
   "metadata": {},
   "outputs": [
    {
     "name": "stdout",
     "output_type": "stream",
     "text": [
      "                            OLS Regression Results                            \n",
      "==============================================================================\n",
      "Dep. Variable:                    OPS   R-squared:                       0.625\n",
      "Model:                            OLS   Adj. R-squared:                  0.624\n",
      "Method:                 Least Squares   F-statistic:                     549.4\n",
      "Date:                Sun, 21 Jun 2020   Prob (F-statistic):           3.19e-72\n",
      "Time:                        21:43:26   Log-Likelihood:                 437.81\n",
      "No. Observations:                 332   AIC:                            -871.6\n",
      "Df Residuals:                     330   BIC:                            -864.0\n",
      "Df Model:                           1                                         \n",
      "Covariance Type:            nonrobust                                         \n",
      "==============================================================================\n",
      "                 coef    std err          t      P>|t|      [0.025      0.975]\n",
      "------------------------------------------------------------------------------\n",
      "const          0.5850      0.011     50.956      0.000       0.562       0.608\n",
      "RBI            0.0036      0.000     23.440      0.000       0.003       0.004\n",
      "==============================================================================\n",
      "Omnibus:                       14.076   Durbin-Watson:                   2.001\n",
      "Prob(Omnibus):                  0.001   Jarque-Bera (JB):               14.734\n",
      "Skew:                           0.508   Prob(JB):                     0.000632\n",
      "Kurtosis:                       3.182   Cond. No.                         243.\n",
      "==============================================================================\n",
      "\n",
      "Warnings:\n",
      "[1] Standard Errors assume that the covariance matrix of the errors is correctly specified.\n"
     ]
    }
   ],
   "source": [
    "print(fitted_model_RBI.summary())"
   ]
  },
  {
   "cell_type": "markdown",
   "metadata": {},
   "source": [
    "#### 적합 그래프, QQ plot, Residual Plot 확인 "
   ]
  },
  {
   "cell_type": "code",
   "execution_count": 17,
   "metadata": {},
   "outputs": [
    {
     "data": {
      "image/png": "[encoded data removed]",
      "text/plain": [
       "<Figure size 864x360 with 2 Axes>"
      ]
     },
     "metadata": {
      "needs_background": "light"
     },
     "output_type": "display_data"
    },
    {
     "data": {
      "text/plain": [
       "Text(0.5, 1.0, 'RBI')"
      ]
     },
     "execution_count": 17,
     "metadata": {},
     "output_type": "execute_result"
    },
    {
     "data": {
      "image/png": "[encoded data removed]",
      "text/plain": [
       "<Figure size 432x288 with 1 Axes>"
      ]
     },
     "metadata": {
      "needs_background": "light"
     },
     "output_type": "display_data"
    }
   ],
   "source": [
    "plt.figure(figsize=(12, 5))\n",
    "\n",
    "plt.subplot(121)\n",
    "plt.scatter(RBI, train_y, label='data')\n",
    "plt.plot(RBI, pred_RBI, 'r', label='RBI result')\n",
    "plt.xlabel('RBI')\n",
    "plt.legend()\n",
    "\n",
    "plt.subplot(122)\n",
    "plt.scatter(fitted_model_RBI.predict(RBI1), fitted_model_RBI.resid, s=4)\n",
    "plt.axhline(y=0, color='r', linewidth=1)\n",
    "plt.title('RBI')\n",
    "plt.xlabel('Fitted values')\n",
    "plt.ylabel('Residual')\n",
    "\n",
    "plt.show()\n",
    "\n",
    "sm.qqplot(fitted_model_RBI.resid, fit=True, line='45')\n",
    "plt.title('RBI')"
   ]
  },
  {
   "cell_type": "markdown",
   "metadata": {},
   "source": [
    "# 다중선형회귀모형 적합 "
   ]
  },
  {
   "cell_type": "markdown",
   "metadata": {},
   "source": [
    "### Baseline 모델에 대한 평가 "
   ]
  },
  {
   "cell_type": "code",
   "execution_count": 18,
   "metadata": {},
   "outputs": [
    {
     "name": "stdout",
     "output_type": "stream",
     "text": [
      "                            OLS Regression Results                            \n",
      "==============================================================================\n",
      "Dep. Variable:                    OPS   R-squared:                       0.993\n",
      "Model:                            OLS   Adj. R-squared:                  0.993\n",
      "Method:                 Least Squares   F-statistic:                     2436.\n",
      "Date:                Sun, 21 Jun 2020   Prob (F-statistic):          4.94e-324\n",
      "Time:                        21:43:26   Log-Likelihood:                 1096.7\n",
      "No. Observations:                 332   AIC:                            -2155.\n",
      "Df Residuals:                     313   BIC:                            -2083.\n",
      "Df Model:                          18                                         \n",
      "Covariance Type:            nonrobust                                         \n",
      "==============================================================================\n",
      "                 coef    std err          t      P>|t|      [0.025      0.975]\n",
      "------------------------------------------------------------------------------\n",
      "const          0.8293      0.027     30.578      0.000       0.776       0.883\n",
      "G             -0.0004   9.85e-05     -3.871      0.000      -0.001      -0.000\n",
      "AB            -0.0017   3.01e-05    -57.084      0.000      -0.002      -0.002\n",
      "R           4.589e-05   6.12e-05      0.749      0.454   -7.46e-05       0.000\n",
      "H              0.0020   7.24e-05     28.207      0.000       0.002       0.002\n",
      "2B         -1.131e-05      0.000     -0.112      0.911      -0.000       0.000\n",
      "3B            -0.0003      0.000     -1.546      0.123      -0.001    8.57e-05\n",
      "HR             0.0002      0.000      2.246      0.025    2.88e-05       0.000\n",
      "TB             0.0021   4.76e-05     44.175      0.000       0.002       0.002\n",
      "RBI        -8.915e-05   5.31e-05     -1.678      0.094      -0.000    1.54e-05\n",
      "SB         -1.228e-07   6.34e-05     -0.002      0.998      -0.000       0.000\n",
      "CS             0.0002      0.000      0.972      0.332      -0.000       0.001\n",
      "BB             0.0012   4.15e-05     29.428      0.000       0.001       0.001\n",
      "HBP            0.0015      0.000     12.123      0.000       0.001       0.002\n",
      "SO          4.366e-05   2.87e-05      1.521      0.129   -1.28e-05       0.000\n",
      "GDP            0.0005      0.000      3.449      0.001       0.000       0.001\n",
      "E          -2.501e-05      0.000     -0.248      0.804      -0.000       0.000\n",
      "Age           -0.0002      0.000     -1.244      0.215      -0.000       0.000\n",
      "height         0.0003      0.000      1.985      0.048    2.78e-06       0.001\n",
      "weight        -0.0002   7.35e-05     -2.647      0.009      -0.000   -4.99e-05\n",
      "==============================================================================\n",
      "Omnibus:                       23.275   Durbin-Watson:                   2.056\n",
      "Prob(Omnibus):                  0.000   Jarque-Bera (JB):               76.012\n",
      "Skew:                          -0.139   Prob(JB):                     3.12e-17\n",
      "Kurtosis:                       5.327   Cond. No.                     6.09e+16\n",
      "==============================================================================\n",
      "\n",
      "Warnings:\n",
      "[1] Standard Errors assume that the covariance matrix of the errors is correctly specified.\n",
      "[2] The smallest eigenvalue is 3.17e-26. This might indicate that there are\n",
      "strong multicollinearity problems or that the design matrix is singular.\n"
     ]
    }
   ],
   "source": [
    "print(fitted_full_model.summary())"
   ]
  },
  {
   "cell_type": "markdown",
   "metadata": {},
   "source": [
    "#### 검증데이터 예측 "
   ]
  },
  {
   "cell_type": "code",
   "execution_count": 19,
   "metadata": {},
   "outputs": [],
   "source": [
    "pred_full = fitted_full_model.predict(test_x)"
   ]
  },
  {
   "cell_type": "markdown",
   "metadata": {},
   "source": [
    "#### Residual Plot "
   ]
  },
  {
   "cell_type": "code",
   "execution_count": 20,
   "metadata": {},
   "outputs": [
    {
     "data": {
      "image/png": "[encoded data removed]",
      "text/plain": [
       "<Figure size 432x288 with 1 Axes>"
      ]
     },
     "metadata": {
      "needs_background": "light"
     },
     "output_type": "display_data"
    }
   ],
   "source": [
    "plt.plot(np.array(test_y - pred_full), label='pred_full')\n",
    "plt.legend()\n",
    "plt.show()"
   ]
  },
  {
   "cell_type": "markdown",
   "metadata": {},
   "source": [
    "#### MSE 성능 평가 "
   ]
  },
  {
   "cell_type": "code",
   "execution_count": 21,
   "metadata": {},
   "outputs": [
    {
     "data": {
      "text/plain": [
       "0.0001091079725462296"
      ]
     },
     "execution_count": 21,
     "metadata": {},
     "output_type": "execute_result"
    }
   ],
   "source": [
    "mean_squared_error(y_true= test_y, y_pred = pred_full)"
   ]
  },
  {
   "cell_type": "markdown",
   "metadata": {},
   "source": [
    "### 변수선택법 "
   ]
  },
  {
   "cell_type": "code",
   "execution_count": 22,
   "metadata": {},
   "outputs": [
    {
     "name": "stdout",
     "output_type": "stream",
     "text": [
      "{'model': <statsmodels.regression.linear_model.RegressionResultsWrapper object at 0x7fea3ed15ad0>, 'AIC': -2155.399522051572}\n"
     ]
    }
   ],
   "source": [
    "def processSubset(X, y, feature_set):\n",
    "    model = sm.OLS(y, X[list(feature_set)])\n",
    "    regr = model.fit()\n",
    "    AIC = regr.aic\n",
    "    return {'model': regr, 'AIC': AIC}\n",
    "\n",
    "print(processSubset(X=train_x, y=train_y, feature_set=feature_columns))"
   ]
  },
  {
   "cell_type": "code",
   "execution_count": 23,
   "metadata": {
    "scrolled": true
   },
   "outputs": [
    {
     "name": "stdout",
     "output_type": "stream",
     "text": [
      "Processed 171 models on 2 predictors in 0.18451404571533203 seconds\n",
      "model    <statsmodels.regression.linear_model.Regressio...\n",
      "AIC                                               -1408.73\n",
      "Name: 48, dtype: object\n"
     ]
    }
   ],
   "source": [
    "# getBest: 가장 낮은 AIC를 가지는 모델 선택 및 저장\n",
    "def getBest(X, y, k):\n",
    "    tic = time.time() # 시작시간\n",
    "    results = [] # 결과 저장공간\n",
    "    for combo in itertools.combinations(X.columns.difference(['const']), k): # 각 변수조합을 고려한 경우의 수\n",
    "        combo = (list(combo) + ['const'])\n",
    "        \n",
    "        results.append(processSubset(X, y, feature_set=combo)) # 모델링된 것들을 저장\n",
    "    models = pd.DataFrame(results)\n",
    "    # 가장 낮은 AIC를 가지는 모델 선택 및 저장\n",
    "    best_model = models.loc[models['AIC'].argmin()]\n",
    "    toc = time.time()\n",
    "    print('Processed', models.shape[0], 'models on', k, 'predictors in', (toc - tic), 'seconds')\n",
    "    return best_model\n",
    "\n",
    "print(getBest(X=train_x, y=train_y, k=2))"
   ]
  },
  {
   "cell_type": "markdown",
   "metadata": {},
   "source": [
    "### 변수 선택에 따른 학습시간과 모델저장 "
   ]
  },
  {
   "cell_type": "code",
   "execution_count": 24,
   "metadata": {
    "scrolled": false
   },
   "outputs": [
    {
     "name": "stdout",
     "output_type": "stream",
     "text": [
      "Processed 19 models on 1 predictors in 0.024026155471801758 seconds\n",
      "Processed 171 models on 2 predictors in 0.17008376121520996 seconds\n",
      "Processed 969 models on 3 predictors in 1.0821008682250977 seconds\n",
      "Total elapsed time: 1.2933640480041504 seconds\n"
     ]
    }
   ],
   "source": [
    "models = pd.DataFrame(columns=['AIC', 'model'])\n",
    "tic = time.time()\n",
    "for i in range(1, 4):\n",
    "    models.loc[i] = getBest(X=train_x, y=train_y, k=i)\n",
    "toc = time.time()\n",
    "print('Total elapsed time:', (toc-tic), 'seconds')"
   ]
  },
  {
   "cell_type": "code",
   "execution_count": 25,
   "metadata": {
    "scrolled": true
   },
   "outputs": [
    {
     "data": {
      "text/html": [
       "<div>\n",
       "<style scoped>\n",
       "    .dataframe tbody tr th:only-of-type {\n",
       "        vertical-align: middle;\n",
       "    }\n",
       "\n",
       "    .dataframe tbody tr th {\n",
       "        vertical-align: top;\n",
       "    }\n",
       "\n",
       "    .dataframe thead th {\n",
       "        text-align: right;\n",
       "    }\n",
       "</style>\n",
       "<table border=\"1\" class=\"dataframe\">\n",
       "  <thead>\n",
       "    <tr style=\"text-align: right;\">\n",
       "      <th></th>\n",
       "      <th>AIC</th>\n",
       "      <th>model</th>\n",
       "    </tr>\n",
       "  </thead>\n",
       "  <tbody>\n",
       "    <tr>\n",
       "      <th>1</th>\n",
       "      <td>-1017.716861</td>\n",
       "      <td>&lt;statsmodels.regression.linear_model.Regressio...</td>\n",
       "    </tr>\n",
       "    <tr>\n",
       "      <th>2</th>\n",
       "      <td>-1408.732817</td>\n",
       "      <td>&lt;statsmodels.regression.linear_model.Regressio...</td>\n",
       "    </tr>\n",
       "    <tr>\n",
       "      <th>3</th>\n",
       "      <td>-1627.890494</td>\n",
       "      <td>&lt;statsmodels.regression.linear_model.Regressio...</td>\n",
       "    </tr>\n",
       "  </tbody>\n",
       "</table>\n",
       "</div>"
      ],
      "text/plain": [
       "           AIC                                              model\n",
       "1 -1017.716861  <statsmodels.regression.linear_model.Regressio...\n",
       "2 -1408.732817  <statsmodels.regression.linear_model.Regressio...\n",
       "3 -1627.890494  <statsmodels.regression.linear_model.Regressio..."
      ]
     },
     "execution_count": 25,
     "metadata": {},
     "output_type": "execute_result"
    }
   ],
   "source": [
    "models"
   ]
  },
  {
   "cell_type": "code",
   "execution_count": 26,
   "metadata": {},
   "outputs": [
    {
     "name": "stdout",
     "output_type": "stream",
     "text": [
      "                            OLS Regression Results                            \n",
      "==============================================================================\n",
      "Dep. Variable:                    OPS   R-squared:                       0.962\n",
      "Model:                            OLS   Adj. R-squared:                  0.962\n",
      "Method:                 Least Squares   F-statistic:                     2768.\n",
      "Date:                Sun, 21 Jun 2020   Prob (F-statistic):          1.72e-232\n",
      "Time:                        21:43:28   Log-Likelihood:                 817.95\n",
      "No. Observations:                 332   AIC:                            -1628.\n",
      "Df Residuals:                     328   BIC:                            -1613.\n",
      "Df Model:                           3                                         \n",
      "Covariance Type:            nonrobust                                         \n",
      "==============================================================================\n",
      "                 coef    std err          t      P>|t|      [0.025      0.975]\n",
      "------------------------------------------------------------------------------\n",
      "AB            -0.0018   4.42e-05    -40.313      0.000      -0.002      -0.002\n",
      "H              0.0019      0.000     17.622      0.000       0.002       0.002\n",
      "TB             0.0024   3.94e-05     60.306      0.000       0.002       0.002\n",
      "const          0.8846      0.013     67.783      0.000       0.859       0.910\n",
      "==============================================================================\n",
      "Omnibus:                        0.546   Durbin-Watson:                   2.189\n",
      "Prob(Omnibus):                  0.761   Jarque-Bera (JB):                0.670\n",
      "Skew:                           0.060   Prob(JB):                        0.715\n",
      "Kurtosis:                       2.816   Cond. No.                     6.03e+03\n",
      "==============================================================================\n",
      "\n",
      "Warnings:\n",
      "[1] Standard Errors assume that the covariance matrix of the errors is correctly specified.\n",
      "[2] The condition number is large, 6.03e+03. This might indicate that there are\n",
      "strong multicollinearity or other numerical problems.\n"
     ]
    }
   ],
   "source": [
    "print(models.loc[3, 'model'].summary())"
   ]
  },
  {
   "cell_type": "markdown",
   "metadata": {},
   "source": [
    "### Baseline 모델과 비교 "
   ]
  },
  {
   "cell_type": "code",
   "execution_count": 27,
   "metadata": {},
   "outputs": [
    {
     "name": "stdout",
     "output_type": "stream",
     "text": [
      "full model Rsquared:  0.99291\n",
      "full model AIC:  -2155.39952\n",
      "selected model Rsquared:  0.96200\n",
      "selected model AIC:  -1627.89049\n"
     ]
    }
   ],
   "source": [
    "print('full model Rsquared: ', '{:.5f}'.format(fitted_full_model.rsquared))\n",
    "print('full model AIC: ', '{:.5f}'.format(fitted_full_model.aic))\n",
    "print('selected model Rsquared: ', '{:.5f}'.format(models.loc[3, 'model'].rsquared))\n",
    "print('selected model AIC: ', '{:.5f}'.format(models.loc[3, 'model'].aic))"
   ]
  },
  {
   "cell_type": "markdown",
   "metadata": {},
   "source": [
    "### Plot & Result "
   ]
  },
  {
   "cell_type": "code",
   "execution_count": 28,
   "metadata": {},
   "outputs": [
    {
     "data": {
      "text/plain": [
       "Text(0, 0.5, 'BIC')"
      ]
     },
     "execution_count": 28,
     "metadata": {},
     "output_type": "execute_result"
    },
    {
     "data": {
      "image/png": "[encoded data removed]",
      "text/plain": [
       "<Figure size 1440x720 with 4 Axes>"
      ]
     },
     "metadata": {
      "needs_background": "light"
     },
     "output_type": "display_data"
    }
   ],
   "source": [
    "plt.figure(figsize=(20, 10))\n",
    "plt.rcParams.update({'font.size': 18, 'lines.markersize': 10})\n",
    "\n",
    "## Mallow Cp\n",
    "plt.subplot(221)\n",
    "Cp = models.apply(lambda row: (row[1].params.shape[0] + (row[1].mse_total - fitted_full_model.mse_total) * \n",
    "                              (train_x.shape[0] - row[1].params.shape[0])/fitted_full_model.mse_total), axis=1)\n",
    "plt.plot(Cp)\n",
    "plt.plot(Cp.argmin(), Cp.min(), 'or')\n",
    "plt.xlabel('# Predictors')\n",
    "plt.ylabel('adjusted rsquared')\n",
    "\n",
    "## adj-rsquared plot\n",
    "## adj-rsquared = Explained variation / Total variation\n",
    "adj_rsquared = models.apply(lambda row: row[1].rsquared_adj, axis=1)\n",
    "plt.subplot(222)\n",
    "plt.plot(adj_rsquared)\n",
    "plt.plot(adj_rsquared.argmax(), adj_rsquared.max(), 'or')\n",
    "plt.xlabel('# Predictors')\n",
    "plt.ylabel('adjusted rsquared')\n",
    "\n",
    "## aic\n",
    "aic = models.apply(lambda row: row[1].aic, axis=1)\n",
    "plt.subplot(223)\n",
    "plt.plot(aic)\n",
    "plt.plot(aic.argmin(), aic.min(), 'or')\n",
    "plt.xlabel('# Predictors')\n",
    "plt.ylabel('AIC')\n",
    "\n",
    "## bic\n",
    "bic = models.apply(lambda row: row[1].bic, axis=1)\n",
    "plt.subplot(224)\n",
    "plt.plot(bic)\n",
    "plt.plot(bic.argmin(), bic.min(), 'or')\n",
    "plt.xlabel('# Predictors')\n",
    "plt.ylabel('BIC')"
   ]
  },
  {
   "cell_type": "markdown",
   "metadata": {},
   "source": [
    "# 전진선택법 "
   ]
  },
  {
   "cell_type": "code",
   "execution_count": 29,
   "metadata": {},
   "outputs": [],
   "source": [
    "def forward(X, y, predictors):\n",
    "    # 데이터 변수들이 미리정의된 predictors에 있는지 없는지 확인 및 분류\n",
    "    remaining_predictors = [p for p in X.columns.difference(['const']) if p not in predictors]\n",
    "    tic = time.time()\n",
    "    results = []\n",
    "    for p in remaining_predictors:\n",
    "        results.append(processSubset(X=X, y= y, feature_set=predictors+[p]+['const']))\n",
    "    # 데이터프레임으로 변환\n",
    "    models = pd.DataFrame(results)\n",
    "\n",
    "    # AIC가 가장 낮은 것을 선택\n",
    "    best_model = models.loc[models['AIC'].argmin()] # index\n",
    "    toc = time.time()\n",
    "    print(\"Processed \", models.shape[0], \"models on\", len(predictors)+1, \"predictors in\", (toc-tic))\n",
    "    print('Selected predictors:',best_model['model'].model.exog_names,' AIC:',best_model[0] )\n",
    "    return best_model"
   ]
  },
  {
   "cell_type": "code",
   "execution_count": 30,
   "metadata": {},
   "outputs": [],
   "source": [
    "def forward_model(X,y):\n",
    "    Fmodels = pd.DataFrame(columns=[\"AIC\", \"model\"])\n",
    "    tic = time.time()\n",
    "    # 미리 정의된 데이터 변수\n",
    "    predictors = []\n",
    "    # 변수 1~10개 : 0~9 -> 1~10\n",
    "    for i in range(1, len(X.columns.difference(['const'])) + 1):\n",
    "        Forward_result = forward(X=X,y=y,predictors=predictors)\n",
    "        if i > 1:\n",
    "            if Forward_result['AIC'] > Fmodel_before:\n",
    "                break\n",
    "        Fmodels.loc[i] = Forward_result\n",
    "        predictors = Fmodels.loc[i][\"model\"].model.exog_names\n",
    "        Fmodel_before = Fmodels.loc[i][\"AIC\"]\n",
    "        predictors = [ k for k in predictors if k != 'const']\n",
    "    toc = time.time()\n",
    "    print(\"Total elapsed time:\", (toc - tic), \"seconds.\")\n",
    "\n",
    "    return(Fmodels['model'][len(Fmodels['model'])])"
   ]
  },
  {
   "cell_type": "code",
   "execution_count": 31,
   "metadata": {},
   "outputs": [
    {
     "name": "stdout",
     "output_type": "stream",
     "text": [
      "Processed  19 models on 1 predictors in 0.03225517272949219\n",
      "Selected predictors: ['TB', 'const']  AIC: <statsmodels.regression.linear_model.RegressionResultsWrapper object at 0x7fea3f3434d0>\n",
      "Processed  18 models on 2 predictors in 0.02756667137145996\n",
      "Selected predictors: ['TB', 'AB', 'const']  AIC: <statsmodels.regression.linear_model.RegressionResultsWrapper object at 0x7fea3ee5d290>\n",
      "Processed  17 models on 3 predictors in 0.024011850357055664\n",
      "Selected predictors: ['TB', 'AB', 'H', 'const']  AIC: <statsmodels.regression.linear_model.RegressionResultsWrapper object at 0x7fea3f2bd490>\n",
      "Processed  16 models on 4 predictors in 0.023892879486083984\n",
      "Selected predictors: ['TB', 'AB', 'H', 'BB', 'const']  AIC: <statsmodels.regression.linear_model.RegressionResultsWrapper object at 0x7fea3ee5d090>\n",
      "Processed  15 models on 5 predictors in 0.020600080490112305\n",
      "Selected predictors: ['TB', 'AB', 'H', 'BB', 'HBP', 'const']  AIC: <statsmodels.regression.linear_model.RegressionResultsWrapper object at 0x7fea3f2bd9d0>\n",
      "Processed  14 models on 6 predictors in 0.020914793014526367\n",
      "Selected predictors: ['TB', 'AB', 'H', 'BB', 'HBP', 'G', 'const']  AIC: <statsmodels.regression.linear_model.RegressionResultsWrapper object at 0x7fea598d2f50>\n",
      "Processed  13 models on 7 predictors in 0.020798921585083008\n",
      "Selected predictors: ['TB', 'AB', 'H', 'BB', 'HBP', 'G', 'GDP', 'const']  AIC: <statsmodels.regression.linear_model.RegressionResultsWrapper object at 0x7fea598c23d0>\n",
      "Processed  12 models on 8 predictors in 0.020045995712280273\n",
      "Selected predictors: ['TB', 'AB', 'H', 'BB', 'HBP', 'G', 'GDP', 'RBI', 'const']  AIC: <statsmodels.regression.linear_model.RegressionResultsWrapper object at 0x7fea3f2bdbd0>\n",
      "Processed  11 models on 9 predictors in 0.01891779899597168\n",
      "Selected predictors: ['TB', 'AB', 'H', 'BB', 'HBP', 'G', 'GDP', 'RBI', 'weight', 'const']  AIC: <statsmodels.regression.linear_model.RegressionResultsWrapper object at 0x7fea3f2fb510>\n",
      "Processed  10 models on 10 predictors in 0.01730203628540039\n",
      "Selected predictors: ['TB', 'AB', 'H', 'BB', 'HBP', 'G', 'GDP', 'RBI', 'weight', 'height', 'const']  AIC: <statsmodels.regression.linear_model.RegressionResultsWrapper object at 0x7fea3f839e50>\n",
      "Processed  9 models on 11 predictors in 0.016502857208251953\n",
      "Selected predictors: ['TB', 'AB', 'H', 'BB', 'HBP', 'G', 'GDP', 'RBI', 'weight', 'height', 'HR', 'const']  AIC: <statsmodels.regression.linear_model.RegressionResultsWrapper object at 0x7fea3ee5d450>\n",
      "Total elapsed time: 0.2822380065917969 seconds.\n"
     ]
    }
   ],
   "source": [
    "Forward_best_model = forward_model(X=train_x, y=train_y)"
   ]
  },
  {
   "cell_type": "code",
   "execution_count": 32,
   "metadata": {},
   "outputs": [
    {
     "data": {
      "text/plain": [
       "-2163.218807548596"
      ]
     },
     "execution_count": 32,
     "metadata": {},
     "output_type": "execute_result"
    }
   ],
   "source": [
    "Forward_best_model.aic"
   ]
  },
  {
   "cell_type": "code",
   "execution_count": 33,
   "metadata": {},
   "outputs": [
    {
     "name": "stdout",
     "output_type": "stream",
     "text": [
      "                            OLS Regression Results                            \n",
      "==============================================================================\n",
      "Dep. Variable:                    OPS   R-squared:                       0.993\n",
      "Model:                            OLS   Adj. R-squared:                  0.993\n",
      "Method:                 Least Squares   F-statistic:                     4387.\n",
      "Date:                Sun, 21 Jun 2020   Prob (F-statistic):               0.00\n",
      "Time:                        21:43:29   Log-Likelihood:                 1092.6\n",
      "No. Observations:                 332   AIC:                            -2163.\n",
      "Df Residuals:                     321   BIC:                            -2121.\n",
      "Df Model:                          10                                         \n",
      "Covariance Type:            nonrobust                                         \n",
      "==============================================================================\n",
      "                 coef    std err          t      P>|t|      [0.025      0.975]\n",
      "------------------------------------------------------------------------------\n",
      "TB             0.0022   3.28e-05     66.707      0.000       0.002       0.002\n",
      "AB            -0.0017   2.65e-05    -63.852      0.000      -0.002      -0.002\n",
      "H              0.0019   5.41e-05     35.136      0.000       0.002       0.002\n",
      "BB             0.0013   3.67e-05     34.049      0.000       0.001       0.001\n",
      "HBP            0.0016      0.000     13.113      0.000       0.001       0.002\n",
      "G             -0.0004    9.1e-05     -4.436      0.000      -0.001      -0.000\n",
      "GDP            0.0004      0.000      3.205      0.001       0.000       0.001\n",
      "RBI        -9.367e-05      5e-05     -1.875      0.062      -0.000    4.64e-06\n",
      "weight        -0.0002   6.82e-05     -2.877      0.004      -0.000    -6.2e-05\n",
      "height         0.0004      0.000      2.391      0.017    6.61e-05       0.001\n",
      "const          0.8137      0.026     31.114      0.000       0.762       0.865\n",
      "==============================================================================\n",
      "Omnibus:                       26.013   Durbin-Watson:                   2.076\n",
      "Prob(Omnibus):                  0.000   Jarque-Bera (JB):              102.450\n",
      "Skew:                          -0.029   Prob(JB):                     5.67e-23\n",
      "Kurtosis:                       5.721   Cond. No.                     3.04e+04\n",
      "==============================================================================\n",
      "\n",
      "Warnings:\n",
      "[1] Standard Errors assume that the covariance matrix of the errors is correctly specified.\n",
      "[2] The condition number is large, 3.04e+04. This might indicate that there are\n",
      "strong multicollinearity or other numerical problems.\n"
     ]
    }
   ],
   "source": [
    "print(Forward_best_model.summary())"
   ]
  },
  {
   "cell_type": "markdown",
   "metadata": {},
   "source": [
    "# 후진소거법 "
   ]
  },
  {
   "cell_type": "code",
   "execution_count": 34,
   "metadata": {},
   "outputs": [],
   "source": [
    "def backward(X,y,predictors):\n",
    "    tic = time.time()\n",
    "    results = []\n",
    "    # 데이터 변수들이 미리정의된 predictors 조합 확인\n",
    "    for combo in itertools.combinations(predictors, len(predictors) - 1):\n",
    "        results.append(processSubset(X=X, y= y,feature_set=list(combo)+['const']))\n",
    "    models = pd.DataFrame(results)\n",
    "    # 가장 낮은 AIC를 가진 모델을 선택\n",
    "    best_model = models.loc[models['AIC'].argmin()]\n",
    "    toc = time.time()\n",
    "    print(\"Processed \", models.shape[0], \"models on\", len(predictors) - 1, \"predictors in\",\n",
    "          (toc - tic))\n",
    "    print('Selected predictors:',best_model['model'].model.exog_names,' AIC:',best_model[0] )\n",
    "    return best_model"
   ]
  },
  {
   "cell_type": "code",
   "execution_count": 35,
   "metadata": {},
   "outputs": [],
   "source": [
    "def backward_model(X, y):\n",
    "    Bmodels = pd.DataFrame(columns=[\"AIC\", \"model\"], index = range(1,len(X.columns)))\n",
    "    tic = time.time()\n",
    "    predictors = X.columns.difference(['const'])\n",
    "    Bmodel_before = processSubset(X,y,predictors)['AIC']\n",
    "    while (len(predictors) > 1):\n",
    "        Backward_result = backward(X=train_x, y= train_y, predictors = predictors)\n",
    "        if Backward_result['AIC'] > Bmodel_before:\n",
    "            break\n",
    "        Bmodels.loc[len(predictors) - 1] = Backward_result\n",
    "        predictors = Bmodels.loc[len(predictors) - 1][\"model\"].model.exog_names\n",
    "        Bmodel_before = Backward_result['AIC']\n",
    "        predictors = [ k for k in predictors if k != 'const']\n",
    "\n",
    "    toc = time.time()\n",
    "    print(\"Total elapsed time:\", (toc - tic), \"seconds.\")\n",
    "    return (Bmodels['model'].dropna().iloc[0])"
   ]
  },
  {
   "cell_type": "code",
   "execution_count": 36,
   "metadata": {},
   "outputs": [
    {
     "name": "stdout",
     "output_type": "stream",
     "text": [
      "Processed  19 models on 18 predictors in 0.03507685661315918\n",
      "Selected predictors: ['2B', '3B', 'AB', 'Age', 'BB', 'CS', 'E', 'G', 'GDP', 'H', 'HBP', 'HR', 'R', 'RBI', 'SO', 'TB', 'height', 'weight', 'const']  AIC: <statsmodels.regression.linear_model.RegressionResultsWrapper object at 0x7fea3f2f03d0>\n",
      "Processed  18 models on 17 predictors in 0.030514001846313477\n",
      "Selected predictors: ['2B', '3B', 'AB', 'Age', 'BB', 'CS', 'G', 'GDP', 'H', 'HBP', 'HR', 'R', 'RBI', 'SO', 'TB', 'height', 'weight', 'const']  AIC: <statsmodels.regression.linear_model.RegressionResultsWrapper object at 0x7fea3f30ea90>\n",
      "Processed  17 models on 16 predictors in 0.030028820037841797\n",
      "Selected predictors: ['2B', '3B', 'AB', 'Age', 'BB', 'CS', 'G', 'GDP', 'H', 'HBP', 'HR', 'RBI', 'SO', 'TB', 'height', 'weight', 'const']  AIC: <statsmodels.regression.linear_model.RegressionResultsWrapper object at 0x7fea3f2f0f50>\n",
      "Processed  16 models on 15 predictors in 0.027966022491455078\n",
      "Selected predictors: ['2B', '3B', 'AB', 'BB', 'CS', 'G', 'GDP', 'H', 'HBP', 'HR', 'RBI', 'SO', 'TB', 'height', 'weight', 'const']  AIC: <statsmodels.regression.linear_model.RegressionResultsWrapper object at 0x7fea3ee420d0>\n",
      "Processed  15 models on 14 predictors in 0.026545047760009766\n",
      "Selected predictors: ['2B', '3B', 'AB', 'BB', 'CS', 'G', 'GDP', 'H', 'HBP', 'RBI', 'SO', 'TB', 'height', 'weight', 'const']  AIC: <statsmodels.regression.linear_model.RegressionResultsWrapper object at 0x7fea3f2f04d0>\n",
      "Processed  14 models on 13 predictors in 0.024024009704589844\n",
      "Selected predictors: ['3B', 'AB', 'BB', 'CS', 'G', 'GDP', 'H', 'HBP', 'RBI', 'SO', 'TB', 'height', 'weight', 'const']  AIC: <statsmodels.regression.linear_model.RegressionResultsWrapper object at 0x7fea3f312450>\n",
      "Processed  13 models on 12 predictors in 0.021358966827392578\n",
      "Selected predictors: ['AB', 'BB', 'CS', 'G', 'GDP', 'H', 'HBP', 'RBI', 'SO', 'TB', 'height', 'weight', 'const']  AIC: <statsmodels.regression.linear_model.RegressionResultsWrapper object at 0x7fea3f312a90>\n",
      "Processed  12 models on 11 predictors in 0.018247127532958984\n",
      "Selected predictors: ['AB', 'BB', 'G', 'GDP', 'H', 'HBP', 'RBI', 'SO', 'TB', 'height', 'weight', 'const']  AIC: <statsmodels.regression.linear_model.RegressionResultsWrapper object at 0x7fea3ee42110>\n",
      "Processed  11 models on 10 predictors in 0.017154932022094727\n",
      "Selected predictors: ['AB', 'BB', 'G', 'GDP', 'H', 'HBP', 'RBI', 'TB', 'height', 'weight', 'const']  AIC: <statsmodels.regression.linear_model.RegressionResultsWrapper object at 0x7fea3f312510>\n",
      "Processed  10 models on 9 predictors in 0.014056921005249023\n",
      "Selected predictors: ['AB', 'BB', 'G', 'GDP', 'H', 'HBP', 'TB', 'height', 'weight', 'const']  AIC: <statsmodels.regression.linear_model.RegressionResultsWrapper object at 0x7fea3f2f0a90>\n",
      "Total elapsed time: 0.2618231773376465 seconds.\n"
     ]
    }
   ],
   "source": [
    "Backward_best_model = backward_model(X=train_x,y=train_y)"
   ]
  },
  {
   "cell_type": "code",
   "execution_count": 37,
   "metadata": {},
   "outputs": [
    {
     "data": {
      "text/plain": [
       "-2163.218807548597"
      ]
     },
     "execution_count": 37,
     "metadata": {},
     "output_type": "execute_result"
    }
   ],
   "source": [
    "Backward_best_model.aic"
   ]
  },
  {
   "cell_type": "code",
   "execution_count": 38,
   "metadata": {},
   "outputs": [
    {
     "name": "stdout",
     "output_type": "stream",
     "text": [
      "                            OLS Regression Results                            \n",
      "==============================================================================\n",
      "Dep. Variable:                    OPS   R-squared:                       0.993\n",
      "Model:                            OLS   Adj. R-squared:                  0.993\n",
      "Method:                 Least Squares   F-statistic:                     4387.\n",
      "Date:                Sun, 21 Jun 2020   Prob (F-statistic):               0.00\n",
      "Time:                        21:43:29   Log-Likelihood:                 1092.6\n",
      "No. Observations:                 332   AIC:                            -2163.\n",
      "Df Residuals:                     321   BIC:                            -2121.\n",
      "Df Model:                          10                                         \n",
      "Covariance Type:            nonrobust                                         \n",
      "==============================================================================\n",
      "                 coef    std err          t      P>|t|      [0.025      0.975]\n",
      "------------------------------------------------------------------------------\n",
      "AB            -0.0017   2.65e-05    -63.852      0.000      -0.002      -0.002\n",
      "BB             0.0013   3.67e-05     34.049      0.000       0.001       0.001\n",
      "G             -0.0004    9.1e-05     -4.436      0.000      -0.001      -0.000\n",
      "GDP            0.0004      0.000      3.205      0.001       0.000       0.001\n",
      "H              0.0019   5.41e-05     35.136      0.000       0.002       0.002\n",
      "HBP            0.0016      0.000     13.113      0.000       0.001       0.002\n",
      "RBI        -9.367e-05      5e-05     -1.875      0.062      -0.000    4.64e-06\n",
      "TB             0.0022   3.28e-05     66.707      0.000       0.002       0.002\n",
      "height         0.0004      0.000      2.391      0.017    6.61e-05       0.001\n",
      "weight        -0.0002   6.82e-05     -2.877      0.004      -0.000    -6.2e-05\n",
      "const          0.8137      0.026     31.114      0.000       0.762       0.865\n",
      "==============================================================================\n",
      "Omnibus:                       26.013   Durbin-Watson:                   2.076\n",
      "Prob(Omnibus):                  0.000   Jarque-Bera (JB):              102.450\n",
      "Skew:                          -0.029   Prob(JB):                     5.67e-23\n",
      "Kurtosis:                       5.721   Cond. No.                     3.04e+04\n",
      "==============================================================================\n",
      "\n",
      "Warnings:\n",
      "[1] Standard Errors assume that the covariance matrix of the errors is correctly specified.\n",
      "[2] The condition number is large, 3.04e+04. This might indicate that there are\n",
      "strong multicollinearity or other numerical problems.\n"
     ]
    }
   ],
   "source": [
    "print(Backward_best_model.summary())"
   ]
  },
  {
   "cell_type": "markdown",
   "metadata": {},
   "source": [
    "# 단계적 선택법"
   ]
  },
  {
   "cell_type": "code",
   "execution_count": 39,
   "metadata": {},
   "outputs": [],
   "source": [
    "def Stepwise_model(X, y):\n",
    "    Stepmodels = pd.DataFrame(columns=['AIC', 'model'])\n",
    "    tic = time.time()\n",
    "    predictors = []\n",
    "    Smodel_before = processSubset(X, y, predictors+['const'])['AIC']\n",
    "    # 변수 1~10개 : 0~9 -> 1~10\n",
    "    for i in range(1, len(X.columns.difference(['const']))+1):\n",
    "        Forward_result = forward(X=X, y=y, predictors=predictors)\n",
    "        print('forward')\n",
    "        Stepmodels.loc[i] = Forward_result\n",
    "        predictors = Stepmodels.loc[i]['model'].model.exog_names\n",
    "        predictors = [k for k in predictors if k != 'const']\n",
    "        Backward_result = backward(X=X, y=y, predictors=predictors)\n",
    "        if Backward_result['AIC'] < Forward_result['AIC']:\n",
    "            Stepmodels.loc[i] = Backward_result\n",
    "            predictors = Stepmodels.loc[i]['model'].model.exog_names\n",
    "            Smodel_before = Stepmodels.loc[i]['AIC']\n",
    "            predictors = [k for k in predictors if k != 'const']\n",
    "            print('backward')\n",
    "        if Stepmodels.loc[i]['AIC'] > Smodel_before: break\n",
    "        else: Smodel_before = Stepmodels.loc[i]['AIC']\n",
    "        \n",
    "    toc = time.time()\n",
    "    print('Total elapsed time:', (toc - tic), 'seconds')\n",
    "    \n",
    "    return (Stepmodels['model'][len(Stepmodels['model'])])"
   ]
  },
  {
   "cell_type": "code",
   "execution_count": 40,
   "metadata": {},
   "outputs": [
    {
     "name": "stdout",
     "output_type": "stream",
     "text": [
      "Processed  19 models on 1 predictors in 0.021574974060058594\n",
      "Selected predictors: ['TB', 'const']  AIC: <statsmodels.regression.linear_model.RegressionResultsWrapper object at 0x7fea3f2f0bd0>\n",
      "forward\n",
      "Processed  1 models on 0 predictors in 0.0018651485443115234\n",
      "Selected predictors: ['const']  AIC: <statsmodels.regression.linear_model.RegressionResultsWrapper object at 0x7fea3f884d90>\n",
      "Processed  18 models on 2 predictors in 0.02575373649597168\n",
      "Selected predictors: ['TB', 'AB', 'const']  AIC: <statsmodels.regression.linear_model.RegressionResultsWrapper object at 0x7fea3f884810>\n",
      "forward\n",
      "Processed  2 models on 1 predictors in 0.004360198974609375\n",
      "Selected predictors: ['TB', 'const']  AIC: <statsmodels.regression.linear_model.RegressionResultsWrapper object at 0x7fea3f2f4e50>\n",
      "Processed  17 models on 3 predictors in 0.022329092025756836\n",
      "Selected predictors: ['TB', 'AB', 'H', 'const']  AIC: <statsmodels.regression.linear_model.RegressionResultsWrapper object at 0x7fea3f884e50>\n",
      "forward\n",
      "Processed  3 models on 2 predictors in 0.006938934326171875\n",
      "Selected predictors: ['TB', 'AB', 'const']  AIC: <statsmodels.regression.linear_model.RegressionResultsWrapper object at 0x7fea3f88f450>\n",
      "Processed  16 models on 4 predictors in 0.021956205368041992\n",
      "Selected predictors: ['TB', 'AB', 'H', 'BB', 'const']  AIC: <statsmodels.regression.linear_model.RegressionResultsWrapper object at 0x7fea3f88f310>\n",
      "forward\n",
      "Processed  4 models on 3 predictors in 0.007504701614379883\n",
      "Selected predictors: ['TB', 'AB', 'H', 'const']  AIC: <statsmodels.regression.linear_model.RegressionResultsWrapper object at 0x7fea3f2fb890>\n",
      "Processed  15 models on 5 predictors in 0.023849964141845703\n",
      "Selected predictors: ['TB', 'AB', 'H', 'BB', 'HBP', 'const']  AIC: <statsmodels.regression.linear_model.RegressionResultsWrapper object at 0x7fea3f884410>\n",
      "forward\n",
      "Processed  5 models on 4 predictors in 0.010286808013916016\n",
      "Selected predictors: ['TB', 'AB', 'H', 'BB', 'const']  AIC: <statsmodels.regression.linear_model.RegressionResultsWrapper object at 0x7fea3f88f5d0>\n",
      "Processed  14 models on 6 predictors in 0.02145099639892578\n",
      "Selected predictors: ['TB', 'AB', 'H', 'BB', 'HBP', 'G', 'const']  AIC: <statsmodels.regression.linear_model.RegressionResultsWrapper object at 0x7fea3f88f750>\n",
      "forward\n",
      "Processed  6 models on 5 predictors in 0.010881900787353516\n",
      "Selected predictors: ['TB', 'AB', 'H', 'BB', 'HBP', 'const']  AIC: <statsmodels.regression.linear_model.RegressionResultsWrapper object at 0x7fea3f2f4e50>\n",
      "Processed  13 models on 7 predictors in 0.0183260440826416\n",
      "Selected predictors: ['TB', 'AB', 'H', 'BB', 'HBP', 'G', 'RBI', 'const']  AIC: <statsmodels.regression.linear_model.RegressionResultsWrapper object at 0x7fea3f88fd90>\n",
      "forward\n",
      "Processed  7 models on 6 predictors in 0.012586832046508789\n",
      "Selected predictors: ['TB', 'AB', 'H', 'BB', 'HBP', 'G', 'const']  AIC: <statsmodels.regression.linear_model.RegressionResultsWrapper object at 0x7fea3f896f50>\n",
      "Processed  12 models on 8 predictors in 0.01745915412902832\n",
      "Selected predictors: ['TB', 'AB', 'H', 'BB', 'HBP', 'G', 'RBI', 'GDP', 'const']  AIC: <statsmodels.regression.linear_model.RegressionResultsWrapper object at 0x7fea3f30e890>\n",
      "forward\n",
      "Processed  8 models on 7 predictors in 0.013523101806640625\n",
      "Selected predictors: ['TB', 'AB', 'H', 'BB', 'HBP', 'G', 'RBI', 'const']  AIC: <statsmodels.regression.linear_model.RegressionResultsWrapper object at 0x7fea3f884610>\n",
      "Processed  11 models on 9 predictors in 0.01678299903869629\n",
      "Selected predictors: ['TB', 'AB', 'H', 'BB', 'HBP', 'G', 'RBI', 'GDP', 'CS', 'const']  AIC: <statsmodels.regression.linear_model.RegressionResultsWrapper object at 0x7fea3f88ff50>\n",
      "forward\n",
      "Processed  9 models on 8 predictors in 0.01430201530456543\n",
      "Selected predictors: ['TB', 'AB', 'H', 'BB', 'HBP', 'G', 'RBI', 'GDP', 'const']  AIC: <statsmodels.regression.linear_model.RegressionResultsWrapper object at 0x7fea3f312190>\n",
      "Processed  10 models on 10 predictors in 0.016011953353881836\n",
      "Selected predictors: ['TB', 'AB', 'H', 'BB', 'HBP', 'G', 'RBI', 'GDP', 'CS', 'height', 'const']  AIC: <statsmodels.regression.linear_model.RegressionResultsWrapper object at 0x7fea3f884050>\n",
      "forward\n",
      "Processed  10 models on 9 predictors in 0.015437126159667969\n",
      "Selected predictors: ['TB', 'AB', 'H', 'BB', 'HBP', 'G', 'RBI', 'GDP', 'CS', 'const']  AIC: <statsmodels.regression.linear_model.RegressionResultsWrapper object at 0x7fea3f2f05d0>\n",
      "Processed  9 models on 11 predictors in 0.017030715942382812\n",
      "Selected predictors: ['TB', 'AB', 'H', 'BB', 'HBP', 'G', 'RBI', 'GDP', 'CS', 'height', 'weight', 'const']  AIC: <statsmodels.regression.linear_model.RegressionResultsWrapper object at 0x7fea3f8846d0>\n",
      "forward\n",
      "Processed  11 models on 10 predictors in 0.019199371337890625\n",
      "Selected predictors: ['TB', 'AB', 'H', 'BB', 'HBP', 'G', 'RBI', 'GDP', 'height', 'weight', 'const']  AIC: <statsmodels.regression.linear_model.RegressionResultsWrapper object at 0x7fea3f2f08d0>\n",
      "backward\n",
      "Processed  9 models on 11 predictors in 0.017752647399902344\n",
      "Selected predictors: ['TB', 'AB', 'H', 'BB', 'HBP', 'G', 'RBI', 'GDP', 'height', 'weight', 'CS', 'const']  AIC: <statsmodels.regression.linear_model.RegressionResultsWrapper object at 0x7fea3f88fdd0>\n",
      "forward\n",
      "Processed  11 models on 10 predictors in 0.018278837203979492\n",
      "Selected predictors: ['TB', 'AB', 'H', 'BB', 'HBP', 'G', 'RBI', 'GDP', 'height', 'weight', 'const']  AIC: <statsmodels.regression.linear_model.RegressionResultsWrapper object at 0x7fea3f312190>\n",
      "backward\n",
      "Processed  9 models on 11 predictors in 0.017799854278564453\n",
      "Selected predictors: ['TB', 'AB', 'H', 'BB', 'HBP', 'G', 'RBI', 'GDP', 'height', 'weight', 'CS', 'const']  AIC: <statsmodels.regression.linear_model.RegressionResultsWrapper object at 0x7fea3f88f290>\n",
      "forward\n",
      "Processed  11 models on 10 predictors in 0.01570415496826172\n",
      "Selected predictors: ['TB', 'AB', 'H', 'BB', 'HBP', 'G', 'RBI', 'GDP', 'height', 'weight', 'const']  AIC: <statsmodels.regression.linear_model.RegressionResultsWrapper object at 0x7fea3f896fd0>\n",
      "backward\n",
      "Processed  9 models on 11 predictors in 0.01793193817138672\n",
      "Selected predictors: ['TB', 'AB', 'H', 'BB', 'HBP', 'G', 'RBI', 'GDP', 'height', 'weight', 'CS', 'const']  AIC: <statsmodels.regression.linear_model.RegressionResultsWrapper object at 0x7fea3f88f490>\n",
      "forward\n",
      "Processed  11 models on 10 predictors in 0.01889801025390625\n",
      "Selected predictors: ['TB', 'AB', 'H', 'BB', 'HBP', 'G', 'RBI', 'GDP', 'height', 'weight', 'const']  AIC: <statsmodels.regression.linear_model.RegressionResultsWrapper object at 0x7fea3f896590>\n",
      "backward\n",
      "Processed  9 models on 11 predictors in 0.01794600486755371\n",
      "Selected predictors: ['TB', 'AB', 'H', 'BB', 'HBP', 'G', 'RBI', 'GDP', 'height', 'weight', 'CS', 'const']  AIC: <statsmodels.regression.linear_model.RegressionResultsWrapper object at 0x7fea3f884110>\n",
      "forward\n",
      "Processed  11 models on 10 predictors in 0.01896190643310547\n",
      "Selected predictors: ['TB', 'AB', 'H', 'BB', 'HBP', 'G', 'RBI', 'GDP', 'height', 'weight', 'const']  AIC: <statsmodels.regression.linear_model.RegressionResultsWrapper object at 0x7fea3f3125d0>\n",
      "backward\n",
      "Processed  9 models on 11 predictors in 0.017927169799804688\n",
      "Selected predictors: ['TB', 'AB', 'H', 'BB', 'HBP', 'G', 'RBI', 'GDP', 'height', 'weight', 'CS', 'const']  AIC: <statsmodels.regression.linear_model.RegressionResultsWrapper object at 0x7fea3f88f050>\n",
      "forward\n",
      "Processed  11 models on 10 predictors in 0.018930912017822266\n",
      "Selected predictors: ['TB', 'AB', 'H', 'BB', 'HBP', 'G', 'RBI', 'GDP', 'height', 'weight', 'const']  AIC: <statsmodels.regression.linear_model.RegressionResultsWrapper object at 0x7fea3f2f0c10>\n",
      "backward\n",
      "Processed  9 models on 11 predictors in 0.018000125885009766\n",
      "Selected predictors: ['TB', 'AB', 'H', 'BB', 'HBP', 'G', 'RBI', 'GDP', 'height', 'weight', 'CS', 'const']  AIC: <statsmodels.regression.linear_model.RegressionResultsWrapper object at 0x7fea3f88f290>\n",
      "forward\n",
      "Processed  11 models on 10 predictors in 0.018807172775268555\n",
      "Selected predictors: ['TB', 'AB', 'H', 'BB', 'HBP', 'G', 'RBI', 'GDP', 'height', 'weight', 'const']  AIC: <statsmodels.regression.linear_model.RegressionResultsWrapper object at 0x7fea3f8965d0>\n",
      "backward\n",
      "Processed  9 models on 11 predictors in 0.018728971481323242\n",
      "Selected predictors: ['TB', 'AB', 'H', 'BB', 'HBP', 'G', 'RBI', 'GDP', 'height', 'weight', 'CS', 'const']  AIC: <statsmodels.regression.linear_model.RegressionResultsWrapper object at 0x7fea3f8ab8d0>\n",
      "forward\n",
      "Processed  11 models on 10 predictors in 0.01729607582092285\n",
      "Selected predictors: ['TB', 'AB', 'H', 'BB', 'HBP', 'G', 'RBI', 'GDP', 'height', 'weight', 'const']  AIC: <statsmodels.regression.linear_model.RegressionResultsWrapper object at 0x7fea3f884c10>\n",
      "backward\n"
     ]
    },
    {
     "name": "stdout",
     "output_type": "stream",
     "text": [
      "Processed  9 models on 11 predictors in 0.015014886856079102\n",
      "Selected predictors: ['TB', 'AB', 'H', 'BB', 'HBP', 'G', 'RBI', 'GDP', 'height', 'weight', 'CS', 'const']  AIC: <statsmodels.regression.linear_model.RegressionResultsWrapper object at 0x7fea3f8ab310>\n",
      "forward\n",
      "Processed  11 models on 10 predictors in 0.02016305923461914\n",
      "Selected predictors: ['TB', 'AB', 'H', 'BB', 'HBP', 'G', 'RBI', 'GDP', 'height', 'weight', 'const']  AIC: <statsmodels.regression.linear_model.RegressionResultsWrapper object at 0x7fea3f8841d0>\n",
      "backward\n",
      "Total elapsed time: 0.729442834854126 seconds\n"
     ]
    }
   ],
   "source": [
    "Stepwise_best_model = Stepwise_model(X=X, y=y)"
   ]
  },
  {
   "cell_type": "code",
   "execution_count": 41,
   "metadata": {},
   "outputs": [
    {
     "data": {
      "text/plain": [
       "-3068.408136385265"
      ]
     },
     "execution_count": 41,
     "metadata": {},
     "output_type": "execute_result"
    }
   ],
   "source": [
    "Stepwise_best_model.aic"
   ]
  },
  {
   "cell_type": "code",
   "execution_count": 42,
   "metadata": {},
   "outputs": [
    {
     "name": "stdout",
     "output_type": "stream",
     "text": [
      "                            OLS Regression Results                            \n",
      "==============================================================================\n",
      "Dep. Variable:                    OPS   R-squared:                       0.992\n",
      "Model:                            OLS   Adj. R-squared:                  0.992\n",
      "Method:                 Least Squares   F-statistic:                     5893.\n",
      "Date:                Sun, 21 Jun 2020   Prob (F-statistic):               0.00\n",
      "Time:                        21:43:30   Log-Likelihood:                 1545.2\n",
      "No. Observations:                 475   AIC:                            -3068.\n",
      "Df Residuals:                     464   BIC:                            -3023.\n",
      "Df Model:                          10                                         \n",
      "Covariance Type:            nonrobust                                         \n",
      "==============================================================================\n",
      "                 coef    std err          t      P>|t|      [0.025      0.975]\n",
      "------------------------------------------------------------------------------\n",
      "TB             0.0022   2.83e-05     77.551      0.000       0.002       0.002\n",
      "AB            -0.0017   2.22e-05    -76.370      0.000      -0.002      -0.002\n",
      "H              0.0019   4.66e-05     40.777      0.000       0.002       0.002\n",
      "BB             0.0013   3.02e-05     42.164      0.000       0.001       0.001\n",
      "HBP            0.0015   9.82e-05     14.961      0.000       0.001       0.002\n",
      "G             -0.0004   7.79e-05     -5.238      0.000      -0.001      -0.000\n",
      "RBI           -0.0001    4.2e-05     -2.949      0.003      -0.000   -4.13e-05\n",
      "GDP            0.0004      0.000      3.841      0.000       0.000       0.001\n",
      "height         0.0004      0.000      3.154      0.002       0.000       0.001\n",
      "weight        -0.0002   5.82e-05     -3.215      0.001      -0.000   -7.27e-05\n",
      "const          0.8098      0.023     35.783      0.000       0.765       0.854\n",
      "==============================================================================\n",
      "Omnibus:                       32.888   Durbin-Watson:                   1.749\n",
      "Prob(Omnibus):                  0.000   Jarque-Bera (JB):              121.942\n",
      "Skew:                           0.110   Prob(JB):                     3.32e-27\n",
      "Kurtosis:                       5.472   Cond. No.                     3.05e+04\n",
      "==============================================================================\n",
      "\n",
      "Warnings:\n",
      "[1] Standard Errors assume that the covariance matrix of the errors is correctly specified.\n",
      "[2] The condition number is large, 3.05e+04. This might indicate that there are\n",
      "strong multicollinearity or other numerical problems.\n"
     ]
    }
   ],
   "source": [
    "print(Stepwise_best_model.summary())"
   ]
  },
  {
   "cell_type": "markdown",
   "metadata": {},
   "source": [
    "# 최종모델선정 "
   ]
  },
  {
   "cell_type": "code",
   "execution_count": 50,
   "metadata": {},
   "outputs": [],
   "source": [
    "batter_conti_f = batter_conti[['TB', 'AB', 'H', 'BB', 'HBP', 'G', 'height', 'weight']]"
   ]
  },
  {
   "cell_type": "code",
   "execution_count": 52,
   "metadata": {},
   "outputs": [],
   "source": [
    "batter_conti_f1 = sm.add_constant(batter_conti_f, has_constant='add')\n",
    "model_final = sm.OLS(target_OPS, batter_conti_f1)\n",
    "fitted_model_final = model_final.fit()"
   ]
  },
  {
   "cell_type": "code",
   "execution_count": 53,
   "metadata": {
    "scrolled": false
   },
   "outputs": [
    {
     "name": "stdout",
     "output_type": "stream",
     "text": [
      "                            OLS Regression Results                            \n",
      "==============================================================================\n",
      "Dep. Variable:                    OPS   R-squared:                       0.992\n",
      "Model:                            OLS   Adj. R-squared:                  0.992\n",
      "Method:                 Least Squares   F-statistic:                     7100.\n",
      "Date:                Sun, 21 Jun 2020   Prob (F-statistic):               0.00\n",
      "Time:                        21:48:58   Log-Likelihood:                 1535.5\n",
      "No. Observations:                 475   AIC:                            -3053.\n",
      "Df Residuals:                     466   BIC:                            -3016.\n",
      "Df Model:                           8                                         \n",
      "Covariance Type:            nonrobust                                         \n",
      "==============================================================================\n",
      "                 coef    std err          t      P>|t|      [0.025      0.975]\n",
      "------------------------------------------------------------------------------\n",
      "const          0.8194      0.023     35.733      0.000       0.774       0.865\n",
      "TB             0.0021   1.81e-05    117.306      0.000       0.002       0.002\n",
      "AB            -0.0017   2.21e-05    -76.574      0.000      -0.002      -0.002\n",
      "H              0.0019   4.64e-05     41.630      0.000       0.002       0.002\n",
      "BB             0.0013   3.04e-05     41.242      0.000       0.001       0.001\n",
      "HBP            0.0015   9.98e-05     14.803      0.000       0.001       0.002\n",
      "G             -0.0004   7.63e-05     -5.137      0.000      -0.001      -0.000\n",
      "height         0.0004      0.000      2.680      0.008    9.59e-05       0.001\n",
      "weight        -0.0002   5.52e-05     -2.732      0.007      -0.000   -4.23e-05\n",
      "==============================================================================\n",
      "Omnibus:                       29.533   Durbin-Watson:                   1.733\n",
      "Prob(Omnibus):                  0.000   Jarque-Bera (JB):              102.759\n",
      "Skew:                          -0.057   Prob(JB):                     4.86e-23\n",
      "Kurtosis:                       5.276   Cond. No.                     3.01e+04\n",
      "==============================================================================\n",
      "\n",
      "Warnings:\n",
      "[1] Standard Errors assume that the covariance matrix of the errors is correctly specified.\n",
      "[2] The condition number is large, 3.01e+04. This might indicate that there are\n",
      "strong multicollinearity or other numerical problems.\n"
     ]
    }
   ],
   "source": [
    "print(fitted_model_final.summary())"
   ]
  },
  {
   "cell_type": "markdown",
   "metadata": {},
   "source": [
    "# 성능평가 "
   ]
  },
  {
   "cell_type": "code",
   "execution_count": 56,
   "metadata": {},
   "outputs": [],
   "source": [
    "pred_y_full = fitted_full_model.predict(test_x)\n",
    "pred_y_forward = Forward_best_model.predict(test_x[Forward_best_model.model.exog_names])\n",
    "pred_y_backward = Backward_best_model.predict(test_x[Backward_best_model.model.exog_names])\n",
    "pred_y_stepwise = Stepwise_best_model.predict(test_x[Stepwise_best_model.model.exog_names])\n",
    "pred_y_final = fitted_model_final.predict(test_x[fitted_model_final.model.exog_names])"
   ]
  },
  {
   "cell_type": "code",
   "execution_count": 59,
   "metadata": {},
   "outputs": [],
   "source": [
    "perf_mat = pd.DataFrame(columns=['ALL', 'FORWARD', 'BACKWARD', 'STEPWISE', 'FINAL'],\n",
    "                       index=['MSE', 'RMSE', 'MAE', 'MAPE'])"
   ]
  },
  {
   "cell_type": "code",
   "execution_count": 60,
   "metadata": {},
   "outputs": [],
   "source": [
    "def mean_absolute_percentage_error(y_true, y_pred):\n",
    "    y_ture, y_pred = np.array(y_true), np.array(y_pred)\n",
    "    return np.mean(np.abs((y_true - y_pred) / y_true)) * 100"
   ]
  },
  {
   "cell_type": "code",
   "execution_count": 61,
   "metadata": {},
   "outputs": [
    {
     "name": "stdout",
     "output_type": "stream",
     "text": [
      "              ALL      FORWARD     BACKWARD     STEPWISE        FINAL\n",
      "MSE   0.000109108  0.000105408  0.000105408  0.000100287  0.000105796\n",
      "RMSE    0.0104455    0.0102668    0.0102668    0.0100144    0.0102857\n",
      "MAE    0.00742883   0.00735808   0.00735808   0.00717049   0.00733131\n",
      "MAPE     0.852478     0.847571     0.847571     0.828791     0.850136\n"
     ]
    }
   ],
   "source": [
    "perf_mat.loc['MSE']['ALL'] = metrics.mean_squared_error(test_y,pred_y_full)\n",
    "perf_mat.loc['MSE']['FORWARD'] = metrics.mean_squared_error(test_y,pred_y_forward)\n",
    "perf_mat.loc['MSE']['BACKWARD'] = metrics.mean_squared_error(test_y,pred_y_backward)\n",
    "perf_mat.loc['MSE']['STEPWISE'] = metrics.mean_squared_error(test_y,pred_y_stepwise)\n",
    "perf_mat.loc['MSE']['FINAL'] = metrics.mean_squared_error(test_y,pred_y_final)\n",
    "\n",
    "perf_mat.loc['RMSE']['ALL'] = np.sqrt(metrics.mean_squared_error(test_y, pred_y_full))\n",
    "perf_mat.loc['RMSE']['FORWARD'] = np.sqrt(metrics.mean_squared_error(test_y, pred_y_forward))\n",
    "perf_mat.loc['RMSE']['BACKWARD'] = np.sqrt(metrics.mean_squared_error(test_y, pred_y_backward))\n",
    "perf_mat.loc['RMSE']['STEPWISE'] = np.sqrt(metrics.mean_squared_error(test_y, pred_y_stepwise))\n",
    "perf_mat.loc['RMSE']['FINAL'] = np.sqrt(metrics.mean_squared_error(test_y, pred_y_final))\n",
    "\n",
    "perf_mat.loc['MAE']['ALL'] = metrics.mean_absolute_error(test_y, pred_y_full)\n",
    "perf_mat.loc['MAE']['FORWARD'] = metrics.mean_absolute_error(test_y, pred_y_forward)\n",
    "perf_mat.loc['MAE']['BACKWARD'] = metrics.mean_absolute_error(test_y, pred_y_backward)\n",
    "perf_mat.loc['MAE']['STEPWISE'] = metrics.mean_absolute_error(test_y, pred_y_stepwise)\n",
    "perf_mat.loc['MAE']['FINAL'] = metrics.mean_absolute_error(test_y, pred_y_final)\n",
    "\n",
    "perf_mat.loc['MAPE']['ALL'] = mean_absolute_percentage_error(test_y, pred_y_full)\n",
    "perf_mat.loc['MAPE']['FORWARD'] = mean_absolute_percentage_error(test_y, pred_y_forward)\n",
    "perf_mat.loc['MAPE']['BACKWARD'] = mean_absolute_percentage_error(test_y, pred_y_backward)\n",
    "perf_mat.loc['MAPE']['STEPWISE'] = mean_absolute_percentage_error(test_y, pred_y_stepwise)\n",
    "perf_mat.loc['MAPE']['FINAL'] = mean_absolute_percentage_error(test_y, pred_y_final)\n",
    "\n",
    "print(perf_mat)"
   ]
  },
  {
   "cell_type": "code",
   "execution_count": 62,
   "metadata": {},
   "outputs": [
    {
     "name": "stdout",
     "output_type": "stream",
     "text": [
      "20\n",
      "11\n",
      "11\n",
      "11\n",
      "9\n"
     ]
    }
   ],
   "source": [
    "print(len(fitted_full_model.params))\n",
    "print(len(Forward_best_model.params))\n",
    "print(len(Backward_best_model.params))\n",
    "print(len(Stepwise_best_model.params))\n",
    "print(len(fitted_model_final.params))"
   ]
  },
  {
   "cell_type": "markdown",
   "metadata": {},
   "source": [
    "# 잔차분석 "
   ]
  },
  {
   "cell_type": "code",
   "execution_count": 77,
   "metadata": {},
   "outputs": [
    {
     "data": {
      "image/png": "[encoded data removed]",
      "text/plain": [
       "<Figure size 1296x1152 with 5 Axes>"
      ]
     },
     "metadata": {
      "needs_background": "light"
     },
     "output_type": "display_data"
    }
   ],
   "source": [
    "plt.figure(figsize=(18, 16))\n",
    "\n",
    "plt.subplot(321)\n",
    "plt.scatter(np.arange(len(fitted_full_model.resid)), fitted_full_model.resid, s=4)\n",
    "plt.title('fitted_full_model')\n",
    "plt.ylabel('resid')\n",
    "plt.axhline(y=0, color='r', linewidth=1)\n",
    "\n",
    "plt.subplot(322)\n",
    "plt.scatter(np.arange(len(Forward_best_model.resid)), Forward_best_model.resid, s=4)\n",
    "plt.title('Forward_best_model')\n",
    "plt.ylabel('resid')\n",
    "plt.axhline(y=0, color='r', linewidth=1)\n",
    "\n",
    "plt.subplot(323)\n",
    "plt.scatter(np.arange(len(Backward_best_model.resid)), Backward_best_model.resid, s=4)\n",
    "plt.title('Backward_best_model')\n",
    "plt.ylabel('resid')\n",
    "plt.axhline(y=0, color='r', linewidth=1)\n",
    "\n",
    "plt.subplot(324)\n",
    "plt.scatter(np.arange(len(Stepwise_best_model.resid)), Stepwise_best_model.resid, s=4)\n",
    "plt.title('Stepwise_best_model')\n",
    "plt.ylabel('resid')\n",
    "plt.axhline(y=0, color='r', linewidth=1)\n",
    "\n",
    "plt.subplot(325)\n",
    "plt.scatter(np.arange(len(fitted_model_final.resid)), fitted_model_final.resid, s=4)\n",
    "plt.title('fitted_model_final')\n",
    "plt.ylabel('resid')\n",
    "plt.axhline(y=0, color='r', linewidth=1)\n",
    "\n",
    "plt.show()"
   ]
  },
  {
   "cell_type": "markdown",
   "metadata": {},
   "source": [
    "# 예측결과 "
   ]
  },
  {
   "cell_type": "code",
   "execution_count": 80,
   "metadata": {},
   "outputs": [
    {
     "name": "stdout",
     "output_type": "stream",
     "text": [
      "914     0.742000\n",
      "2438    0.805000\n",
      "1202    0.928000\n",
      "981     0.860000\n",
      "1987    0.857000\n",
      "1040    0.950000\n",
      "2320    1.044000\n",
      "1832    0.874259\n",
      "2443    0.964000\n",
      "1018    0.681000\n",
      "Name: OPS, dtype: float64 [0.72865629 0.81267443 0.92427051 0.85953923 0.85728136 0.95934203\n",
      " 1.05000768 0.87132295 0.97128338 0.69722241] 914     0.734105\n",
      "2438    0.811092\n",
      "1202    0.923746\n",
      "981     0.866886\n",
      "1987    0.859645\n",
      "1040    0.963374\n",
      "2320    1.046859\n",
      "1832    0.863983\n",
      "2443    0.970371\n",
      "1018    0.692651\n",
      "dtype: float64 914     0.732462\n",
      "2438    0.810950\n",
      "1202    0.920690\n",
      "981     0.864943\n",
      "1987    0.858524\n",
      "1040    0.962508\n",
      "2320    1.047371\n",
      "1832    0.868319\n",
      "2443    0.969273\n",
      "1018    0.695588\n",
      "dtype: float64\n"
     ]
    }
   ],
   "source": [
    "print(test_y[:10], fitted_model_final.predict(np.array(test_x[fitted_model_final.model.exog_names])[:10]),\n",
    "     fitted_full_model.predict(test_x)[:10],\n",
    "     Stepwise_best_model.predict(test_x[Stepwise_best_model.model.exog_names])[:10])"
   ]
  },
  {
   "cell_type": "code",
   "execution_count": null,
   "metadata": {},
   "outputs": [],
   "source": []
  }
 ],
 "metadata": {
  "kernelspec": {
   "display_name": "Python 3",
   "language": "python",
   "name": "python3"
  },
  "language_info": {
   "codemirror_mode": {
    "name": "ipython",
    "version": 3
   },
   "file_extension": ".py",
   "mimetype": "text/x-python",
   "name": "python",
   "nbconvert_exporter": "python",
   "pygments_lexer": "ipython3",
   "version": "3.7.6"
  }
 },
 "nbformat": 4,
 "nbformat_minor": 4
}
