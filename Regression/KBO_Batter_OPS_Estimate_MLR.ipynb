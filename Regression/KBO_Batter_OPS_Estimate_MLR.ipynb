{
  "nbformat": 4,
  "nbformat_minor": 0,
  "metadata": {
    "kernelspec": {
      "display_name": "Python 3",
      "language": "python",
      "name": "python3"
    },
    "language_info": {
      "codemirror_mode": {
        "name": "ipython",
        "version": 3
      },
      "file_extension": ".py",
      "mimetype": "text/x-python",
      "name": "python",
      "nbconvert_exporter": "python",
      "pygments_lexer": "ipython3",
      "version": "3.7.6"
    },
    "colab": {
      "name": "KBO_Batter_OPS_Estimate_MLR.ipynb",
      "provenance": [],
      "include_colab_link": true
    }
  },
  "cells": [
    {
      "cell_type": "markdown",
      "metadata": {
        "id": "view-in-github",
        "colab_type": "text"
      },
      "source": [
        "<a href=\"https://colab.research.google.com/github/comojin1994/Machine_Learning/blob/master/Regression/KBO_Batter_OPS_Estimate_MLR.ipynb\" target=\"_parent\"><img src=\"https://colab.research.google.com/assets/colab-badge.svg\" alt=\"Open In Colab\"/></a>"
      ]
    },
    {
      "cell_type": "code",
      "metadata": {
        "id": "BlQtbRyZv8TC",
        "colab_type": "code",
        "colab": {}
      },
      "source": [
        "from statsmodels.stats.outliers_influence import variance_inflation_factor\n",
        "from sklearn.model_selection import train_test_split\n",
        "from sklearn.metrics import mean_squared_error\n",
        "from sklearn import metrics\n",
        "\n",
        "import os, time, itertools\n",
        "import pandas as pd\n",
        "import numpy as np\n",
        "import statsmodels.api as sm\n",
        "import matplotlib.pyplot as plt\n",
        "import seaborn as sns\n",
        "%matplotlib inline"
      ],
      "execution_count": 0,
      "outputs": []
    },
    {
      "cell_type": "markdown",
      "metadata": {
        "id": "fN_CQoS3v8TF",
        "colab_type": "text"
      },
      "source": [
        "#### 경로확인 "
      ]
    },
    {
      "cell_type": "code",
      "metadata": {
        "id": "Hty0eV-qv8TG",
        "colab_type": "code",
        "colab": {},
        "outputId": "b9776ef8-e300-4c5d-f63e-6aa324e78d7e"
      },
      "source": [
        "os.getcwd()"
      ],
      "execution_count": 0,
      "outputs": [
        {
          "output_type": "execute_result",
          "data": {
            "text/plain": [
              "'/Users/sungjinkim/Documents/Study/Regression_Project'"
            ]
          },
          "metadata": {
            "tags": []
          },
          "execution_count": 192
        }
      ]
    },
    {
      "cell_type": "markdown",
      "metadata": {
        "id": "z5WlXz6uv8TK",
        "colab_type": "text"
      },
      "source": [
        "### 데이터 불러오기 "
      ]
    },
    {
      "cell_type": "code",
      "metadata": {
        "id": "SKoJxP3gv8TL",
        "colab_type": "code",
        "colab": {}
      },
      "source": [
        "batter = pd.read_csv('./Data/Regular_Season_Batter.csv')"
      ],
      "execution_count": 0,
      "outputs": []
    },
    {
      "cell_type": "markdown",
      "metadata": {
        "id": "zuB7ooKYv8TN",
        "colab_type": "text"
      },
      "source": [
        "#### 나이변수 추가 "
      ]
    },
    {
      "cell_type": "code",
      "metadata": {
        "id": "tKfaRIbRv8TO",
        "colab_type": "code",
        "colab": {}
      },
      "source": [
        "batter['Age'] = batter['year'] - batter['year_born'].apply(lambda x: int(x[:4]))"
      ],
      "execution_count": 0,
      "outputs": []
    },
    {
      "cell_type": "markdown",
      "metadata": {
        "id": "LbtkuFtev8TQ",
        "colab_type": "text"
      },
      "source": [
        "#### height/weight 각자 다른 column으로 분류후 결측치 평균으로 채우기 "
      ]
    },
    {
      "cell_type": "code",
      "metadata": {
        "id": "OVZFWJyOv8TR",
        "colab_type": "code",
        "colab": {}
      },
      "source": [
        "batter['height/weight'] = batter['height/weight'].fillna('0cm/0kg')\n",
        "\n",
        "batter['height'] = batter['height/weight'].apply(lambda x: int(x.split('/')[0][:-2]))\n",
        "batter['weight'] = batter['height/weight'].apply(lambda x: int(x.split('/')[1][:-2]))\n",
        "\n",
        "mean_h = np.mean(batter['height'][batter['height'] != 0])\n",
        "mean_w = np.mean(batter['weight'][batter['weight'] != 0])\n",
        "\n",
        "batter['height'] = batter['height'].apply(lambda x: mean_h if x == 0 else x)\n",
        "batter['weight'] = batter['weight'].apply(lambda x: mean_w if x == 0 else x)"
      ],
      "execution_count": 0,
      "outputs": []
    },
    {
      "cell_type": "markdown",
      "metadata": {
        "id": "P_jjXVXOv8TT",
        "colab_type": "text"
      },
      "source": [
        "#### 규정타석을 채운 타자 데이터 추출 후 이상치 제거 "
      ]
    },
    {
      "cell_type": "code",
      "metadata": {
        "id": "zieNoQp2v8TT",
        "colab_type": "code",
        "colab": {}
      },
      "source": [
        "batter = batter[batter['AB'] >= 396]\n",
        "\n",
        "batter = batter.drop(1935, axis = 0)"
      ],
      "execution_count": 0,
      "outputs": []
    },
    {
      "cell_type": "markdown",
      "metadata": {
        "id": "75xrF74mv8TW",
        "colab_type": "text"
      },
      "source": [
        "#### 연속형 변수만 채택 "
      ]
    },
    {
      "cell_type": "code",
      "metadata": {
        "id": "3CuOyTg6v8TW",
        "colab_type": "code",
        "colab": {}
      },
      "source": [
        "batter_conti = batter.drop(['batter_id', 'year', 'year_born', 'batter_name',\n",
        "                            'team', 'position', 'career', 'starting_salary', 'height/weight'], axis=1)"
      ],
      "execution_count": 0,
      "outputs": []
    },
    {
      "cell_type": "markdown",
      "metadata": {
        "id": "cQ0OIxTjv8TY",
        "colab_type": "text"
      },
      "source": [
        "#### Target 분리 "
      ]
    },
    {
      "cell_type": "code",
      "metadata": {
        "id": "KRcQbIGPv8TZ",
        "colab_type": "code",
        "colab": {}
      },
      "source": [
        "target_OPS = batter_conti['OPS']"
      ],
      "execution_count": 0,
      "outputs": []
    },
    {
      "cell_type": "code",
      "metadata": {
        "id": "ZvP24_AKv8Tb",
        "colab_type": "code",
        "colab": {}
      },
      "source": [
        "batter_conti_ = batter_conti.drop(['avg', 'OPS', 'SLG', 'OBP'], axis=1)\n",
        "batter_conti_1 = sm.add_constant(batter_conti_, has_constant='add')"
      ],
      "execution_count": 0,
      "outputs": []
    },
    {
      "cell_type": "markdown",
      "metadata": {
        "id": "kKS3BwlSv8Td",
        "colab_type": "text"
      },
      "source": [
        "### 학습데이터 / 평가데이터 분할 "
      ]
    },
    {
      "cell_type": "code",
      "metadata": {
        "id": "mcSMno-Dv8Td",
        "colab_type": "code",
        "colab": {},
        "outputId": "fb6d02e0-92e5-409d-e4dd-3037612b2235"
      },
      "source": [
        "feature_columns = list(batter_conti_1.columns)\n",
        "\n",
        "X = batter_conti_1[feature_columns]\n",
        "y = target_OPS\n",
        "train_x, test_x, train_y, test_y = train_test_split(X, y, train_size=0.7, test_size=0.3)\n",
        "train_x.shape, test_x.shape, train_y.shape, test_y.shape"
      ],
      "execution_count": 0,
      "outputs": [
        {
          "output_type": "execute_result",
          "data": {
            "text/plain": [
              "((332, 20), (143, 20), (332,), (143,))"
            ]
          },
          "metadata": {
            "tags": []
          },
          "execution_count": 200
        }
      ]
    },
    {
      "cell_type": "markdown",
      "metadata": {
        "id": "-UZtNOAlv8Tg",
        "colab_type": "text"
      },
      "source": [
        "### Baseline(Full) 모델 적합 "
      ]
    },
    {
      "cell_type": "code",
      "metadata": {
        "id": "wuKp6tJBv8Th",
        "colab_type": "code",
        "colab": {}
      },
      "source": [
        "full_model = sm.OLS(train_y, train_x)\n",
        "fitted_full_model = full_model.fit()"
      ],
      "execution_count": 0,
      "outputs": []
    },
    {
      "cell_type": "markdown",
      "metadata": {
        "id": "QqOdDUKIv8Tj",
        "colab_type": "text"
      },
      "source": [
        "#### 적합 결과 확인 "
      ]
    },
    {
      "cell_type": "code",
      "metadata": {
        "id": "TyBTgKgxv8Tj",
        "colab_type": "code",
        "colab": {},
        "outputId": "d7b16645-8671-4073-e0e1-1719a98b9ec2"
      },
      "source": [
        "print(fitted_full_model.summary())"
      ],
      "execution_count": 0,
      "outputs": [
        {
          "output_type": "stream",
          "text": [
            "                            OLS Regression Results                            \n",
            "==============================================================================\n",
            "Dep. Variable:                    OPS   R-squared:                       0.993\n",
            "Model:                            OLS   Adj. R-squared:                  0.992\n",
            "Method:                 Least Squares   F-statistic:                     2407.\n",
            "Date:                Sun, 03 May 2020   Prob (F-statistic):          2.96e-323\n",
            "Time:                        22:27:16   Log-Likelihood:                 1094.4\n",
            "No. Observations:                 332   AIC:                            -2151.\n",
            "Df Residuals:                     313   BIC:                            -2078.\n",
            "Df Model:                          18                                         \n",
            "Covariance Type:            nonrobust                                         \n",
            "==============================================================================\n",
            "                 coef    std err          t      P>|t|      [0.025      0.975]\n",
            "------------------------------------------------------------------------------\n",
            "const          0.8282      0.027     30.391      0.000       0.775       0.882\n",
            "G             -0.0004      0.000     -3.641      0.000      -0.001      -0.000\n",
            "AB            -0.0017   3.06e-05    -55.091      0.000      -0.002      -0.002\n",
            "R          -3.346e-06   6.24e-05     -0.054      0.957      -0.000       0.000\n",
            "H              0.0020   7.48e-05     26.141      0.000       0.002       0.002\n",
            "2B           4.19e-05      0.000      0.413      0.680      -0.000       0.000\n",
            "3B            -0.0003      0.000     -1.304      0.193      -0.001       0.000\n",
            "HR             0.0002      0.000      2.119      0.035    1.57e-05       0.000\n",
            "TB             0.0021   4.85e-05     43.735      0.000       0.002       0.002\n",
            "RBI           -0.0001   5.52e-05     -2.454      0.015      -0.000   -2.68e-05\n",
            "SB         -5.894e-06   6.04e-05     -0.098      0.922      -0.000       0.000\n",
            "CS             0.0001      0.000      0.582      0.561      -0.000       0.000\n",
            "BB             0.0013   4.21e-05     29.792      0.000       0.001       0.001\n",
            "HBP            0.0014      0.000     12.163      0.000       0.001       0.002\n",
            "SO         -6.354e-07   2.85e-05     -0.022      0.982   -5.66e-05    5.54e-05\n",
            "GDP            0.0005      0.000      3.623      0.000       0.000       0.001\n",
            "E             -0.0001   9.56e-05     -1.542      0.124      -0.000    4.07e-05\n",
            "Age           -0.0003      0.000     -1.773      0.077      -0.001    2.81e-05\n",
            "height         0.0003      0.000      2.168      0.031    3.14e-05       0.001\n",
            "weight        -0.0002   7.13e-05     -2.930      0.004      -0.000   -6.86e-05\n",
            "==============================================================================\n",
            "Omnibus:                       16.751   Durbin-Watson:                   2.040\n",
            "Prob(Omnibus):                  0.000   Jarque-Bera (JB):               33.061\n",
            "Skew:                          -0.255   Prob(JB):                     6.62e-08\n",
            "Kurtosis:                       4.459   Cond. No.                     5.13e+16\n",
            "==============================================================================\n",
            "\n",
            "Warnings:\n",
            "[1] Standard Errors assume that the covariance matrix of the errors is correctly specified.\n",
            "[2] The smallest eigenvalue is 4.54e-26. This might indicate that there are\n",
            "strong multicollinearity problems or that the design matrix is singular.\n"
          ],
          "name": "stdout"
        }
      ]
    },
    {
      "cell_type": "markdown",
      "metadata": {
        "id": "c1aqqO-Pv8Tl",
        "colab_type": "text"
      },
      "source": [
        "#### VIF를 통한 다중공선성 확인 "
      ]
    },
    {
      "cell_type": "code",
      "metadata": {
        "id": "MDaIMp45v8Tl",
        "colab_type": "code",
        "colab": {},
        "outputId": "a70eaba4-d557-445e-a6df-d7b189b7d157"
      },
      "source": [
        "vif = pd.DataFrame()\n",
        "vif['VIF_Factor'] = [variance_inflation_factor(batter_conti_.values, i) for i in range(batter_conti_.shape[1])]\n",
        "vif['features'] = batter_conti_.columns\n",
        "vif"
      ],
      "execution_count": 0,
      "outputs": [
        {
          "output_type": "stream",
          "text": [
            "/opt/anaconda3/lib/python3.7/site-packages/statsmodels/stats/outliers_influence.py:193: RuntimeWarning: divide by zero encountered in double_scalars\n",
            "  vif = 1. / (1. - r_squared_i)\n"
          ],
          "name": "stderr"
        },
        {
          "output_type": "execute_result",
          "data": {
            "text/html": [
              "<div>\n",
              "<style scoped>\n",
              "    .dataframe tbody tr th:only-of-type {\n",
              "        vertical-align: middle;\n",
              "    }\n",
              "\n",
              "    .dataframe tbody tr th {\n",
              "        vertical-align: top;\n",
              "    }\n",
              "\n",
              "    .dataframe thead th {\n",
              "        text-align: right;\n",
              "    }\n",
              "</style>\n",
              "<table border=\"1\" class=\"dataframe\">\n",
              "  <thead>\n",
              "    <tr style=\"text-align: right;\">\n",
              "      <th></th>\n",
              "      <th>VIF_Factor</th>\n",
              "      <th>features</th>\n",
              "    </tr>\n",
              "  </thead>\n",
              "  <tbody>\n",
              "    <tr>\n",
              "      <th>0</th>\n",
              "      <td>573.828417</td>\n",
              "      <td>G</td>\n",
              "    </tr>\n",
              "    <tr>\n",
              "      <th>1</th>\n",
              "      <td>716.843679</td>\n",
              "      <td>AB</td>\n",
              "    </tr>\n",
              "    <tr>\n",
              "      <th>2</th>\n",
              "      <td>87.500905</td>\n",
              "      <td>R</td>\n",
              "    </tr>\n",
              "    <tr>\n",
              "      <th>3</th>\n",
              "      <td>inf</td>\n",
              "      <td>H</td>\n",
              "    </tr>\n",
              "    <tr>\n",
              "      <th>4</th>\n",
              "      <td>inf</td>\n",
              "      <td>2B</td>\n",
              "    </tr>\n",
              "    <tr>\n",
              "      <th>5</th>\n",
              "      <td>inf</td>\n",
              "      <td>3B</td>\n",
              "    </tr>\n",
              "    <tr>\n",
              "      <th>6</th>\n",
              "      <td>inf</td>\n",
              "      <td>HR</td>\n",
              "    </tr>\n",
              "    <tr>\n",
              "      <th>7</th>\n",
              "      <td>inf</td>\n",
              "      <td>TB</td>\n",
              "    </tr>\n",
              "    <tr>\n",
              "      <th>8</th>\n",
              "      <td>61.559165</td>\n",
              "      <td>RBI</td>\n",
              "    </tr>\n",
              "    <tr>\n",
              "      <th>9</th>\n",
              "      <td>6.011886</td>\n",
              "      <td>SB</td>\n",
              "    </tr>\n",
              "    <tr>\n",
              "      <th>10</th>\n",
              "      <td>6.672042</td>\n",
              "      <td>CS</td>\n",
              "    </tr>\n",
              "    <tr>\n",
              "      <th>11</th>\n",
              "      <td>17.049327</td>\n",
              "      <td>BB</td>\n",
              "    </tr>\n",
              "    <tr>\n",
              "      <th>12</th>\n",
              "      <td>4.235075</td>\n",
              "      <td>HBP</td>\n",
              "    </tr>\n",
              "    <tr>\n",
              "      <th>13</th>\n",
              "      <td>20.215146</td>\n",
              "      <td>SO</td>\n",
              "    </tr>\n",
              "    <tr>\n",
              "      <th>14</th>\n",
              "      <td>9.981807</td>\n",
              "      <td>GDP</td>\n",
              "    </tr>\n",
              "    <tr>\n",
              "      <th>15</th>\n",
              "      <td>3.298697</td>\n",
              "      <td>E</td>\n",
              "    </tr>\n",
              "    <tr>\n",
              "      <th>16</th>\n",
              "      <td>64.488735</td>\n",
              "      <td>Age</td>\n",
              "    </tr>\n",
              "    <tr>\n",
              "      <th>17</th>\n",
              "      <td>454.163987</td>\n",
              "      <td>height</td>\n",
              "    </tr>\n",
              "    <tr>\n",
              "      <th>18</th>\n",
              "      <td>143.533195</td>\n",
              "      <td>weight</td>\n",
              "    </tr>\n",
              "  </tbody>\n",
              "</table>\n",
              "</div>"
            ],
            "text/plain": [
              "    VIF_Factor features\n",
              "0   573.828417        G\n",
              "1   716.843679       AB\n",
              "2    87.500905        R\n",
              "3          inf        H\n",
              "4          inf       2B\n",
              "5          inf       3B\n",
              "6          inf       HR\n",
              "7          inf       TB\n",
              "8    61.559165      RBI\n",
              "9     6.011886       SB\n",
              "10    6.672042       CS\n",
              "11   17.049327       BB\n",
              "12    4.235075      HBP\n",
              "13   20.215146       SO\n",
              "14    9.981807      GDP\n",
              "15    3.298697        E\n",
              "16   64.488735      Age\n",
              "17  454.163987   height\n",
              "18  143.533195   weight"
            ]
          },
          "metadata": {
            "tags": []
          },
          "execution_count": 203
        }
      ]
    },
    {
      "cell_type": "markdown",
      "metadata": {
        "id": "DlEwVD49v8Tn",
        "colab_type": "text"
      },
      "source": [
        "#### 잔차비교, QQ plot, Residual Plot 확인 "
      ]
    },
    {
      "cell_type": "code",
      "metadata": {
        "id": "FlTwsoEPv8Tn",
        "colab_type": "code",
        "colab": {},
        "outputId": "8e0bb676-2154-4304-994b-f740a3dce7fd"
      },
      "source": [
        "plt.scatter(fitted_full_model.predict(train_x), fitted_full_model.resid, s=4)\n",
        "plt.axhline(y=0, color='r', linewidth=1)\n",
        "plt.xlabel('Fitted values')\n",
        "plt.ylabel('Residual')\n",
        "plt.show()\n",
        "\n",
        "fig = sm.qqplot(fitted_full_model.resid, fit=True, line='45')"
      ],
      "execution_count": 0,
      "outputs": [
        {
          "output_type": "display_data",
          "data": {
            "image/png": "[encoded data removed]",
            "text/plain": [
              "<Figure size 432x288 with 1 Axes>"
            ]
          },
          "metadata": {
            "tags": [],
            "needs_background": "light"
          }
        },
        {
          "output_type": "display_data",
          "data": {
            "image/png": "[encoded data removed]",
            "text/plain": [
              "<Figure size 432x288 with 1 Axes>"
            ]
          },
          "metadata": {
            "tags": [],
            "needs_background": "light"
          }
        }
      ]
    },
    {
      "cell_type": "markdown",
      "metadata": {
        "id": "gAUOMOzpv8Tp",
        "colab_type": "text"
      },
      "source": [
        "### SLR (타점, RBI) 모델 적합 "
      ]
    },
    {
      "cell_type": "code",
      "metadata": {
        "id": "DfvxitiEv8Tq",
        "colab_type": "code",
        "colab": {}
      },
      "source": [
        "RBI = train_x['RBI']\n",
        "RBI1 = sm.add_constant(RBI, has_constant='add')\n",
        "\n",
        "model_RBI = sm.OLS(train_y, RBI1)\n",
        "fitted_model_RBI = model_RBI.fit()\n",
        "\n",
        "pred_RBI = fitted_model_RBI.predict(RBI1)"
      ],
      "execution_count": 0,
      "outputs": []
    },
    {
      "cell_type": "markdown",
      "metadata": {
        "id": "Ov2RrqU9v8Ts",
        "colab_type": "text"
      },
      "source": [
        "#### 결과 확인 "
      ]
    },
    {
      "cell_type": "code",
      "metadata": {
        "id": "YMQkrOwjv8Ts",
        "colab_type": "code",
        "colab": {},
        "outputId": "ce42d103-5188-41d3-89ac-88642526866b"
      },
      "source": [
        "print(fitted_model_RBI.summary())"
      ],
      "execution_count": 0,
      "outputs": [
        {
          "output_type": "stream",
          "text": [
            "                            OLS Regression Results                            \n",
            "==============================================================================\n",
            "Dep. Variable:                    OPS   R-squared:                       0.653\n",
            "Model:                            OLS   Adj. R-squared:                  0.652\n",
            "Method:                 Least Squares   F-statistic:                     620.7\n",
            "Date:                Sun, 03 May 2020   Prob (F-statistic):           8.13e-78\n",
            "Time:                        22:27:16   Log-Likelihood:                 450.40\n",
            "No. Observations:                 332   AIC:                            -896.8\n",
            "Df Residuals:                     330   BIC:                            -889.2\n",
            "Df Model:                           1                                         \n",
            "Covariance Type:            nonrobust                                         \n",
            "==============================================================================\n",
            "                 coef    std err          t      P>|t|      [0.025      0.975]\n",
            "------------------------------------------------------------------------------\n",
            "const          0.5939      0.011     55.417      0.000       0.573       0.615\n",
            "RBI            0.0035      0.000     24.914      0.000       0.003       0.004\n",
            "==============================================================================\n",
            "Omnibus:                       14.916   Durbin-Watson:                   2.057\n",
            "Prob(Omnibus):                  0.001   Jarque-Bera (JB):               15.634\n",
            "Skew:                           0.511   Prob(JB):                     0.000403\n",
            "Kurtosis:                       3.292   Cond. No.                         240.\n",
            "==============================================================================\n",
            "\n",
            "Warnings:\n",
            "[1] Standard Errors assume that the covariance matrix of the errors is correctly specified.\n"
          ],
          "name": "stdout"
        }
      ]
    },
    {
      "cell_type": "markdown",
      "metadata": {
        "id": "pqrBJfidv8Tu",
        "colab_type": "text"
      },
      "source": [
        "#### 적합 그래프, QQ plot, Residual Plot 확인 "
      ]
    },
    {
      "cell_type": "code",
      "metadata": {
        "id": "f-0ZFpcdv8Tu",
        "colab_type": "code",
        "colab": {},
        "outputId": "5c43b87b-329a-460f-a204-c8fde868ddab"
      },
      "source": [
        "plt.figure(figsize=(12, 5))\n",
        "\n",
        "plt.subplot(121)\n",
        "plt.scatter(RBI, train_y, label='data')\n",
        "plt.plot(RBI, pred_RBI, 'r', label='RBI result')\n",
        "plt.xlabel('RBI')\n",
        "plt.legend()\n",
        "\n",
        "plt.subplot(122)\n",
        "plt.scatter(fitted_model_RBI.predict(RBI1), fitted_model_RBI.resid, s=4)\n",
        "plt.axhline(y=0, color='r', linewidth=1)\n",
        "plt.title('RBI')\n",
        "plt.xlabel('Fitted values')\n",
        "plt.ylabel('Residual')\n",
        "\n",
        "plt.show()\n",
        "\n",
        "sm.qqplot(fitted_model_RBI.resid, fit=True, line='45')\n",
        "plt.title('RBI')"
      ],
      "execution_count": 0,
      "outputs": [
        {
          "output_type": "display_data",
          "data": {
            "image/png": "[encoded data removed]",
            "text/plain": [
              "<Figure size 864x360 with 2 Axes>"
            ]
          },
          "metadata": {
            "tags": [],
            "needs_background": "light"
          }
        },
        {
          "output_type": "execute_result",
          "data": {
            "text/plain": [
              "Text(0.5, 1.0, 'RBI')"
            ]
          },
          "metadata": {
            "tags": []
          },
          "execution_count": 207
        },
        {
          "output_type": "display_data",
          "data": {
            "image/png": "[encoded data removed]",
            "text/plain": [
              "<Figure size 432x288 with 1 Axes>"
            ]
          },
          "metadata": {
            "tags": [],
            "needs_background": "light"
          }
        }
      ]
    },
    {
      "cell_type": "markdown",
      "metadata": {
        "id": "ei43uxGXv8Tw",
        "colab_type": "text"
      },
      "source": [
        "# 다중선형회귀모형 적합 "
      ]
    },
    {
      "cell_type": "markdown",
      "metadata": {
        "id": "UwwnW90Qv8Tw",
        "colab_type": "text"
      },
      "source": [
        "### Baseline 모델에 대한 평가 "
      ]
    },
    {
      "cell_type": "code",
      "metadata": {
        "id": "z-J57L2qv8Tx",
        "colab_type": "code",
        "colab": {},
        "outputId": "cf025ec8-bcd6-473a-dd13-60c6c521fda8"
      },
      "source": [
        "print(fitted_full_model.summary())"
      ],
      "execution_count": 0,
      "outputs": [
        {
          "output_type": "stream",
          "text": [
            "                            OLS Regression Results                            \n",
            "==============================================================================\n",
            "Dep. Variable:                    OPS   R-squared:                       0.993\n",
            "Model:                            OLS   Adj. R-squared:                  0.992\n",
            "Method:                 Least Squares   F-statistic:                     2407.\n",
            "Date:                Sun, 03 May 2020   Prob (F-statistic):          2.96e-323\n",
            "Time:                        22:27:17   Log-Likelihood:                 1094.4\n",
            "No. Observations:                 332   AIC:                            -2151.\n",
            "Df Residuals:                     313   BIC:                            -2078.\n",
            "Df Model:                          18                                         \n",
            "Covariance Type:            nonrobust                                         \n",
            "==============================================================================\n",
            "                 coef    std err          t      P>|t|      [0.025      0.975]\n",
            "------------------------------------------------------------------------------\n",
            "const          0.8282      0.027     30.391      0.000       0.775       0.882\n",
            "G             -0.0004      0.000     -3.641      0.000      -0.001      -0.000\n",
            "AB            -0.0017   3.06e-05    -55.091      0.000      -0.002      -0.002\n",
            "R          -3.346e-06   6.24e-05     -0.054      0.957      -0.000       0.000\n",
            "H              0.0020   7.48e-05     26.141      0.000       0.002       0.002\n",
            "2B           4.19e-05      0.000      0.413      0.680      -0.000       0.000\n",
            "3B            -0.0003      0.000     -1.304      0.193      -0.001       0.000\n",
            "HR             0.0002      0.000      2.119      0.035    1.57e-05       0.000\n",
            "TB             0.0021   4.85e-05     43.735      0.000       0.002       0.002\n",
            "RBI           -0.0001   5.52e-05     -2.454      0.015      -0.000   -2.68e-05\n",
            "SB         -5.894e-06   6.04e-05     -0.098      0.922      -0.000       0.000\n",
            "CS             0.0001      0.000      0.582      0.561      -0.000       0.000\n",
            "BB             0.0013   4.21e-05     29.792      0.000       0.001       0.001\n",
            "HBP            0.0014      0.000     12.163      0.000       0.001       0.002\n",
            "SO         -6.354e-07   2.85e-05     -0.022      0.982   -5.66e-05    5.54e-05\n",
            "GDP            0.0005      0.000      3.623      0.000       0.000       0.001\n",
            "E             -0.0001   9.56e-05     -1.542      0.124      -0.000    4.07e-05\n",
            "Age           -0.0003      0.000     -1.773      0.077      -0.001    2.81e-05\n",
            "height         0.0003      0.000      2.168      0.031    3.14e-05       0.001\n",
            "weight        -0.0002   7.13e-05     -2.930      0.004      -0.000   -6.86e-05\n",
            "==============================================================================\n",
            "Omnibus:                       16.751   Durbin-Watson:                   2.040\n",
            "Prob(Omnibus):                  0.000   Jarque-Bera (JB):               33.061\n",
            "Skew:                          -0.255   Prob(JB):                     6.62e-08\n",
            "Kurtosis:                       4.459   Cond. No.                     5.13e+16\n",
            "==============================================================================\n",
            "\n",
            "Warnings:\n",
            "[1] Standard Errors assume that the covariance matrix of the errors is correctly specified.\n",
            "[2] The smallest eigenvalue is 4.54e-26. This might indicate that there are\n",
            "strong multicollinearity problems or that the design matrix is singular.\n"
          ],
          "name": "stdout"
        }
      ]
    },
    {
      "cell_type": "markdown",
      "metadata": {
        "id": "4wxKcDgev8Ty",
        "colab_type": "text"
      },
      "source": [
        "#### 검증데이터 예측 "
      ]
    },
    {
      "cell_type": "code",
      "metadata": {
        "id": "yaoSwTshv8Tz",
        "colab_type": "code",
        "colab": {}
      },
      "source": [
        "pred_full = fitted_full_model.predict(test_x)"
      ],
      "execution_count": 0,
      "outputs": []
    },
    {
      "cell_type": "markdown",
      "metadata": {
        "id": "S6Nz0k2-v8T0",
        "colab_type": "text"
      },
      "source": [
        "#### Residual Plot "
      ]
    },
    {
      "cell_type": "code",
      "metadata": {
        "id": "ktU5gsQav8T1",
        "colab_type": "code",
        "colab": {},
        "outputId": "af202b54-5cf0-470b-c9ba-73db53741154"
      },
      "source": [
        "plt.plot(np.array(test_y - pred_full), label='pred_full')\n",
        "plt.legend()\n",
        "plt.show()"
      ],
      "execution_count": 0,
      "outputs": [
        {
          "output_type": "display_data",
          "data": {
            "image/png": "[encoded data removed]",
            "text/plain": [
              "<Figure size 432x288 with 1 Axes>"
            ]
          },
          "metadata": {
            "tags": [],
            "needs_background": "light"
          }
        }
      ]
    },
    {
      "cell_type": "markdown",
      "metadata": {
        "id": "XE7JiXtzv8T3",
        "colab_type": "text"
      },
      "source": [
        "#### MSE 성능 평가 "
      ]
    },
    {
      "cell_type": "code",
      "metadata": {
        "id": "Jk2i21BIv8T3",
        "colab_type": "code",
        "colab": {},
        "outputId": "8978ef91-1e1d-4f12-c4ce-955bd82d39d0"
      },
      "source": [
        "mean_squared_error(y_true= test_y, y_pred = pred_full)"
      ],
      "execution_count": 0,
      "outputs": [
        {
          "output_type": "execute_result",
          "data": {
            "text/plain": [
              "0.0001046397328698536"
            ]
          },
          "metadata": {
            "tags": []
          },
          "execution_count": 211
        }
      ]
    },
    {
      "cell_type": "markdown",
      "metadata": {
        "id": "7o3QybPRv8T6",
        "colab_type": "text"
      },
      "source": [
        "### 변수선택법 "
      ]
    },
    {
      "cell_type": "code",
      "metadata": {
        "id": "FAPT3pfnv8T6",
        "colab_type": "code",
        "colab": {},
        "outputId": "0bbaa5ed-5147-4cfe-d22a-49e5caf11bf2"
      },
      "source": [
        "def processSubset(X, y, feature_set):\n",
        "    model = sm.OLS(y, X[list(feature_set)])\n",
        "    regr = model.fit()\n",
        "    AIC = regr.aic\n",
        "    return {'model': regr, 'AIC': AIC}\n",
        "\n",
        "print(processSubset(X=train_x, y=train_y, feature_set=feature_columns))"
      ],
      "execution_count": 0,
      "outputs": [
        {
          "output_type": "stream",
          "text": [
            "{'model': <statsmodels.regression.linear_model.RegressionResultsWrapper object at 0x1a2ece7cd0>, 'AIC': -2150.7327532416375}\n"
          ],
          "name": "stdout"
        }
      ]
    },
    {
      "cell_type": "code",
      "metadata": {
        "scrolled": true,
        "id": "3naLTB0hv8T8",
        "colab_type": "code",
        "colab": {},
        "outputId": "439ad6d6-746c-42f0-de90-3fb394dd346b"
      },
      "source": [
        "# getBest: 가장 낮은 AIC를 가지는 모델 선택 및 저장\n",
        "def getBest(X, y, k):\n",
        "    tic = time.time() # 시작시간\n",
        "    results = [] # 결과 저장공간\n",
        "    for combo in itertools.combinations(X.columns.difference(['const']), k): # 각 변수조합을 고려한 경우의 수\n",
        "        combo = (list(combo) + ['const'])\n",
        "        \n",
        "        results.append(processSubset(X, y, feature_set=combo)) # 모델링된 것들을 저장\n",
        "    models = pd.DataFrame(results)\n",
        "    # 가장 낮은 AIC를 가지는 모델 선택 및 저장\n",
        "    best_model = models.loc[models['AIC'].argmin()]\n",
        "    toc = time.time()\n",
        "    print('Processed', models.shape[0], 'models on', k, 'predictors in', (toc - tic), 'seconds')\n",
        "    return best_model\n",
        "\n",
        "print(getBest(X=train_x, y=train_y, k=2))"
      ],
      "execution_count": 0,
      "outputs": [
        {
          "output_type": "stream",
          "text": [
            "Processed 171 models on 2 predictors in 0.17330217361450195 seconds\n",
            "model    <statsmodels.regression.linear_model.Regressio...\n",
            "AIC                                               -1424.14\n",
            "Name: 48, dtype: object\n"
          ],
          "name": "stdout"
        }
      ]
    },
    {
      "cell_type": "markdown",
      "metadata": {
        "id": "YviK4vouv8T9",
        "colab_type": "text"
      },
      "source": [
        "### 변수 선택에 따른 학습시간과 모델저장 "
      ]
    },
    {
      "cell_type": "code",
      "metadata": {
        "scrolled": false,
        "id": "eYYs4kpmv8T-",
        "colab_type": "code",
        "colab": {},
        "outputId": "247b19d9-a49f-447d-963e-62f9c0ec2dde"
      },
      "source": [
        "models = pd.DataFrame(columns=['AIC', 'model'])\n",
        "tic = time.time()\n",
        "for i in range(1, 4):\n",
        "    models.loc[i] = getBest(X=train_x, y=train_y, k=i)\n",
        "toc = time.time()\n",
        "print('Total elapsed time:', (toc-tic), 'seconds')"
      ],
      "execution_count": 0,
      "outputs": [
        {
          "output_type": "stream",
          "text": [
            "Processed 19 models on 1 predictors in 0.023313283920288086 seconds\n",
            "Processed 171 models on 2 predictors in 0.16726398468017578 seconds\n",
            "Processed 969 models on 3 predictors in 0.9488308429718018 seconds\n",
            "Total elapsed time: 1.154796838760376 seconds\n"
          ],
          "name": "stdout"
        }
      ]
    },
    {
      "cell_type": "code",
      "metadata": {
        "scrolled": true,
        "id": "dBcMuIZsv8T_",
        "colab_type": "code",
        "colab": {},
        "outputId": "380024d3-6910-48ef-ceea-da587fddaa69"
      },
      "source": [
        "models"
      ],
      "execution_count": 0,
      "outputs": [
        {
          "output_type": "execute_result",
          "data": {
            "text/html": [
              "<div>\n",
              "<style scoped>\n",
              "    .dataframe tbody tr th:only-of-type {\n",
              "        vertical-align: middle;\n",
              "    }\n",
              "\n",
              "    .dataframe tbody tr th {\n",
              "        vertical-align: top;\n",
              "    }\n",
              "\n",
              "    .dataframe thead th {\n",
              "        text-align: right;\n",
              "    }\n",
              "</style>\n",
              "<table border=\"1\" class=\"dataframe\">\n",
              "  <thead>\n",
              "    <tr style=\"text-align: right;\">\n",
              "      <th></th>\n",
              "      <th>AIC</th>\n",
              "      <th>model</th>\n",
              "    </tr>\n",
              "  </thead>\n",
              "  <tbody>\n",
              "    <tr>\n",
              "      <th>1</th>\n",
              "      <td>-1034.878034</td>\n",
              "      <td>&lt;statsmodels.regression.linear_model.Regressio...</td>\n",
              "    </tr>\n",
              "    <tr>\n",
              "      <th>2</th>\n",
              "      <td>-1424.142621</td>\n",
              "      <td>&lt;statsmodels.regression.linear_model.Regressio...</td>\n",
              "    </tr>\n",
              "    <tr>\n",
              "      <th>3</th>\n",
              "      <td>-1611.336583</td>\n",
              "      <td>&lt;statsmodels.regression.linear_model.Regressio...</td>\n",
              "    </tr>\n",
              "  </tbody>\n",
              "</table>\n",
              "</div>"
            ],
            "text/plain": [
              "           AIC                                              model\n",
              "1 -1034.878034  <statsmodels.regression.linear_model.Regressio...\n",
              "2 -1424.142621  <statsmodels.regression.linear_model.Regressio...\n",
              "3 -1611.336583  <statsmodels.regression.linear_model.Regressio..."
            ]
          },
          "metadata": {
            "tags": []
          },
          "execution_count": 215
        }
      ]
    },
    {
      "cell_type": "code",
      "metadata": {
        "id": "v4m8j1dfv8UB",
        "colab_type": "code",
        "colab": {},
        "outputId": "f5d8487f-fd93-4050-d63d-a0d4d736f519"
      },
      "source": [
        "print(models.loc[3, 'model'].summary())"
      ],
      "execution_count": 0,
      "outputs": [
        {
          "output_type": "stream",
          "text": [
            "                            OLS Regression Results                            \n",
            "==============================================================================\n",
            "Dep. Variable:                    OPS   R-squared:                       0.960\n",
            "Model:                            OLS   Adj. R-squared:                  0.960\n",
            "Method:                 Least Squares   F-statistic:                     2634.\n",
            "Date:                Sun, 03 May 2020   Prob (F-statistic):          4.35e-229\n",
            "Time:                        22:27:18   Log-Likelihood:                 809.67\n",
            "No. Observations:                 332   AIC:                            -1611.\n",
            "Df Residuals:                     328   BIC:                            -1596.\n",
            "Df Model:                           3                                         \n",
            "Covariance Type:            nonrobust                                         \n",
            "==============================================================================\n",
            "                 coef    std err          t      P>|t|      [0.025      0.975]\n",
            "------------------------------------------------------------------------------\n",
            "AB            -0.0017    4.5e-05    -37.832      0.000      -0.002      -0.002\n",
            "H              0.0018      0.000     15.872      0.000       0.002       0.002\n",
            "TB             0.0023   3.98e-05     58.398      0.000       0.002       0.002\n",
            "const          0.8732      0.013     66.618      0.000       0.847       0.899\n",
            "==============================================================================\n",
            "Omnibus:                        5.964   Durbin-Watson:                   2.053\n",
            "Prob(Omnibus):                  0.051   Jarque-Bera (JB):                3.667\n",
            "Skew:                           0.002   Prob(JB):                        0.160\n",
            "Kurtosis:                       2.485   Cond. No.                     5.95e+03\n",
            "==============================================================================\n",
            "\n",
            "Warnings:\n",
            "[1] Standard Errors assume that the covariance matrix of the errors is correctly specified.\n",
            "[2] The condition number is large, 5.95e+03. This might indicate that there are\n",
            "strong multicollinearity or other numerical problems.\n"
          ],
          "name": "stdout"
        }
      ]
    },
    {
      "cell_type": "markdown",
      "metadata": {
        "id": "VxPJCdc7v8UC",
        "colab_type": "text"
      },
      "source": [
        "### Baseline 모델과 비교 "
      ]
    },
    {
      "cell_type": "code",
      "metadata": {
        "id": "PGOfkY72v8UD",
        "colab_type": "code",
        "colab": {},
        "outputId": "3c551f72-503b-481f-8f21-2e7d2168782e"
      },
      "source": [
        "print('full model Rsquared: ', '{:.5f}'.format(fitted_full_model.rsquared))\n",
        "print('full model AIC: ', '{:.5f}'.format(fitted_full_model.aic))\n",
        "print('selected model Rsquared: ', '{:.5f}'.format(models.loc[3, 'model'].rsquared))\n",
        "print('selected model AIC: ', '{:.5f}'.format(models.loc[3, 'model'].aic))"
      ],
      "execution_count": 0,
      "outputs": [
        {
          "output_type": "stream",
          "text": [
            "full model Rsquared:  0.99283\n",
            "full model AIC:  -2150.73275\n",
            "selected model Rsquared:  0.96014\n",
            "selected model AIC:  -1611.33658\n"
          ],
          "name": "stdout"
        }
      ]
    },
    {
      "cell_type": "markdown",
      "metadata": {
        "id": "kmvr4aTZv8UF",
        "colab_type": "text"
      },
      "source": [
        "### Plot & Result "
      ]
    },
    {
      "cell_type": "code",
      "metadata": {
        "id": "7TnbrheWv8UF",
        "colab_type": "code",
        "colab": {},
        "outputId": "b4e560ff-4f75-4e00-fad8-08ace2cd36e4"
      },
      "source": [
        "plt.figure(figsize=(20, 10))\n",
        "plt.rcParams.update({'font.size': 18, 'lines.markersize': 10})\n",
        "\n",
        "## Mallow Cp\n",
        "plt.subplot(221)\n",
        "Cp = models.apply(lambda row: (row[1].params.shape[0] + (row[1].mse_total - fitted_full_model.mse_total) * \n",
        "                              (train_x.shape[0] - row[1].params.shape[0])/fitted_full_model.mse_total), axis=1)\n",
        "plt.plot(Cp)\n",
        "plt.plot(Cp.argmin(), Cp.min(), 'or')\n",
        "plt.xlabel('# Predictors')\n",
        "plt.ylabel('adjusted rsquared')\n",
        "\n",
        "## adj-rsquared plot\n",
        "## adj-rsquared = Explained variation / Total variation\n",
        "adj_rsquared = models.apply(lambda row: row[1].rsquared_adj, axis=1)\n",
        "plt.subplot(222)\n",
        "plt.plot(adj_rsquared)\n",
        "plt.plot(adj_rsquared.argmax(), adj_rsquared.max(), 'or')\n",
        "plt.xlabel('# Predictors')\n",
        "plt.ylabel('adjusted rsquared')\n",
        "\n",
        "## aic\n",
        "aic = models.apply(lambda row: row[1].aic, axis=1)\n",
        "plt.subplot(223)\n",
        "plt.plot(aic)\n",
        "plt.plot(aic.argmin(), aic.min(), 'or')\n",
        "plt.xlabel('# Predictors')\n",
        "plt.ylabel('AIC')\n",
        "\n",
        "## bic\n",
        "bic = models.apply(lambda row: row[1].bic, axis=1)\n",
        "plt.subplot(224)\n",
        "plt.plot(bic)\n",
        "plt.plot(bic.argmin(), bic.min(), 'or')\n",
        "plt.xlabel('# Predictors')\n",
        "plt.ylabel('BIC')"
      ],
      "execution_count": 0,
      "outputs": [
        {
          "output_type": "execute_result",
          "data": {
            "text/plain": [
              "Text(0, 0.5, 'BIC')"
            ]
          },
          "metadata": {
            "tags": []
          },
          "execution_count": 218
        },
        {
          "output_type": "display_data",
          "data": {
            "image/png": "[encoded data removed]",
            "text/plain": [
              "<Figure size 1440x720 with 4 Axes>"
            ]
          },
          "metadata": {
            "tags": [],
            "needs_background": "light"
          }
        }
      ]
    },
    {
      "cell_type": "markdown",
      "metadata": {
        "id": "AEeA74Qwv8UH",
        "colab_type": "text"
      },
      "source": [
        "# 전진선택법 "
      ]
    },
    {
      "cell_type": "code",
      "metadata": {
        "id": "ghXW_NM5v8UH",
        "colab_type": "code",
        "colab": {}
      },
      "source": [
        "def forward(X, y, predictors):\n",
        "    # 데이터 변수들이 미리정의된 predictors에 있는지 없는지 확인 및 분류\n",
        "    remaining_predictors = [p for p in X.columns.difference(['const']) if p not in predictors]\n",
        "    tic = time.time()\n",
        "    results = []\n",
        "    for p in remaining_predictors:\n",
        "        results.append(processSubset(X=X, y= y, feature_set=predictors+[p]+['const']))\n",
        "    # 데이터프레임으로 변환\n",
        "    models = pd.DataFrame(results)\n",
        "\n",
        "    # AIC가 가장 낮은 것을 선택\n",
        "    best_model = models.loc[models['AIC'].argmin()] # index\n",
        "    toc = time.time()\n",
        "    print(\"Processed \", models.shape[0], \"models on\", len(predictors)+1, \"predictors in\", (toc-tic))\n",
        "    print('Selected predictors:',best_model['model'].model.exog_names,' AIC:',best_model[0] )\n",
        "    return best_model"
      ],
      "execution_count": 0,
      "outputs": []
    },
    {
      "cell_type": "code",
      "metadata": {
        "id": "v7dvhk7Qv8UI",
        "colab_type": "code",
        "colab": {}
      },
      "source": [
        "def forward_model(X,y):\n",
        "    Fmodels = pd.DataFrame(columns=[\"AIC\", \"model\"])\n",
        "    tic = time.time()\n",
        "    # 미리 정의된 데이터 변수\n",
        "    predictors = []\n",
        "    # 변수 1~10개 : 0~9 -> 1~10\n",
        "    for i in range(1, len(X.columns.difference(['const'])) + 1):\n",
        "        Forward_result = forward(X=X,y=y,predictors=predictors)\n",
        "        if i > 1:\n",
        "            if Forward_result['AIC'] > Fmodel_before:\n",
        "                break\n",
        "        Fmodels.loc[i] = Forward_result\n",
        "        predictors = Fmodels.loc[i][\"model\"].model.exog_names\n",
        "        Fmodel_before = Fmodels.loc[i][\"AIC\"]\n",
        "        predictors = [ k for k in predictors if k != 'const']\n",
        "    toc = time.time()\n",
        "    print(\"Total elapsed time:\", (toc - tic), \"seconds.\")\n",
        "\n",
        "    return(Fmodels['model'][len(Fmodels['model'])])"
      ],
      "execution_count": 0,
      "outputs": []
    },
    {
      "cell_type": "code",
      "metadata": {
        "id": "DX9IiHXxv8UK",
        "colab_type": "code",
        "colab": {},
        "outputId": "88aafa30-b318-4e47-e050-13ff371a8790"
      },
      "source": [
        "Forward_best_model = forward_model(X=train_x, y=train_y)"
      ],
      "execution_count": 0,
      "outputs": [
        {
          "output_type": "stream",
          "text": [
            "Processed  19 models on 1 predictors in 0.03094792366027832\n",
            "Selected predictors: ['TB', 'const']  AIC: <statsmodels.regression.linear_model.RegressionResultsWrapper object at 0x1a30848750>\n",
            "Processed  18 models on 2 predictors in 0.021955013275146484\n",
            "Selected predictors: ['TB', 'AB', 'const']  AIC: <statsmodels.regression.linear_model.RegressionResultsWrapper object at 0x1a2c7f53d0>\n",
            "Processed  17 models on 3 predictors in 0.02373504638671875\n",
            "Selected predictors: ['TB', 'AB', 'H', 'const']  AIC: <statsmodels.regression.linear_model.RegressionResultsWrapper object at 0x1a2ed20510>\n",
            "Processed  16 models on 4 predictors in 0.023723125457763672\n",
            "Selected predictors: ['TB', 'AB', 'H', 'BB', 'const']  AIC: <statsmodels.regression.linear_model.RegressionResultsWrapper object at 0x1a2ed33210>\n",
            "Processed  15 models on 5 predictors in 0.024603843688964844\n",
            "Selected predictors: ['TB', 'AB', 'H', 'BB', 'HBP', 'const']  AIC: <statsmodels.regression.linear_model.RegressionResultsWrapper object at 0x1a2ed209d0>\n",
            "Processed  14 models on 6 predictors in 0.02541518211364746\n",
            "Selected predictors: ['TB', 'AB', 'H', 'BB', 'HBP', 'G', 'const']  AIC: <statsmodels.regression.linear_model.RegressionResultsWrapper object at 0x1a2c7f5590>\n",
            "Processed  13 models on 7 predictors in 0.0199739933013916\n",
            "Selected predictors: ['TB', 'AB', 'H', 'BB', 'HBP', 'G', 'GDP', 'const']  AIC: <statsmodels.regression.linear_model.RegressionResultsWrapper object at 0x1a304db210>\n",
            "Processed  12 models on 8 predictors in 0.01978302001953125\n",
            "Selected predictors: ['TB', 'AB', 'H', 'BB', 'HBP', 'G', 'GDP', 'RBI', 'const']  AIC: <statsmodels.regression.linear_model.RegressionResultsWrapper object at 0x1a2ed20490>\n",
            "Processed  11 models on 9 predictors in 0.0196378231048584\n",
            "Selected predictors: ['TB', 'AB', 'H', 'BB', 'HBP', 'G', 'GDP', 'RBI', 'weight', 'const']  AIC: <statsmodels.regression.linear_model.RegressionResultsWrapper object at 0x1a2ed33590>\n",
            "Processed  10 models on 10 predictors in 0.019305944442749023\n",
            "Selected predictors: ['TB', 'AB', 'H', 'BB', 'HBP', 'G', 'GDP', 'RBI', 'weight', 'height', 'const']  AIC: <statsmodels.regression.linear_model.RegressionResultsWrapper object at 0x1a30866590>\n",
            "Processed  9 models on 11 predictors in 0.016170263290405273\n",
            "Selected predictors: ['TB', 'AB', 'H', 'BB', 'HBP', 'G', 'GDP', 'RBI', 'weight', 'height', 'Age', 'const']  AIC: <statsmodels.regression.linear_model.RegressionResultsWrapper object at 0x1a2f953b50>\n",
            "Total elapsed time: 0.2873411178588867 seconds.\n"
          ],
          "name": "stdout"
        }
      ]
    },
    {
      "cell_type": "code",
      "metadata": {
        "id": "VEIslp8Ev8UM",
        "colab_type": "code",
        "colab": {},
        "outputId": "1da7ebbe-89cc-4f22-eaa3-4bd6186e2dce"
      },
      "source": [
        "Forward_best_model.aic"
      ],
      "execution_count": 0,
      "outputs": [
        {
          "output_type": "execute_result",
          "data": {
            "text/plain": [
              "-2160.729714894596"
            ]
          },
          "metadata": {
            "tags": []
          },
          "execution_count": 222
        }
      ]
    },
    {
      "cell_type": "code",
      "metadata": {
        "id": "a94UiC4fv8UO",
        "colab_type": "code",
        "colab": {},
        "outputId": "7d80b41d-d737-4166-f6b2-a470ba32e6af"
      },
      "source": [
        "print(Forward_best_model.summary())"
      ],
      "execution_count": 0,
      "outputs": [
        {
          "output_type": "stream",
          "text": [
            "                            OLS Regression Results                            \n",
            "==============================================================================\n",
            "Dep. Variable:                    OPS   R-squared:                       0.993\n",
            "Model:                            OLS   Adj. R-squared:                  0.992\n",
            "Method:                 Least Squares   F-statistic:                     4363.\n",
            "Date:                Sun, 03 May 2020   Prob (F-statistic):               0.00\n",
            "Time:                        22:27:19   Log-Likelihood:                 1091.4\n",
            "No. Observations:                 332   AIC:                            -2161.\n",
            "Df Residuals:                     321   BIC:                            -2119.\n",
            "Df Model:                          10                                         \n",
            "Covariance Type:            nonrobust                                         \n",
            "==============================================================================\n",
            "                 coef    std err          t      P>|t|      [0.025      0.975]\n",
            "------------------------------------------------------------------------------\n",
            "TB             0.0022   3.46e-05     62.971      0.000       0.002       0.002\n",
            "AB            -0.0017   2.66e-05    -62.987      0.000      -0.002      -0.002\n",
            "H              0.0019   5.45e-05     34.171      0.000       0.002       0.002\n",
            "BB             0.0013   3.65e-05     34.847      0.000       0.001       0.001\n",
            "HBP            0.0014      0.000     12.766      0.000       0.001       0.002\n",
            "G             -0.0004   9.43e-05     -4.305      0.000      -0.001      -0.000\n",
            "GDP            0.0005      0.000      3.649      0.000       0.000       0.001\n",
            "RBI           -0.0001   5.17e-05     -2.413      0.016      -0.000    -2.3e-05\n",
            "weight        -0.0002   6.56e-05     -2.545      0.011      -0.000   -3.79e-05\n",
            "height         0.0003      0.000      2.176      0.030    3.18e-05       0.001\n",
            "const          0.8202      0.026     31.308      0.000       0.769       0.872\n",
            "==============================================================================\n",
            "Omnibus:                       15.456   Durbin-Watson:                   2.032\n",
            "Prob(Omnibus):                  0.000   Jarque-Bera (JB):               29.260\n",
            "Skew:                          -0.243   Prob(JB):                     4.43e-07\n",
            "Kurtosis:                       4.371   Cond. No.                     3.05e+04\n",
            "==============================================================================\n",
            "\n",
            "Warnings:\n",
            "[1] Standard Errors assume that the covariance matrix of the errors is correctly specified.\n",
            "[2] The condition number is large, 3.05e+04. This might indicate that there are\n",
            "strong multicollinearity or other numerical problems.\n"
          ],
          "name": "stdout"
        }
      ]
    },
    {
      "cell_type": "markdown",
      "metadata": {
        "id": "HZAAf6Spv8UQ",
        "colab_type": "text"
      },
      "source": [
        "# 후진소거법 "
      ]
    },
    {
      "cell_type": "code",
      "metadata": {
        "id": "bDjdvIQJv8UQ",
        "colab_type": "code",
        "colab": {}
      },
      "source": [
        "def backward(X,y,predictors):\n",
        "    tic = time.time()\n",
        "    results = []\n",
        "    # 데이터 변수들이 미리정의된 predictors 조합 확인\n",
        "    for combo in itertools.combinations(predictors, len(predictors) - 1):\n",
        "        results.append(processSubset(X=X, y= y,feature_set=list(combo)+['const']))\n",
        "    models = pd.DataFrame(results)\n",
        "    # 가장 낮은 AIC를 가진 모델을 선택\n",
        "    best_model = models.loc[models['AIC'].argmin()]\n",
        "    toc = time.time()\n",
        "    print(\"Processed \", models.shape[0], \"models on\", len(predictors) - 1, \"predictors in\",\n",
        "          (toc - tic))\n",
        "    print('Selected predictors:',best_model['model'].model.exog_names,' AIC:',best_model[0] )\n",
        "    return best_model"
      ],
      "execution_count": 0,
      "outputs": []
    },
    {
      "cell_type": "code",
      "metadata": {
        "id": "J06kFotcv8US",
        "colab_type": "code",
        "colab": {}
      },
      "source": [
        "def backward_model(X, y):\n",
        "    Bmodels = pd.DataFrame(columns=[\"AIC\", \"model\"], index = range(1,len(X.columns)))\n",
        "    tic = time.time()\n",
        "    predictors = X.columns.difference(['const'])\n",
        "    Bmodel_before = processSubset(X,y,predictors)['AIC']\n",
        "    while (len(predictors) > 1):\n",
        "        Backward_result = backward(X=train_x, y= train_y, predictors = predictors)\n",
        "        if Backward_result['AIC'] > Bmodel_before:\n",
        "            break\n",
        "        Bmodels.loc[len(predictors) - 1] = Backward_result\n",
        "        predictors = Bmodels.loc[len(predictors) - 1][\"model\"].model.exog_names\n",
        "        Bmodel_before = Backward_result['AIC']\n",
        "        predictors = [ k for k in predictors if k != 'const']\n",
        "\n",
        "    toc = time.time()\n",
        "    print(\"Total elapsed time:\", (toc - tic), \"seconds.\")\n",
        "    return (Bmodels['model'].dropna().iloc[0])"
      ],
      "execution_count": 0,
      "outputs": []
    },
    {
      "cell_type": "code",
      "metadata": {
        "id": "lWgcebhov8UU",
        "colab_type": "code",
        "colab": {},
        "outputId": "07ed1c79-2c42-41fb-8263-81e7a32aa2d4"
      },
      "source": [
        "Backward_best_model = backward_model(X=train_x,y=train_y)"
      ],
      "execution_count": 0,
      "outputs": [
        {
          "output_type": "stream",
          "text": [
            "Processed  19 models on 18 predictors in 0.03404688835144043\n",
            "Selected predictors: ['2B', '3B', 'AB', 'Age', 'BB', 'CS', 'E', 'G', 'GDP', 'H', 'HBP', 'HR', 'R', 'RBI', 'SB', 'TB', 'height', 'weight', 'const']  AIC: <statsmodels.regression.linear_model.RegressionResultsWrapper object at 0x1a304db310>\n",
            "Processed  18 models on 17 predictors in 0.029389142990112305\n",
            "Selected predictors: ['2B', '3B', 'AB', 'Age', 'BB', 'CS', 'E', 'G', 'GDP', 'H', 'HBP', 'HR', 'RBI', 'SB', 'TB', 'height', 'weight', 'const']  AIC: <statsmodels.regression.linear_model.RegressionResultsWrapper object at 0x1a2ed33bd0>\n",
            "Processed  17 models on 16 predictors in 0.031286001205444336\n",
            "Selected predictors: ['2B', '3B', 'AB', 'Age', 'BB', 'CS', 'E', 'G', 'GDP', 'H', 'HBP', 'HR', 'RBI', 'TB', 'height', 'weight', 'const']  AIC: <statsmodels.regression.linear_model.RegressionResultsWrapper object at 0x1a2ed25410>\n",
            "Processed  16 models on 15 predictors in 0.027587890625\n",
            "Selected predictors: ['2B', '3B', 'AB', 'Age', 'BB', 'E', 'G', 'GDP', 'H', 'HBP', 'HR', 'RBI', 'TB', 'height', 'weight', 'const']  AIC: <statsmodels.regression.linear_model.RegressionResultsWrapper object at 0x1a2ed33e90>\n",
            "Processed  15 models on 14 predictors in 0.026842832565307617\n",
            "Selected predictors: ['2B', '3B', 'AB', 'Age', 'BB', 'E', 'G', 'GDP', 'H', 'HBP', 'RBI', 'TB', 'height', 'weight', 'const']  AIC: <statsmodels.regression.linear_model.RegressionResultsWrapper object at 0x1a2ed25f90>\n",
            "Processed  14 models on 13 predictors in 0.024101972579956055\n",
            "Selected predictors: ['3B', 'AB', 'Age', 'BB', 'E', 'G', 'GDP', 'H', 'HBP', 'RBI', 'TB', 'height', 'weight', 'const']  AIC: <statsmodels.regression.linear_model.RegressionResultsWrapper object at 0x1a2fb0cf50>\n",
            "Processed  13 models on 12 predictors in 0.022847890853881836\n",
            "Selected predictors: ['AB', 'Age', 'BB', 'E', 'G', 'GDP', 'H', 'HBP', 'RBI', 'TB', 'height', 'weight', 'const']  AIC: <statsmodels.regression.linear_model.RegressionResultsWrapper object at 0x1a30866410>\n",
            "Total elapsed time: 0.2086961269378662 seconds.\n"
          ],
          "name": "stdout"
        }
      ]
    },
    {
      "cell_type": "code",
      "metadata": {
        "id": "nb3C04W5v8UV",
        "colab_type": "code",
        "colab": {},
        "outputId": "d486c484-39c6-4374-dd06-87b3e7277d84"
      },
      "source": [
        "Backward_best_model.aic"
      ],
      "execution_count": 0,
      "outputs": [
        {
          "output_type": "execute_result",
          "data": {
            "text/plain": [
              "-2160.150811789945"
            ]
          },
          "metadata": {
            "tags": []
          },
          "execution_count": 227
        }
      ]
    },
    {
      "cell_type": "code",
      "metadata": {
        "id": "x9iAqxtJv8UX",
        "colab_type": "code",
        "colab": {},
        "outputId": "2658ec89-de03-43cd-a1c6-b3d2d68c440c"
      },
      "source": [
        "print(Backward_best_model.summary())"
      ],
      "execution_count": 0,
      "outputs": [
        {
          "output_type": "stream",
          "text": [
            "                            OLS Regression Results                            \n",
            "==============================================================================\n",
            "Dep. Variable:                    OPS   R-squared:                       0.993\n",
            "Model:                            OLS   Adj. R-squared:                  0.993\n",
            "Method:                 Least Squares   F-statistic:                     3380.\n",
            "Date:                Sun, 03 May 2020   Prob (F-statistic):               0.00\n",
            "Time:                        22:27:19   Log-Likelihood:                 1094.1\n",
            "No. Observations:                 332   AIC:                            -2160.\n",
            "Df Residuals:                     318   BIC:                            -2107.\n",
            "Df Model:                          13                                         \n",
            "Covariance Type:            nonrobust                                         \n",
            "==============================================================================\n",
            "                 coef    std err          t      P>|t|      [0.025      0.975]\n",
            "------------------------------------------------------------------------------\n",
            "3B            -0.0004      0.000     -1.461      0.145      -0.001       0.000\n",
            "AB            -0.0017   2.69e-05    -62.615      0.000      -0.002      -0.002\n",
            "Age           -0.0003      0.000     -1.805      0.072      -0.001    2.32e-05\n",
            "BB             0.0013   3.68e-05     34.192      0.000       0.001       0.001\n",
            "E             -0.0001   9.47e-05     -1.528      0.128      -0.000    4.17e-05\n",
            "G             -0.0004   9.58e-05     -3.934      0.000      -0.001      -0.000\n",
            "GDP            0.0005      0.000      3.717      0.000       0.000       0.001\n",
            "H              0.0019   5.59e-05     33.557      0.000       0.002       0.002\n",
            "HBP            0.0014      0.000     12.650      0.000       0.001       0.002\n",
            "RBI           -0.0001   5.23e-05     -2.661      0.008      -0.000   -3.63e-05\n",
            "TB             0.0022   3.51e-05     62.512      0.000       0.002       0.002\n",
            "height         0.0003      0.000      2.274      0.024    4.69e-05       0.001\n",
            "weight        -0.0002   6.84e-05     -3.065      0.002      -0.000    -7.5e-05\n",
            "const          0.8271      0.026     31.294      0.000       0.775       0.879\n",
            "==============================================================================\n",
            "Omnibus:                       16.563   Durbin-Watson:                   2.050\n",
            "Prob(Omnibus):                  0.000   Jarque-Bera (JB):               32.499\n",
            "Skew:                          -0.253   Prob(JB):                     8.77e-08\n",
            "Kurtosis:                       4.447   Cond. No.                     3.10e+04\n",
            "==============================================================================\n",
            "\n",
            "Warnings:\n",
            "[1] Standard Errors assume that the covariance matrix of the errors is correctly specified.\n",
            "[2] The condition number is large, 3.1e+04. This might indicate that there are\n",
            "strong multicollinearity or other numerical problems.\n"
          ],
          "name": "stdout"
        }
      ]
    },
    {
      "cell_type": "markdown",
      "metadata": {
        "id": "ytPTBSAMv8Ua",
        "colab_type": "text"
      },
      "source": [
        "# 단계적 선택법"
      ]
    },
    {
      "cell_type": "code",
      "metadata": {
        "id": "RCKpmbaLv8Ua",
        "colab_type": "code",
        "colab": {}
      },
      "source": [
        "def Stepwise_model(X, y):\n",
        "    Stepmodels = pd.DataFrame(columns=['AIC', 'model'])\n",
        "    tic = time.time()\n",
        "    predictors = []\n",
        "    Smodel_before = processSubset(X, y, predictors+['const'])['AIC']\n",
        "    # 변수 1~10개 : 0~9 -> 1~10\n",
        "    for i in range(1, len(X.columns.difference(['const']))+1):\n",
        "        Forward_result = forward(X=X, y=y, predictors=predictors)\n",
        "        print('forward')\n",
        "        Stepmodels.loc[i] = Forward_result\n",
        "        predictors = Stepmodels.loc[i]['model'].model.exog_names\n",
        "        predictors = [k for k in predictors if k != 'const']\n",
        "        Backward_result = backward(X=X, y=y, predictors=predictors)\n",
        "        if Backward_result['AIC'] < Forward_result['AIC']:\n",
        "            Stepmodels.loc[i] = Backward_result\n",
        "            predictors = Stepmodels.loc[i]['model'].model.exog_names\n",
        "            Smodel_before = Stepmodels.loc[i]['AIC']\n",
        "            predictors = [k for k in predictors if k != 'const']\n",
        "            print('backward')\n",
        "        if Stepmodels.loc[i]['AIC'] > Smodel_before: break\n",
        "        else: Smodel_before = Stepmodels.loc[i]['AIC']\n",
        "        \n",
        "    toc = time.time()\n",
        "    print('Total elapsed time:', (toc - tic), 'seconds')\n",
        "    \n",
        "    return (Stepmodels['model'][len(Stepmodels['model'])])"
      ],
      "execution_count": 0,
      "outputs": []
    },
    {
      "cell_type": "code",
      "metadata": {
        "id": "VshcNeO_v8Uc",
        "colab_type": "code",
        "colab": {},
        "outputId": "77b3df6e-f417-4ded-bb32-7c5728cc0f80"
      },
      "source": [
        "Stepwise_best_model = Stepwise_model(X=X, y=y)"
      ],
      "execution_count": 0,
      "outputs": [
        {
          "output_type": "stream",
          "text": [
            "Processed  19 models on 1 predictors in 0.024667978286743164\n",
            "Selected predictors: ['TB', 'const']  AIC: <statsmodels.regression.linear_model.RegressionResultsWrapper object at 0x1a3050e590>\n",
            "forward\n",
            "Processed  1 models on 0 predictors in 0.0017600059509277344\n",
            "Selected predictors: ['const']  AIC: <statsmodels.regression.linear_model.RegressionResultsWrapper object at 0x1a3059be50>\n",
            "Processed  18 models on 2 predictors in 0.026411056518554688\n",
            "Selected predictors: ['TB', 'AB', 'const']  AIC: <statsmodels.regression.linear_model.RegressionResultsWrapper object at 0x1a3059b150>\n",
            "forward\n",
            "Processed  2 models on 1 predictors in 0.003718852996826172\n",
            "Selected predictors: ['TB', 'const']  AIC: <statsmodels.regression.linear_model.RegressionResultsWrapper object at 0x1a305a8650>\n",
            "Processed  17 models on 3 predictors in 0.021471023559570312\n",
            "Selected predictors: ['TB', 'AB', 'H', 'const']  AIC: <statsmodels.regression.linear_model.RegressionResultsWrapper object at 0x1a305a8490>\n",
            "forward\n",
            "Processed  3 models on 2 predictors in 0.006624937057495117\n",
            "Selected predictors: ['TB', 'AB', 'const']  AIC: <statsmodels.regression.linear_model.RegressionResultsWrapper object at 0x1a2c7f55d0>\n",
            "Processed  16 models on 4 predictors in 0.022627830505371094\n",
            "Selected predictors: ['TB', 'AB', 'H', 'BB', 'const']  AIC: <statsmodels.regression.linear_model.RegressionResultsWrapper object at 0x1a3059bb90>\n",
            "forward\n",
            "Processed  4 models on 3 predictors in 0.006442070007324219\n",
            "Selected predictors: ['TB', 'AB', 'H', 'const']  AIC: <statsmodels.regression.linear_model.RegressionResultsWrapper object at 0x1a2f96c9d0>\n",
            "Processed  15 models on 5 predictors in 0.02176380157470703\n",
            "Selected predictors: ['TB', 'AB', 'H', 'BB', 'HBP', 'const']  AIC: <statsmodels.regression.linear_model.RegressionResultsWrapper object at 0x1a305a8410>\n",
            "forward\n",
            "Processed  5 models on 4 predictors in 0.009502887725830078\n",
            "Selected predictors: ['TB', 'AB', 'H', 'BB', 'const']  AIC: <statsmodels.regression.linear_model.RegressionResultsWrapper object at 0x1a2efb6d50>\n",
            "Processed  14 models on 6 predictors in 0.018037080764770508\n",
            "Selected predictors: ['TB', 'AB', 'H', 'BB', 'HBP', 'G', 'const']  AIC: <statsmodels.regression.linear_model.RegressionResultsWrapper object at 0x1a3059b990>\n",
            "forward\n",
            "Processed  6 models on 5 predictors in 0.009979009628295898\n",
            "Selected predictors: ['TB', 'AB', 'H', 'BB', 'HBP', 'const']  AIC: <statsmodels.regression.linear_model.RegressionResultsWrapper object at 0x1a2ade32d0>\n",
            "Processed  13 models on 7 predictors in 0.015715837478637695\n",
            "Selected predictors: ['TB', 'AB', 'H', 'BB', 'HBP', 'G', 'RBI', 'const']  AIC: <statsmodels.regression.linear_model.RegressionResultsWrapper object at 0x1a305a8890>\n",
            "forward\n",
            "Processed  7 models on 6 predictors in 0.009720087051391602\n",
            "Selected predictors: ['TB', 'AB', 'H', 'BB', 'HBP', 'G', 'const']  AIC: <statsmodels.regression.linear_model.RegressionResultsWrapper object at 0x1a2efb6d50>\n",
            "Processed  12 models on 8 predictors in 0.015520095825195312\n",
            "Selected predictors: ['TB', 'AB', 'H', 'BB', 'HBP', 'G', 'RBI', 'GDP', 'const']  AIC: <statsmodels.regression.linear_model.RegressionResultsWrapper object at 0x1a305a8050>\n",
            "forward\n",
            "Processed  8 models on 7 predictors in 0.01184988021850586\n",
            "Selected predictors: ['TB', 'AB', 'H', 'BB', 'HBP', 'G', 'RBI', 'const']  AIC: <statsmodels.regression.linear_model.RegressionResultsWrapper object at 0x1a2ed33c90>\n",
            "Processed  11 models on 9 predictors in 0.015096902847290039\n",
            "Selected predictors: ['TB', 'AB', 'H', 'BB', 'HBP', 'G', 'RBI', 'GDP', 'CS', 'const']  AIC: <statsmodels.regression.linear_model.RegressionResultsWrapper object at 0x1a3059ba50>\n",
            "forward\n",
            "Processed  9 models on 8 predictors in 0.012196779251098633\n",
            "Selected predictors: ['TB', 'AB', 'H', 'BB', 'HBP', 'G', 'RBI', 'GDP', 'const']  AIC: <statsmodels.regression.linear_model.RegressionResultsWrapper object at 0x1a3057ac90>\n",
            "Processed  10 models on 10 predictors in 0.014274835586547852\n",
            "Selected predictors: ['TB', 'AB', 'H', 'BB', 'HBP', 'G', 'RBI', 'GDP', 'CS', 'height', 'const']  AIC: <statsmodels.regression.linear_model.RegressionResultsWrapper object at 0x1a3059b890>\n",
            "forward\n",
            "Processed  10 models on 9 predictors in 0.014028072357177734\n",
            "Selected predictors: ['TB', 'AB', 'H', 'BB', 'HBP', 'G', 'RBI', 'GDP', 'CS', 'const']  AIC: <statsmodels.regression.linear_model.RegressionResultsWrapper object at 0x1a2ed33c90>\n",
            "Processed  9 models on 11 predictors in 0.013596057891845703\n",
            "Selected predictors: ['TB', 'AB', 'H', 'BB', 'HBP', 'G', 'RBI', 'GDP', 'CS', 'height', 'weight', 'const']  AIC: <statsmodels.regression.linear_model.RegressionResultsWrapper object at 0x1a3050e490>\n",
            "forward\n",
            "Processed  11 models on 10 predictors in 0.014392614364624023\n",
            "Selected predictors: ['TB', 'AB', 'H', 'BB', 'HBP', 'G', 'RBI', 'GDP', 'height', 'weight', 'const']  AIC: <statsmodels.regression.linear_model.RegressionResultsWrapper object at 0x1a3059b290>\n",
            "backward\n",
            "Processed  9 models on 11 predictors in 0.014516115188598633\n",
            "Selected predictors: ['TB', 'AB', 'H', 'BB', 'HBP', 'G', 'RBI', 'GDP', 'height', 'weight', 'CS', 'const']  AIC: <statsmodels.regression.linear_model.RegressionResultsWrapper object at 0x1a305a8690>\n",
            "forward\n",
            "Processed  11 models on 10 predictors in 0.015228986740112305\n",
            "Selected predictors: ['TB', 'AB', 'H', 'BB', 'HBP', 'G', 'RBI', 'GDP', 'height', 'weight', 'const']  AIC: <statsmodels.regression.linear_model.RegressionResultsWrapper object at 0x1a2ade3b10>\n",
            "backward\n",
            "Processed  9 models on 11 predictors in 0.014399051666259766\n",
            "Selected predictors: ['TB', 'AB', 'H', 'BB', 'HBP', 'G', 'RBI', 'GDP', 'height', 'weight', 'CS', 'const']  AIC: <statsmodels.regression.linear_model.RegressionResultsWrapper object at 0x1a305a8c10>\n",
            "forward\n",
            "Processed  11 models on 10 predictors in 0.015405893325805664\n",
            "Selected predictors: ['TB', 'AB', 'H', 'BB', 'HBP', 'G', 'RBI', 'GDP', 'height', 'weight', 'const']  AIC: <statsmodels.regression.linear_model.RegressionResultsWrapper object at 0x1a30500410>\n",
            "backward\n",
            "Processed  9 models on 11 predictors in 0.01415109634399414\n",
            "Selected predictors: ['TB', 'AB', 'H', 'BB', 'HBP', 'G', 'RBI', 'GDP', 'height', 'weight', 'CS', 'const']  AIC: <statsmodels.regression.linear_model.RegressionResultsWrapper object at 0x1a305a85d0>\n",
            "forward\n",
            "Processed  11 models on 10 predictors in 0.015221357345581055\n",
            "Selected predictors: ['TB', 'AB', 'H', 'BB', 'HBP', 'G', 'RBI', 'GDP', 'height', 'weight', 'const']  AIC: <statsmodels.regression.linear_model.RegressionResultsWrapper object at 0x1a2efb6d50>\n",
            "backward\n",
            "Processed  9 models on 11 predictors in 0.01407003402709961\n",
            "Selected predictors: ['TB', 'AB', 'H', 'BB', 'HBP', 'G', 'RBI', 'GDP', 'height', 'weight', 'CS', 'const']  AIC: <statsmodels.regression.linear_model.RegressionResultsWrapper object at 0x1a305a8f50>\n",
            "forward\n",
            "Processed  11 models on 10 predictors in 0.015060186386108398\n",
            "Selected predictors: ['TB', 'AB', 'H', 'BB', 'HBP', 'G', 'RBI', 'GDP', 'height', 'weight', 'const']  AIC: <statsmodels.regression.linear_model.RegressionResultsWrapper object at 0x1a3050e210>\n",
            "backward\n",
            "Processed  9 models on 11 predictors in 0.014833927154541016\n",
            "Selected predictors: ['TB', 'AB', 'H', 'BB', 'HBP', 'G', 'RBI', 'GDP', 'height', 'weight', 'CS', 'const']  AIC: <statsmodels.regression.linear_model.RegressionResultsWrapper object at 0x1a305a85d0>\n",
            "forward\n",
            "Processed  11 models on 10 predictors in 0.014885902404785156\n",
            "Selected predictors: ['TB', 'AB', 'H', 'BB', 'HBP', 'G', 'RBI', 'GDP', 'height', 'weight', 'const']  AIC: <statsmodels.regression.linear_model.RegressionResultsWrapper object at 0x1a3050e350>\n",
            "backward\n",
            "Processed  9 models on 11 predictors in 0.013646841049194336\n",
            "Selected predictors: ['TB', 'AB', 'H', 'BB', 'HBP', 'G', 'RBI', 'GDP', 'height', 'weight', 'CS', 'const']  AIC: <statsmodels.regression.linear_model.RegressionResultsWrapper object at 0x1a305ae890>\n",
            "forward\n",
            "Processed  11 models on 10 predictors in 0.014744997024536133\n",
            "Selected predictors: ['TB', 'AB', 'H', 'BB', 'HBP', 'G', 'RBI', 'GDP', 'height', 'weight', 'const']  AIC: <statsmodels.regression.linear_model.RegressionResultsWrapper object at 0x1a3059b250>\n",
            "backward\n",
            "Processed  9 models on 11 predictors in 0.013319253921508789\n",
            "Selected predictors: ['TB', 'AB', 'H', 'BB', 'HBP', 'G', 'RBI', 'GDP', 'height', 'weight', 'CS', 'const']  AIC: <statsmodels.regression.linear_model.RegressionResultsWrapper object at 0x1a305aecd0>\n",
            "forward\n"
          ],
          "name": "stdout"
        },
        {
          "output_type": "stream",
          "text": [
            "Processed  11 models on 10 predictors in 0.01652669906616211\n",
            "Selected predictors: ['TB', 'AB', 'H', 'BB', 'HBP', 'G', 'RBI', 'GDP', 'height', 'weight', 'const']  AIC: <statsmodels.regression.linear_model.RegressionResultsWrapper object at 0x1a3059bd90>\n",
            "backward\n",
            "Processed  9 models on 11 predictors in 0.014523983001708984\n",
            "Selected predictors: ['TB', 'AB', 'H', 'BB', 'HBP', 'G', 'RBI', 'GDP', 'height', 'weight', 'CS', 'const']  AIC: <statsmodels.regression.linear_model.RegressionResultsWrapper object at 0x1a305aed50>\n",
            "forward\n",
            "Processed  11 models on 10 predictors in 0.014764070510864258\n",
            "Selected predictors: ['TB', 'AB', 'H', 'BB', 'HBP', 'G', 'RBI', 'GDP', 'height', 'weight', 'const']  AIC: <statsmodels.regression.linear_model.RegressionResultsWrapper object at 0x1a3059bed0>\n",
            "backward\n",
            "Total elapsed time: 0.635516881942749 seconds\n"
          ],
          "name": "stdout"
        }
      ]
    },
    {
      "cell_type": "code",
      "metadata": {
        "id": "2gFPefEhv8Ud",
        "colab_type": "code",
        "colab": {},
        "outputId": "be1b7890-5d25-4874-8e38-3c8f8d35b904"
      },
      "source": [
        "Stepwise_best_model.aic"
      ],
      "execution_count": 0,
      "outputs": [
        {
          "output_type": "execute_result",
          "data": {
            "text/plain": [
              "-3068.408136385265"
            ]
          },
          "metadata": {
            "tags": []
          },
          "execution_count": 231
        }
      ]
    },
    {
      "cell_type": "code",
      "metadata": {
        "id": "N0MqryBcv8Uf",
        "colab_type": "code",
        "colab": {},
        "outputId": "bf4abd71-608c-4732-9055-637645079cb7"
      },
      "source": [
        "print(Stepwise_best_model.summary())"
      ],
      "execution_count": 0,
      "outputs": [
        {
          "output_type": "stream",
          "text": [
            "                            OLS Regression Results                            \n",
            "==============================================================================\n",
            "Dep. Variable:                    OPS   R-squared:                       0.992\n",
            "Model:                            OLS   Adj. R-squared:                  0.992\n",
            "Method:                 Least Squares   F-statistic:                     5893.\n",
            "Date:                Sun, 03 May 2020   Prob (F-statistic):               0.00\n",
            "Time:                        22:27:20   Log-Likelihood:                 1545.2\n",
            "No. Observations:                 475   AIC:                            -3068.\n",
            "Df Residuals:                     464   BIC:                            -3023.\n",
            "Df Model:                          10                                         \n",
            "Covariance Type:            nonrobust                                         \n",
            "==============================================================================\n",
            "                 coef    std err          t      P>|t|      [0.025      0.975]\n",
            "------------------------------------------------------------------------------\n",
            "TB             0.0022   2.83e-05     77.551      0.000       0.002       0.002\n",
            "AB            -0.0017   2.22e-05    -76.370      0.000      -0.002      -0.002\n",
            "H              0.0019   4.66e-05     40.777      0.000       0.002       0.002\n",
            "BB             0.0013   3.02e-05     42.164      0.000       0.001       0.001\n",
            "HBP            0.0015   9.82e-05     14.961      0.000       0.001       0.002\n",
            "G             -0.0004   7.79e-05     -5.238      0.000      -0.001      -0.000\n",
            "RBI           -0.0001    4.2e-05     -2.949      0.003      -0.000   -4.13e-05\n",
            "GDP            0.0004      0.000      3.841      0.000       0.000       0.001\n",
            "height         0.0004      0.000      3.154      0.002       0.000       0.001\n",
            "weight        -0.0002   5.82e-05     -3.215      0.001      -0.000   -7.27e-05\n",
            "const          0.8098      0.023     35.783      0.000       0.765       0.854\n",
            "==============================================================================\n",
            "Omnibus:                       32.888   Durbin-Watson:                   1.749\n",
            "Prob(Omnibus):                  0.000   Jarque-Bera (JB):              121.942\n",
            "Skew:                           0.110   Prob(JB):                     3.32e-27\n",
            "Kurtosis:                       5.472   Cond. No.                     3.05e+04\n",
            "==============================================================================\n",
            "\n",
            "Warnings:\n",
            "[1] Standard Errors assume that the covariance matrix of the errors is correctly specified.\n",
            "[2] The condition number is large, 3.05e+04. This might indicate that there are\n",
            "strong multicollinearity or other numerical problems.\n"
          ],
          "name": "stdout"
        }
      ]
    },
    {
      "cell_type": "markdown",
      "metadata": {
        "id": "86ojStJnv8Ug",
        "colab_type": "text"
      },
      "source": [
        "# 성능평가 "
      ]
    },
    {
      "cell_type": "code",
      "metadata": {
        "id": "QKXRHx58v8Uh",
        "colab_type": "code",
        "colab": {}
      },
      "source": [
        "pred_y_full = fitted_full_model.predict(test_x)\n",
        "pred_y_forward = Forward_best_model.predict(test_x[Forward_best_model.model.exog_names])\n",
        "pred_y_backward = Backward_best_model.predict(test_x[Backward_best_model.model.exog_names])\n",
        "pred_y_stepwise = Stepwise_best_model.predict(test_x[Stepwise_best_model.model.exog_names])"
      ],
      "execution_count": 0,
      "outputs": []
    },
    {
      "cell_type": "code",
      "metadata": {
        "id": "0Q97awmZv8Ui",
        "colab_type": "code",
        "colab": {}
      },
      "source": [
        "perf_mat = pd.DataFrame(columns=['ALL', 'FORWARD', 'BACKWARD', 'STEPWISE'],\n",
        "                       index=['MSE', 'RMSE', 'MAE', 'MAPE'])"
      ],
      "execution_count": 0,
      "outputs": []
    },
    {
      "cell_type": "code",
      "metadata": {
        "id": "YxXMuzS2v8Uk",
        "colab_type": "code",
        "colab": {}
      },
      "source": [
        "def mean_absolute_percentage_error(y_true, y_pred):\n",
        "    y_ture, y_pred = np.array(y_true), np.array(y_pred)\n",
        "    return np.mean(np.abs((y_true - y_pred) / y_true)) * 100"
      ],
      "execution_count": 0,
      "outputs": []
    },
    {
      "cell_type": "code",
      "metadata": {
        "id": "Lmi319Q1v8Ul",
        "colab_type": "code",
        "colab": {},
        "outputId": "722f3c59-7edc-4eb5-9675-d7dcd9fdb252"
      },
      "source": [
        "perf_mat.loc['MSE']['ALL'] = metrics.mean_squared_error(test_y,pred_y_full)\n",
        "perf_mat.loc['MSE']['FORWARD'] = metrics.mean_squared_error(test_y,pred_y_forward)\n",
        "perf_mat.loc['MSE']['BACKWARD'] = metrics.mean_squared_error(test_y,pred_y_backward)\n",
        "perf_mat.loc['MSE']['STEPWISE'] = metrics.mean_squared_error(test_y,pred_y_stepwise)\n",
        "\n",
        "perf_mat.loc['RMSE']['ALL'] = np.sqrt(metrics.mean_squared_error(test_y, pred_y_full))\n",
        "perf_mat.loc['RMSE']['FORWARD'] = np.sqrt(metrics.mean_squared_error(test_y, pred_y_forward))\n",
        "perf_mat.loc['RMSE']['BACKWARD'] = np.sqrt(metrics.mean_squared_error(test_y, pred_y_backward))\n",
        "perf_mat.loc['RMSE']['STEPWISE'] = np.sqrt(metrics.mean_squared_error(test_y, pred_y_stepwise))\n",
        "\n",
        "perf_mat.loc['MAE']['ALL'] = metrics.mean_absolute_error(test_y, pred_y_full)\n",
        "perf_mat.loc['MAE']['FORWARD'] = metrics.mean_absolute_error(test_y, pred_y_forward)\n",
        "perf_mat.loc['MAE']['BACKWARD'] = metrics.mean_absolute_error(test_y, pred_y_backward)\n",
        "perf_mat.loc['MAE']['STEPWISE'] = metrics.mean_absolute_error(test_y, pred_y_stepwise)\n",
        "\n",
        "perf_mat.loc['MAPE']['ALL'] = mean_absolute_percentage_error(test_y, pred_y_full)\n",
        "perf_mat.loc['MAPE']['FORWARD'] = mean_absolute_percentage_error(test_y, pred_y_forward)\n",
        "perf_mat.loc['MAPE']['BACKWARD'] = mean_absolute_percentage_error(test_y, pred_y_backward)\n",
        "perf_mat.loc['MAPE']['STEPWISE'] = mean_absolute_percentage_error(test_y, pred_y_stepwise)\n",
        "\n",
        "print(perf_mat)"
      ],
      "execution_count": 0,
      "outputs": [
        {
          "output_type": "stream",
          "text": [
            "             ALL      FORWARD     BACKWARD     STEPWISE\n",
            "MSE   0.00010464  0.000104247  0.000105571  9.86086e-05\n",
            "RMSE   0.0102294    0.0102102    0.0102748   0.00993018\n",
            "MAE     0.007176   0.00709474   0.00717564   0.00682486\n",
            "MAPE    0.849576     0.841758      0.85008     0.813253\n"
          ],
          "name": "stdout"
        }
      ]
    },
    {
      "cell_type": "code",
      "metadata": {
        "id": "jOtKF8fsv8Un",
        "colab_type": "code",
        "colab": {},
        "outputId": "bf93d14f-ba6e-4e86-e2ac-293615bf9fa9"
      },
      "source": [
        "print(len(fitted_full_model.params))\n",
        "print(len(Forward_best_model.params))\n",
        "print(len(Backward_best_model.params))\n",
        "print(len(Stepwise_best_model.params))"
      ],
      "execution_count": 0,
      "outputs": [
        {
          "output_type": "stream",
          "text": [
            "20\n",
            "11\n",
            "14\n",
            "11\n"
          ],
          "name": "stdout"
        }
      ]
    }
  ]
}