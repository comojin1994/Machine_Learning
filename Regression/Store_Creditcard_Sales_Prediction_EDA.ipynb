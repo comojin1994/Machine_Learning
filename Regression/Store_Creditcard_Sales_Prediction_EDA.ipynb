{
  "nbformat": 4,
  "nbformat_minor": 0,
  "metadata": {
    "kernelspec": {
      "display_name": "py3.6ten2.1",
      "language": "python",
      "name": "py3.6ten2.1"
    },
    "language_info": {
      "codemirror_mode": {
        "name": "ipython",
        "version": 3
      },
      "file_extension": ".py",
      "mimetype": "text/x-python",
      "name": "python",
      "nbconvert_exporter": "python",
      "pygments_lexer": "ipython3",
      "version": "3.6.10"
    },
    "colab": {
      "name": "Store_Creditcard_Sales_Prediction_EDA.ipynb",
      "provenance": [],
      "include_colab_link": true
    }
  },
  "cells": [
    {
      "cell_type": "markdown",
      "metadata": {
        "id": "view-in-github",
        "colab_type": "text"
      },
      "source": [
        "<a href=\"https://colab.research.google.com/github/comojin1994/Machine_Learning/blob/master/Regression/Store_Creditcard_Sales_Prediction_EDA.ipynb\" target=\"_parent\"><img src=\"https://colab.research.google.com/assets/colab-badge.svg\" alt=\"Open In Colab\"/></a>"
      ]
    },
    {
      "cell_type": "code",
      "metadata": {
        "id": "3SKi7R3n54IU",
        "colab_type": "code",
        "colab": {}
      },
      "source": [
        "import pandas as pd\n",
        "import numpy as np\n",
        "import seaborn as sns\n",
        "import matplotlib.pyplot as plt\n",
        "from tqdm import tqdm"
      ],
      "execution_count": 0,
      "outputs": []
    },
    {
      "cell_type": "code",
      "metadata": {
        "id": "FhuHjM-T54Ib",
        "colab_type": "code",
        "colab": {},
        "outputId": "fd172740-feed-48d9-9ae5-73d7baf2fe84"
      },
      "source": [
        "train = pd.read_csv('./Data/data09/funda_train.csv')\n",
        "train.head()"
      ],
      "execution_count": 0,
      "outputs": [
        {
          "output_type": "execute_result",
          "data": {
            "text/html": [
              "<div>\n",
              "<style scoped>\n",
              "    .dataframe tbody tr th:only-of-type {\n",
              "        vertical-align: middle;\n",
              "    }\n",
              "\n",
              "    .dataframe tbody tr th {\n",
              "        vertical-align: top;\n",
              "    }\n",
              "\n",
              "    .dataframe thead th {\n",
              "        text-align: right;\n",
              "    }\n",
              "</style>\n",
              "<table border=\"1\" class=\"dataframe\">\n",
              "  <thead>\n",
              "    <tr style=\"text-align: right;\">\n",
              "      <th></th>\n",
              "      <th>store_id</th>\n",
              "      <th>card_id</th>\n",
              "      <th>card_company</th>\n",
              "      <th>transacted_date</th>\n",
              "      <th>transacted_time</th>\n",
              "      <th>installment_term</th>\n",
              "      <th>region</th>\n",
              "      <th>type_of_business</th>\n",
              "      <th>amount</th>\n",
              "    </tr>\n",
              "  </thead>\n",
              "  <tbody>\n",
              "    <tr>\n",
              "      <th>0</th>\n",
              "      <td>0</td>\n",
              "      <td>0</td>\n",
              "      <td>b</td>\n",
              "      <td>2016-06-01</td>\n",
              "      <td>13:13</td>\n",
              "      <td>0</td>\n",
              "      <td>NaN</td>\n",
              "      <td>기타 미용업</td>\n",
              "      <td>1857.142857</td>\n",
              "    </tr>\n",
              "    <tr>\n",
              "      <th>1</th>\n",
              "      <td>0</td>\n",
              "      <td>1</td>\n",
              "      <td>h</td>\n",
              "      <td>2016-06-01</td>\n",
              "      <td>18:12</td>\n",
              "      <td>0</td>\n",
              "      <td>NaN</td>\n",
              "      <td>기타 미용업</td>\n",
              "      <td>857.142857</td>\n",
              "    </tr>\n",
              "    <tr>\n",
              "      <th>2</th>\n",
              "      <td>0</td>\n",
              "      <td>2</td>\n",
              "      <td>c</td>\n",
              "      <td>2016-06-01</td>\n",
              "      <td>18:52</td>\n",
              "      <td>0</td>\n",
              "      <td>NaN</td>\n",
              "      <td>기타 미용업</td>\n",
              "      <td>2000.000000</td>\n",
              "    </tr>\n",
              "    <tr>\n",
              "      <th>3</th>\n",
              "      <td>0</td>\n",
              "      <td>3</td>\n",
              "      <td>a</td>\n",
              "      <td>2016-06-01</td>\n",
              "      <td>20:22</td>\n",
              "      <td>0</td>\n",
              "      <td>NaN</td>\n",
              "      <td>기타 미용업</td>\n",
              "      <td>7857.142857</td>\n",
              "    </tr>\n",
              "    <tr>\n",
              "      <th>4</th>\n",
              "      <td>0</td>\n",
              "      <td>4</td>\n",
              "      <td>c</td>\n",
              "      <td>2016-06-02</td>\n",
              "      <td>11:06</td>\n",
              "      <td>0</td>\n",
              "      <td>NaN</td>\n",
              "      <td>기타 미용업</td>\n",
              "      <td>2000.000000</td>\n",
              "    </tr>\n",
              "  </tbody>\n",
              "</table>\n",
              "</div>"
            ],
            "text/plain": [
              "   store_id  card_id card_company transacted_date transacted_time  \\\n",
              "0         0        0            b      2016-06-01           13:13   \n",
              "1         0        1            h      2016-06-01           18:12   \n",
              "2         0        2            c      2016-06-01           18:52   \n",
              "3         0        3            a      2016-06-01           20:22   \n",
              "4         0        4            c      2016-06-02           11:06   \n",
              "\n",
              "   installment_term region type_of_business       amount  \n",
              "0                 0    NaN           기타 미용업  1857.142857  \n",
              "1                 0    NaN           기타 미용업   857.142857  \n",
              "2                 0    NaN           기타 미용업  2000.000000  \n",
              "3                 0    NaN           기타 미용업  7857.142857  \n",
              "4                 0    NaN           기타 미용업  2000.000000  "
            ]
          },
          "metadata": {
            "tags": []
          },
          "execution_count": 28
        }
      ]
    },
    {
      "cell_type": "code",
      "metadata": {
        "id": "j1AGO1XQ54Ig",
        "colab_type": "code",
        "colab": {},
        "outputId": "beeb7a03-a0dc-4c74-a39c-9485285aed61"
      },
      "source": [
        "plt.figure(figsize=(13, 4))\n",
        "plt.bar(train.columns, train.isnull().sum())\n",
        "plt.xticks(rotation=45)"
      ],
      "execution_count": 0,
      "outputs": [
        {
          "output_type": "execute_result",
          "data": {
            "text/plain": [
              "([0, 1, 2, 3, 4, 5, 6, 7, 8], <a list of 9 Text xticklabel objects>)"
            ]
          },
          "metadata": {
            "tags": []
          },
          "execution_count": 29
        },
        {
          "output_type": "display_data",
          "data": {
            "image/png": "[encoded data removed]",
            "text/plain": [
              "<Figure size 936x288 with 1 Axes>"
            ]
          },
          "metadata": {
            "tags": [],
            "needs_background": "light"
          }
        }
      ]
    },
    {
      "cell_type": "code",
      "metadata": {
        "scrolled": true,
        "id": "hiRjezs754Ik",
        "colab_type": "code",
        "colab": {},
        "outputId": "e3ef09e1-caf8-4859-ca3e-35402f17e2dc"
      },
      "source": [
        "train.isnull().sum()"
      ],
      "execution_count": 0,
      "outputs": [
        {
          "output_type": "execute_result",
          "data": {
            "text/plain": [
              "store_id                  0\n",
              "card_id                   0\n",
              "card_company              0\n",
              "transacted_date           0\n",
              "transacted_time           0\n",
              "installment_term          0\n",
              "region              2042766\n",
              "type_of_business    3952609\n",
              "amount                    0\n",
              "dtype: int64"
            ]
          },
          "metadata": {
            "tags": []
          },
          "execution_count": 30
        }
      ]
    },
    {
      "cell_type": "code",
      "metadata": {
        "id": "MsIPjlmz54Ip",
        "colab_type": "code",
        "colab": {},
        "outputId": "ad051f4b-9ceb-4737-b50f-1ed705f64432"
      },
      "source": [
        "train = train.drop(['region', 'type_of_business'], axis=1)\n",
        "train.head()"
      ],
      "execution_count": 0,
      "outputs": [
        {
          "output_type": "execute_result",
          "data": {
            "text/html": [
              "<div>\n",
              "<style scoped>\n",
              "    .dataframe tbody tr th:only-of-type {\n",
              "        vertical-align: middle;\n",
              "    }\n",
              "\n",
              "    .dataframe tbody tr th {\n",
              "        vertical-align: top;\n",
              "    }\n",
              "\n",
              "    .dataframe thead th {\n",
              "        text-align: right;\n",
              "    }\n",
              "</style>\n",
              "<table border=\"1\" class=\"dataframe\">\n",
              "  <thead>\n",
              "    <tr style=\"text-align: right;\">\n",
              "      <th></th>\n",
              "      <th>store_id</th>\n",
              "      <th>card_id</th>\n",
              "      <th>card_company</th>\n",
              "      <th>transacted_date</th>\n",
              "      <th>transacted_time</th>\n",
              "      <th>installment_term</th>\n",
              "      <th>amount</th>\n",
              "    </tr>\n",
              "  </thead>\n",
              "  <tbody>\n",
              "    <tr>\n",
              "      <th>0</th>\n",
              "      <td>0</td>\n",
              "      <td>0</td>\n",
              "      <td>b</td>\n",
              "      <td>2016-06-01</td>\n",
              "      <td>13:13</td>\n",
              "      <td>0</td>\n",
              "      <td>1857.142857</td>\n",
              "    </tr>\n",
              "    <tr>\n",
              "      <th>1</th>\n",
              "      <td>0</td>\n",
              "      <td>1</td>\n",
              "      <td>h</td>\n",
              "      <td>2016-06-01</td>\n",
              "      <td>18:12</td>\n",
              "      <td>0</td>\n",
              "      <td>857.142857</td>\n",
              "    </tr>\n",
              "    <tr>\n",
              "      <th>2</th>\n",
              "      <td>0</td>\n",
              "      <td>2</td>\n",
              "      <td>c</td>\n",
              "      <td>2016-06-01</td>\n",
              "      <td>18:52</td>\n",
              "      <td>0</td>\n",
              "      <td>2000.000000</td>\n",
              "    </tr>\n",
              "    <tr>\n",
              "      <th>3</th>\n",
              "      <td>0</td>\n",
              "      <td>3</td>\n",
              "      <td>a</td>\n",
              "      <td>2016-06-01</td>\n",
              "      <td>20:22</td>\n",
              "      <td>0</td>\n",
              "      <td>7857.142857</td>\n",
              "    </tr>\n",
              "    <tr>\n",
              "      <th>4</th>\n",
              "      <td>0</td>\n",
              "      <td>4</td>\n",
              "      <td>c</td>\n",
              "      <td>2016-06-02</td>\n",
              "      <td>11:06</td>\n",
              "      <td>0</td>\n",
              "      <td>2000.000000</td>\n",
              "    </tr>\n",
              "  </tbody>\n",
              "</table>\n",
              "</div>"
            ],
            "text/plain": [
              "   store_id  card_id card_company transacted_date transacted_time  \\\n",
              "0         0        0            b      2016-06-01           13:13   \n",
              "1         0        1            h      2016-06-01           18:12   \n",
              "2         0        2            c      2016-06-01           18:52   \n",
              "3         0        3            a      2016-06-01           20:22   \n",
              "4         0        4            c      2016-06-02           11:06   \n",
              "\n",
              "   installment_term       amount  \n",
              "0                 0  1857.142857  \n",
              "1                 0   857.142857  \n",
              "2                 0  2000.000000  \n",
              "3                 0  7857.142857  \n",
              "4                 0  2000.000000  "
            ]
          },
          "metadata": {
            "tags": []
          },
          "execution_count": 31
        }
      ]
    },
    {
      "cell_type": "code",
      "metadata": {
        "id": "gsPzcCz854It",
        "colab_type": "code",
        "colab": {},
        "outputId": "0136cb4a-f050-4e92-b000-0647f8235474"
      },
      "source": [
        "plt.figure(figsize=(8, 4))\n",
        "sns.boxplot(train['amount'])"
      ],
      "execution_count": 0,
      "outputs": [
        {
          "output_type": "execute_result",
          "data": {
            "text/plain": [
              "<matplotlib.axes._subplots.AxesSubplot at 0x1a269a87b8>"
            ]
          },
          "metadata": {
            "tags": []
          },
          "execution_count": 32
        },
        {
          "output_type": "display_data",
          "data": {
            "image/png": "[encoded data removed]",
            "text/plain": [
              "<Figure size 576x288 with 1 Axes>"
            ]
          },
          "metadata": {
            "tags": [],
            "needs_background": "light"
          }
        }
      ]
    },
    {
      "cell_type": "code",
      "metadata": {
        "id": "lxTTNap554Iy",
        "colab_type": "code",
        "colab": {},
        "outputId": "ac71a414-12d0-4cf7-9396-82481f1111a8"
      },
      "source": [
        "train[train['amount'] < 0].head()"
      ],
      "execution_count": 0,
      "outputs": [
        {
          "output_type": "execute_result",
          "data": {
            "text/html": [
              "<div>\n",
              "<style scoped>\n",
              "    .dataframe tbody tr th:only-of-type {\n",
              "        vertical-align: middle;\n",
              "    }\n",
              "\n",
              "    .dataframe tbody tr th {\n",
              "        vertical-align: top;\n",
              "    }\n",
              "\n",
              "    .dataframe thead th {\n",
              "        text-align: right;\n",
              "    }\n",
              "</style>\n",
              "<table border=\"1\" class=\"dataframe\">\n",
              "  <thead>\n",
              "    <tr style=\"text-align: right;\">\n",
              "      <th></th>\n",
              "      <th>store_id</th>\n",
              "      <th>card_id</th>\n",
              "      <th>card_company</th>\n",
              "      <th>transacted_date</th>\n",
              "      <th>transacted_time</th>\n",
              "      <th>installment_term</th>\n",
              "      <th>amount</th>\n",
              "    </tr>\n",
              "  </thead>\n",
              "  <tbody>\n",
              "    <tr>\n",
              "      <th>41</th>\n",
              "      <td>0</td>\n",
              "      <td>40</td>\n",
              "      <td>a</td>\n",
              "      <td>2016-06-10</td>\n",
              "      <td>17:26</td>\n",
              "      <td>2</td>\n",
              "      <td>-8571.428571</td>\n",
              "    </tr>\n",
              "    <tr>\n",
              "      <th>347</th>\n",
              "      <td>0</td>\n",
              "      <td>285</td>\n",
              "      <td>a</td>\n",
              "      <td>2016-08-04</td>\n",
              "      <td>17:52</td>\n",
              "      <td>0</td>\n",
              "      <td>-1857.142857</td>\n",
              "    </tr>\n",
              "    <tr>\n",
              "      <th>731</th>\n",
              "      <td>0</td>\n",
              "      <td>473</td>\n",
              "      <td>g</td>\n",
              "      <td>2016-10-17</td>\n",
              "      <td>10:32</td>\n",
              "      <td>0</td>\n",
              "      <td>-2000.000000</td>\n",
              "    </tr>\n",
              "    <tr>\n",
              "      <th>831</th>\n",
              "      <td>0</td>\n",
              "      <td>230</td>\n",
              "      <td>b</td>\n",
              "      <td>2016-11-03</td>\n",
              "      <td>15:36</td>\n",
              "      <td>0</td>\n",
              "      <td>-85.714286</td>\n",
              "    </tr>\n",
              "    <tr>\n",
              "      <th>944</th>\n",
              "      <td>0</td>\n",
              "      <td>138</td>\n",
              "      <td>a</td>\n",
              "      <td>2016-11-28</td>\n",
              "      <td>13:21</td>\n",
              "      <td>0</td>\n",
              "      <td>-57.142857</td>\n",
              "    </tr>\n",
              "  </tbody>\n",
              "</table>\n",
              "</div>"
            ],
            "text/plain": [
              "     store_id  card_id card_company transacted_date transacted_time  \\\n",
              "41          0       40            a      2016-06-10           17:26   \n",
              "347         0      285            a      2016-08-04           17:52   \n",
              "731         0      473            g      2016-10-17           10:32   \n",
              "831         0      230            b      2016-11-03           15:36   \n",
              "944         0      138            a      2016-11-28           13:21   \n",
              "\n",
              "     installment_term       amount  \n",
              "41                  2 -8571.428571  \n",
              "347                 0 -1857.142857  \n",
              "731                 0 -2000.000000  \n",
              "831                 0   -85.714286  \n",
              "944                 0   -57.142857  "
            ]
          },
          "metadata": {
            "tags": []
          },
          "execution_count": 33
        }
      ]
    },
    {
      "cell_type": "code",
      "metadata": {
        "id": "m2ioJvvl54I2",
        "colab_type": "code",
        "colab": {}
      },
      "source": [
        "train['datetime'] = pd.to_datetime(train.transacted_date + ' ' + train.transacted_time, format='%Y-%m-%d %H:%M:%S')"
      ],
      "execution_count": 0,
      "outputs": []
    },
    {
      "cell_type": "code",
      "metadata": {
        "scrolled": false,
        "id": "f8bx74Tl54I6",
        "colab_type": "code",
        "colab": {}
      },
      "source": [
        "def refund_remove(df):\n",
        "    refund = df[df['amount'] < 0]\n",
        "    non_refund = df[df['amount'] > 0]\n",
        "    remove_data = pd.DataFrame()\n",
        "    \n",
        "    for i in tqdm(df.store_id.unique()):\n",
        "        divided_data = non_refund[non_refund['store_id'] == i]\n",
        "        divided_data2 = refund[refund['store_id'] == i]\n",
        "\n",
        "        for neg in divided_data2.to_records()[:]:\n",
        "            refund_store = neg['store_id']\n",
        "            refund_id = neg['card_id']\n",
        "            refund_datetime = neg['datetime']\n",
        "            refund_amount = abs(neg['amount'])\n",
        "            \n",
        "            refund_pay_list = divided_data[divided_data['datetime'] <= refund_datetime]\n",
        "            refund_pay_list = refund_pay_list[refund_pay_list['card_id'] == refund_id]\n",
        "            refund_pay_list = refund_pay_list[refund_pay_list['amount'] == refund_amount]\n",
        "            \n",
        "            if len(refund_pay_list) != 0:\n",
        "                refund_datetime = max(refund_pay_list['datetime'])\n",
        "                remove = divided_data[divided_data['datetime'] == refund_datetime]\n",
        "                remove = remove[remove['card_id'] == refund_id]\n",
        "                remove = remove[remove['amount'] == refund_amount]\n",
        "                divided_data = divided_data.drop(index=remove.index)\n",
        "        remove_data = pd.concat([remove_data, divided_data], axis=0)\n",
        "    return remove_data"
      ],
      "execution_count": 0,
      "outputs": []
    },
    {
      "cell_type": "code",
      "metadata": {
        "id": "peJZvmd_54I-",
        "colab_type": "code",
        "colab": {},
        "outputId": "d8782f5e-732c-44b6-a648-ee1335e511c6"
      },
      "source": [
        "train_remove = refund_remove(train)"
      ],
      "execution_count": 0,
      "outputs": [
        {
          "output_type": "stream",
          "text": [
            "100%|██████████| 1967/1967 [13:36<00:00,  2.41it/s]\n"
          ],
          "name": "stderr"
        }
      ]
    },
    {
      "cell_type": "code",
      "metadata": {
        "id": "9KTcZJtl54JC",
        "colab_type": "code",
        "colab": {},
        "outputId": "614b0a10-a33f-4d51-b6a7-db9093131d79"
      },
      "source": [
        "plt.figure(figsize=(8, 4))\n",
        "sns.boxplot(train_remove['amount'])"
      ],
      "execution_count": 0,
      "outputs": [
        {
          "output_type": "execute_result",
          "data": {
            "text/plain": [
              "<matplotlib.axes._subplots.AxesSubplot at 0x1b99b0ee48>"
            ]
          },
          "metadata": {
            "tags": []
          },
          "execution_count": 56
        },
        {
          "output_type": "display_data",
          "data": {
            "image/png": "[encoded data removed]",
            "text/plain": [
              "<Figure size 576x288 with 1 Axes>"
            ]
          },
          "metadata": {
            "tags": [],
            "needs_background": "light"
          }
        }
      ]
    },
    {
      "cell_type": "code",
      "metadata": {
        "id": "Ji2EtE5J54JF",
        "colab_type": "code",
        "colab": {},
        "outputId": "c8ea4b97-0f4c-4f5f-89a4-ce8bd9e32165"
      },
      "source": [
        "train_remove.head()"
      ],
      "execution_count": 0,
      "outputs": [
        {
          "output_type": "execute_result",
          "data": {
            "text/html": [
              "<div>\n",
              "<style scoped>\n",
              "    .dataframe tbody tr th:only-of-type {\n",
              "        vertical-align: middle;\n",
              "    }\n",
              "\n",
              "    .dataframe tbody tr th {\n",
              "        vertical-align: top;\n",
              "    }\n",
              "\n",
              "    .dataframe thead th {\n",
              "        text-align: right;\n",
              "    }\n",
              "</style>\n",
              "<table border=\"1\" class=\"dataframe\">\n",
              "  <thead>\n",
              "    <tr style=\"text-align: right;\">\n",
              "      <th></th>\n",
              "      <th>store_id</th>\n",
              "      <th>card_id</th>\n",
              "      <th>card_company</th>\n",
              "      <th>transacted_date</th>\n",
              "      <th>transacted_time</th>\n",
              "      <th>installment_term</th>\n",
              "      <th>amount</th>\n",
              "      <th>datetime</th>\n",
              "    </tr>\n",
              "  </thead>\n",
              "  <tbody>\n",
              "    <tr>\n",
              "      <th>0</th>\n",
              "      <td>0</td>\n",
              "      <td>0</td>\n",
              "      <td>b</td>\n",
              "      <td>2016-06-01</td>\n",
              "      <td>13:13</td>\n",
              "      <td>0</td>\n",
              "      <td>1857.142857</td>\n",
              "      <td>2016-06-01 13:13:00</td>\n",
              "    </tr>\n",
              "    <tr>\n",
              "      <th>1</th>\n",
              "      <td>0</td>\n",
              "      <td>1</td>\n",
              "      <td>h</td>\n",
              "      <td>2016-06-01</td>\n",
              "      <td>18:12</td>\n",
              "      <td>0</td>\n",
              "      <td>857.142857</td>\n",
              "      <td>2016-06-01 18:12:00</td>\n",
              "    </tr>\n",
              "    <tr>\n",
              "      <th>2</th>\n",
              "      <td>0</td>\n",
              "      <td>2</td>\n",
              "      <td>c</td>\n",
              "      <td>2016-06-01</td>\n",
              "      <td>18:52</td>\n",
              "      <td>0</td>\n",
              "      <td>2000.000000</td>\n",
              "      <td>2016-06-01 18:52:00</td>\n",
              "    </tr>\n",
              "    <tr>\n",
              "      <th>3</th>\n",
              "      <td>0</td>\n",
              "      <td>3</td>\n",
              "      <td>a</td>\n",
              "      <td>2016-06-01</td>\n",
              "      <td>20:22</td>\n",
              "      <td>0</td>\n",
              "      <td>7857.142857</td>\n",
              "      <td>2016-06-01 20:22:00</td>\n",
              "    </tr>\n",
              "    <tr>\n",
              "      <th>4</th>\n",
              "      <td>0</td>\n",
              "      <td>4</td>\n",
              "      <td>c</td>\n",
              "      <td>2016-06-02</td>\n",
              "      <td>11:06</td>\n",
              "      <td>0</td>\n",
              "      <td>2000.000000</td>\n",
              "      <td>2016-06-02 11:06:00</td>\n",
              "    </tr>\n",
              "  </tbody>\n",
              "</table>\n",
              "</div>"
            ],
            "text/plain": [
              "   store_id  card_id card_company transacted_date transacted_time  \\\n",
              "0         0        0            b      2016-06-01           13:13   \n",
              "1         0        1            h      2016-06-01           18:12   \n",
              "2         0        2            c      2016-06-01           18:52   \n",
              "3         0        3            a      2016-06-01           20:22   \n",
              "4         0        4            c      2016-06-02           11:06   \n",
              "\n",
              "   installment_term       amount            datetime  \n",
              "0                 0  1857.142857 2016-06-01 13:13:00  \n",
              "1                 0   857.142857 2016-06-01 18:12:00  \n",
              "2                 0  2000.000000 2016-06-01 18:52:00  \n",
              "3                 0  7857.142857 2016-06-01 20:22:00  \n",
              "4                 0  2000.000000 2016-06-02 11:06:00  "
            ]
          },
          "metadata": {
            "tags": []
          },
          "execution_count": 57
        }
      ]
    },
    {
      "cell_type": "code",
      "metadata": {
        "id": "CsyeokO754JJ",
        "colab_type": "code",
        "colab": {},
        "outputId": "8eabcaad-33b6-4fec-de66-1deee692b8c6"
      },
      "source": [
        "store_count = len(train_remove.store_id.unique())\n",
        "len(train_remove[train_remove['datetime'] >= '2018-12-01']) // store_count"
      ],
      "execution_count": 0,
      "outputs": [
        {
          "output_type": "execute_result",
          "data": {
            "text/plain": [
              "285"
            ]
          },
          "metadata": {
            "tags": []
          },
          "execution_count": 59
        }
      ]
    },
    {
      "cell_type": "code",
      "metadata": {
        "id": "9tRlL0k-54JO",
        "colab_type": "code",
        "colab": {}
      },
      "source": [
        "def month_resampling(df):\n",
        "    new_data = pd.DataFrame()\n",
        "    \n",
        "    df['year_month'] = df['transacted_date'].str.slice(stop=7)\n",
        "    \n",
        "    year_month = df['year_month'].drop_duplicates()\n",
        "    \n",
        "    downsampling_data = df.groupby(['store_id', 'year_month']).amount.sum()\n",
        "    downsampling_data = pd.DataFrame(downsampling_data)\n",
        "    downsampling_data = downsampling_data.reset_index(drop=False, inplace=False)\n",
        "    \n",
        "    for i in tqdm(df.store_id.unique()):\n",
        "        store = downsampling_data[downsampling_data['store_id'] == i]\n",
        "        \n",
        "        start_time = min(store['year_month'])\n",
        "        \n",
        "        store = store.merge(year_month, how='outer')\n",
        "        \n",
        "        store = store.sort_values(by=['year_month'], axis=0, ascending=True)\n",
        "        store['amount'] = store['amount'].fillna(2)\n",
        "        store['store_id'] = store['store_id'].fillna(i)\n",
        "        store = store[store['year_month'] >= start_time]\n",
        "        \n",
        "        new_data = pd.concat([new_data, store], axis=0)\n",
        "    \n",
        "    return new_data"
      ],
      "execution_count": 0,
      "outputs": []
    },
    {
      "cell_type": "code",
      "metadata": {
        "id": "a2_F8t8r54JR",
        "colab_type": "code",
        "colab": {},
        "outputId": "7eace69e-1690-4cf6-af87-dd8d14685188"
      },
      "source": [
        "resampling_data = month_resampling(train_remove)"
      ],
      "execution_count": 0,
      "outputs": [
        {
          "output_type": "stream",
          "text": [
            "100%|██████████| 1967/1967 [00:10<00:00, 179.30it/s]\n"
          ],
          "name": "stderr"
        }
      ]
    },
    {
      "cell_type": "code",
      "metadata": {
        "scrolled": false,
        "id": "plxIcPIt54JV",
        "colab_type": "code",
        "colab": {},
        "outputId": "25859298-a415-42c1-815b-d0aa43737bbf"
      },
      "source": [
        "resampling_data['store_id'] = resampling_data['store_id'].astype(int)\n",
        "resampling_data"
      ],
      "execution_count": 0,
      "outputs": [
        {
          "output_type": "execute_result",
          "data": {
            "text/html": [
              "<div>\n",
              "<style scoped>\n",
              "    .dataframe tbody tr th:only-of-type {\n",
              "        vertical-align: middle;\n",
              "    }\n",
              "\n",
              "    .dataframe tbody tr th {\n",
              "        vertical-align: top;\n",
              "    }\n",
              "\n",
              "    .dataframe thead th {\n",
              "        text-align: right;\n",
              "    }\n",
              "</style>\n",
              "<table border=\"1\" class=\"dataframe\">\n",
              "  <thead>\n",
              "    <tr style=\"text-align: right;\">\n",
              "      <th></th>\n",
              "      <th>store_id</th>\n",
              "      <th>year_month</th>\n",
              "      <th>amount</th>\n",
              "    </tr>\n",
              "  </thead>\n",
              "  <tbody>\n",
              "    <tr>\n",
              "      <th>0</th>\n",
              "      <td>0</td>\n",
              "      <td>2016-06</td>\n",
              "      <td>7.470000e+05</td>\n",
              "    </tr>\n",
              "    <tr>\n",
              "      <th>1</th>\n",
              "      <td>0</td>\n",
              "      <td>2016-07</td>\n",
              "      <td>1.005000e+06</td>\n",
              "    </tr>\n",
              "    <tr>\n",
              "      <th>2</th>\n",
              "      <td>0</td>\n",
              "      <td>2016-08</td>\n",
              "      <td>8.697143e+05</td>\n",
              "    </tr>\n",
              "    <tr>\n",
              "      <th>3</th>\n",
              "      <td>0</td>\n",
              "      <td>2016-09</td>\n",
              "      <td>8.978571e+05</td>\n",
              "    </tr>\n",
              "    <tr>\n",
              "      <th>4</th>\n",
              "      <td>0</td>\n",
              "      <td>2016-10</td>\n",
              "      <td>8.354286e+05</td>\n",
              "    </tr>\n",
              "    <tr>\n",
              "      <th>...</th>\n",
              "      <td>...</td>\n",
              "      <td>...</td>\n",
              "      <td>...</td>\n",
              "    </tr>\n",
              "    <tr>\n",
              "      <th>17</th>\n",
              "      <td>2136</td>\n",
              "      <td>2018-10</td>\n",
              "      <td>2.012214e+06</td>\n",
              "    </tr>\n",
              "    <tr>\n",
              "      <th>18</th>\n",
              "      <td>2136</td>\n",
              "      <td>2018-11</td>\n",
              "      <td>2.127643e+06</td>\n",
              "    </tr>\n",
              "    <tr>\n",
              "      <th>19</th>\n",
              "      <td>2136</td>\n",
              "      <td>2018-12</td>\n",
              "      <td>2.427429e+06</td>\n",
              "    </tr>\n",
              "    <tr>\n",
              "      <th>20</th>\n",
              "      <td>2136</td>\n",
              "      <td>2019-01</td>\n",
              "      <td>1.867786e+06</td>\n",
              "    </tr>\n",
              "    <tr>\n",
              "      <th>21</th>\n",
              "      <td>2136</td>\n",
              "      <td>2019-02</td>\n",
              "      <td>2.227429e+06</td>\n",
              "    </tr>\n",
              "  </tbody>\n",
              "</table>\n",
              "<p>60982 rows × 3 columns</p>\n",
              "</div>"
            ],
            "text/plain": [
              "    store_id year_month        amount\n",
              "0          0    2016-06  7.470000e+05\n",
              "1          0    2016-07  1.005000e+06\n",
              "2          0    2016-08  8.697143e+05\n",
              "3          0    2016-09  8.978571e+05\n",
              "4          0    2016-10  8.354286e+05\n",
              "..       ...        ...           ...\n",
              "17      2136    2018-10  2.012214e+06\n",
              "18      2136    2018-11  2.127643e+06\n",
              "19      2136    2018-12  2.427429e+06\n",
              "20      2136    2019-01  1.867786e+06\n",
              "21      2136    2019-02  2.227429e+06\n",
              "\n",
              "[60982 rows x 3 columns]"
            ]
          },
          "metadata": {
            "tags": []
          },
          "execution_count": 73
        }
      ]
    },
    {
      "cell_type": "code",
      "metadata": {
        "id": "9gGadRiE54JZ",
        "colab_type": "code",
        "colab": {},
        "outputId": "ba4da65b-405f-4778-95b2-68a48ad7b5b3"
      },
      "source": [
        "print(type(resampling_data))"
      ],
      "execution_count": 0,
      "outputs": [
        {
          "output_type": "stream",
          "text": [
            "<class 'pandas.core.frame.DataFrame'>\n"
          ],
          "name": "stdout"
        }
      ]
    },
    {
      "cell_type": "code",
      "metadata": {
        "id": "XdITWiMm54Jc",
        "colab_type": "code",
        "colab": {}
      },
      "source": [
        "def time_series(df, i):\n",
        "    store = df[df['store_id'] == i]\n",
        "    \n",
        "    index = pd.date_range(min(store['year_month']), '2019-03', freq='BM')\n",
        "    \n",
        "    ts = pd.Series(store['amount'].values, index=index)\n",
        "    return ts"
      ],
      "execution_count": 0,
      "outputs": []
    },
    {
      "cell_type": "code",
      "metadata": {
        "id": "P4X1bRdf54Jg",
        "colab_type": "code",
        "colab": {},
        "outputId": "cbd93095-85b9-4d1a-8bd5-07ee293f621a"
      },
      "source": [
        "store_0 = time_series(resampling_data, 0)\n",
        "store_0"
      ],
      "execution_count": 0,
      "outputs": [
        {
          "output_type": "execute_result",
          "data": {
            "text/plain": [
              "2016-06-30    7.470000e+05\n",
              "2016-07-29    1.005000e+06\n",
              "2016-08-31    8.697143e+05\n",
              "2016-09-30    8.978571e+05\n",
              "2016-10-31    8.354286e+05\n",
              "2016-11-30    6.970000e+05\n",
              "2016-12-30    7.618571e+05\n",
              "2017-01-31    5.856429e+05\n",
              "2017-02-28    7.940000e+05\n",
              "2017-03-31    7.202571e+05\n",
              "2017-04-28    6.852857e+05\n",
              "2017-05-31    7.444286e+05\n",
              "2017-06-30    6.820000e+05\n",
              "2017-07-31    7.282857e+05\n",
              "2017-08-31    7.490000e+05\n",
              "2017-09-29    8.408571e+05\n",
              "2017-10-31    6.005714e+05\n",
              "2017-11-30    6.308571e+05\n",
              "2017-12-29    8.127143e+05\n",
              "2018-01-31    6.431429e+05\n",
              "2018-02-28    6.852857e+05\n",
              "2018-03-30    8.484286e+05\n",
              "2018-04-30    6.361429e+05\n",
              "2018-05-31    6.864286e+05\n",
              "2018-06-29    7.072857e+05\n",
              "2018-07-31    7.587143e+05\n",
              "2018-08-31    6.798571e+05\n",
              "2018-09-28    6.518571e+05\n",
              "2018-10-31    7.390000e+05\n",
              "2018-11-30    6.760000e+05\n",
              "2018-12-31    8.745714e+05\n",
              "2019-01-31    6.828571e+05\n",
              "2019-02-28    5.152857e+05\n",
              "Freq: BM, dtype: float64"
            ]
          },
          "metadata": {
            "tags": []
          },
          "execution_count": 84
        }
      ]
    },
    {
      "cell_type": "code",
      "metadata": {
        "id": "WEkkNVGL54Jm",
        "colab_type": "code",
        "colab": {},
        "outputId": "2d53c165-a9d9-430a-884d-4447414e7e27"
      },
      "source": [
        "store_1 = time_series(resampling_data, 1)\n",
        "print(type(store_1))"
      ],
      "execution_count": 0,
      "outputs": [
        {
          "output_type": "stream",
          "text": [
            "<class 'pandas.core.series.Series'>\n"
          ],
          "name": "stdout"
        }
      ]
    },
    {
      "cell_type": "code",
      "metadata": {
        "id": "W5E_zFz654Jo",
        "colab_type": "code",
        "colab": {},
        "outputId": "0f25afb2-1811-4648-d691-152612209593"
      },
      "source": [
        "store_2 = time_series(resampling_data, 2)\n",
        "store_2.plot()"
      ],
      "execution_count": 0,
      "outputs": [
        {
          "output_type": "execute_result",
          "data": {
            "text/plain": [
              "<matplotlib.axes._subplots.AxesSubplot at 0x1a9038d278>"
            ]
          },
          "metadata": {
            "tags": []
          },
          "execution_count": 87
        },
        {
          "output_type": "display_data",
          "data": {
            "image/png": "[encoded data removed]",
            "text/plain": [
              "<Figure size 432x288 with 1 Axes>"
            ]
          },
          "metadata": {
            "tags": [],
            "needs_background": "light"
          }
        }
      ]
    }
  ]
}